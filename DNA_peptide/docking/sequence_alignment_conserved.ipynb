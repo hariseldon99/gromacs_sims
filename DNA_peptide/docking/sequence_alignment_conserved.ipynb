{
 "cells": [
  {
   "cell_type": "code",
   "execution_count": 1,
   "metadata": {
    "execution": {
     "iopub.execute_input": "2025-03-08T17:23:24.455250Z",
     "iopub.status.busy": "2025-03-08T17:23:24.454496Z",
     "iopub.status.idle": "2025-03-08T17:23:24.464329Z",
     "shell.execute_reply": "2025-03-08T17:23:24.462562Z"
    }
   },
   "outputs": [],
   "source": [
    "## Loading fasta files of two pathogen DNA sequence records"
   ]
  },
  {
   "cell_type": "code",
   "execution_count": 2,
   "metadata": {
    "execution": {
     "iopub.execute_input": "2025-03-08T17:23:24.471416Z",
     "iopub.status.busy": "2025-03-08T17:23:24.470963Z",
     "iopub.status.idle": "2025-03-08T17:23:24.500240Z",
     "shell.execute_reply": "2025-03-08T17:23:24.498293Z"
    }
   },
   "outputs": [],
   "source": [
    "%%script true\n",
    "from Bio import SeqIO\n",
    "\n",
    "filename_acinetobacter='acinetobacter.fna'\n",
    "filename_pseudomonas='pseudomonas.fna'\n",
    "count = 0\n",
    "for record in SeqIO.parse(filename_acinetobacter, \"fasta\"):\n",
    "    count = count + 1\n",
    "\n",
    "print(\"There were \" + str(count) + \" records in file \" + filename_acinetobacter)\n",
    "\n",
    "count = 0\n",
    "for record in SeqIO.parse(filename_pseudomonas, \"fasta\"):\n",
    "    count = count + 1\n",
    "\n",
    "print(\"There were \" + str(count) + \" records in file \" + filename_pseudomonas)"
   ]
  },
  {
   "cell_type": "code",
   "execution_count": 3,
   "metadata": {
    "execution": {
     "iopub.execute_input": "2025-03-08T17:23:24.508285Z",
     "iopub.status.busy": "2025-03-08T17:23:24.507751Z",
     "iopub.status.idle": "2025-03-08T17:23:24.527712Z",
     "shell.execute_reply": "2025-03-08T17:23:24.525989Z"
    }
   },
   "outputs": [],
   "source": [
    "%%script true\n",
    "print(\"Choosing first record from each file and writing to disk\")\n",
    "record_acinetobacter = next(SeqIO.parse(filename_acinetobacter, \"fasta\"))\n",
    "SeqIO.write(record_acinetobacter, \"acinetobacter_record.fasta\", \"fasta\")\n",
    "record_pseudomonas = next(SeqIO.parse(filename_pseudomonas, \"fasta\"))\n",
    "SeqIO.write(record_pseudomonas, \"pseudomonas_record.fasta\", \"fasta\")\n",
    "acinetobacter_seq = next(SeqIO.parse(filename_acinetobacter, \"fasta\")).seq\n",
    "pseudomonas_seq = next(SeqIO.parse(filename_pseudomonas, \"fasta\")).seq"
   ]
  },
  {
   "cell_type": "markdown",
   "metadata": {},
   "source": [
    "## Ran Mummer on these sequences to get matching segments\n",
    "\n",
    "Download mummer from  [gitHub](https://github.com/mummer4/mummer). MUMmer is a versatile alignment tool for DNA and protein sequences.\n",
    "\n",
    "```bash\n",
    "./mummer -maxmatch -s ../acinetobacter_record.fasta ../pseudomonas_record.fasta > ../acinetobacter_pseudomonas_matches.txt\n",
    "```\n",
    "\n",
    "Now, load mummer output and only select unique strands."
   ]
  },
  {
   "cell_type": "code",
   "execution_count": 4,
   "metadata": {
    "execution": {
     "iopub.execute_input": "2025-03-08T17:23:24.535554Z",
     "iopub.status.busy": "2025-03-08T17:23:24.535058Z",
     "iopub.status.idle": "2025-03-08T17:23:24.556262Z",
     "shell.execute_reply": "2025-03-08T17:23:24.554179Z"
    }
   },
   "outputs": [],
   "source": [
    "%%script true\n",
    "def load_filtered_file(filepath):\n",
    "    valid_chars = set(\"agtc\")\n",
    "    filtered_lines = []\n",
    "    \n",
    "    with open(filepath, 'r') as file:\n",
    "        for line in file:\n",
    "            line_clean = line.strip().lower()\n",
    "            # keep lines that aren't empty and consist only of a, g, t, c\n",
    "            if line_clean and all(char in valid_chars for char in line_clean):\n",
    "                filtered_lines.append(line_clean)\n",
    "    return \"\\n\".join(filtered_lines)\n",
    "\n",
    "# Specify the file path accordingly\n",
    "filepath = \"acinetobacter_pseudomonas_matches.txt\"  \n",
    "matching_segments = load_filtered_file(filepath)\n",
    "matching_segments = matching_segments.swapcase()\n",
    "matches = matching_segments.splitlines()\n",
    "unique_matches = set(matches)\n",
    "print(\"Unique matches: \" + str(len(unique_matches)))"
   ]
  },
  {
   "cell_type": "markdown",
   "metadata": {},
   "source": [
    "Dump the unique outputs to fasta and create pdbs using python bindings to pymol\n",
    "Tools used are: \n",
    "1. [BioPython](https://biopython.org/)\n",
    "2. [Pymol fnab](https://pymolwiki.org/index.php/Fnab)\n",
    "\n"
   ]
  },
  {
   "cell_type": "code",
   "execution_count": 5,
   "metadata": {
    "execution": {
     "iopub.execute_input": "2025-03-08T17:23:24.564990Z",
     "iopub.status.busy": "2025-03-08T17:23:24.563784Z",
     "iopub.status.idle": "2025-03-08T17:23:24.585322Z",
     "shell.execute_reply": "2025-03-08T17:23:24.583368Z"
    }
   },
   "outputs": [],
   "source": [
    "%%script true\n",
    "fasta_str = \"\".join(f\">\\n{match}\\n\" for match in unique_matches)\n",
    "with open(\"unique_matches.fasta\", \"w\") as f:\n",
    "    f.write(fasta_str)"
   ]
  },
  {
   "cell_type": "code",
   "execution_count": 6,
   "metadata": {
    "execution": {
     "iopub.execute_input": "2025-03-08T17:23:24.593169Z",
     "iopub.status.busy": "2025-03-08T17:23:24.592482Z",
     "iopub.status.idle": "2025-03-08T17:23:24.613329Z",
     "shell.execute_reply": "2025-03-08T17:23:24.611170Z"
    },
    "scrolled": true
   },
   "outputs": [],
   "source": [
    "%%script true\n",
    "from Bio import SeqIO\n",
    "import numpy as np\n",
    "import pymol\n",
    "import os\n",
    "from multiprocessing import Pool\n",
    "pdb_dir = \"dna_strand_pdb_files/\"\n",
    "os.makedirs(pdb_dir, exist_ok=True)\n",
    "fasta_file = \"unique_matches.fasta\"\n",
    "nprocs = 12\n",
    "with open(fasta_file, 'r') as handle:\n",
    "    records = list(SeqIO.parse(handle, 'fasta'))\n",
    "\n",
    "\n",
    "    def process_record(args):\n",
    "        count, record = args\n",
    "        print(f\"Writing sequence {count} to disk\")\n",
    "        dna_sequence = record.seq\n",
    "        pymol.cmd.do(f'fnab {dna_sequence}, name={dna_sequence}, mode=DNA, form=B, dbl_helix=1')\n",
    "        pymol.cmd.save(f\"{pdb_dir}/dna_sequence_{count}.pdb\", f\"{dna_sequence}\")\n",
    "        return count\n",
    "\n",
    "    with Pool(processes=nprocs) as pool:\n",
    "        counts = pool.map(process_record, enumerate(records))\n",
    "    \n",
    "\n",
    "    print(f\"Total {count+1} Sequences\")"
   ]
  },
  {
   "cell_type": "code",
   "execution_count": 7,
   "metadata": {
    "execution": {
     "iopub.execute_input": "2025-03-08T17:23:24.620655Z",
     "iopub.status.busy": "2025-03-08T17:23:24.620104Z",
     "iopub.status.idle": "2025-03-08T23:04:52.330720Z",
     "shell.execute_reply": "2025-03-08T23:04:52.329694Z"
    }
   },
   "outputs": [
    {
     "name": "stdout",
     "output_type": "stream",
     "text": [
      "Total 169 DNA strands\n",
      "[('dna_sequence_0', -165.95, 0.5790805251725788), ('dna_sequence_1', -167.38, 0.5860354644374585), ('dna_sequence_10', -161.13, 0.5554213413049133), ('dna_sequence_100', -162.26, 0.5609947068545766), ('dna_sequence_101', -183.88, 0.6632028319474459), ('dna_sequence_102', -170.48, 0.6009919624749556), ('dna_sequence_103', -164.62, 0.5725835908786807), ('dna_sequence_104', -170.34, 0.6003203312457148), ('dna_sequence_105', -164.94, 0.5741491406652448), ('dna_sequence_106', -160.07, 0.5501804962832794), ('dna_sequence_107', -167.29, 0.5855987207016227), ('dna_sequence_108', -169.29, 0.5952712272615408), ('dna_sequence_109', -167.94, 0.5887499168908743), ('dna_sequence_11', -161.41, 0.5568037081212369), ('dna_sequence_110', -178.42, 0.6383939015911498), ('dna_sequence_111', -157.02, 0.5350424553622494), ('dna_sequence_112', -163.49, 0.5670438045983401), ('dna_sequence_113', -155.83, 0.5291170189576817), ('dna_sequence_114', -176.07, 0.6274750748203015), ('dna_sequence_115', -161.84, 0.558924909528669), ('dna_sequence_116', -171.05, 0.6037225163017165), ('dna_sequence_117', -167.37, 0.585986944022953), ('dna_sequence_118', -161.73, 0.558382478148384), ('dna_sequence_119', -163.82, 0.5686634159053379), ('dna_sequence_12', -170.01, 0.5987357113130279), ('dna_sequence_120', -170.82, 0.6026214813712697), ('dna_sequence_121', -168.51, 0.5915073045996994), ('dna_sequence_122', -166.01, 0.5793729929079263), ('dna_sequence_123', -164.01, 0.5695952559216149), ('dna_sequence_124', -173.56, 0.6156677409429722), ('dna_sequence_125', -162.81, 0.5637019392644784), ('dna_sequence_126', -169.3, 0.5953194110219262), ('dna_sequence_127', -174.87, 0.6218481272906242), ('dna_sequence_128', -176.55, 0.6297163158757088), ('dna_sequence_129', -171.43, 0.6055393118541259), ('dna_sequence_13', -170.23, 0.5997923561035489), ('dna_sequence_130', -171.14, 0.6041530707520245), ('dna_sequence_131', -173.63, 0.6159989566167045), ('dna_sequence_132', -162.82, 0.5637511270502297), ('dna_sequence_133', -167.36, 0.5859384219395702), ('dna_sequence_134', -163.66, 0.5678783310011088), ('dna_sequence_135', -163.11, 0.5651770234225036), ('dna_sequence_136', -167.7, 0.5875872312488012), ('dna_sequence_137', -169.29, 0.5952712272615408), ('dna_sequence_138', -164.13, 0.5701835329809876), ('dna_sequence_139', -169.28, 0.5952230416649099), ('dna_sequence_14', -163.93, 0.569202961921857), ('dna_sequence_140', -170.03, 0.5988318080202006), ('dna_sequence_141', -158.22, 0.5410076807984038), ('dna_sequence_142', -158.31, 0.5414546207535902), ('dna_sequence_143', -169.42, 0.5958974726069988), ('dna_sequence_144', -174.14, 0.6184088356489168), ('dna_sequence_145', -161.62, 0.5578399074089078), ('dna_sequence_146', -168.37, 0.5908305776935796), ('dna_sequence_147', -175.76, 0.6260246825025422), ('dna_sequence_148', -168.05, 0.5892824842873395), ('dna_sequence_149', -164.97, 0.5742958352774394), ('dna_sequence_15', -173.66, 0.6161408732803744), ('dna_sequence_150', -169.71, 0.5972933536109474), ('dna_sequence_151', -174.69, 0.6210012057784656), ('dna_sequence_152', -170.63, 0.6017111459108748), ('dna_sequence_153', -165.02, 0.5745402972234236), ('dna_sequence_154', -170.38, 0.6005122644965435), ('dna_sequence_155', -171.22, 0.6045356503360307), ('dna_sequence_156', -163.6, 0.5675838360100374), ('dna_sequence_157', -169.55, 0.5965234057426788), ('dna_sequence_158', -163.78, 0.5684671768679969), ('dna_sequence_159', -163.39, 0.5665527286583033), ('dna_sequence_16', -166.02, 0.5794217321196479), ('dna_sequence_160', -163.47, 0.5669455999147373), ('dna_sequence_161', -163.66, 0.5678783310011088), ('dna_sequence_162', -174.6, 0.6205774679270909), ('dna_sequence_163', -163.96, 0.5693500823787774), ('dna_sequence_164', -173.27, 0.614294421822774), ('dna_sequence_165', -165.07, 0.574784722727595), ('dna_sequence_166', -161.4, 0.5567543528929406), ('dna_sequence_167', -164.19, 0.5704775973055699), ('dna_sequence_168', -164.31, 0.5710655765487329), ('dna_sequence_17', -165.8, 0.5783491133882384), ('dna_sequence_18', -164.62, 0.5725835908786807), ('dna_sequence_19', -164.43, 0.5716533552577918), ('dna_sequence_2', -160.15, 0.5505764354778004), ('dna_sequence_20', -165.33, 0.5760551434982584), ('dna_sequence_21', -173.41, 0.6149576321443965), ('dna_sequence_22', -172.06, 0.608544929549568), ('dna_sequence_23', -165.58, 0.5772757548621943), ('dna_sequence_24', -163.41, 0.5666509543358422), ('dna_sequence_25', -165.19, 0.5753711945727578), ('dna_sequence_26', -166.72, 0.5828295778986842), ('dna_sequence_27', -161.56, 0.5575439014451464), ('dna_sequence_28', -158.33, 0.5415539317112741), ('dna_sequence_29', -161.38, 0.5566556390759102), ('dna_sequence_3', -160.3, 0.5513186483782152), ('dna_sequence_30', -171.07, 0.6038182089860908), ('dna_sequence_31', -163.3, 0.5661106484969566), ('dna_sequence_32', -160.9, 0.5542851826734679), ('dna_sequence_33', -167.95, 0.588798340721641), ('dna_sequence_34', -174.51, 0.6201535461001819), ('dna_sequence_35', -164.36, 0.5713105088058996), ('dna_sequence_36', -171.8, 0.6073054991752275), ('dna_sequence_37', -166.09, 0.5797628631972742), ('dna_sequence_38', -175.25, 0.623633628298226), ('dna_sequence_39', -166.17, 0.5801526339883956), ('dna_sequence_4', -169.75, 0.5974857658270161), ('dna_sequence_40', -161.98, 0.5596150732019362), ('dna_sequence_41', -160.69, 0.5532473244702091), ('dna_sequence_42', -167.7, 0.5875872312488012), ('dna_sequence_43', -165.57, 0.5772269484165038), ('dna_sequence_44', -170.31, 0.6001763610854702), ('dna_sequence_45', -168.99, 0.5938248644605354), ('dna_sequence_46', -170.97, 0.6033396662237344), ('dna_sequence_47', -162.8, 0.5636527502253682), ('dna_sequence_48', -163.8, 0.568565299077705), ('dna_sequence_49', -164.1, 0.5700364822300554), ('dna_sequence_5', -163.29, 0.5660615219711318), ('dna_sequence_50', -164.75, 0.5732197726798348), ('dna_sequence_51', -163.01, 0.5646854555972686), ('dna_sequence_52', -153.22, 0.5160944379321117), ('dna_sequence_53', -165.26, 0.5757132052842778), ('dna_sequence_54', -157.68, 0.538324680224655), ('dna_sequence_55', -164.73, 0.5731219142691159), ('dna_sequence_56', -167.29, 0.5855987207016227), ('dna_sequence_57', -169.7, 0.5972452458743264), ('dna_sequence_58', -165.1, 0.574931360490585), ('dna_sequence_59', -167.56, 0.5869085455130546), ('dna_sequence_6', -162.48, 0.562078044805354), ('dna_sequence_60', -167.22, 0.5852589380355544), ('dna_sequence_61', -165.46, 0.5766899782056619), ('dna_sequence_62', -167.55, 0.58686005528943), ('dna_sequence_63', -162.54, 0.5623733983475707), ('dna_sequence_64', -162.84, 0.5638494988579126), ('dna_sequence_65', -161.33, 0.5564088349750723), ('dna_sequence_66', -157.66, 0.5382252662144221), ('dna_sequence_67', -162.72, 0.5632591929038956), ('dna_sequence_68', -166.4, 0.5812726666092255), ('dna_sequence_69', -170.27, 0.5999843739523079), ('dna_sequence_7', -166.42, 0.5813700213444807), ('dna_sequence_70', -161.45, 0.5570011178108213), ('dna_sequence_71', -161.61, 0.5577905759293845), ('dna_sequence_72', -182.87, 0.658676092902642), ('dna_sequence_73', -177.76, 0.6353411871295486), ('dna_sequence_74', -166.4, 0.5812726666092255), ('dna_sequence_75', -163.98, 0.5694481558833371), ('dna_sequence_76', -168.92, 0.5934871445018226), ('dna_sequence_77', -162.4, 0.5616841716618158), ('dna_sequence_78', -161.09, 0.5552237897766504), ('dna_sequence_79', -176.34, 0.6287364540339572), ('dna_sequence_8', -163.95, 0.5693010435855571), ('dna_sequence_80', -175.47, 0.6246658099327839), ('dna_sequence_81', -164.44, 0.5717023277151565), ('dna_sequence_82', -164.12, 0.5701345174387946), ('dna_sequence_83', -170.43, 0.600752137651046), ('dna_sequence_84', -168.12, 0.5896212819770226), ('dna_sequence_85', -180.11, 0.6461594701160713), ('dna_sequence_86', -156.69, 0.5334001861255895), ('dna_sequence_87', -159.75, 0.5485961085831343), ('dna_sequence_88', -166.8, 0.5832185490840334), ('dna_sequence_89', -164.49, 0.5719471689152693), ('dna_sequence_9', -159.31, 0.5464159722457825), ('dna_sequence_90', -173.9, 0.6172754928067907), ('dna_sequence_91', -163.72, 0.568172778020505), ('dna_sequence_92', -170.41, 0.6006561941830179), ('dna_sequence_93', -167.33, 0.5857928456850007), ('dna_sequence_94', -174.77, 0.6213777067399533), ('dna_sequence_95', -171.39, 0.6053482065660988), ('dna_sequence_96', -167.39, 0.5860839831822019), ('dna_sequence_97', -171.3, 0.6049181019632078), ('dna_sequence_98', -176.37, 0.6288764993676337), ('dna_sequence_99', -158.84, 0.5440852242381518)]\n"
     ]
    }
   ],
   "source": [
    "import os\n",
    "import subprocess\n",
    "import numpy as np\n",
    "from multiprocessing import Pool\n",
    "\n",
    "dna_strands_dir=\"dna_strand_pdb_files\"\n",
    "\n",
    "peptide_models_dir=\"peptide_models\"\n",
    "peptide_model_file = \"fold_2024_12_28_00_29_model_3.pdb\"\n",
    "peptide_pdb = os.path.join(peptide_models_dir, peptide_model_file)\n",
    "\n",
    "home_dir = os.environ.get(\"HOME\", \"\")\n",
    "path_to_hdock = os.path.join(home_dir,\".local\", \"HDOCKlite-v1.1\")\n",
    "hdock_bin = os.path.join(path_to_hdock, \"hdock\")\n",
    "\n",
    "filenames = [os.path.splitext(f)[0] for f in os.listdir(dna_strands_dir) if os.path.isfile(os.path.join(dna_strands_dir, f))]\n",
    "nstrands = len(filenames)\n",
    "print(f\"Total {nstrands} DNA strands\")\n",
    "\n",
    "def hdock_score_best(dna_pdb, peptide_pdb):\n",
    "    fname = os.path.splitext(os.path.basename(dna_pdb))[0] + \"_\" + os.path.splitext(os.path.basename(peptide_pdb))[0]\n",
    "    output_file = f\"{fname}.out\"\n",
    "    command = f\"{hdock_bin} {peptide_pdb} {dna_pdb} -out {output_file}\"\n",
    "    subprocess.run(command, shell=True, stdout=subprocess.DEVNULL, check=True)\n",
    "    #subprocess.run(command, shell=True, check=True)\n",
    "    with open(f\"{fname}.out\", \"r\") as f:\n",
    "        lines = f.readlines()\n",
    "    score = float(lines[5].split()[6])\n",
    "    return score\n",
    "\n",
    "def compute_confidence_score(docking_score):\n",
    "        \"\"\"\n",
    "        Calculate the confidence score from the docking score.\n",
    "        \n",
    "        The confidence score is computed using the formula:\n",
    "        Confidence_score = 1.0 / (1.0 + np.exp(0.02 * (docking_score + 150)))\n",
    "        \n",
    "        Information obtained from http://hdock.phys.hust.edu.cn/help.php\n",
    "        \"\"\"\n",
    "        return 1.0 / (1.0 + np.exp(0.02 * (docking_score + 150)))\n",
    "\n",
    "def process_score(args):\n",
    "    i, dna_pdb = args\n",
    "    docking_score = hdock_score_best(f\"{dna_strands_dir}/{dna_pdb}.pdb\", peptide_pdb)\n",
    "    confidence_score = compute_confidence_score(docking_score)\n",
    "    return dna_pdb, docking_score, confidence_score\n",
    "\n",
    "nprocs = int(os.environ.get('PBS_NCPUS', '12'))\n",
    "with Pool(processes=nprocs) as pool:\n",
    "    results = pool.map(process_score, list(enumerate(filenames)))\n",
    "\n",
    "print(results)"
   ]
  },
  {
   "cell_type": "code",
   "execution_count": 8,
   "metadata": {
    "execution": {
     "iopub.execute_input": "2025-03-08T23:04:52.334398Z",
     "iopub.status.busy": "2025-03-08T23:04:52.333965Z",
     "iopub.status.idle": "2025-03-08T23:04:56.242834Z",
     "shell.execute_reply": "2025-03-08T23:04:56.241772Z"
    }
   },
   "outputs": [
    {
     "name": "stdout",
     "output_type": "stream",
     "text": [
      "         DNA Sequence                                     Peptide Model  \\\n",
      "4    dna_sequence_101  peptide_models/fold_2024_12_28_00_29_model_0.pdb   \n",
      "139   dna_sequence_72  peptide_models/fold_2024_12_28_00_29_model_0.pdb   \n",
      "153   dna_sequence_85  peptide_models/fold_2024_12_28_00_29_model_0.pdb   \n",
      "14   dna_sequence_110  peptide_models/fold_2024_12_28_00_29_model_0.pdb   \n",
      "140   dna_sequence_73  peptide_models/fold_2024_12_28_00_29_model_0.pdb   \n",
      "..                ...                                               ...   \n",
      "132   dna_sequence_66  peptide_models/fold_2024_12_28_00_29_model_0.pdb   \n",
      "15   dna_sequence_111  peptide_models/fold_2024_12_28_00_29_model_0.pdb   \n",
      "154   dna_sequence_86  peptide_models/fold_2024_12_28_00_29_model_0.pdb   \n",
      "17   dna_sequence_113  peptide_models/fold_2024_12_28_00_29_model_0.pdb   \n",
      "117   dna_sequence_52  peptide_models/fold_2024_12_28_00_29_model_0.pdb   \n",
      "\n",
      "     Docking Score  Confidence Score  \n",
      "4          -183.88          0.663203  \n",
      "139        -182.87          0.658676  \n",
      "153        -180.11          0.646159  \n",
      "14         -178.42          0.638394  \n",
      "140        -177.76          0.635341  \n",
      "..             ...               ...  \n",
      "132        -157.66          0.538225  \n",
      "15         -157.02          0.535042  \n",
      "154        -156.69          0.533400  \n",
      "17         -155.83          0.529117  \n",
      "117        -153.22          0.516094  \n",
      "\n",
      "[169 rows x 4 columns]\n"
     ]
    }
   ],
   "source": [
    "import pandas as pd\n",
    "\n",
    "# Create the dataframe using the 'results' variable, and add the peptide file name\n",
    "df = pd.DataFrame(results, columns=[\"DNA Sequence\", \"Docking Score\", \"Confidence Score\"])\n",
    "df[\"Peptide Model\"] = peptide_pdb\n",
    "\n",
    "# Reorder columns and sort by increasing docking score\n",
    "df = df[[\"DNA Sequence\", \"Peptide Model\", \"Docking Score\", \"Confidence Score\"]].sort_values(by=\"Docking Score\", ascending=True)\n",
    "print(df)\n",
    "df.to_json(\"best_docked_scores.json\", orient='records', indent=4)"
   ]
  },
  {
   "cell_type": "code",
   "execution_count": null,
   "metadata": {},
   "outputs": [],
   "source": []
  }
 ],
 "metadata": {
  "kernelspec": {
   "display_name": "Python 3 (ipykernel)",
   "language": "python",
   "name": "python3"
  },
  "language_info": {
   "codemirror_mode": {
    "name": "ipython",
    "version": 3
   },
   "file_extension": ".py",
   "mimetype": "text/x-python",
   "name": "python",
   "nbconvert_exporter": "python",
   "pygments_lexer": "ipython3",
   "version": "3.12.0"
  },
  "widgets": {
   "application/vnd.jupyter.widget-state+json": {
    "state": {},
    "version_major": 2,
    "version_minor": 0
   }
  }
 },
 "nbformat": 4,
 "nbformat_minor": 4
}
