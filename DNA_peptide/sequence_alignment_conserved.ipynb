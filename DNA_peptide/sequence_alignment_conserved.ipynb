{
 "cells": [
  {
   "cell_type": "markdown",
   "metadata": {
    "execution": {
     "iopub.execute_input": "2025-03-08T17:23:24.455250Z",
     "iopub.status.busy": "2025-03-08T17:23:24.454496Z",
     "iopub.status.idle": "2025-03-08T17:23:24.464329Z",
     "shell.execute_reply": "2025-03-08T17:23:24.462562Z"
    }
   },
   "source": [
    "## Loading fasta files of two pathogen DNA sequence records"
   ]
  },
  {
   "cell_type": "code",
   "execution_count": null,
   "metadata": {},
   "outputs": [],
   "source": [
    "%%script true\n",
    "from Bio import SeqIO\n",
    "\n",
    "filename_acinetobacter='acinetobacter.fna'\n",
    "filename_pseudomonas='pseudomonas.fna'\n",
    "count = 0\n",
    "for record in SeqIO.parse(filename_acinetobacter, \"fasta\"):\n",
    "    count = count + 1\n",
    "\n",
    "print(\"There were \" + str(count) + \" records in file \" + filename_acinetobacter)\n",
    "\n",
    "count = 0\n",
    "for record in SeqIO.parse(filename_pseudomonas, \"fasta\"):\n",
    "    count = count + 1\n",
    "\n",
    "print(\"There were \" + str(count) + \" records in file \" + filename_pseudomonas)"
   ]
  },
  {
   "cell_type": "code",
   "execution_count": null,
   "metadata": {},
   "outputs": [],
   "source": [
    "%%script true\n",
    "print(\"Choosing first record from each file and writing to disk\")\n",
    "record_acinetobacter = next(SeqIO.parse(filename_acinetobacter, \"fasta\"))\n",
    "SeqIO.write(record_acinetobacter, \"acinetobacter_record.fasta\", \"fasta\")\n",
    "record_pseudomonas = next(SeqIO.parse(filename_pseudomonas, \"fasta\"))\n",
    "SeqIO.write(record_pseudomonas, \"pseudomonas_record.fasta\", \"fasta\")\n",
    "acinetobacter_seq = next(SeqIO.parse(filename_acinetobacter, \"fasta\")).seq\n",
    "pseudomonas_seq = next(SeqIO.parse(filename_pseudomonas, \"fasta\")).seq"
   ]
  },
  {
   "cell_type": "markdown",
   "metadata": {},
   "source": [
    "## Ran Mummer on these sequences to get matching segments\n",
    "\n",
    "Download mummer from  [gitHub](https://github.com/mummer4/mummer). MUMmer is a versatile alignment tool for DNA and protein sequences.\n",
    "\n",
    "```bash\n",
    "./mummer -maxmatch -s ../acinetobacter_record.fasta ../pseudomonas_record.fasta > ../acinetobacter_pseudomonas_matches.txt\n",
    "```\n",
    "\n",
    "Now, load mummer output and only select unique sequences."
   ]
  },
  {
   "cell_type": "code",
   "execution_count": null,
   "metadata": {},
   "outputs": [],
   "source": [
    "%%script true\n",
    "def load_filtered_file(filepath):\n",
    "    valid_chars = set(\"agtc\")\n",
    "    filtered_lines = []\n",
    "    \n",
    "    with open(filepath, 'r') as file:\n",
    "        for line in file:\n",
    "            line_clean = line.strip().lower()\n",
    "            # keep lines that aren't empty and consist only of a, g, t, c\n",
    "            if line_clean and all(char in valid_chars for char in line_clean):\n",
    "                filtered_lines.append(line_clean)\n",
    "    return \"\\n\".join(filtered_lines)\n",
    "\n",
    "# Specify the file path accordingly\n",
    "filepath = \"acinetobacter_pseudomonas_matches.txt\"  \n",
    "matching_segments = load_filtered_file(filepath)\n",
    "matching_segments = matching_segments.swapcase()\n",
    "matches = matching_segments.splitlines()\n",
    "unique_matches = set(matches)\n",
    "print(\"Unique matches: \" + str(len(unique_matches)))"
   ]
  },
  {
   "cell_type": "markdown",
   "metadata": {},
   "source": [
    "Dump the unique outputs to fasta and create pdbs using python bindings to pymol\n",
    "Tools used are: \n",
    "1. [BioPython](https://biopython.org/)\n",
    "2. [Pymol fnab](https://pymolwiki.org/index.php/Fnab)\n",
    "\n"
   ]
  },
  {
   "cell_type": "code",
   "execution_count": null,
   "metadata": {},
   "outputs": [],
   "source": [
    "%%script true\n",
    "fasta_str = \"\".join(f\">\\n{match}\\n\" for match in unique_matches)\n",
    "with open(\"unique_matches.fasta\", \"w\") as f:\n",
    "    f.write(fasta_str)"
   ]
  },
  {
   "cell_type": "code",
   "execution_count": null,
   "metadata": {
    "scrolled": true
   },
   "outputs": [],
   "source": [
    "%%script true\n",
    "from Bio import SeqIO\n",
    "import numpy as np\n",
    "import pymol\n",
    "import os\n",
    "from multiprocessing import Pool\n",
    "pdb_dir = \"dna_sequence_pdb_files/\"\n",
    "os.makedirs(pdb_dir, exist_ok=True)\n",
    "fasta_file = \"unique_matches.fasta\"\n",
    "nprocs = 12\n",
    "with open(fasta_file, 'r') as handle:\n",
    "    records = list(SeqIO.parse(handle, 'fasta'))\n",
    "\n",
    "\n",
    "    def process_record(args):\n",
    "        count, record = args\n",
    "        print(f\"Writing sequence {count} to disk\")\n",
    "        dna_sequence = record.seq\n",
    "        pymol.cmd.do(f'fnab {dna_sequence}, name={dna_sequence}, mode=DNA, form=B, dbl_helix=1')\n",
    "        pymol.cmd.save(f\"{pdb_dir}/dna_sequence_{count}.pdb\", f\"{dna_sequence}\")\n",
    "        return count\n",
    "\n",
    "    with Pool(processes=nprocs) as pool:\n",
    "        counts = pool.map(process_record, enumerate(records))\n",
    "    \n",
    "\n",
    "    print(f\"Total {count+1} Sequences\")"
   ]
  },
  {
   "cell_type": "code",
   "execution_count": null,
   "metadata": {},
   "outputs": [],
   "source": [
    "%%script true\n",
    "import os\n",
    "import subprocess\n",
    "import numpy as np\n",
    "from multiprocessing import Pool\n",
    "\n",
    "dna_sequences_dir=\"dna_sequence_pdb_files\"\n",
    "\n",
    "peptide_models_dir=\"peptide_models\"\n",
    "peptide_model_file = \"fold_2024_12_28_00_29_model_3.pdb\"\n",
    "peptide_pdb = os.path.join(peptide_models_dir, peptide_model_file)\n",
    "\n",
    "home_dir = os.environ.get(\"HOME\", \"\")\n",
    "path_to_hdock = os.path.join(home_dir,\".local\", \"HDOCKlite-v1.1\")\n",
    "hdock_bin = os.path.join(path_to_hdock, \"hdock\")\n",
    "\n",
    "filenames = [os.path.splitext(f)[0] for f in os.listdir(dna_sequences_dir) if os.path.isfile(os.path.join(dna_sequences_dir, f))]\n",
    "nsequences = len(filenames)\n",
    "print(f\"Total {nsequences} DNA sequences\")\n",
    "\n",
    "def hdock_score_best(dna_pdb, peptide_pdb):\n",
    "    fname = os.path.splitext(os.path.basename(dna_pdb))[0] + \"_\" + os.path.splitext(os.path.basename(peptide_pdb))[0]\n",
    "    output_file = f\"{fname}.out\"\n",
    "    command = f\"{hdock_bin} {peptide_pdb} {dna_pdb} -out {output_file}\"\n",
    "    subprocess.run(command, shell=True, stdout=subprocess.DEVNULL, check=True)\n",
    "    #subprocess.run(command, shell=True, check=True)\n",
    "    with open(f\"{fname}.out\", \"r\") as f:\n",
    "        lines = f.readlines()\n",
    "    score = float(lines[5].split()[6])\n",
    "    return score\n",
    "\n",
    "def compute_confidence_score(docking_score):\n",
    "        \"\"\"\n",
    "        Calculate the confidence score from the docking score.\n",
    "        \n",
    "        The confidence score is computed using the formula:\n",
    "        Confidence_score = 1.0 / (1.0 + np.exp(0.02 * (docking_score + 150)))\n",
    "        \n",
    "        Information obtained from http://hdock.phys.hust.edu.cn/help.php\n",
    "        \"\"\"\n",
    "        return 1.0 / (1.0 + np.exp(0.02 * (docking_score + 150)))\n",
    "\n",
    "def process_score(args):\n",
    "    i, dna_pdb = args\n",
    "    docking_score = hdock_score_best(f\"{dna_sequences_dir}/{dna_pdb}.pdb\", peptide_pdb)\n",
    "    confidence_score = compute_confidence_score(docking_score)\n",
    "    return dna_pdb, docking_score, confidence_score\n",
    "\n",
    "nprocs = int(os.environ.get('PBS_NCPUS', '12'))\n",
    "with Pool(processes=nprocs) as pool:\n",
    "    results = pool.map(process_score, list(enumerate(filenames)))\n",
    "\n",
    "print(results)"
   ]
  },
  {
   "cell_type": "code",
   "execution_count": null,
   "metadata": {},
   "outputs": [],
   "source": [
    "%%script true\n",
    "import pandas as pd\n",
    "\n",
    "# Create the dataframe using the 'results' variable, and add the peptide file name\n",
    "df = pd.DataFrame(results, columns=[\"DNA Sequence\", \"Docking Score\", \"Confidence Score\"])\n",
    "df[\"Peptide Model\"] = peptide_pdb\n",
    "\n",
    "# Reorder columns and sort by increasing docking score\n",
    "df = df[[\"DNA Sequence\", \"Peptide Model\", \"Docking Score\", \"Confidence Score\"]].sort_values(by=\"Docking Score\", ascending=True)\n",
    "print(df)\n",
    "df.to_json(\"best_docked_scores.json\", orient='records', indent=4)"
   ]
  },
  {
   "cell_type": "markdown",
   "metadata": {},
   "source": [
    "## Moledular Dynamics Simulation\n",
    "\n",
    "Now starts the molecular dynamics simulation of selected complexes from the docking above. \n",
    "\n",
    "first, the selected pdb needs some pre-processing. Process PDB to fix duplicate chain ids, remove P/OP1/OP2 from terminal nucleic acids, & change atom name 'C5M' to 'C7' to make compatible with AMBER-ff.\n"
   ]
  },
  {
   "cell_type": "code",
   "execution_count": 3,
   "metadata": {},
   "outputs": [],
   "source": [
    "%%script true\n",
    "import warnings\n",
    "warnings.filterwarnings(\"ignore\")\n",
    "import argparse\n",
    "from Bio.PDB import PDBParser, PDBIO\n",
    "import warnings\n",
    "from Bio.PDB import Structure, Model, Chain, Residue, Atom\n",
    "# Define atoms to remove\n",
    "atoms_to_remove = {\"P\", \"O1P\", \"O2P\"}\n",
    "dna_residues = {\"DA\", \"DT\", \"DC\", \"DG\"}  # DNA residue names\n",
    "amino_acids = [\n",
    "    \"ALA\", \"CYS\", \"ASP\", \"GLU\", \"PHE\", \"GLY\", \"HIS\", \"ILE\", \"LYS\", \"LEU\",\n",
    "    \"MET\", \"ASN\", \"PRO\", \"GLN\", \"ARG\", \"SER\", \"THR\", \"VAL\", \"TRP\", \"TYR\"\n",
    "]\n",
    "\n",
    "def process_pdb(input_pdb, output_pdb):\n",
    "    # Parse the PDB file\n",
    "    parser = PDBParser(QUIET=True)\n",
    "    structure = parser.get_structure(\"Structure\", input_pdb)\n",
    "    new_structure = Structure.Structure(\"NewStructure\")\n",
    "    new_model = Model.Model(0)\n",
    "    new_structure.add(new_model)\n",
    "    for model in structure:\n",
    "        for chain in model:\n",
    "            for residue in chain:\n",
    "                new_chain_id = \"P\" if residue.get_resname() in amino_acids else (\"A\" if residue.id[1] > 0 else \"B\")\n",
    "                if new_chain_id not in new_model.child_dict:\n",
    "                    new_chain = Chain.Chain(new_chain_id)\n",
    "                    new_model.add(new_chain)\n",
    "                else:\n",
    "                    new_chain = new_model[new_chain_id]\n",
    "\n",
    "                new_residue = Residue.Residue(residue.id, residue.resname, residue.segid)\n",
    "                new_chain.add(new_residue)\n",
    "\n",
    "                for atom in residue:\n",
    "                    new_atom = Atom.Atom(atom.name, atom.coord, atom.bfactor, atom.occupancy, atom.altloc, atom.fullname, atom.serial_number, atom.element)\n",
    "                    # Rename C5M atom to C7\n",
    "                    if new_atom.name == \"C5M\":\n",
    "                        new_atom.name = \"C7\"\n",
    "                        new_atom.fullname = \" C7 \"\n",
    "                    new_residue.add(new_atom)\n",
    "\n",
    "        #Something is wrong here, its detaching the last residue completely from the strand!\n",
    "\n",
    "    #Just need to remove the dangling P/O1P/O2P from the first and last strands, not all of them!\n",
    "    \n",
    "    # Remove specified atoms from the first DNA residue\n",
    "    for chain in new_model:\n",
    "        # Find the DNA residue with the smallest residue id in each chain\n",
    "        dna_residues_in_chain = [residue for residue in chain if residue.get_resname() in dna_residues]\n",
    "        if dna_residues_in_chain:\n",
    "            smallest_residue = min(dna_residues_in_chain, key=lambda r: r.id[1])\n",
    "            for atom_name in atoms_to_remove:\n",
    "                if atom_name in smallest_residue:\n",
    "                    smallest_residue.detach_child(atom_name)\n",
    "    \n",
    "    # Save the modified structure\n",
    "    io = PDBIO()\n",
    "    io.set_structure(new_structure)\n",
    "    io.save(output_pdb)\n",
    "    \n",
    "infile = \"molecular_dynamics/dna_sequence_101_fold_2024_12_28_00_29_model_0.pdb\"\n",
    "outfile = \"molecular_dynamics/dna_sequence_101_fold_2024_12_28_00_29_model_0_processed.pdb\"\n",
    "# Call the processing function with the provided file names\n",
    "process_pdb(infile, outfile)\n",
    "\n",
    "simulation_psb = outfile"
   ]
  },
  {
   "cell_type": "markdown",
   "metadata": {},
   "source": [
    "# Molecular Dynamics Simulation\n",
    "\n",
    "Nine successive steps are used:\n",
    "\n",
    "1. Load the protein in its best -docked state. \n",
    "   \n",
    "2. In-complex creation of System Topology using ``GmxSys.add_top()``, followed by boxing and solvation/neutralization.\n",
    "   \n",
    "3. Boxing of complex.\n",
    "  \n",
    "4. Solvate complex and add ions.\n",
    "\n",
    "5. Minimisation of the structure using ``GmxSys.em_2_steps()``.\n",
    "\n",
    "6. Equilibration of the system using ``GmxSys.em_equi_three_step_iter_error()``.\n",
    "\n",
    "7. Production run using ``GmxSys.production()``.\n",
    "   \n",
    "8.  Post-processing using `GmxSys.convert_trj().`\n"
   ]
  },
  {
   "cell_type": "code",
   "execution_count": 1,
   "metadata": {},
   "outputs": [],
   "source": [
    "import sys\n",
    "import os\n",
    "import shutil\n",
    "\n",
    "import pandas as pd\n",
    "import matplotlib.pyplot as plt\n",
    "import numpy as np\n",
    "import seaborn as sns"
   ]
  },
  {
   "cell_type": "markdown",
   "metadata": {},
   "source": [
    "## To use `gromacs_py` in a project"
   ]
  },
  {
   "cell_type": "code",
   "execution_count": 2,
   "metadata": {},
   "outputs": [],
   "source": [
    "from gromacs_py import gmx"
   ]
  },
  {
   "cell_type": "markdown",
   "metadata": {},
   "source": [
    "## Simulation setup\n",
    "\n",
    "- Define a few variables for you simulation, like:\n",
    "  \n",
    "    1. simulation output folders\n",
    "    2. ionic concentration\n",
    "    3. number of minimisation steps\n",
    "    4. equilibration and production time\n",
    "\n",
    "### Regarding equilibriation time:\n",
    "The following variables define the sim times (relative units) for each stage of the three-stage equilibriation process. Check notes below for details:\n",
    "\n",
    "1. `HA_time`\n",
    "2. `CA_time`\n",
    "3. `CA_LOW_time` \n"
   ]
  },
  {
   "cell_type": "code",
   "execution_count": 3,
   "metadata": {},
   "outputs": [],
   "source": [
    "DATA_OUT = 'molecular_dynamics/dna_sequence_101_peptide_model_0'\n",
    "# System Setup\n",
    "sys_top_folder = os.path.join(DATA_OUT, 'sys_top')\n",
    "\n",
    "# Energy Minimisation\n",
    "em_folder = os.path.join(DATA_OUT, 'em')\n",
    "em_sys_folder = os.path.join(DATA_OUT, 'sys_em')\n",
    "em_step_number = 10000\n",
    "emtol = 10.0  \t# Stop minimization when the maximum force < 10 J/mol\n",
    "emstep  = 0.01      # Energy step size\n",
    "\n",
    "\n",
    "# Equillibration\n",
    "equi_folder = os.path.join(DATA_OUT, 'sys_equi')\n",
    "HA_time = 0.5\n",
    "CA_time = 1.0\n",
    "CA_LOW_time = 4.0\n",
    "\n",
    "dt_HA = 0.001\n",
    "dt = 0.002\n",
    "\n",
    "HA_step = 1000 * HA_time / dt_HA\n",
    "CA_step = 1000 * CA_time / dt\n",
    "CA_LOW_step = 1000 * CA_LOW_time / dt\n",
    "\n",
    "# Production\n",
    "os.makedirs(DATA_OUT, exist_ok = True)\n",
    "prod_folder = os.path.join(DATA_OUT, 'sys_prod')\n",
    "prod_time = 50.0\n",
    "\n",
    "prod_step = 1000 * prod_time / dt"
   ]
  },
  {
   "cell_type": "markdown",
   "metadata": {},
   "source": [
    "## Create the `GmxSys` object\n",
    "\n",
    "Load protein information only from docked PDB file on disk"
   ]
  },
  {
   "cell_type": "code",
   "execution_count": null,
   "metadata": {},
   "outputs": [],
   "source": [
    "%%script true\n",
    "\n",
    "pdb_file = \"molecular_dynamics/dna_sequence_101_fold_2024_12_28_00_29_model_0_processed.pdb\"\n",
    "sys_name = 'dna_sequence_101_peptide_model_0'\n",
    "complex_sys = gmx.GmxSys(name=sys_name, coor_file=pdb_file)"
   ]
  },
  {
   "cell_type": "markdown",
   "metadata": {},
   "source": [
    "## Create topology and stuff\n",
    "\n",
    "1. Topology creation involves manually running `gmx pdb2gmx` using `add_top()` function. Missing atoms are ignored, as are hydrogens.\n"
   ]
  },
  {
   "cell_type": "code",
   "execution_count": null,
   "metadata": {},
   "outputs": [
    {
     "name": "stdout",
     "output_type": "stream",
     "text": [
      "gmx pdb2gmx -f ../dna_sequence_101_fold_2024_12_28_00_29_model_0_processed.pdb -o dna_sequence_101_peptide_model_0_pdb2gmx.pdb -p dna_sequence_101_peptide_model_0_pdb2gmx.top -i dna_sequence_101_peptide_model_0_posre.itp -water tip3p -ff amber99sb-ildn -ignh -missing\n"
     ]
    }
   ],
   "source": [
    "%%script true\n",
    "options = {'ignh': None,'missing':None}\n",
    "\n",
    "complex_sys.add_top(out_folder=DATA_OUT, ff='amber99sb-ildn', water='tip3p', pdb2gmx_option_dict=options)"
   ]
  },
  {
   "cell_type": "code",
   "execution_count": null,
   "metadata": {},
   "outputs": [
    {
     "name": "stdout",
     "output_type": "stream",
     "text": [
      "name         : dna_sequence_101_peptide_model_0\n",
      "coor_file    : molecular_dynamics/dna_sequence_101_peptide_model_0/dna_sequence_101_peptide_model_0_pdb2gmx.pdb\n",
      "top_file     : molecular_dynamics/dna_sequence_101_peptide_model_0/dna_sequence_101_peptide_model_0_pdb2gmx.top\n",
      "nt           : 0\n",
      "ntmpi        : 0\n",
      "sys_history  : 0\n"
     ]
    }
   ],
   "source": [
    "%%script true\n",
    "complex_sys.display()"
   ]
  },
  {
   "cell_type": "code",
   "execution_count": null,
   "metadata": {},
   "outputs": [
    {
     "name": "stdout",
     "output_type": "stream",
     "text": [
      "gmx editconf -f molecular_dynamics/dna_sequence_101_peptide_model_0/dna_sequence_101_peptide_model_0_pdb2gmx.pdb -o molecular_dynamics/dna_sequence_101_peptide_model_0/dna_sequence_101_peptide_model_0_pdb2gmx_box.pdb -bt dodecahedron -d 1.0\n",
      "gmx grompp -f ../../../usr/local/lib/python3.12/site-packages/gromacs_py/gmx/template/mini.mdp -c dna_sequence_101_peptide_model_0_water.pdb -r dna_sequence_101_peptide_model_0_water.pdb -p dna_sequence_101_peptide_model_0_water_ion.top -po out_mini.mdp -o genion_dna_sequence_101_peptide_model_0_water_ion.tpr -maxwarn 4\n",
      "gmx genion -s genion_dna_sequence_101_peptide_model_0_water_ion.tpr -p dna_sequence_101_peptide_model_0_water_ion.top -o dna_sequence_101_peptide_model_0_water_ion.gro -np 209 -pname NA -nn 139 -nname CL\n",
      "name         : dna_sequence_101_peptide_model_0\n",
      "sim_name     : genion_dna_sequence_101_peptide_model_0_water_ion\n",
      "coor_file    : molecular_dynamics/dna_sequence_101_peptide_model_0/dna_sequence_101_peptide_model_0_water_ion.gro\n",
      "top_file     : molecular_dynamics/dna_sequence_101_peptide_model_0/dna_sequence_101_peptide_model_0_water_ion.top\n",
      "tpr          : molecular_dynamics/dna_sequence_101_peptide_model_0/genion_dna_sequence_101_peptide_model_0_water_ion.tpr\n",
      "mdp          : ../usr/local/lib/python3.12/site-packages/gromacs_py/gmx/template/mini.mdp\n",
      "nt           : 0\n",
      "ntmpi        : 0\n",
      "sys_history  : 0\n"
     ]
    }
   ],
   "source": [
    "%%script true\n",
    "complex_sys.create_box(dist=1.0, box_type=\"dodecahedron\", check_file_out=True)\n",
    "complex_sys.solvate_add_ions(out_folder=DATA_OUT, name=sys_name,create_box_flag=False, maxwarn=4)\n",
    "complex_sys.display()"
   ]
  },
  {
   "cell_type": "markdown",
   "metadata": {},
   "source": [
    "## Add index groups\n",
    "\n",
    "Now, we have to add the following index groups: Merge the DNA with the Protein using the shell command\n",
    "\n",
    "```bash\n",
    "gmx make_ndx -f dna_sequence_101_peptide_model_0_water_ion.gro -o dna_sequence_101_peptide_model_0_water_ion.ndx\n",
    "```\n",
    "Merge group 1 with group 12 to form `Protein_DNA` group. We can now set temperature control groups to = `Protein_DNA` and `Water_and_ions` later.\n",
    "\n",
    "Finally, add the index file to the `complex_sys` object."
   ]
  },
  {
   "cell_type": "code",
   "execution_count": null,
   "metadata": {},
   "outputs": [],
   "source": [
    "%%script true\n",
    "complex_sys.add_ndx(\"\",ndx_name=\"dna_sequence_101_peptide_model_0_water_ion\", folder_out=DATA_OUT)"
   ]
  },
  {
   "cell_type": "markdown",
   "metadata": {},
   "source": [
    "## Energy minimisation\n",
    "\n",
    "Set parallelization and GPU options here. Change them later, if needed."
   ]
  },
  {
   "cell_type": "markdown",
   "metadata": {},
   "source": [
    "## Important Development\n",
    "\n",
    "There was a problem notices after equilibration. Visualization of the equilibration simulation revealed that the B/DA`38/ residue in the DNA strand broke off during energy minimization, possibly due to removing the phosphate radical (it was a terminal base nucleotide).\n",
    "\n",
    "If I retain it, then AMBER topology build fails because terminal base nucleotides aren;t supposed to have phosphate radicals, since they bind to further DNA base nucleotides to continue the sequence.\n",
    "\n",
    "One possible solution is to put position restraints on the DNA molecules during energy minimization. So add to option POSRES'."
   ]
  },
  {
   "cell_type": "code",
   "execution_count": null,
   "metadata": {},
   "outputs": [
    {
     "name": "stderr",
     "output_type": "stream",
     "text": [
      "WARNING !!! ADDING unusual parameter : \"emtol\"in the mdp file Init_em_dna_sequence_101_peptide_model_0.mdp\n",
      "WARNING !!! ADDING unusual parameter : \"emstep\"in the mdp file Init_em_dna_sequence_101_peptide_model_0.mdp\n"
     ]
    },
    {
     "name": "stdout",
     "output_type": "stream",
     "text": [
      "gmx grompp -f Init_em_dna_sequence_101_peptide_model_0.mdp -c ../dna_sequence_101_peptide_model_0_water_ion.gro -r ../dna_sequence_101_peptide_model_0_water_ion.gro -p ../dna_sequence_101_peptide_model_0_water_ion.top -po out_Init_em_dna_sequence_101_peptide_model_0.mdp -o Init_em_dna_sequence_101_peptide_model_0.tpr -maxwarn 1 -n ../dna_sequence_101_peptide_model_0_water_ion.ndx\n",
      "gmx mdrun -s Init_em_dna_sequence_101_peptide_model_0.tpr -deffnm Init_em_dna_sequence_101_peptide_model_0 -nt 16 -ntmpi 0 -nsteps -2 -nocopyright -gpu_id 0\n"
     ]
    },
    {
     "data": {
      "application/vnd.jupyter.widget-view+json": {
       "model_id": "b4f2812fd45640c1ba879a3d12ee4bba",
       "version_major": 2,
       "version_minor": 0
      },
      "text/plain": [
       "  0%|          | 0/10000 [00:00<?, ?it/s]"
      ]
     },
     "metadata": {},
     "output_type": "display_data"
    },
    {
     "name": "stderr",
     "output_type": "stream",
     "text": [
      "WARNING !!! ADDING unusual parameter : \"emtol\"in the mdp file dna_sequence_101_peptide_model_0.mdp\n",
      "WARNING !!! ADDING unusual parameter : \"emstep\"in the mdp file dna_sequence_101_peptide_model_0.mdp\n"
     ]
    },
    {
     "name": "stdout",
     "output_type": "stream",
     "text": [
      "gmx grompp -f dna_sequence_101_peptide_model_0.mdp -c Init_em_dna_sequence_101_peptide_model_0.gro -r Init_em_dna_sequence_101_peptide_model_0.gro -p ../dna_sequence_101_peptide_model_0_water_ion.top -po out_dna_sequence_101_peptide_model_0.mdp -o dna_sequence_101_peptide_model_0.tpr -maxwarn 1 -n ../dna_sequence_101_peptide_model_0_water_ion.ndx\n",
      "gmx mdrun -s dna_sequence_101_peptide_model_0.tpr -deffnm dna_sequence_101_peptide_model_0 -nt 16 -ntmpi 0 -nsteps -2 -nocopyright -gpu_id 0\n"
     ]
    },
    {
     "data": {
      "application/vnd.jupyter.widget-view+json": {
       "model_id": "a1cf5254058f41bba2fde87b4afbc7b6",
       "version_major": 2,
       "version_minor": 0
      },
      "text/plain": [
       "  0%|          | 0/10000 [00:00<?, ?it/s]"
      ]
     },
     "metadata": {},
     "output_type": "display_data"
    }
   ],
   "source": [
    "%%script true\n",
    "#Parallelization\n",
    "nthreads = int(os.environ.get('PBS_NCPUS', '16'))\n",
    "\n",
    "#Set Parallelization\n",
    "complex_sys.nt = nthreads\n",
    "#complex_sys.ntmpi = 1\n",
    "complex_sys.gpu_id = '0'\n",
    "\n",
    "complex_sys.em_2_steps(out_folder=em_folder,\n",
    "        no_constr_nsteps=em_step_number,\n",
    "        constr_nsteps=em_step_number,\n",
    "        posres=\"-DPOSRES\",\n",
    "        create_box_flag=False, emtol=emtol, emstep=emstep)"
   ]
  },
  {
   "cell_type": "markdown",
   "metadata": {},
   "source": [
    "## Plot energy:"
   ]
  },
  {
   "cell_type": "code",
   "execution_count": null,
   "metadata": {},
   "outputs": [
    {
     "name": "stdout",
     "output_type": "stream",
     "text": [
      "gmx energy -f molecular_dynamics/dna_sequence_101_peptide_model_0/em/Init_em_dna_sequence_101_peptide_model_0.edr -o tmp_edr.xvg\n",
      "gmx energy -f molecular_dynamics/dna_sequence_101_peptide_model_0/em/dna_sequence_101_peptide_model_0.edr -o tmp_edr.xvg\n"
     ]
    }
   ],
   "source": [
    "%%script true\n",
    "ener_pd_1 = complex_sys.sys_history[-1].get_ener(selection_list=['Potential'])\n",
    "ener_pd_2 = complex_sys.get_ener(selection_list=['Potential'])\n",
    "\n",
    "ener_pd_1['label'] = 'no bond constr'\n",
    "ener_pd_2['label'] = 'bond constr'\n",
    "\n",
    "ener_pd = pd.concat([ener_pd_1, ener_pd_2])\n",
    "\n",
    "ener_pd['Time (ps)'] = np.arange(len(ener_pd))"
   ]
  },
  {
   "cell_type": "code",
   "execution_count": null,
   "metadata": {},
   "outputs": [
    {
     "data": {
      "image/png": "[encoded data removed]",
      "text/plain": [
       "<Figure size 640x480 with 1 Axes>"
      ]
     },
     "metadata": {},
     "output_type": "display_data"
    }
   ],
   "source": [
    "%%script true\n",
    "ax = sns.lineplot(x=\"Time (ps)\", y=\"Potential\",\n",
    "        hue=\"label\",\n",
    "        data=ener_pd)\n",
    "ax.set_xlabel('step')\n",
    "ax.set_ylabel('energy (KJ/mol)')\n",
    "plt.grid()"
   ]
  },
  {
   "cell_type": "code",
   "execution_count": null,
   "metadata": {},
   "outputs": [],
   "source": [
    "%%script true\n",
    "import pickle, datetime\n",
    "chkpt_fname='checkpoint.em_' + datetime.date.today().strftime(\"%Y%m%d\") + \".pycpt\"\n",
    "with open(chkpt_fname, 'wb') as py_cpt:\n",
    "    pickle.dump(complex_sys, py_cpt)"
   ]
  },
  {
   "cell_type": "markdown",
   "metadata": {},
   "source": [
    "## From here, run in cluster\n",
    "### System minimisation and equilibration\n",
    "\n",
    "Based on `gromacs_py` docs, this is a 3-stage equilibriation process. \n",
    "\n",
    "All three steps seem to be NPT with berendsen coupling and v-rescale for temp coupling. Each step just has different restraints. This does not seem so bad: closer to lab conditions.\n",
    "\n",
    "Since the statistical ensemble is pretty much always NPT, this is different from the Lemkul-lysozyme tutorial at [MDTutorials](http://www.mdtutorials.com/gmx/lysozyme/).\n",
    "\n",
    "**Note:** \n",
    "1. Had to run this on cluster at least. Too slow even in ofc workstn.\n",
    "2. Temperature coupling groups have to be set properly. See [mdtutorials](http://www.mdtutorials.com/gmx/complex/06_equil.html) and [gromacs-py manual](https://gromacs-py.readthedocs.io/en/latest/notebook/01_dna_ligand_ambertools.html#System-equilibration)"
   ]
  },
  {
   "cell_type": "code",
   "execution_count": null,
   "metadata": {},
   "outputs": [],
   "source": [
    "#%%script true\n",
    "import pickle, datetime\n",
    "chkpt_fname='checkpoint.em_20250312.pycpt'\n",
    "\n",
    "with open(chkpt_fname, 'rb') as py_cpt:\n",
    "    complex_sys = pickle.load(py_cpt)"
   ]
  },
  {
   "cell_type": "code",
   "execution_count": null,
   "metadata": {},
   "outputs": [],
   "source": [
    "#%%script true\n",
    "#Parallelization\n",
    "nthreads = int(os.environ.get('PBS_NCPUS', '12'))\n",
    "\n",
    "#Set Parallelization\n",
    "complex_sys.nt = nthreads\n",
    "#complex_sys.ntmpi = 1\n",
    "complex_sys.gpu_id = '0'\n",
    "sys_name = 'dna_sequence_101_peptide_model_0'\n",
    "complex_sys.equi_three_step(out_folder=equi_folder,\n",
    "        name=sys_name,\n",
    "        nsteps_HA=HA_step,  \n",
    "        nsteps_CA=CA_step,\n",
    "        nsteps_CA_LOW=CA_LOW_step,\n",
    "        dt=dt, dt_HA=dt_HA,\n",
    "        tc_grps='Protein_DNA Water_and_ions',\n",
    "        tau_t= '0.1 0.1',\n",
    "        ref_t= '310 310',\n",
    "        vsite='none', maxwarn=10, iter_num=1)"
   ]
  },
  {
   "cell_type": "code",
   "execution_count": null,
   "metadata": {},
   "outputs": [],
   "source": [
    "#%%script true\n",
    "import pickle, datetime\n",
    "chkpt_fname='checkpoint.equi_' + datetime.date.today().strftime(\"%Y%m%d\") + \".pycpt\"\n",
    "with open(chkpt_fname, 'wb') as py_cpt:\n",
    "    pickle.dump(complex_sys, py_cpt)"
   ]
  },
  {
   "cell_type": "markdown",
   "metadata": {},
   "source": [
    "### Plot Equilibriation\n",
    "\n",
    "Since the statistical ensemble is pretty much always NPT, this is different from the Lemkul-lysozyme tutorial at [MDTutorials](http://www.mdtutorials.com/gmx/lysozyme/). So we need to see Volume as well as Pressure, temperature, and density."
   ]
  },
  {
   "cell_type": "code",
   "execution_count": null,
   "metadata": {},
   "outputs": [],
   "source": [
    "%%script true\n",
    "import pickle, datetime\n",
    "chkpt_fname='checkpoint.equi_20250311.pycpt'\n",
    "\n",
    "with open(chkpt_fname, 'rb') as py_cpt:\n",
    "    complex_sys = pickle.load(py_cpt)"
   ]
  },
  {
   "cell_type": "code",
   "execution_count": null,
   "metadata": {},
   "outputs": [],
   "source": [
    "%%script true\n",
    "# This code cell was for a snafu in setting the simulation name. Ignore it unless needed.\n",
    "# Function to update filenames in attributes\n",
    "def update_filename_in_object(obj, old_str, new_str):\n",
    "    for attr, value in obj.__dict__.items():\n",
    "        if isinstance(value, str) and old_str in value:\n",
    "            setattr(obj, attr, value.replace(old_str, new_str))\n",
    "\n",
    "update_filename_in_object(complex_sys, \"ku04amp01_pea_complex\", \"dna_sequence_101_peptide_model_0\")\n",
    "update_filename_in_object(complex_sys.sys_history[3], \"ku04amp01_pea_complex\", \"dna_sequence_101_peptide_model_0\")\n",
    "update_filename_in_object(complex_sys.sys_history[4], \"ku04amp01_pea_complex\", \"dna_sequence_101_peptide_model_0\")"
   ]
  },
  {
   "cell_type": "code",
   "execution_count": null,
   "metadata": {},
   "outputs": [],
   "source": [
    "%%script true\n",
    "quantities = [\"Temperature\", \"Pressure\", \"Volume\", \"Density\"]\n",
    "units = [\"$K$\", \"$bar$\", \"$A^3$\", \"$kg/m^3$\"]\n",
    "\n",
    "pd_1 = complex_sys.sys_history[-2].get_ener(selection_list=quantities)\n",
    "pd_2 = complex_sys.sys_history[-1].get_ener(selection_list=quantities)\n",
    "pd_3 = complex_sys.get_ener(selection_list=quantities)\n",
    "\n",
    "pd_1['label'] = 'HA_constr'\n",
    "pd_2['label'] = 'CA_constr'\n",
    "pd_2['Time (ps)'] = pd_2['Time (ps)'] + pd_1['Time (ps)'].max()\n",
    "pd_3['label'] = 'CA_LOW_constr'\n",
    "pd_3['Time (ps)'] = pd_3['Time (ps)'] + pd_2['Time (ps)'].max()\n",
    "\n",
    "display(pd.concat([pd_1, pd_2, pd_3]))"
   ]
  },
  {
   "cell_type": "code",
   "execution_count": null,
   "metadata": {},
   "outputs": [],
   "source": [
    "%%script true\n",
    "plt.rcParams.update({'font.size': 22})\n",
    "\n",
    "fig, axs = plt.subplots(4, 1, figsize=(24,13.5), sharex=True, tight_layout=True)\n",
    "\n",
    "for ax, quantity, unit in zip(axs, quantities, units):\n",
    "    for df in (pd_1, pd_2, pd_3):\n",
    "        ax.plot(df[\"Time (ps)\"], df[quantity], label=str(df['label'][0]))\n",
    "        ax.set_ylabel(quantity + \"(\" + unit + \")\")\n",
    "        ax.grid()\n",
    "\n",
    "axs[0].legend()\n",
    "axs[-1].set_xlabel(\"Time (ps)\");"
   ]
  },
  {
   "cell_type": "markdown",
   "metadata": {},
   "source": [
    "Looks okay to me. Fluctuations are high at the end because CA constraints are low, but there is a well-defined average."
   ]
  },
  {
   "cell_type": "markdown",
   "metadata": {},
   "source": [
    "### Plot RMSD"
   ]
  },
  {
   "cell_type": "code",
   "execution_count": null,
   "metadata": {},
   "outputs": [],
   "source": [
    "#%%script true\n",
    "# Define reference structure for RMSD calculation\n",
    "ref_sys =  complex_sys.sys_history[1]\n",
    "struct=\"Protein\"\n",
    "\n",
    "rmsd_pd_1 = complex_sys.sys_history[-2].get_rmsd([struct, struct], ref_sys=ref_sys)\n",
    "rmsd_pd_2 = complex_sys.sys_history[-1].get_rmsd([struct, struct], ref_sys=ref_sys)\n",
    "rmsd_pd_3 = complex_sys.get_rmsd([struct, struct], ref_sys=ref_sys)\n",
    "\n",
    "\n",
    "rmsd_pd_1['label'] = 'HA_constr'\n",
    "rmsd_pd_2['label'] = 'CA_constr'\n",
    "rmsd_pd_2['time'] = rmsd_pd_2['time'] + rmsd_pd_1['time'].max()\n",
    "rmsd_pd_3['label'] = 'CA_LOW_constr'\n",
    "rmsd_pd_3['time'] = rmsd_pd_3['time'] + rmsd_pd_2['time'].max()\n",
    "\n",
    "display(pd.concat([rmsd_pd_1, rmsd_pd_2, rmsd_pd_3]))\n"
   ]
  },
  {
   "cell_type": "code",
   "execution_count": null,
   "metadata": {},
   "outputs": [],
   "source": [
    "#%%script true\n",
    "fig, ax = plt.subplots(1, 1, figsize=(24,13.5))\n",
    "\n",
    "for df in (rmsd_pd_1, rmsd_pd_2, rmsd_pd_3):\n",
    "        ax.plot(df[\"time\"], df[\"Protein\"], label=str(df['label'][0]))\n",
    "        \n",
    "ax.set_title(struct)\n",
    "ax.set_ylabel('RMSD (nm)')\n",
    "ax.set_xlabel('Time (ps)')\n",
    "plt.grid()"
   ]
  },
  {
   "cell_type": "markdown",
   "metadata": {},
   "source": [
    "### Prepare Equilibration Trajectories for Viewing \n",
    "\n",
    "Do this by removing artefacts (centering) and smoothening rotational and translational degrees of freedom.\n",
    "\n",
    "Solutions:\n",
    "\n",
    "1. [https://gromacs.bioexcel.eu/t/issue-with-correcting-pbc-for-dna-separation-in-gromacs/11013]\n",
    "2. [https://gromacs.bioexcel.eu/t/fix-two-separate-dna-strands-after-simulation-using-pbc-cluster/9704]\n",
    "3. [https://mailman-1.sys.kth.se/pipermail/gromacs.org_gmx-users/2018-April/120016.html]\n",
    "\n",
    "\n",
    "### Center trajectories as follows:\n",
    "\n",
    "There is a common problem here in that the DNA strands aren't linked by covalent bonds, so PBC might pull them apart into adjacent boxes.\n",
    "\n",
    "Solution is [here](https://gromacs.bioexcel.eu/t/issue-with-correcting-pbc-for-dna-separation-in-gromacs/11013). Implemented in workflow below.\n",
    "\n",
    "Choose Protein_DNA for all selections\n",
    "    \n",
    "```bash\n",
    "\n",
    "$ export fname=equi_HA_dna_sequence_101_peptide_model_0\n",
    "\n",
    "$ gmx trjconv -pbc mol -f ${fname}.xtc -o ${fname}_mol.xtc -s ${fname}.tpr -n ../../dna_sequence_101_peptide_model_0_water_ion.ndx\n",
    "$ gmx trjconv -center -ur compact -f ${fname}_mol.xtc -o ${fname}_mol_compact.xtc -s ${fname}.tpr -n ../../dna_sequence_101_peptide_model_0_water_ion.ndx\n",
    "$ gmx trjconv -fit rot+trans -f ${fname}_mol_compact.xtc -o ${fname}_mol_compact_compact.xtc -s ${fname}.tpr -n ../../dna_sequence_101_peptide_model_0_water_ion.ndx\n",
    "$ gmx trjconv -dump 0 -f ${fname}_mol_compact.xtc -o start.pdb-s ${fname}.tpr -n ../../dna_sequence_101_peptide_model_0_water_ion.ndx\n",
    "\n",
    "```\n",
    "\n",
    "Repeat for all other equilibrating trajectories as needed."
   ]
  },
  {
   "cell_type": "markdown",
   "metadata": {},
   "source": [
    "## Production MD \n",
    "\n",
    "tc-coupling groups are required here as well. See [gromacs-py manual](https://gromacs-py.readthedocs.io/en/latest/notebook/01_dna_ligand_ambertools.html#Production)"
   ]
  },
  {
   "cell_type": "code",
   "execution_count": null,
   "metadata": {},
   "outputs": [],
   "source": [
    "%%script true\n",
    "import pickle, datetime\n",
    "chkpt_fname='checkpoint.equi_20250310.pycpt'\n",
    "\n",
    "with open(chkpt_fname, 'rb') as py_cpt:\n",
    "    complex_sys = pickle.load(py_cpt)"
   ]
  },
  {
   "cell_type": "code",
   "execution_count": null,
   "metadata": {},
   "outputs": [],
   "source": [
    "%%script true\n",
    "#Parallelization\n",
    "nthreads = int(os.environ.get('PBS_NCPUS', '16'))\n",
    "\n",
    "#Set Parallelization\n",
    "complex_sys.nt = nthreads\n",
    "#complex_sys.ntmpi = 1\n",
    "complex_sys.gpu_id = '0'\n",
    "\n",
    "complex_sys.production(out_folder=prod_folder,\n",
    "        nsteps=prod_step,\n",
    "        tc_grps='Protein_DNA Water_and_ions',\n",
    "        tau_t= '0.1 0.1',\n",
    "        ref_t= '310 310',\n",
    "        dt=dt, vsite=vsite, maxwarn=1, nstlist=200)"
   ]
  },
  {
   "cell_type": "markdown",
   "metadata": {},
   "source": [
    "## Checkpointing for extending\n"
   ]
  },
  {
   "cell_type": "code",
   "execution_count": null,
   "metadata": {},
   "outputs": [],
   "source": [
    "%%script true\n",
    "import pickle, datetime\n",
    "chkpt_fname='checkpoint.prod_' + datetime.date.today().strftime(\"%Y%m%d\") + '.pycpt'\n",
    "with open(chkpt_fname, 'wb') as py_cpt:\n",
    "    pickle.dump(complex_sys, py_cpt)"
   ]
  },
  {
   "cell_type": "markdown",
   "metadata": {},
   "source": [
    "## Post-Production"
   ]
  },
  {
   "cell_type": "code",
   "execution_count": null,
   "metadata": {},
   "outputs": [],
   "source": [
    "%%script true\n",
    "import pickle, datetime\n",
    "chkpt_fname='checkpoint.prod_20250222.pycpt'\n",
    "\n",
    "with open(chkpt_fname, 'rb') as py_cpt:\n",
    "    complex_sys = pickle.load(py_cpt)"
   ]
  },
  {
   "cell_type": "markdown",
   "metadata": {},
   "source": [
    "### Prepare Production Trajectory for Viewing\n",
    "\n",
    "#### Center Trajectory"
   ]
  },
  {
   "cell_type": "code",
   "execution_count": null,
   "metadata": {},
   "outputs": [],
   "source": [
    "%%script true\n",
    "# Center trajectory\n",
    "complex_sys.center_mol_box(traj=True)"
   ]
  },
  {
   "cell_type": "markdown",
   "metadata": {},
   "source": [
    "## Final Steps\n",
    "As in any simulation conducted with periodic boundary conditions, molecules may appear \"broken\" or may \"jump\" back and forth across the box. To recenter the protein and rewrap the molecules within the unit cell to recover the desired box shape, invoke trjconv. \n",
    "\n",
    "Choose \"Protein\" for centering and \"Protein_DNA\" (prot and ligand selection) for output."
   ]
  },
  {
   "cell_type": "code",
   "execution_count": null,
   "metadata": {},
   "outputs": [],
   "source": [
    "%%script true\n",
    "complex_sys.convert_trj(select='Protein\\nProtein_DNA', fit='rot+trans', pbc='none')"
   ]
  },
  {
   "cell_type": "markdown",
   "metadata": {},
   "source": [
    "#### Extract production initial condition\n",
    "Optionally, extract the first frame of the final prod traj (latest from history, as the running one got updated) into a `pdb` for loading into post processing."
   ]
  },
  {
   "cell_type": "code",
   "execution_count": null,
   "metadata": {},
   "outputs": [],
   "source": [
    "%%script true\n",
    "complex_sys.sys_history[-1].convert_trj(select='Protein\\nProtein_DNA', fit='rot+trans', pbc='none', specific_coor_out=prod_folder+\"/start.pdb\", dump=\"0\")"
   ]
  }
 ],
 "metadata": {
  "kernelspec": {
   "display_name": "Python 3 (ipykernel)",
   "language": "python",
   "name": "python3"
  },
  "language_info": {
   "codemirror_mode": {
    "name": "ipython",
    "version": 3
   },
   "file_extension": ".py",
   "mimetype": "text/x-python",
   "name": "python",
   "nbconvert_exporter": "python",
   "pygments_lexer": "ipython3",
   "version": "3.12.8"
  },
  "widgets": {
   "application/vnd.jupyter.widget-state+json": {
    "state": {},
    "version_major": 2,
    "version_minor": 0
   }
  }
 },
 "nbformat": 4,
 "nbformat_minor": 4
}
