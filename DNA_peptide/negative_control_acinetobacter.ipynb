{
 "cells": [
  {
   "cell_type": "markdown",
   "metadata": {},
   "source": [
    "\n",
    "First, the selected pdb needs some pre-processing before MD. Process PDB to fix duplicate chain ids, remove P/OP1/OP2 from terminal nucleic acids, & change atom name 'C5M' to 'C7' to make compatible with AMBER-ff.\n"
   ]
  },
  {
   "cell_type": "code",
   "execution_count": null,
   "metadata": {
    "execution": {
     "iopub.execute_input": "2025-03-15T11:49:30.875344Z",
     "iopub.status.busy": "2025-03-15T11:49:30.874892Z",
     "iopub.status.idle": "2025-03-15T11:49:30.887924Z",
     "shell.execute_reply": "2025-03-15T11:49:30.886624Z"
    }
   },
   "outputs": [],
   "source": [
    "%%script true\n",
    "import warnings\n",
    "warnings.filterwarnings(\"ignore\")\n",
    "import argparse\n",
    "from Bio.PDB import PDBParser, PDBIO\n",
    "import warnings\n",
    "from Bio.PDB import Structure, Model, Chain, Residue, Atom\n",
    "# Define atoms to remove\n",
    "atoms_to_remove = {\"P\", \"O1P\", \"O2P\"}\n",
    "dna_residues = {\"DA\", \"DT\", \"DC\", \"DG\"}  # DNA residue names\n",
    "amino_acids = [\n",
    "    \"ALA\", \"CYS\", \"ASP\", \"GLU\", \"PHE\", \"GLY\", \"HIS\", \"ILE\", \"LYS\", \"LEU\",\n",
    "    \"MET\", \"ASN\", \"PRO\", \"GLN\", \"ARG\", \"SER\", \"THR\", \"VAL\", \"TRP\", \"TYR\"\n",
    "]\n",
    "\n",
    "def process_pdb(input_pdb, output_pdb):\n",
    "    # Parse the PDB file\n",
    "    parser = PDBParser(QUIET=True)\n",
    "    structure = parser.get_structure(\"Structure\", input_pdb)\n",
    "    new_structure = Structure.Structure(\"NewStructure\")\n",
    "    new_model = Model.Model(0)\n",
    "    new_structure.add(new_model)\n",
    "    for model in structure:\n",
    "        for chain in model:\n",
    "            for residue in chain:\n",
    "                new_chain_id = \"P\" if residue.get_resname() in amino_acids else (\"A\" if residue.id[1] > 0 else \"B\")\n",
    "                if new_chain_id not in new_model.child_dict:\n",
    "                    new_chain = Chain.Chain(new_chain_id)\n",
    "                    new_model.add(new_chain)\n",
    "                else:\n",
    "                    new_chain = new_model[new_chain_id]\n",
    "\n",
    "                new_residue = Residue.Residue(residue.id, residue.resname, residue.segid)\n",
    "                new_chain.add(new_residue)\n",
    "\n",
    "                for atom in residue:\n",
    "                    new_atom = Atom.Atom(atom.name, atom.coord, atom.bfactor, atom.occupancy, atom.altloc, atom.fullname, atom.serial_number, atom.element)\n",
    "                    # Rename C5M atom to C7\n",
    "                    if new_atom.name == \"C5M\":\n",
    "                        new_atom.name = \"C7\"\n",
    "                        new_atom.fullname = \" C7 \"\n",
    "                    new_residue.add(new_atom)\n",
    "\n",
    "\n",
    "    #Just need to remove the dangling P/O1P/O2P from the first and last strands, not all of them!\n",
    "    \n",
    "    # Remove specified atoms from the first DNA residue\n",
    "    for chain in new_model:\n",
    "        # Find the DNA residue with the smallest residue id in each chain\n",
    "        dna_residues_in_chain = [residue for residue in chain if residue.get_resname() in dna_residues]\n",
    "        if dna_residues_in_chain:\n",
    "            smallest_residue = min(dna_residues_in_chain, key=lambda r: r.id[1])\n",
    "            for atom_name in atoms_to_remove:\n",
    "                if atom_name in smallest_residue:\n",
    "                    smallest_residue.detach_child(atom_name)\n",
    "    \n",
    "    # Save the modified structure\n",
    "    io = PDBIO()\n",
    "    io.set_structure(new_structure)\n",
    "    io.save(output_pdb)\n",
    "    \n",
    "infile = \"molecular_dynamics/dna_sequence_acinetobacter_negative_control_fold_2024_12_28_00_29_model_0.pdb\"\n",
    "outfile = \"molecular_dynamics/dna_sequence_acinetobacter_negative_control_fold_2024_12_28_00_29_model_0_processed.pdb\"\n",
    "# Call the processing function with the provided file names\n",
    "process_pdb(infile, outfile)\n",
    "\n",
    "simulation_psb = outfile"
   ]
  },
  {
   "cell_type": "markdown",
   "metadata": {},
   "source": [
    "# Molecular Dynamics Simulation\n",
    "Now starts the molecular dynamics simulation of selected complexes from the docking above.\n",
    "Nine successive steps are used:\n",
    "\n",
    "1. Load the protein in its best -docked state. \n",
    "   \n",
    "2. In-complex creation of System Topology using ``GmxSys.add_top()``, followed by boxing and solvation/neutralization.\n",
    "   \n",
    "3. Boxing of complex.\n",
    "  \n",
    "4. Solvate complex and add ions.\n",
    "\n",
    "5. Minimisation of the structure using ``GmxSys.em_2_steps()``.\n",
    "\n",
    "6. Equilibration of the system using ``GmxSys.em_equi_three_step_iter_error()``.\n",
    "\n",
    "7. Production run using ``GmxSys.production()``.\n",
    "   \n",
    "8.  Post-processing using `GmxSys.convert_trj().`\n"
   ]
  },
  {
   "cell_type": "code",
   "execution_count": 1,
   "metadata": {},
   "outputs": [],
   "source": [
    "import sys\n",
    "import os\n",
    "import shutil\n",
    "\n",
    "import pandas as pd\n",
    "import matplotlib.pyplot as plt\n",
    "import numpy as np\n",
    "import seaborn as sns"
   ]
  },
  {
   "cell_type": "markdown",
   "metadata": {},
   "source": [
    "## To use `gromacs_py` in a project"
   ]
  },
  {
   "cell_type": "code",
   "execution_count": 2,
   "metadata": {},
   "outputs": [],
   "source": [
    "from gromacs_py import gmx"
   ]
  },
  {
   "cell_type": "markdown",
   "metadata": {},
   "source": [
    "## Simulation setup\n",
    "\n",
    "- Define a few variables for you simulation, like:\n",
    "  \n",
    "    1. simulation output folders\n",
    "    2. ionic concentration\n",
    "    3. number of minimisation steps\n",
    "    4. equilibration and production time\n",
    "\n",
    "### Regarding equilibriation time:\n",
    "The following variables define the sim times (relative units) for each stage of the three-stage equilibriation process. Check notes below for details:\n",
    "\n",
    "1. `HA_time`\n",
    "2. `CA_time`\n",
    "3. `CA_LOW_time` \n"
   ]
  },
  {
   "cell_type": "code",
   "execution_count": 3,
   "metadata": {},
   "outputs": [],
   "source": [
    "DATA_OUT = 'molecular_dynamics/dna_sequence_acinetobacter_negative_control_peptide_model_0'\n",
    "# System Setup\n",
    "sys_top_folder = os.path.join(DATA_OUT, 'sys_top')\n",
    "\n",
    "# Energy Minimisation\n",
    "em_folder = os.path.join(DATA_OUT, 'em')\n",
    "em_sys_folder = os.path.join(DATA_OUT, 'sys_em')\n",
    "em_step_number = 10000\n",
    "emtol = 10.0  \t# Stop minimization when the maximum force < 10 J/mol\n",
    "emstep  = 0.01      # Energy step size\n",
    "\n",
    "\n",
    "# Equillibration\n",
    "equi_folder = os.path.join(DATA_OUT, 'sys_equi')\n",
    "HA_time = 0.5\n",
    "CA_time = 1.0\n",
    "CA_LOW_time = 4.0\n",
    "\n",
    "dt_HA = 0.001\n",
    "dt = 0.002\n",
    "\n",
    "HA_step = 1000 * HA_time / dt_HA\n",
    "CA_step = 1000 * CA_time / dt\n",
    "CA_LOW_step = 1000 * CA_LOW_time / dt\n",
    "\n",
    "# Production\n",
    "os.makedirs(DATA_OUT, exist_ok = True)\n",
    "prod_folder = os.path.join(DATA_OUT, 'sys_prod')\n",
    "prod_time = 50.0\n",
    "\n",
    "prod_step = 1000 * prod_time / dt"
   ]
  },
  {
   "cell_type": "markdown",
   "metadata": {},
   "source": [
    "## Create the `GmxSys` object\n",
    "\n",
    "Load protein information only from docked PDB file on disk"
   ]
  },
  {
   "cell_type": "code",
   "execution_count": null,
   "metadata": {
    "execution": {
     "iopub.execute_input": "2025-03-15T11:49:33.288765Z",
     "iopub.status.busy": "2025-03-15T11:49:33.288395Z",
     "iopub.status.idle": "2025-03-15T11:49:33.297992Z",
     "shell.execute_reply": "2025-03-15T11:49:33.296933Z"
    }
   },
   "outputs": [],
   "source": [
    "%%script true\n",
    "\n",
    "pdb_file = \"molecular_dynamics/dna_sequence_acinetobacter_negative_control_fold_2024_12_28_00_29_model_0_processed.pdb\"\n",
    "sys_name = 'dna_sequence_acinetobacter_negative_control_peptide_model_0'\n",
    "complex_sys = gmx.GmxSys(name=sys_name, coor_file=pdb_file)"
   ]
  },
  {
   "cell_type": "markdown",
   "metadata": {},
   "source": [
    "## Create topology and stuff\n",
    "\n",
    "1. Topology creation involves manually running `gmx pdb2gmx` using `add_top()` function. Missing atoms are ignored, as are hydrogens.\n"
   ]
  },
  {
   "cell_type": "code",
   "execution_count": 5,
   "metadata": {
    "execution": {
     "iopub.execute_input": "2025-03-15T11:49:33.301656Z",
     "iopub.status.busy": "2025-03-15T11:49:33.301240Z",
     "iopub.status.idle": "2025-03-15T11:49:33.309816Z",
     "shell.execute_reply": "2025-03-15T11:49:33.308816Z"
    }
   },
   "outputs": [
    {
     "name": "stdout",
     "output_type": "stream",
     "text": [
      "gmx pdb2gmx -f ../dna_sequence_acinetobacter_negative_control_fold_2024_12_28_00_29_model_0_processed.pdb -o dna_sequence_acinetobacter_negative_control_peptide_model_0_pdb2gmx.pdb -p dna_sequence_acinetobacter_negative_control_peptide_model_0_pdb2gmx.top -i dna_sequence_acinetobacter_negative_control_peptide_model_0_posre.itp -water tip3p -ff amber99sb-ildn -ignh -missing\n"
     ]
    }
   ],
   "source": [
    "%%script true\n",
    "options = {'ignh': None,'missing':None}\n",
    "\n",
    "complex_sys.add_top(out_folder=DATA_OUT, ff='amber99sb-ildn', water='tip3p', pdb2gmx_option_dict=options)"
   ]
  },
  {
   "cell_type": "code",
   "execution_count": 6,
   "metadata": {
    "execution": {
     "iopub.execute_input": "2025-03-15T11:49:33.313896Z",
     "iopub.status.busy": "2025-03-15T11:49:33.313403Z",
     "iopub.status.idle": "2025-03-15T11:49:33.323097Z",
     "shell.execute_reply": "2025-03-15T11:49:33.321501Z"
    }
   },
   "outputs": [
    {
     "name": "stdout",
     "output_type": "stream",
     "text": [
      "name         : dna_sequence_acinetobacter_negative_control_peptide_model_0\n",
      "coor_file    : molecular_dynamics/dna_sequence_acinetobacter_negative_control_peptide_model_0/dna_sequence_acinetobacter_negative_control_peptide_model_0_pdb2gmx.pdb\n",
      "top_file     : molecular_dynamics/dna_sequence_acinetobacter_negative_control_peptide_model_0/dna_sequence_acinetobacter_negative_control_peptide_model_0_pdb2gmx.top\n",
      "nt           : 0\n",
      "ntmpi        : 0\n",
      "sys_history  : 0\n"
     ]
    }
   ],
   "source": [
    "%%script true\n",
    "complex_sys.display()"
   ]
  },
  {
   "cell_type": "code",
   "execution_count": 7,
   "metadata": {
    "execution": {
     "iopub.execute_input": "2025-03-15T11:49:33.328403Z",
     "iopub.status.busy": "2025-03-15T11:49:33.327651Z",
     "iopub.status.idle": "2025-03-15T11:49:33.338322Z",
     "shell.execute_reply": "2025-03-15T11:49:33.337126Z"
    }
   },
   "outputs": [
    {
     "name": "stdout",
     "output_type": "stream",
     "text": [
      "gmx editconf -f molecular_dynamics/dna_sequence_acinetobacter_negative_control_peptide_model_0/dna_sequence_acinetobacter_negative_control_peptide_model_0_pdb2gmx.pdb -o molecular_dynamics/dna_sequence_acinetobacter_negative_control_peptide_model_0/dna_sequence_acinetobacter_negative_control_peptide_model_0_pdb2gmx_box.pdb -bt dodecahedron -d 1.0\n",
      "gmx grompp -f ../../../usr/local/lib/python3.12/site-packages/gromacs_py/gmx/template/mini.mdp -c dna_sequence_acinetobacter_negative_control_peptide_model_0_water.pdb -r dna_sequence_acinetobacter_negative_control_peptide_model_0_water.pdb -p dna_sequence_acinetobacter_negative_control_peptide_model_0_water_ion.top -po out_mini.mdp -o genion_dna_sequence_acinetobacter_negative_control_peptide_model_0_water_ion.tpr -maxwarn 4\n",
      "gmx genion -s genion_dna_sequence_acinetobacter_negative_control_peptide_model_0_water_ion.tpr -p dna_sequence_acinetobacter_negative_control_peptide_model_0_water_ion.top -o dna_sequence_acinetobacter_negative_control_peptide_model_0_water_ion.gro -np 172 -pname NA -nn 108 -nname CL\n",
      "name         : dna_sequence_acinetobacter_negative_control_peptide_model_0\n",
      "sim_name     : genion_dna_sequence_acinetobacter_negative_control_peptide_model_0_water_ion\n",
      "coor_file    : molecular_dynamics/dna_sequence_acinetobacter_negative_control_peptide_model_0/dna_sequence_acinetobacter_negative_control_peptide_model_0_water_ion.gro\n",
      "top_file     : molecular_dynamics/dna_sequence_acinetobacter_negative_control_peptide_model_0/dna_sequence_acinetobacter_negative_control_peptide_model_0_water_ion.top\n",
      "tpr          : molecular_dynamics/dna_sequence_acinetobacter_negative_control_peptide_model_0/genion_dna_sequence_acinetobacter_negative_control_peptide_model_0_water_ion.tpr\n",
      "mdp          : ../usr/local/lib/python3.12/site-packages/gromacs_py/gmx/template/mini.mdp\n",
      "nt           : 0\n",
      "ntmpi        : 0\n",
      "sys_history  : 0\n"
     ]
    }
   ],
   "source": [
    "%%script true\n",
    "complex_sys.create_box(dist=1.0, box_type=\"dodecahedron\", check_file_out=True)\n",
    "complex_sys.solvate_add_ions(out_folder=DATA_OUT, name=sys_name,create_box_flag=False, maxwarn=4)\n",
    "complex_sys.display()"
   ]
  },
  {
   "cell_type": "markdown",
   "metadata": {},
   "source": [
    "## Add index groups\n",
    "\n",
    "Now, we have to add the following index groups: Merge the DNA with the Protein using the shell command\n",
    "\n",
    "```bash\n",
    "gmx make_ndx -f dna_sequence_acinetobacter_negative_control_peptide_model_0_water_ion.gro -o dna_sequence_acinetobacter_negative_control_peptide_model_0_water_ion.ndx\n",
    "```\n",
    "Merge group 1 with group 12 to form `Protein_DNA` group. We can now set temperature control groups to = `Protein_DNA` and `Water_and_ions` later.\n",
    "\n",
    "Finally, add the index file to the `complex_sys` object."
   ]
  },
  {
   "cell_type": "code",
   "execution_count": null,
   "metadata": {
    "execution": {
     "iopub.execute_input": "2025-03-15T11:49:33.343235Z",
     "iopub.status.busy": "2025-03-15T11:49:33.342657Z",
     "iopub.status.idle": "2025-03-15T11:49:33.352387Z",
     "shell.execute_reply": "2025-03-15T11:49:33.351185Z"
    }
   },
   "outputs": [],
   "source": [
    "%%script true\n",
    "complex_sys.add_ndx(\"\",ndx_name=\"dna_sequence_acinetobacter_negative_control_peptide_model_0_water_ion\", folder_out=DATA_OUT)"
   ]
  },
  {
   "cell_type": "markdown",
   "metadata": {},
   "source": [
    "## Energy minimisation\n",
    "\n",
    "Set parallelization and GPU options here. Change them later, if needed."
   ]
  },
  {
   "cell_type": "markdown",
   "metadata": {},
   "source": [
    "## Important Development\n",
    "\n",
    "There was a problem notices after equilibration. Visualization of the equilibration simulation revealed that the B/DA`38/ residue in the DNA strand broke off during energy minimization, possibly due to removing the phosphate radical (it was a terminal base nucleotide).\n",
    "\n",
    "If I retain it, then AMBER topology build fails because terminal base nucleotides aren;t supposed to have phosphate radicals, since they bind to further DNA base nucleotides to continue the sequence.\n",
    "\n",
    "One possible solution is to put position restraints on the DNA molecules during energy minimization. So add to option POSRES'."
   ]
  },
  {
   "cell_type": "code",
   "execution_count": 9,
   "metadata": {
    "execution": {
     "iopub.execute_input": "2025-03-15T11:49:33.357532Z",
     "iopub.status.busy": "2025-03-15T11:49:33.356983Z",
     "iopub.status.idle": "2025-03-15T11:49:33.367402Z",
     "shell.execute_reply": "2025-03-15T11:49:33.365854Z"
    }
   },
   "outputs": [
    {
     "name": "stderr",
     "output_type": "stream",
     "text": [
      "WARNING !!! ADDING unusual parameter : \"emtol\"in the mdp file Init_em_dna_sequence_acinetobacter_negative_control_peptide_model_0.mdp\n",
      "WARNING !!! ADDING unusual parameter : \"emstep\"in the mdp file Init_em_dna_sequence_acinetobacter_negative_control_peptide_model_0.mdp\n"
     ]
    },
    {
     "name": "stdout",
     "output_type": "stream",
     "text": [
      "gmx grompp -f Init_em_dna_sequence_acinetobacter_negative_control_peptide_model_0.mdp -c ../dna_sequence_acinetobacter_negative_control_peptide_model_0_water_ion.gro -r ../dna_sequence_acinetobacter_negative_control_peptide_model_0_water_ion.gro -p ../dna_sequence_acinetobacter_negative_control_peptide_model_0_water_ion.top -po out_Init_em_dna_sequence_acinetobacter_negative_control_peptide_model_0.mdp -o Init_em_dna_sequence_acinetobacter_negative_control_peptide_model_0.tpr -maxwarn 1 -n ../dna_sequence_acinetobacter_negative_control_peptide_model_0_water_ion.ndx\n",
      "gmx mdrun -s Init_em_dna_sequence_acinetobacter_negative_control_peptide_model_0.tpr -deffnm Init_em_dna_sequence_acinetobacter_negative_control_peptide_model_0 -nt 12 -ntmpi 0 -nsteps -2 -nocopyright -gpu_id 0\n"
     ]
    },
    {
     "data": {
      "application/vnd.jupyter.widget-view+json": {
       "model_id": "3c523bbc6b434cb48a3de0a3fdc53242",
       "version_major": 2,
       "version_minor": 0
      },
      "text/plain": [
       "  0%|          | 0/10000 [00:00<?, ?it/s]"
      ]
     },
     "metadata": {},
     "output_type": "display_data"
    },
    {
     "name": "stderr",
     "output_type": "stream",
     "text": [
      "WARNING !!! ADDING unusual parameter : \"emtol\"in the mdp file dna_sequence_acinetobacter_negative_control_peptide_model_0.mdp\n",
      "WARNING !!! ADDING unusual parameter : \"emstep\"in the mdp file dna_sequence_acinetobacter_negative_control_peptide_model_0.mdp\n"
     ]
    },
    {
     "name": "stdout",
     "output_type": "stream",
     "text": [
      "gmx grompp -f dna_sequence_acinetobacter_negative_control_peptide_model_0.mdp -c Init_em_dna_sequence_acinetobacter_negative_control_peptide_model_0.gro -r Init_em_dna_sequence_acinetobacter_negative_control_peptide_model_0.gro -p ../dna_sequence_acinetobacter_negative_control_peptide_model_0_water_ion.top -po out_dna_sequence_acinetobacter_negative_control_peptide_model_0.mdp -o dna_sequence_acinetobacter_negative_control_peptide_model_0.tpr -maxwarn 1 -n ../dna_sequence_acinetobacter_negative_control_peptide_model_0_water_ion.ndx\n",
      "gmx mdrun -s dna_sequence_acinetobacter_negative_control_peptide_model_0.tpr -deffnm dna_sequence_acinetobacter_negative_control_peptide_model_0 -nt 12 -ntmpi 0 -nsteps -2 -nocopyright -gpu_id 0\n"
     ]
    },
    {
     "data": {
      "application/vnd.jupyter.widget-view+json": {
       "model_id": "31387c5ffbbe494a8e767a3ec163a9da",
       "version_major": 2,
       "version_minor": 0
      },
      "text/plain": [
       "  0%|          | 0/10000 [00:00<?, ?it/s]"
      ]
     },
     "metadata": {},
     "output_type": "display_data"
    }
   ],
   "source": [
    "%%script true\n",
    "#Parallelization\n",
    "nthreads = int(os.environ.get('PBS_NCPUS', '12'))\n",
    "\n",
    "#Set Parallelization\n",
    "complex_sys.nt = nthreads\n",
    "#complex_sys.ntmpi = 1\n",
    "complex_sys.gpu_id = '0'\n",
    "\n",
    "complex_sys.em_2_steps(out_folder=em_folder,\n",
    "        no_constr_nsteps=em_step_number,\n",
    "        constr_nsteps=em_step_number,\n",
    "        posres=\"-DPOSRES\",\n",
    "        create_box_flag=False, emtol=emtol, emstep=emstep)"
   ]
  },
  {
   "cell_type": "markdown",
   "metadata": {},
   "source": [
    "## Plot energy:"
   ]
  },
  {
   "cell_type": "code",
   "execution_count": 10,
   "metadata": {
    "execution": {
     "iopub.execute_input": "2025-03-15T11:49:33.371753Z",
     "iopub.status.busy": "2025-03-15T11:49:33.371164Z",
     "iopub.status.idle": "2025-03-15T11:49:33.381266Z",
     "shell.execute_reply": "2025-03-15T11:49:33.379729Z"
    }
   },
   "outputs": [
    {
     "name": "stdout",
     "output_type": "stream",
     "text": [
      "gmx energy -f molecular_dynamics/dna_sequence_acinetobacter_negative_control_peptide_model_0/em/Init_em_dna_sequence_acinetobacter_negative_control_peptide_model_0.edr -o tmp_edr.xvg\n",
      "gmx energy -f molecular_dynamics/dna_sequence_acinetobacter_negative_control_peptide_model_0/em/dna_sequence_acinetobacter_negative_control_peptide_model_0.edr -o tmp_edr.xvg\n"
     ]
    }
   ],
   "source": [
    "%%script true\n",
    "ener_pd_1 = complex_sys.sys_history[-1].get_ener(selection_list=['Potential'])\n",
    "ener_pd_2 = complex_sys.get_ener(selection_list=['Potential'])\n",
    "\n",
    "ener_pd_1['label'] = 'no bond constr'\n",
    "ener_pd_2['label'] = 'bond constr'\n",
    "\n",
    "ener_pd = pd.concat([ener_pd_1, ener_pd_2])\n",
    "\n",
    "ener_pd['Time (ps)'] = np.arange(len(ener_pd))"
   ]
  },
  {
   "cell_type": "code",
   "execution_count": 11,
   "metadata": {
    "execution": {
     "iopub.execute_input": "2025-03-15T11:49:33.385997Z",
     "iopub.status.busy": "2025-03-15T11:49:33.385462Z",
     "iopub.status.idle": "2025-03-15T11:49:33.395927Z",
     "shell.execute_reply": "2025-03-15T11:49:33.394261Z"
    }
   },
   "outputs": [
    {
     "data": {
      "image/png": "[encoded data removed]",
      "text/plain": [
       "<Figure size 640x480 with 1 Axes>"
      ]
     },
     "metadata": {},
     "output_type": "display_data"
    }
   ],
   "source": [
    "%%script true\n",
    "ax = sns.lineplot(x=\"Time (ps)\", y=\"Potential\",\n",
    "        hue=\"label\",\n",
    "        data=ener_pd)\n",
    "ax.set_xlabel('step')\n",
    "ax.set_ylabel('energy (KJ/mol)')\n",
    "plt.grid()"
   ]
  },
  {
   "cell_type": "code",
   "execution_count": null,
   "metadata": {
    "execution": {
     "iopub.execute_input": "2025-03-15T11:49:33.400611Z",
     "iopub.status.busy": "2025-03-15T11:49:33.400047Z",
     "iopub.status.idle": "2025-03-15T11:49:33.409405Z",
     "shell.execute_reply": "2025-03-15T11:49:33.408324Z"
    }
   },
   "outputs": [],
   "source": [
    "%%script true\n",
    "import pickle, datetime\n",
    "chkpt_fname='checkpoint.em_acinetobacter_' + datetime.date.today().strftime(\"%Y%m%d\") + \".pycpt\"\n",
    "with open(chkpt_fname, 'wb') as py_cpt:\n",
    "    pickle.dump(complex_sys, py_cpt)"
   ]
  },
  {
   "cell_type": "markdown",
   "metadata": {},
   "source": [
    "## From here, run in cluster\n",
    "### System minimisation and equilibration\n",
    "\n",
    "Based on `gromacs_py` docs, this is a 3-stage equilibriation process. \n",
    "\n",
    "All three steps seem to be NPT with berendsen coupling and v-rescale for temp coupling. Each step just has different restraints. This does not seem so bad: closer to lab conditions.\n",
    "\n",
    "Since the statistical ensemble is pretty much always NPT, this is different from the Lemkul-lysozyme tutorial at [MDTutorials](http://www.mdtutorials.com/gmx/lysozyme/).\n",
    "\n",
    "**Note:** \n",
    "1. Had to run this on cluster at least. Too slow even in ofc workstn.\n",
    "2. Temperature coupling groups have to be set properly. See [mdtutorials](http://www.mdtutorials.com/gmx/complex/06_equil.html) and [gromacs-py manual](https://gromacs-py.readthedocs.io/en/latest/notebook/01_dna_ligand_ambertools.html#System-equilibration)"
   ]
  },
  {
   "cell_type": "code",
   "execution_count": null,
   "metadata": {
    "execution": {
     "iopub.execute_input": "2025-03-15T11:49:33.414170Z",
     "iopub.status.busy": "2025-03-15T11:49:33.413712Z",
     "iopub.status.idle": "2025-03-15T11:49:33.419758Z",
     "shell.execute_reply": "2025-03-15T11:49:33.418814Z"
    }
   },
   "outputs": [],
   "source": [
    "#%%script true\n",
    "import pickle, datetime\n",
    "chkpt_fname='checkpoint.em_acinetobacter_20250323.pycpt'\n",
    "\n",
    "with open(chkpt_fname, 'rb') as py_cpt:\n",
    "    complex_sys = pickle.load(py_cpt)"
   ]
  },
  {
   "cell_type": "code",
   "execution_count": null,
   "metadata": {
    "execution": {
     "iopub.execute_input": "2025-03-15T11:49:33.424205Z",
     "iopub.status.busy": "2025-03-15T11:49:33.423400Z",
     "iopub.status.idle": "2025-03-15T12:17:11.434151Z",
     "shell.execute_reply": "2025-03-15T12:17:11.432664Z"
    }
   },
   "outputs": [
    {
     "name": "stderr",
     "output_type": "stream",
     "text": [
      "WARNING !!! ADDING unusual parameter : \"iter_num\"in the mdp file equi_HA_dna_sequence_101_peptide_model_0.mdp\n"
     ]
    },
    {
     "name": "stdout",
     "output_type": "stream",
     "text": [
      "gmx grompp -f equi_HA_dna_sequence_101_peptide_model_0.mdp -c ../../em/dna_sequence_85_peptide_model_0.gro -r ../../em/dna_sequence_85_peptide_model_0.gro -p ../../dna_sequence_85_peptide_model_0_water_ion.top -po out_equi_HA_dna_sequence_101_peptide_model_0.mdp -o equi_HA_dna_sequence_101_peptide_model_0.tpr -maxwarn 10 -n ../../dna_sequence_85_peptide_model_0_water_ion.ndx\n"
     ]
    },
    {
     "name": "stdout",
     "output_type": "stream",
     "text": [
      "gmx mdrun -s equi_HA_dna_sequence_101_peptide_model_0.tpr -deffnm equi_HA_dna_sequence_101_peptide_model_0 -nt 32 -ntmpi 0 -nsteps -2 -nocopyright -gpu_id 0\n"
     ]
    },
    {
     "data": {
      "application/vnd.jupyter.widget-view+json": {
       "model_id": "d3b6ecde9db4418c8ae92ad25b8bf7be",
       "version_major": 2,
       "version_minor": 0
      },
      "text/plain": [
       "  0%|          | 0/500000 [00:00<?, ?it/s]"
      ]
     },
     "metadata": {},
     "output_type": "display_data"
    },
    {
     "name": "stderr",
     "output_type": "stream",
     "text": [
      "WARNING !!! ADDING unusual parameter : \"iter_num\"in the mdp file equi_CA_dna_sequence_101_peptide_model_0.mdp\n"
     ]
    },
    {
     "name": "stdout",
     "output_type": "stream",
     "text": [
      "gmx grompp -f equi_CA_dna_sequence_101_peptide_model_0.mdp -c ../00_equi_HA/equi_HA_dna_sequence_101_peptide_model_0.gro -r ../../em/dna_sequence_85_peptide_model_0.gro -p ../../dna_sequence_85_peptide_model_0_water_ion.top -po out_equi_CA_dna_sequence_101_peptide_model_0.mdp -o equi_CA_dna_sequence_101_peptide_model_0.tpr -maxwarn 10 -n ../../dna_sequence_85_peptide_model_0_water_ion.ndx\n"
     ]
    },
    {
     "name": "stdout",
     "output_type": "stream",
     "text": [
      "gmx mdrun -s equi_CA_dna_sequence_101_peptide_model_0.tpr -deffnm equi_CA_dna_sequence_101_peptide_model_0 -nt 32 -ntmpi 0 -nsteps -2 -nocopyright -gpu_id 0\n"
     ]
    },
    {
     "data": {
      "application/vnd.jupyter.widget-view+json": {
       "model_id": "9edbe91cab0a49b08fa66ca03345e903",
       "version_major": 2,
       "version_minor": 0
      },
      "text/plain": [
       "  0%|          | 0/500000 [00:00<?, ?it/s]"
      ]
     },
     "metadata": {},
     "output_type": "display_data"
    },
    {
     "name": "stderr",
     "output_type": "stream",
     "text": [
      "WARNING !!! ADDING unusual parameter : \"iter_num\"in the mdp file equi_CA_LOW_dna_sequence_101_peptide_model_0.mdp\n"
     ]
    },
    {
     "name": "stdout",
     "output_type": "stream",
     "text": [
      "gmx grompp -f equi_CA_LOW_dna_sequence_101_peptide_model_0.mdp -c ../01_equi_CA/equi_CA_dna_sequence_101_peptide_model_0.gro -r ../../em/dna_sequence_85_peptide_model_0.gro -p ../../dna_sequence_85_peptide_model_0_water_ion.top -po out_equi_CA_LOW_dna_sequence_101_peptide_model_0.mdp -o equi_CA_LOW_dna_sequence_101_peptide_model_0.tpr -maxwarn 10 -n ../../dna_sequence_85_peptide_model_0_water_ion.ndx\n"
     ]
    },
    {
     "name": "stdout",
     "output_type": "stream",
     "text": [
      "gmx mdrun -s equi_CA_LOW_dna_sequence_101_peptide_model_0.tpr -deffnm equi_CA_LOW_dna_sequence_101_peptide_model_0 -nt 32 -ntmpi 0 -nsteps -2 -nocopyright -gpu_id 0\n"
     ]
    },
    {
     "data": {
      "application/vnd.jupyter.widget-view+json": {
       "model_id": "123d6228d39a499f80a18bb0cfacee22",
       "version_major": 2,
       "version_minor": 0
      },
      "text/plain": [
       "  0%|          | 0/2000000 [00:00<?, ?it/s]"
      ]
     },
     "metadata": {},
     "output_type": "display_data"
    }
   ],
   "source": [
    "#%%script true\n",
    "#Parallelization\n",
    "nthreads = int(os.environ.get('PBS_NCPUS', '12'))\n",
    "\n",
    "#Set Parallelization\n",
    "complex_sys.nt = nthreads\n",
    "#complex_sys.ntmpi = 1\n",
    "complex_sys.gpu_id = '0'\n",
    "sys_name = 'dna_sequence_acinetobacter_negative_control_peptide_model_0'\n",
    "complex_sys.equi_three_step(out_folder=equi_folder,\n",
    "        name=sys_name,\n",
    "        nsteps_HA=HA_step,  \n",
    "        nsteps_CA=CA_step,\n",
    "        nsteps_CA_LOW=CA_LOW_step,\n",
    "        dt=dt, dt_HA=dt_HA,\n",
    "        tc_grps='Protein_DNA Water_and_ions',\n",
    "        tau_t= '0.1 0.1',\n",
    "        ref_t= '310 310',\n",
    "        vsite='none', maxwarn=10, iter_num=1)"
   ]
  },
  {
   "cell_type": "code",
   "execution_count": null,
   "metadata": {
    "execution": {
     "iopub.execute_input": "2025-03-15T12:17:11.439914Z",
     "iopub.status.busy": "2025-03-15T12:17:11.439162Z",
     "iopub.status.idle": "2025-03-15T12:17:11.449288Z",
     "shell.execute_reply": "2025-03-15T12:17:11.447624Z"
    }
   },
   "outputs": [],
   "source": [
    "#%%script true\n",
    "import pickle, datetime\n",
    "chkpt_fname='checkpoint.equi_acinetobacter_' + datetime.date.today().strftime(\"%Y%m%d\") + \".pycpt\"\n",
    "with open(chkpt_fname, 'wb') as py_cpt:\n",
    "    pickle.dump(complex_sys, py_cpt)"
   ]
  },
  {
   "cell_type": "markdown",
   "metadata": {},
   "source": [
    "### Plot Equilibriation\n",
    "\n",
    "Since the statistical ensemble is pretty much always NPT, this is different from the Lemkul-lysozyme tutorial at [MDTutorials](http://www.mdtutorials.com/gmx/lysozyme/). So we need to see Volume as well as Pressure, temperature, and density."
   ]
  },
  {
   "cell_type": "code",
   "execution_count": null,
   "metadata": {
    "execution": {
     "iopub.execute_input": "2025-03-15T12:17:11.453949Z",
     "iopub.status.busy": "2025-03-15T12:17:11.453427Z",
     "iopub.status.idle": "2025-03-15T12:17:11.464928Z",
     "shell.execute_reply": "2025-03-15T12:17:11.463272Z"
    }
   },
   "outputs": [],
   "source": [
    "%%script true\n",
    "import pickle, datetime\n",
    "chkpt_fname='checkpoint.equi_acinetobacter_20250323.pycpt'\n",
    "\n",
    "with open(chkpt_fname, 'rb') as py_cpt:\n",
    "    complex_sys = pickle.load(py_cpt)"
   ]
  },
  {
   "cell_type": "code",
   "execution_count": null,
   "metadata": {
    "execution": {
     "iopub.execute_input": "2025-03-15T12:17:11.487066Z",
     "iopub.status.busy": "2025-03-15T12:17:11.486472Z",
     "iopub.status.idle": "2025-03-15T12:17:11.689958Z",
     "shell.execute_reply": "2025-03-15T12:17:11.689043Z"
    }
   },
   "outputs": [],
   "source": [
    "#%%script true\n",
    "quantities = [\"Temperature\", \"Pressure\", \"Volume\", \"Density\"]\n",
    "units = [\"$K$\", \"$bar$\", \"$A^3$\", \"$kg/m^3$\"]\n",
    "\n",
    "pd_1 = complex_sys.sys_history[-2].get_ener(selection_list=quantities)\n",
    "pd_2 = complex_sys.sys_history[-1].get_ener(selection_list=quantities)\n",
    "pd_3 = complex_sys.get_ener(selection_list=quantities)\n",
    "\n",
    "pd_1['label'] = 'HA_constr'\n",
    "pd_2['label'] = 'CA_constr'\n",
    "pd_2['Time (ps)'] = pd_2['Time (ps)'] + pd_1['Time (ps)'].max()\n",
    "pd_3['label'] = 'CA_LOW_constr'\n",
    "pd_3['Time (ps)'] = pd_3['Time (ps)'] + pd_2['Time (ps)'].max()\n",
    "\n",
    "display(pd.concat([pd_1, pd_2, pd_3]))"
   ]
  },
  {
   "cell_type": "code",
   "execution_count": null,
   "metadata": {
    "execution": {
     "iopub.execute_input": "2025-03-15T12:17:11.693800Z",
     "iopub.status.busy": "2025-03-15T12:17:11.693606Z",
     "iopub.status.idle": "2025-03-15T12:17:12.460655Z",
     "shell.execute_reply": "2025-03-15T12:17:12.459818Z"
    }
   },
   "outputs": [],
   "source": [
    "#%%script true\n",
    "plt.rcParams.update({'font.size': 22})\n",
    "\n",
    "fig, axs = plt.subplots(4, 1, figsize=(24,13.5), sharex=True, tight_layout=True)\n",
    "\n",
    "for ax, quantity, unit in zip(axs, quantities, units):\n",
    "    for df in (pd_1, pd_2, pd_3):\n",
    "        ax.plot(df[\"Time (ps)\"], df[quantity], label=str(df['label'][0]))\n",
    "        ax.set_ylabel(quantity + \"(\" + unit + \")\")\n",
    "        ax.grid()\n",
    "\n",
    "axs[0].legend()\n",
    "axs[-1].set_xlabel(\"Time (ps)\");"
   ]
  },
  {
   "cell_type": "markdown",
   "metadata": {},
   "source": [
    "Looks okay to me. Fluctuations are high at the end because CA constraints are low, but there is a well-defined average."
   ]
  },
  {
   "cell_type": "markdown",
   "metadata": {},
   "source": [
    "### Plot RMSD"
   ]
  },
  {
   "cell_type": "code",
   "execution_count": null,
   "metadata": {
    "execution": {
     "iopub.execute_input": "2025-03-15T12:17:12.474007Z",
     "iopub.status.busy": "2025-03-15T12:17:12.473478Z",
     "iopub.status.idle": "2025-03-15T12:17:15.194069Z",
     "shell.execute_reply": "2025-03-15T12:17:15.192483Z"
    }
   },
   "outputs": [],
   "source": [
    "#%%script true\n",
    "# Define reference structure for RMSD calculation\n",
    "ref_sys =  complex_sys.sys_history[1]\n",
    "struct=\"Protein\"\n",
    "\n",
    "rmsd_pd_1 = complex_sys.sys_history[-2].get_rmsd([struct, struct], ref_sys=ref_sys)\n",
    "rmsd_pd_2 = complex_sys.sys_history[-1].get_rmsd([struct, struct], ref_sys=ref_sys)\n",
    "rmsd_pd_3 = complex_sys.get_rmsd([struct, struct], ref_sys=ref_sys)\n",
    "\n",
    "\n",
    "rmsd_pd_1['label'] = 'HA_constr'\n",
    "rmsd_pd_2['label'] = 'CA_constr'\n",
    "rmsd_pd_2['time'] = rmsd_pd_2['time'] + rmsd_pd_1['time'].max()\n",
    "rmsd_pd_3['label'] = 'CA_LOW_constr'\n",
    "rmsd_pd_3['time'] = rmsd_pd_3['time'] + rmsd_pd_2['time'].max()\n",
    "\n",
    "display(pd.concat([rmsd_pd_1, rmsd_pd_2, rmsd_pd_3]))\n"
   ]
  },
  {
   "cell_type": "code",
   "execution_count": null,
   "metadata": {
    "execution": {
     "iopub.execute_input": "2025-03-15T12:17:15.199472Z",
     "iopub.status.busy": "2025-03-15T12:17:15.198866Z",
     "iopub.status.idle": "2025-03-15T12:17:15.512725Z",
     "shell.execute_reply": "2025-03-15T12:17:15.512161Z"
    }
   },
   "outputs": [],
   "source": [
    "#%%script true\n",
    "fig, ax = plt.subplots(1, 1, figsize=(24,13.5))\n",
    "\n",
    "for df in (rmsd_pd_1, rmsd_pd_2, rmsd_pd_3):\n",
    "        ax.plot(df[\"time\"], df[\"Protein\"], label=str(df['label'][0]))\n",
    "        \n",
    "ax.set_title(struct)\n",
    "ax.set_ylabel('RMSD (nm)')\n",
    "ax.set_xlabel('Time (ps)')\n",
    "plt.grid()"
   ]
  },
  {
   "cell_type": "markdown",
   "metadata": {},
   "source": [
    "### Prepare Equilibration Trajectories for Viewing \n",
    "\n",
    "Do this by removing artefacts (centering) and smoothening rotational and translational degrees of freedom.\n",
    "\n",
    "Solutions:\n",
    "\n",
    "1. [https://gromacs.bioexcel.eu/t/issue-with-correcting-pbc-for-dna-separation-in-gromacs/11013]\n",
    "2. [https://gromacs.bioexcel.eu/t/fix-two-separate-dna-strands-after-simulation-using-pbc-cluster/9704]\n",
    "3. [https://mailman-1.sys.kth.se/pipermail/gromacs.org_gmx-users/2018-April/120016.html]\n",
    "\n",
    "\n",
    "### Center trajectories as follows:\n",
    "\n",
    "There is a common problem here in that the DNA strands aren't linked by covalent bonds, so PBC might pull them apart into adjacent boxes.\n",
    "\n",
    "Solution is [here](https://gromacs.bioexcel.eu/t/issue-with-correcting-pbc-for-dna-separation-in-gromacs/11013). Implemented in workflow below.\n",
    "\n",
    "Choose Protein_DNA for all selections\n",
    "    \n",
    "```bash\n",
    "\n",
    "$ export fname=equi_HA_dna_sequence_101_peptide_model_0\n",
    "\n",
    "$ gmx trjconv -pbc mol -f ${fname}.xtc -o ${fname}_mol.xtc -s ${fname}.tpr -n ../../dna_sequence_101_peptide_model_0_water_ion.ndx\n",
    "$ gmx trjconv -center -ur compact -f ${fname}_mol.xtc -o ${fname}_mol_compact.xtc -s ${fname}.tpr -n ../../dna_sequence_101_peptide_model_0_water_ion.ndx\n",
    "$ gmx trjconv -fit rot+trans -f ${fname}_mol_compact.xtc -o ${fname}_mol_compact_compact.xtc -s ${fname}.tpr -n ../../dna_sequence_101_peptide_model_0_water_ion.ndx\n",
    "$ gmx trjconv -dump 0 -f ${fname}_mol_compact.xtc -o start.pdb-s ${fname}.tpr -n ../../dna_sequence_101_peptide_model_0_water_ion.ndx\n",
    "\n",
    "```\n",
    "\n",
    "Repeat for all other equilibrating trajectories as needed.\n",
    "\n",
    "**Note:** Everything described above is implemented below in python now. Check out the next few cells:"
   ]
  },
  {
   "cell_type": "markdown",
   "metadata": {},
   "source": [
    "### Prepare latest trajectories"
   ]
  },
  {
   "cell_type": "code",
   "execution_count": null,
   "metadata": {
    "execution": {
     "iopub.execute_input": "2025-03-15T12:17:15.524193Z",
     "iopub.status.busy": "2025-03-15T12:17:15.523951Z",
     "iopub.status.idle": "2025-03-15T12:17:21.112258Z",
     "shell.execute_reply": "2025-03-15T12:17:21.110695Z"
    }
   },
   "outputs": [],
   "source": [
    "#%%script true\n",
    "complex_sys.convert_trj(select='Protein_DNA\\nProtein_DNA', pbc='mol')\n",
    "complex_sys.convert_trj(select='Protein_DNA\\nProtein_DNA', fit='rot+trans', pbc='none')"
   ]
  },
  {
   "cell_type": "markdown",
   "metadata": {},
   "source": [
    "### Prepare the last two sets of trajectories"
   ]
  },
  {
   "cell_type": "code",
   "execution_count": null,
   "metadata": {
    "execution": {
     "iopub.execute_input": "2025-03-15T12:17:21.117896Z",
     "iopub.status.busy": "2025-03-15T12:17:21.117278Z",
     "iopub.status.idle": "2025-03-15T12:17:22.720498Z",
     "shell.execute_reply": "2025-03-15T12:17:22.718784Z"
    }
   },
   "outputs": [],
   "source": [
    "#%%script true\n",
    "complex_sys.sys_history[-1].convert_trj(select='Protein_DNA\\nProtein_DNA', pbc='mol')\n",
    "complex_sys.sys_history[-1].convert_trj(select='Protein_DNA\\nProtein_DNA', fit='rot+trans', pbc='none')"
   ]
  },
  {
   "cell_type": "code",
   "execution_count": null,
   "metadata": {
    "execution": {
     "iopub.execute_input": "2025-03-15T12:17:22.726166Z",
     "iopub.status.busy": "2025-03-15T12:17:22.725403Z",
     "iopub.status.idle": "2025-03-15T12:17:24.331014Z",
     "shell.execute_reply": "2025-03-15T12:17:24.329350Z"
    }
   },
   "outputs": [],
   "source": [
    "#%%script true\n",
    "complex_sys.sys_history[-2].convert_trj(select='Protein_DNA\\nProtein_DNA', pbc='mol')\n",
    "complex_sys.sys_history[-2].convert_trj(select='Protein_DNA\\nProtein_DNA', fit='rot+trans', pbc='none')"
   ]
  },
  {
   "cell_type": "markdown",
   "metadata": {},
   "source": [
    "### Extract Initial Condition as PDB"
   ]
  },
  {
   "cell_type": "code",
   "execution_count": null,
   "metadata": {
    "execution": {
     "iopub.execute_input": "2025-03-15T12:17:24.336913Z",
     "iopub.status.busy": "2025-03-15T12:17:24.336257Z",
     "iopub.status.idle": "2025-03-15T12:17:24.447388Z",
     "shell.execute_reply": "2025-03-15T12:17:24.445855Z"
    }
   },
   "outputs": [],
   "source": [
    "#%%script true\n",
    "import os\n",
    "\n",
    "file_dir = os.path.dirname(complex_sys.sys_history[-2].coor_file)\n",
    "complex_sys.sys_history[-2].convert_trj(select='Protein_DNA\\nProtein_DNA', specific_coor_out=file_dir+\"/start.pdb\", dump=\"0\")"
   ]
  },
  {
   "cell_type": "markdown",
   "metadata": {},
   "source": [
    "## Production MD \n",
    "\n",
    "tc-coupling groups are required here as well. See [gromacs-py manual](https://gromacs-py.readthedocs.io/en/latest/notebook/01_dna_ligand_ambertools.html#Production)"
   ]
  },
  {
   "cell_type": "code",
   "execution_count": null,
   "metadata": {
    "execution": {
     "iopub.execute_input": "2025-03-15T12:17:24.453211Z",
     "iopub.status.busy": "2025-03-15T12:17:24.452471Z",
     "iopub.status.idle": "2025-03-15T12:17:24.464424Z",
     "shell.execute_reply": "2025-03-15T12:17:24.462971Z"
    }
   },
   "outputs": [],
   "source": [
    "%%script true\n",
    "import pickle, datetime\n",
    "chkpt_fname='checkpoint.equi_acinetobacter_20250323.pycpt'\n",
    "\n",
    "with open(chkpt_fname, 'rb') as py_cpt:\n",
    "    complex_sys = pickle.load(py_cpt)"
   ]
  },
  {
   "cell_type": "code",
   "execution_count": 36,
   "metadata": {
    "execution": {
     "iopub.execute_input": "2025-03-15T12:17:24.470206Z",
     "iopub.status.busy": "2025-03-15T12:17:24.469213Z",
     "iopub.status.idle": "2025-03-15T12:17:24.480836Z",
     "shell.execute_reply": "2025-03-15T12:17:24.479280Z"
    }
   },
   "outputs": [],
   "source": [
    "%%script true\n",
    "#Parallelization\n",
    "nthreads = int(os.environ.get('PBS_NCPUS', '12'))\n",
    "\n",
    "#Set Parallelization\n",
    "complex_sys.nt = nthreads\n",
    "#complex_sys.ntmpi = 1\n",
    "complex_sys.gpu_id = '0'\n",
    "\n",
    "complex_sys.production(out_folder=prod_folder,\n",
    "        nsteps=prod_step,\n",
    "        tc_grps='Protein_DNA Water_and_ions',\n",
    "        tau_t= '0.1 0.1',\n",
    "        ref_t= '310 310',\n",
    "        dt=dt, vsite='none', maxwarn=1, nstlist=200)"
   ]
  },
  {
   "cell_type": "markdown",
   "metadata": {},
   "source": [
    "## Checkpointing for extending\n"
   ]
  },
  {
   "cell_type": "code",
   "execution_count": null,
   "metadata": {
    "execution": {
     "iopub.execute_input": "2025-03-15T12:17:24.486094Z",
     "iopub.status.busy": "2025-03-15T12:17:24.485489Z",
     "iopub.status.idle": "2025-03-15T12:17:24.497225Z",
     "shell.execute_reply": "2025-03-15T12:17:24.495674Z"
    }
   },
   "outputs": [],
   "source": [
    "%%script true\n",
    "import pickle, datetime\n",
    "chkpt_fname='checkpoint.prod_acinetobacter_' + datetime.date.today().strftime(\"%Y%m%d\") + '.pycpt'\n",
    "with open(chkpt_fname, 'wb') as py_cpt:\n",
    "    pickle.dump(complex_sys, py_cpt)"
   ]
  },
  {
   "cell_type": "markdown",
   "metadata": {},
   "source": [
    "## Post-Production"
   ]
  },
  {
   "cell_type": "code",
   "execution_count": null,
   "metadata": {},
   "outputs": [],
   "source": [
    "%%script true\n",
    "import pickle, datetime\n",
    "chkpt_fname='checkpoint.prod_pseudomonas_20250323.pycpt'\n",
    "\n",
    "with open(chkpt_fname, 'rb') as py_cpt:\n",
    "    complex_sys = pickle.load(py_cpt)"
   ]
  },
  {
   "cell_type": "markdown",
   "metadata": {},
   "source": [
    "### Prepare Production Trajectory for Viewing"
   ]
  },
  {
   "cell_type": "markdown",
   "metadata": {},
   "source": [
    "## Final Steps\n",
    "As in any simulation conducted with periodic boundary conditions, molecules may appear \"broken\" or may \"jump\" back and forth across the box. To recenter the protein and rewrap the molecules within the unit cell to recover the desired box shape, invoke trjconv. \n",
    "\n",
    "Choose \"Protein_DNA\" for centering and \"Protein_DNA\" (prot and ligand selection) for output."
   ]
  },
  {
   "cell_type": "markdown",
   "metadata": {},
   "source": [
    "**Note:** Try different commented options until one of them works."
   ]
  },
  {
   "cell_type": "code",
   "execution_count": null,
   "metadata": {},
   "outputs": [],
   "source": [
    "%%script true\n",
    "complex_sys.center_mol_box(traj=True)\n",
    "complex_sys.add_ndx(\"\",ndx_name=\"dna_sequence_85_peptide_model_0_water_ion\", folder_out=DATA_OUT)\n",
    "#complex_sys.convert_trj(select='Protein_DNA\\nProtein_DNA', pbc='whole')\n",
    "#complex_sys.convert_trj(select='Protein_DNA\\nProtein_DNA', pbc='mol')\n",
    "complex_sys.convert_trj(select='Protein_DNA\\nProtein_DNA', pbc='cluster')\n",
    "complex_sys.convert_trj(select='Protein_DNA\\nProtein_DNA', fit='rot+trans', pbc='none')"
   ]
  },
  {
   "cell_type": "markdown",
   "metadata": {},
   "source": [
    "#### Extract production initial condition\n",
    "Optionally, extract the first frame of the final prod traj (latest from history, as the running one got updated) into a `pdb` for loading into post processing."
   ]
  },
  {
   "cell_type": "code",
   "execution_count": null,
   "metadata": {},
   "outputs": [],
   "source": [
    "%%script true\n",
    "import os\n",
    "file_dir = os.path.dirname(complex_sys.coor_file)\n",
    "complex_sys.convert_trj(select='Protein_DNA\\nProtein_DNA', specific_coor_out=file_dir+\"/prod_start.pdb\", dump=\"0\")"
   ]
  }
 ],
 "metadata": {
  "kernelspec": {
   "display_name": "Python 3 (ipykernel)",
   "language": "python",
   "name": "python3"
  },
  "language_info": {
   "codemirror_mode": {
    "name": "ipython",
    "version": 3
   },
   "file_extension": ".py",
   "mimetype": "text/x-python",
   "name": "python",
   "nbconvert_exporter": "python",
   "pygments_lexer": "ipython3",
   "version": "3.12.8"
  },
  "widgets": {
   "application/vnd.jupyter.widget-state+json": {
    "state": {
     "0328eef32b864e59bcbf2579085cdfd1": {
      "model_module": "@jupyter-widgets/base",
      "model_module_version": "2.0.0",
      "model_name": "LayoutModel",
      "state": {
       "_model_module": "@jupyter-widgets/base",
       "_model_module_version": "2.0.0",
       "_model_name": "LayoutModel",
       "_view_count": null,
       "_view_module": "@jupyter-widgets/base",
       "_view_module_version": "2.0.0",
       "_view_name": "LayoutView",
       "align_content": null,
       "align_items": null,
       "align_self": null,
       "border_bottom": null,
       "border_left": null,
       "border_right": null,
       "border_top": null,
       "bottom": null,
       "display": null,
       "flex": null,
       "flex_flow": null,
       "grid_area": null,
       "grid_auto_columns": null,
       "grid_auto_flow": null,
       "grid_auto_rows": null,
       "grid_column": null,
       "grid_gap": null,
       "grid_row": null,
       "grid_template_areas": null,
       "grid_template_columns": null,
       "grid_template_rows": null,
       "height": null,
       "justify_content": null,
       "justify_items": null,
       "left": null,
       "margin": null,
       "max_height": null,
       "max_width": null,
       "min_height": null,
       "min_width": null,
       "object_fit": null,
       "object_position": null,
       "order": null,
       "overflow": null,
       "padding": null,
       "right": null,
       "top": null,
       "visibility": null,
       "width": null
      }
     },
     "03968c60762e49c9b5fcbf3aa88afb65": {
      "model_module": "@jupyter-widgets/base",
      "model_module_version": "2.0.0",
      "model_name": "LayoutModel",
      "state": {
       "_model_module": "@jupyter-widgets/base",
       "_model_module_version": "2.0.0",
       "_model_name": "LayoutModel",
       "_view_count": null,
       "_view_module": "@jupyter-widgets/base",
       "_view_module_version": "2.0.0",
       "_view_name": "LayoutView",
       "align_content": null,
       "align_items": null,
       "align_self": null,
       "border_bottom": null,
       "border_left": null,
       "border_right": null,
       "border_top": null,
       "bottom": null,
       "display": null,
       "flex": null,
       "flex_flow": null,
       "grid_area": null,
       "grid_auto_columns": null,
       "grid_auto_flow": null,
       "grid_auto_rows": null,
       "grid_column": null,
       "grid_gap": null,
       "grid_row": null,
       "grid_template_areas": null,
       "grid_template_columns": null,
       "grid_template_rows": null,
       "height": null,
       "justify_content": null,
       "justify_items": null,
       "left": null,
       "margin": null,
       "max_height": null,
       "max_width": null,
       "min_height": null,
       "min_width": null,
       "object_fit": null,
       "object_position": null,
       "order": null,
       "overflow": null,
       "padding": null,
       "right": null,
       "top": null,
       "visibility": null,
       "width": null
      }
     },
     "086eec9efec04df7aedfa62d8a578b67": {
      "model_module": "@jupyter-widgets/base",
      "model_module_version": "2.0.0",
      "model_name": "LayoutModel",
      "state": {
       "_model_module": "@jupyter-widgets/base",
       "_model_module_version": "2.0.0",
       "_model_name": "LayoutModel",
       "_view_count": null,
       "_view_module": "@jupyter-widgets/base",
       "_view_module_version": "2.0.0",
       "_view_name": "LayoutView",
       "align_content": null,
       "align_items": null,
       "align_self": null,
       "border_bottom": null,
       "border_left": null,
       "border_right": null,
       "border_top": null,
       "bottom": null,
       "display": null,
       "flex": null,
       "flex_flow": null,
       "grid_area": null,
       "grid_auto_columns": null,
       "grid_auto_flow": null,
       "grid_auto_rows": null,
       "grid_column": null,
       "grid_gap": null,
       "grid_row": null,
       "grid_template_areas": null,
       "grid_template_columns": null,
       "grid_template_rows": null,
       "height": null,
       "justify_content": null,
       "justify_items": null,
       "left": null,
       "margin": null,
       "max_height": null,
       "max_width": null,
       "min_height": null,
       "min_width": null,
       "object_fit": null,
       "object_position": null,
       "order": null,
       "overflow": null,
       "padding": null,
       "right": null,
       "top": null,
       "visibility": null,
       "width": null
      }
     },
     "0ee83c033cfb4a3c95d6cc38d738ff49": {
      "model_module": "@jupyter-widgets/controls",
      "model_module_version": "2.0.0",
      "model_name": "ProgressStyleModel",
      "state": {
       "_model_module": "@jupyter-widgets/controls",
       "_model_module_version": "2.0.0",
       "_model_name": "ProgressStyleModel",
       "_view_count": null,
       "_view_module": "@jupyter-widgets/base",
       "_view_module_version": "2.0.0",
       "_view_name": "StyleView",
       "bar_color": null,
       "description_width": ""
      }
     },
     "123d6228d39a499f80a18bb0cfacee22": {
      "model_module": "@jupyter-widgets/controls",
      "model_module_version": "2.0.0",
      "model_name": "HBoxModel",
      "state": {
       "_dom_classes": [],
       "_model_module": "@jupyter-widgets/controls",
       "_model_module_version": "2.0.0",
       "_model_name": "HBoxModel",
       "_view_count": null,
       "_view_module": "@jupyter-widgets/controls",
       "_view_module_version": "2.0.0",
       "_view_name": "HBoxView",
       "box_style": "",
       "children": [
        "IPY_MODEL_d2b0dd79f1544d2d9e2c540fdd46d9b3",
        "IPY_MODEL_e496fb08fba548019bb6a2331ba46776",
        "IPY_MODEL_1ae485b6f04c4056962281d54e744f6c"
       ],
       "layout": "IPY_MODEL_0328eef32b864e59bcbf2579085cdfd1",
       "tabbable": null,
       "tooltip": null
      }
     },
     "18fc82f7b8f149428c16095fb6ce4d35": {
      "model_module": "@jupyter-widgets/controls",
      "model_module_version": "2.0.0",
      "model_name": "HTMLStyleModel",
      "state": {
       "_model_module": "@jupyter-widgets/controls",
       "_model_module_version": "2.0.0",
       "_model_name": "HTMLStyleModel",
       "_view_count": null,
       "_view_module": "@jupyter-widgets/base",
       "_view_module_version": "2.0.0",
       "_view_name": "StyleView",
       "background": null,
       "description_width": "",
       "font_size": null,
       "text_color": null
      }
     },
     "1ae485b6f04c4056962281d54e744f6c": {
      "model_module": "@jupyter-widgets/controls",
      "model_module_version": "2.0.0",
      "model_name": "HTMLModel",
      "state": {
       "_dom_classes": [],
       "_model_module": "@jupyter-widgets/controls",
       "_model_module_version": "2.0.0",
       "_model_name": "HTMLModel",
       "_view_count": null,
       "_view_module": "@jupyter-widgets/controls",
       "_view_module_version": "2.0.0",
       "_view_name": "HTMLView",
       "description": "",
       "description_allow_html": false,
       "layout": "IPY_MODEL_086eec9efec04df7aedfa62d8a578b67",
       "placeholder": "​",
       "style": "IPY_MODEL_52410cfeec174765a091018666461d39",
       "tabbable": null,
       "tooltip": null,
       "value": " 2000000/2000000 [18:24&lt;00:00, 1738.62it/s]"
      }
     },
     "1e40be904cc042e99ed13cccfcb97c08": {
      "model_module": "@jupyter-widgets/base",
      "model_module_version": "2.0.0",
      "model_name": "LayoutModel",
      "state": {
       "_model_module": "@jupyter-widgets/base",
       "_model_module_version": "2.0.0",
       "_model_name": "LayoutModel",
       "_view_count": null,
       "_view_module": "@jupyter-widgets/base",
       "_view_module_version": "2.0.0",
       "_view_name": "LayoutView",
       "align_content": null,
       "align_items": null,
       "align_self": null,
       "border_bottom": null,
       "border_left": null,
       "border_right": null,
       "border_top": null,
       "bottom": null,
       "display": null,
       "flex": null,
       "flex_flow": null,
       "grid_area": null,
       "grid_auto_columns": null,
       "grid_auto_flow": null,
       "grid_auto_rows": null,
       "grid_column": null,
       "grid_gap": null,
       "grid_row": null,
       "grid_template_areas": null,
       "grid_template_columns": null,
       "grid_template_rows": null,
       "height": null,
       "justify_content": null,
       "justify_items": null,
       "left": null,
       "margin": null,
       "max_height": null,
       "max_width": null,
       "min_height": null,
       "min_width": null,
       "object_fit": null,
       "object_position": null,
       "order": null,
       "overflow": null,
       "padding": null,
       "right": null,
       "top": null,
       "visibility": null,
       "width": null
      }
     },
     "28c21f94202a40a7882e8457db4a2e7b": {
      "model_module": "@jupyter-widgets/controls",
      "model_module_version": "2.0.0",
      "model_name": "HTMLModel",
      "state": {
       "_dom_classes": [],
       "_model_module": "@jupyter-widgets/controls",
       "_model_module_version": "2.0.0",
       "_model_name": "HTMLModel",
       "_view_count": null,
       "_view_module": "@jupyter-widgets/controls",
       "_view_module_version": "2.0.0",
       "_view_name": "HTMLView",
       "description": "",
       "description_allow_html": false,
       "layout": "IPY_MODEL_b57ca2f32c7541158ee3f5964fb4dadc",
       "placeholder": "​",
       "style": "IPY_MODEL_5daac186c9974507a0d4cf35dd1d9303",
       "tabbable": null,
       "tooltip": null,
       "value": "100%"
      }
     },
     "28ebbc1a4ee240daacc56f069f8a5d48": {
      "model_module": "@jupyter-widgets/base",
      "model_module_version": "2.0.0",
      "model_name": "LayoutModel",
      "state": {
       "_model_module": "@jupyter-widgets/base",
       "_model_module_version": "2.0.0",
       "_model_name": "LayoutModel",
       "_view_count": null,
       "_view_module": "@jupyter-widgets/base",
       "_view_module_version": "2.0.0",
       "_view_name": "LayoutView",
       "align_content": null,
       "align_items": null,
       "align_self": null,
       "border_bottom": null,
       "border_left": null,
       "border_right": null,
       "border_top": null,
       "bottom": null,
       "display": null,
       "flex": null,
       "flex_flow": null,
       "grid_area": null,
       "grid_auto_columns": null,
       "grid_auto_flow": null,
       "grid_auto_rows": null,
       "grid_column": null,
       "grid_gap": null,
       "grid_row": null,
       "grid_template_areas": null,
       "grid_template_columns": null,
       "grid_template_rows": null,
       "height": null,
       "justify_content": null,
       "justify_items": null,
       "left": null,
       "margin": null,
       "max_height": null,
       "max_width": null,
       "min_height": null,
       "min_width": null,
       "object_fit": null,
       "object_position": null,
       "order": null,
       "overflow": null,
       "padding": null,
       "right": null,
       "top": null,
       "visibility": null,
       "width": null
      }
     },
     "2b84174349ee40cf95b26731ee516b2e": {
      "model_module": "@jupyter-widgets/controls",
      "model_module_version": "2.0.0",
      "model_name": "ProgressStyleModel",
      "state": {
       "_model_module": "@jupyter-widgets/controls",
       "_model_module_version": "2.0.0",
       "_model_name": "ProgressStyleModel",
       "_view_count": null,
       "_view_module": "@jupyter-widgets/base",
       "_view_module_version": "2.0.0",
       "_view_name": "StyleView",
       "bar_color": null,
       "description_width": ""
      }
     },
     "30d322cc0de94439924cfa21b74f8e86": {
      "model_module": "@jupyter-widgets/base",
      "model_module_version": "2.0.0",
      "model_name": "LayoutModel",
      "state": {
       "_model_module": "@jupyter-widgets/base",
       "_model_module_version": "2.0.0",
       "_model_name": "LayoutModel",
       "_view_count": null,
       "_view_module": "@jupyter-widgets/base",
       "_view_module_version": "2.0.0",
       "_view_name": "LayoutView",
       "align_content": null,
       "align_items": null,
       "align_self": null,
       "border_bottom": null,
       "border_left": null,
       "border_right": null,
       "border_top": null,
       "bottom": null,
       "display": null,
       "flex": null,
       "flex_flow": null,
       "grid_area": null,
       "grid_auto_columns": null,
       "grid_auto_flow": null,
       "grid_auto_rows": null,
       "grid_column": null,
       "grid_gap": null,
       "grid_row": null,
       "grid_template_areas": null,
       "grid_template_columns": null,
       "grid_template_rows": null,
       "height": null,
       "justify_content": null,
       "justify_items": null,
       "left": null,
       "margin": null,
       "max_height": null,
       "max_width": null,
       "min_height": null,
       "min_width": null,
       "object_fit": null,
       "object_position": null,
       "order": null,
       "overflow": null,
       "padding": null,
       "right": null,
       "top": null,
       "visibility": null,
       "width": null
      }
     },
     "52410cfeec174765a091018666461d39": {
      "model_module": "@jupyter-widgets/controls",
      "model_module_version": "2.0.0",
      "model_name": "HTMLStyleModel",
      "state": {
       "_model_module": "@jupyter-widgets/controls",
       "_model_module_version": "2.0.0",
       "_model_name": "HTMLStyleModel",
       "_view_count": null,
       "_view_module": "@jupyter-widgets/base",
       "_view_module_version": "2.0.0",
       "_view_name": "StyleView",
       "background": null,
       "description_width": "",
       "font_size": null,
       "text_color": null
      }
     },
     "5daac186c9974507a0d4cf35dd1d9303": {
      "model_module": "@jupyter-widgets/controls",
      "model_module_version": "2.0.0",
      "model_name": "HTMLStyleModel",
      "state": {
       "_model_module": "@jupyter-widgets/controls",
       "_model_module_version": "2.0.0",
       "_model_name": "HTMLStyleModel",
       "_view_count": null,
       "_view_module": "@jupyter-widgets/base",
       "_view_module_version": "2.0.0",
       "_view_name": "StyleView",
       "background": null,
       "description_width": "",
       "font_size": null,
       "text_color": null
      }
     },
     "8394680a1e304af68317b948da2a64c6": {
      "model_module": "@jupyter-widgets/controls",
      "model_module_version": "2.0.0",
      "model_name": "FloatProgressModel",
      "state": {
       "_dom_classes": [],
       "_model_module": "@jupyter-widgets/controls",
       "_model_module_version": "2.0.0",
       "_model_name": "FloatProgressModel",
       "_view_count": null,
       "_view_module": "@jupyter-widgets/controls",
       "_view_module_version": "2.0.0",
       "_view_name": "ProgressView",
       "bar_style": "success",
       "description": "",
       "description_allow_html": false,
       "layout": "IPY_MODEL_1e40be904cc042e99ed13cccfcb97c08",
       "max": 500000,
       "min": 0,
       "orientation": "horizontal",
       "style": "IPY_MODEL_2b84174349ee40cf95b26731ee516b2e",
       "tabbable": null,
       "tooltip": null,
       "value": 500000
      }
     },
     "86b89c988dee4071ae2850cb0f22726c": {
      "model_module": "@jupyter-widgets/controls",
      "model_module_version": "2.0.0",
      "model_name": "HTMLStyleModel",
      "state": {
       "_model_module": "@jupyter-widgets/controls",
       "_model_module_version": "2.0.0",
       "_model_name": "HTMLStyleModel",
       "_view_count": null,
       "_view_module": "@jupyter-widgets/base",
       "_view_module_version": "2.0.0",
       "_view_name": "StyleView",
       "background": null,
       "description_width": "",
       "font_size": null,
       "text_color": null
      }
     },
     "91e006bd1aa64a1da0152be8540aee4a": {
      "model_module": "@jupyter-widgets/base",
      "model_module_version": "2.0.0",
      "model_name": "LayoutModel",
      "state": {
       "_model_module": "@jupyter-widgets/base",
       "_model_module_version": "2.0.0",
       "_model_name": "LayoutModel",
       "_view_count": null,
       "_view_module": "@jupyter-widgets/base",
       "_view_module_version": "2.0.0",
       "_view_name": "LayoutView",
       "align_content": null,
       "align_items": null,
       "align_self": null,
       "border_bottom": null,
       "border_left": null,
       "border_right": null,
       "border_top": null,
       "bottom": null,
       "display": null,
       "flex": null,
       "flex_flow": null,
       "grid_area": null,
       "grid_auto_columns": null,
       "grid_auto_flow": null,
       "grid_auto_rows": null,
       "grid_column": null,
       "grid_gap": null,
       "grid_row": null,
       "grid_template_areas": null,
       "grid_template_columns": null,
       "grid_template_rows": null,
       "height": null,
       "justify_content": null,
       "justify_items": null,
       "left": null,
       "margin": null,
       "max_height": null,
       "max_width": null,
       "min_height": null,
       "min_width": null,
       "object_fit": null,
       "object_position": null,
       "order": null,
       "overflow": null,
       "padding": null,
       "right": null,
       "top": null,
       "visibility": null,
       "width": null
      }
     },
     "93193a44f7ae4549a3548d3ffbd20cd2": {
      "model_module": "@jupyter-widgets/base",
      "model_module_version": "2.0.0",
      "model_name": "LayoutModel",
      "state": {
       "_model_module": "@jupyter-widgets/base",
       "_model_module_version": "2.0.0",
       "_model_name": "LayoutModel",
       "_view_count": null,
       "_view_module": "@jupyter-widgets/base",
       "_view_module_version": "2.0.0",
       "_view_name": "LayoutView",
       "align_content": null,
       "align_items": null,
       "align_self": null,
       "border_bottom": null,
       "border_left": null,
       "border_right": null,
       "border_top": null,
       "bottom": null,
       "display": null,
       "flex": null,
       "flex_flow": null,
       "grid_area": null,
       "grid_auto_columns": null,
       "grid_auto_flow": null,
       "grid_auto_rows": null,
       "grid_column": null,
       "grid_gap": null,
       "grid_row": null,
       "grid_template_areas": null,
       "grid_template_columns": null,
       "grid_template_rows": null,
       "height": null,
       "justify_content": null,
       "justify_items": null,
       "left": null,
       "margin": null,
       "max_height": null,
       "max_width": null,
       "min_height": null,
       "min_width": null,
       "object_fit": null,
       "object_position": null,
       "order": null,
       "overflow": null,
       "padding": null,
       "right": null,
       "top": null,
       "visibility": null,
       "width": null
      }
     },
     "9575ff58fdbc48738c9942598d029e30": {
      "model_module": "@jupyter-widgets/controls",
      "model_module_version": "2.0.0",
      "model_name": "HTMLStyleModel",
      "state": {
       "_model_module": "@jupyter-widgets/controls",
       "_model_module_version": "2.0.0",
       "_model_name": "HTMLStyleModel",
       "_view_count": null,
       "_view_module": "@jupyter-widgets/base",
       "_view_module_version": "2.0.0",
       "_view_name": "StyleView",
       "background": null,
       "description_width": "",
       "font_size": null,
       "text_color": null
      }
     },
     "9edbe91cab0a49b08fa66ca03345e903": {
      "model_module": "@jupyter-widgets/controls",
      "model_module_version": "2.0.0",
      "model_name": "HBoxModel",
      "state": {
       "_dom_classes": [],
       "_model_module": "@jupyter-widgets/controls",
       "_model_module_version": "2.0.0",
       "_model_name": "HBoxModel",
       "_view_count": null,
       "_view_module": "@jupyter-widgets/controls",
       "_view_module_version": "2.0.0",
       "_view_name": "HBoxView",
       "box_style": "",
       "children": [
        "IPY_MODEL_c6a55c7dab344d1ea37278e746c1c940",
        "IPY_MODEL_8394680a1e304af68317b948da2a64c6",
        "IPY_MODEL_af369071b10546c1beae029202ab0361"
       ],
       "layout": "IPY_MODEL_93193a44f7ae4549a3548d3ffbd20cd2",
       "tabbable": null,
       "tooltip": null
      }
     },
     "a12de06a728045e39764f8f284bbf904": {
      "model_module": "@jupyter-widgets/base",
      "model_module_version": "2.0.0",
      "model_name": "LayoutModel",
      "state": {
       "_model_module": "@jupyter-widgets/base",
       "_model_module_version": "2.0.0",
       "_model_name": "LayoutModel",
       "_view_count": null,
       "_view_module": "@jupyter-widgets/base",
       "_view_module_version": "2.0.0",
       "_view_name": "LayoutView",
       "align_content": null,
       "align_items": null,
       "align_self": null,
       "border_bottom": null,
       "border_left": null,
       "border_right": null,
       "border_top": null,
       "bottom": null,
       "display": null,
       "flex": null,
       "flex_flow": null,
       "grid_area": null,
       "grid_auto_columns": null,
       "grid_auto_flow": null,
       "grid_auto_rows": null,
       "grid_column": null,
       "grid_gap": null,
       "grid_row": null,
       "grid_template_areas": null,
       "grid_template_columns": null,
       "grid_template_rows": null,
       "height": null,
       "justify_content": null,
       "justify_items": null,
       "left": null,
       "margin": null,
       "max_height": null,
       "max_width": null,
       "min_height": null,
       "min_width": null,
       "object_fit": null,
       "object_position": null,
       "order": null,
       "overflow": null,
       "padding": null,
       "right": null,
       "top": null,
       "visibility": null,
       "width": null
      }
     },
     "a525444009194bb39cc284b05f9af19c": {
      "model_module": "@jupyter-widgets/controls",
      "model_module_version": "2.0.0",
      "model_name": "HTMLModel",
      "state": {
       "_dom_classes": [],
       "_model_module": "@jupyter-widgets/controls",
       "_model_module_version": "2.0.0",
       "_model_name": "HTMLModel",
       "_view_count": null,
       "_view_module": "@jupyter-widgets/controls",
       "_view_module_version": "2.0.0",
       "_view_name": "HTMLView",
       "description": "",
       "description_allow_html": false,
       "layout": "IPY_MODEL_03968c60762e49c9b5fcbf3aa88afb65",
       "placeholder": "​",
       "style": "IPY_MODEL_9575ff58fdbc48738c9942598d029e30",
       "tabbable": null,
       "tooltip": null,
       "value": " 500000/500000 [04:29&lt;00:00, 1901.24it/s]"
      }
     },
     "a6ecfc51737d4911b068a14dd075124e": {
      "model_module": "@jupyter-widgets/base",
      "model_module_version": "2.0.0",
      "model_name": "LayoutModel",
      "state": {
       "_model_module": "@jupyter-widgets/base",
       "_model_module_version": "2.0.0",
       "_model_name": "LayoutModel",
       "_view_count": null,
       "_view_module": "@jupyter-widgets/base",
       "_view_module_version": "2.0.0",
       "_view_name": "LayoutView",
       "align_content": null,
       "align_items": null,
       "align_self": null,
       "border_bottom": null,
       "border_left": null,
       "border_right": null,
       "border_top": null,
       "bottom": null,
       "display": null,
       "flex": null,
       "flex_flow": null,
       "grid_area": null,
       "grid_auto_columns": null,
       "grid_auto_flow": null,
       "grid_auto_rows": null,
       "grid_column": null,
       "grid_gap": null,
       "grid_row": null,
       "grid_template_areas": null,
       "grid_template_columns": null,
       "grid_template_rows": null,
       "height": null,
       "justify_content": null,
       "justify_items": null,
       "left": null,
       "margin": null,
       "max_height": null,
       "max_width": null,
       "min_height": null,
       "min_width": null,
       "object_fit": null,
       "object_position": null,
       "order": null,
       "overflow": null,
       "padding": null,
       "right": null,
       "top": null,
       "visibility": null,
       "width": null
      }
     },
     "aa79ac17b5174f8a8f4ee0f96027ff25": {
      "model_module": "@jupyter-widgets/base",
      "model_module_version": "2.0.0",
      "model_name": "LayoutModel",
      "state": {
       "_model_module": "@jupyter-widgets/base",
       "_model_module_version": "2.0.0",
       "_model_name": "LayoutModel",
       "_view_count": null,
       "_view_module": "@jupyter-widgets/base",
       "_view_module_version": "2.0.0",
       "_view_name": "LayoutView",
       "align_content": null,
       "align_items": null,
       "align_self": null,
       "border_bottom": null,
       "border_left": null,
       "border_right": null,
       "border_top": null,
       "bottom": null,
       "display": null,
       "flex": null,
       "flex_flow": null,
       "grid_area": null,
       "grid_auto_columns": null,
       "grid_auto_flow": null,
       "grid_auto_rows": null,
       "grid_column": null,
       "grid_gap": null,
       "grid_row": null,
       "grid_template_areas": null,
       "grid_template_columns": null,
       "grid_template_rows": null,
       "height": null,
       "justify_content": null,
       "justify_items": null,
       "left": null,
       "margin": null,
       "max_height": null,
       "max_width": null,
       "min_height": null,
       "min_width": null,
       "object_fit": null,
       "object_position": null,
       "order": null,
       "overflow": null,
       "padding": null,
       "right": null,
       "top": null,
       "visibility": null,
       "width": null
      }
     },
     "af369071b10546c1beae029202ab0361": {
      "model_module": "@jupyter-widgets/controls",
      "model_module_version": "2.0.0",
      "model_name": "HTMLModel",
      "state": {
       "_dom_classes": [],
       "_model_module": "@jupyter-widgets/controls",
       "_model_module_version": "2.0.0",
       "_model_name": "HTMLModel",
       "_view_count": null,
       "_view_module": "@jupyter-widgets/controls",
       "_view_module_version": "2.0.0",
       "_view_name": "HTMLView",
       "description": "",
       "description_allow_html": false,
       "layout": "IPY_MODEL_91e006bd1aa64a1da0152be8540aee4a",
       "placeholder": "​",
       "style": "IPY_MODEL_ffe54f61a30249e49ff15a36719cc3e9",
       "tabbable": null,
       "tooltip": null,
       "value": " 500000/500000 [04:41&lt;00:00, 1921.99it/s]"
      }
     },
     "b57ca2f32c7541158ee3f5964fb4dadc": {
      "model_module": "@jupyter-widgets/base",
      "model_module_version": "2.0.0",
      "model_name": "LayoutModel",
      "state": {
       "_model_module": "@jupyter-widgets/base",
       "_model_module_version": "2.0.0",
       "_model_name": "LayoutModel",
       "_view_count": null,
       "_view_module": "@jupyter-widgets/base",
       "_view_module_version": "2.0.0",
       "_view_name": "LayoutView",
       "align_content": null,
       "align_items": null,
       "align_self": null,
       "border_bottom": null,
       "border_left": null,
       "border_right": null,
       "border_top": null,
       "bottom": null,
       "display": null,
       "flex": null,
       "flex_flow": null,
       "grid_area": null,
       "grid_auto_columns": null,
       "grid_auto_flow": null,
       "grid_auto_rows": null,
       "grid_column": null,
       "grid_gap": null,
       "grid_row": null,
       "grid_template_areas": null,
       "grid_template_columns": null,
       "grid_template_rows": null,
       "height": null,
       "justify_content": null,
       "justify_items": null,
       "left": null,
       "margin": null,
       "max_height": null,
       "max_width": null,
       "min_height": null,
       "min_width": null,
       "object_fit": null,
       "object_position": null,
       "order": null,
       "overflow": null,
       "padding": null,
       "right": null,
       "top": null,
       "visibility": null,
       "width": null
      }
     },
     "bff08baa0b2143e3bc0330d6f56e9907": {
      "model_module": "@jupyter-widgets/controls",
      "model_module_version": "2.0.0",
      "model_name": "FloatProgressModel",
      "state": {
       "_dom_classes": [],
       "_model_module": "@jupyter-widgets/controls",
       "_model_module_version": "2.0.0",
       "_model_name": "FloatProgressModel",
       "_view_count": null,
       "_view_module": "@jupyter-widgets/controls",
       "_view_module_version": "2.0.0",
       "_view_name": "ProgressView",
       "bar_style": "success",
       "description": "",
       "description_allow_html": false,
       "layout": "IPY_MODEL_aa79ac17b5174f8a8f4ee0f96027ff25",
       "max": 500000,
       "min": 0,
       "orientation": "horizontal",
       "style": "IPY_MODEL_0ee83c033cfb4a3c95d6cc38d738ff49",
       "tabbable": null,
       "tooltip": null,
       "value": 500000
      }
     },
     "c216826671374d9c836f4166e2fc14b0": {
      "model_module": "@jupyter-widgets/controls",
      "model_module_version": "2.0.0",
      "model_name": "ProgressStyleModel",
      "state": {
       "_model_module": "@jupyter-widgets/controls",
       "_model_module_version": "2.0.0",
       "_model_name": "ProgressStyleModel",
       "_view_count": null,
       "_view_module": "@jupyter-widgets/base",
       "_view_module_version": "2.0.0",
       "_view_name": "StyleView",
       "bar_color": null,
       "description_width": ""
      }
     },
     "c6a55c7dab344d1ea37278e746c1c940": {
      "model_module": "@jupyter-widgets/controls",
      "model_module_version": "2.0.0",
      "model_name": "HTMLModel",
      "state": {
       "_dom_classes": [],
       "_model_module": "@jupyter-widgets/controls",
       "_model_module_version": "2.0.0",
       "_model_name": "HTMLModel",
       "_view_count": null,
       "_view_module": "@jupyter-widgets/controls",
       "_view_module_version": "2.0.0",
       "_view_name": "HTMLView",
       "description": "",
       "description_allow_html": false,
       "layout": "IPY_MODEL_a12de06a728045e39764f8f284bbf904",
       "placeholder": "​",
       "style": "IPY_MODEL_86b89c988dee4071ae2850cb0f22726c",
       "tabbable": null,
       "tooltip": null,
       "value": "100%"
      }
     },
     "d2b0dd79f1544d2d9e2c540fdd46d9b3": {
      "model_module": "@jupyter-widgets/controls",
      "model_module_version": "2.0.0",
      "model_name": "HTMLModel",
      "state": {
       "_dom_classes": [],
       "_model_module": "@jupyter-widgets/controls",
       "_model_module_version": "2.0.0",
       "_model_name": "HTMLModel",
       "_view_count": null,
       "_view_module": "@jupyter-widgets/controls",
       "_view_module_version": "2.0.0",
       "_view_name": "HTMLView",
       "description": "",
       "description_allow_html": false,
       "layout": "IPY_MODEL_28ebbc1a4ee240daacc56f069f8a5d48",
       "placeholder": "​",
       "style": "IPY_MODEL_18fc82f7b8f149428c16095fb6ce4d35",
       "tabbable": null,
       "tooltip": null,
       "value": "100%"
      }
     },
     "d3b6ecde9db4418c8ae92ad25b8bf7be": {
      "model_module": "@jupyter-widgets/controls",
      "model_module_version": "2.0.0",
      "model_name": "HBoxModel",
      "state": {
       "_dom_classes": [],
       "_model_module": "@jupyter-widgets/controls",
       "_model_module_version": "2.0.0",
       "_model_name": "HBoxModel",
       "_view_count": null,
       "_view_module": "@jupyter-widgets/controls",
       "_view_module_version": "2.0.0",
       "_view_name": "HBoxView",
       "box_style": "",
       "children": [
        "IPY_MODEL_28c21f94202a40a7882e8457db4a2e7b",
        "IPY_MODEL_bff08baa0b2143e3bc0330d6f56e9907",
        "IPY_MODEL_a525444009194bb39cc284b05f9af19c"
       ],
       "layout": "IPY_MODEL_30d322cc0de94439924cfa21b74f8e86",
       "tabbable": null,
       "tooltip": null
      }
     },
     "e496fb08fba548019bb6a2331ba46776": {
      "model_module": "@jupyter-widgets/controls",
      "model_module_version": "2.0.0",
      "model_name": "FloatProgressModel",
      "state": {
       "_dom_classes": [],
       "_model_module": "@jupyter-widgets/controls",
       "_model_module_version": "2.0.0",
       "_model_name": "FloatProgressModel",
       "_view_count": null,
       "_view_module": "@jupyter-widgets/controls",
       "_view_module_version": "2.0.0",
       "_view_name": "ProgressView",
       "bar_style": "success",
       "description": "",
       "description_allow_html": false,
       "layout": "IPY_MODEL_a6ecfc51737d4911b068a14dd075124e",
       "max": 2000000,
       "min": 0,
       "orientation": "horizontal",
       "style": "IPY_MODEL_c216826671374d9c836f4166e2fc14b0",
       "tabbable": null,
       "tooltip": null,
       "value": 2000000
      }
     },
     "ffe54f61a30249e49ff15a36719cc3e9": {
      "model_module": "@jupyter-widgets/controls",
      "model_module_version": "2.0.0",
      "model_name": "HTMLStyleModel",
      "state": {
       "_model_module": "@jupyter-widgets/controls",
       "_model_module_version": "2.0.0",
       "_model_name": "HTMLStyleModel",
       "_view_count": null,
       "_view_module": "@jupyter-widgets/base",
       "_view_module_version": "2.0.0",
       "_view_name": "StyleView",
       "background": null,
       "description_width": "",
       "font_size": null,
       "text_color": null
      }
     }
    },
    "version_major": 2,
    "version_minor": 0
   }
  }
 },
 "nbformat": 4,
 "nbformat_minor": 4
}
