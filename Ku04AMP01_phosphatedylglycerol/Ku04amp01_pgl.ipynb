{
 "cells": [
  {
   "cell_type": "markdown",
   "metadata": {},
   "source": [
    "Ku04AMP01 protein and Phosphatedylglycerol Complex\n",
    "======================\n"
   ]
  },
  {
   "cell_type": "markdown",
   "metadata": {},
   "source": [
    "## ``Gromacs_py`` simulation\n",
    "\n",
    "Here is an example of a short simulation of the Ku04Amp01 (`kuamp01`) peptide ('protein') in complex with Phosphatedylglycerol (`pgl`) ligand using AMBER force-field model.\n",
    "\n",
    "Need to do this to properly docked system. The PDB file of ligand must be generated from the canonical SMILES by rdkit. This can be done locally using:\n",
    "\n",
    "Finally, nine successive steps are used:\n",
    "\n",
    "1. Load the protein in its best -docked state. \n",
    "   \n",
    "2. In-complex creation of Protein Topology using ``GmxSys.add_top()``, followed by boxing and solvation/neutralization.\n",
    "   \n",
    "3. Boxing of complex.\n",
    "   \n",
    "4. Ideally, Ligand topology creation using `prepare_top()` which uses `acpype` to build ligand topology. This did not work, so must do this manually using `acpype` externally\n",
    "   \n",
    "5. Solvate complex and add ions.\n",
    "\n",
    "6. Minimisation of the structure using ``GmxSys.em_2_steps()``.\n",
    "\n",
    "7. Equilibration of the system using ``GmxSys.em_equi_three_step_iter_error()``.\n",
    "\n",
    "8. Production run using ``GmxSys.production()``.\n",
    "   \n",
    "9.  Post-processing using `GmxSys.convert_trj().`\n",
    "\n",
    "### Import"
   ]
  },
  {
   "cell_type": "code",
   "execution_count": 1,
   "metadata": {},
   "outputs": [],
   "source": [
    "import sys\n",
    "import os\n",
    "import shutil\n",
    "\n",
    "import pandas as pd\n",
    "import matplotlib.pyplot as plt\n",
    "import numpy as np\n",
    "import seaborn as sns"
   ]
  },
  {
   "cell_type": "markdown",
   "metadata": {},
   "source": [
    "## To use `gromacs_py` in a project"
   ]
  },
  {
   "cell_type": "code",
   "execution_count": 2,
   "metadata": {},
   "outputs": [],
   "source": [
    "from gromacs_py import gmx"
   ]
  },
  {
   "cell_type": "markdown",
   "metadata": {},
   "source": [
    "## Simulation setup\n",
    "\n",
    "- Define a few variables for you simulation, like:\n",
    "  \n",
    "    1. simulation output folders\n",
    "    2. ionic concentration\n",
    "    3. number of minimisation steps\n",
    "    4. equilibration and production time\n",
    "\n",
    "### Regarding equilibriation time:\n",
    "The following variables define the sim times (relative units) for each stage of the three-stage equilibriation process. Check notes below for details:\n",
    "\n",
    "1. `HA_time`\n",
    "2. `CA_time`\n",
    "3. `CA_LOW_time` \n"
   ]
  },
  {
   "cell_type": "code",
   "execution_count": 5,
   "metadata": {},
   "outputs": [],
   "source": [
    "DATA_OUT = 'ku04amp01_pgl_complex'\n",
    "\n",
    "# System Setup\n",
    "vsite='none'\n",
    "sys_top_folder = os.path.join(DATA_OUT, 'sys_top')\n",
    "#ignore_hydrogen = {'ignh': None}\n",
    "\n",
    "# Energy Minimisation\n",
    "em_folder = os.path.join(DATA_OUT, 'em')\n",
    "em_sys_folder = os.path.join(DATA_OUT, 'sys_em')\n",
    "em_step_number = 10000\n",
    "emtol = 10.0  \t# Stop minimization when the maximum force < 10 J/mol\n",
    "emstep  = 0.01      # Energy step size\n",
    "\n",
    "\n",
    "# Equillibration\n",
    "equi_folder = os.path.join(DATA_OUT, 'sys_equi')\n",
    "HA_time = 0.5\n",
    "CA_time = 1.0\n",
    "CA_LOW_time = 4.0\n",
    "\n",
    "dt_HA = 0.001\n",
    "dt = 0.002\n",
    "\n",
    "HA_step = 1000 * HA_time / dt_HA\n",
    "CA_step = 1000 * CA_time / dt\n",
    "CA_LOW_step = 1000 * CA_LOW_time / dt\n",
    "\n",
    "# Production\n",
    "os.makedirs(DATA_OUT, exist_ok = True)\n",
    "prod_folder = os.path.join(DATA_OUT, 'sys_prod')\n",
    "prod_time = 50.0\n",
    "\n",
    "prod_step = 1000 * prod_time / dt"
   ]
  },
  {
   "cell_type": "markdown",
   "metadata": {},
   "source": [
    "## Create the `GmxSys` object\n",
    "\n",
    "Load protein information only from docked PDB file on disk"
   ]
  },
  {
   "cell_type": "code",
   "execution_count": 6,
   "metadata": {},
   "outputs": [],
   "source": [
    "#%%script true\n",
    "\n",
    "pdb_file = \"pdbs/protein.pdb\"\n",
    "sys_name = \"ku04amp01_pgl_complex\"\n",
    "complex_sys = gmx.GmxSys(name=sys_name, coor_file=pdb_file)"
   ]
  },
  {
   "cell_type": "markdown",
   "metadata": {},
   "source": [
    "## Create topology and stuff\n",
    "\n",
    "1. Topology creation involves using `pdb2gmx` via the `prepare_top()` function.\n",
    "2. Create box\n",
    "\n"
   ]
  },
  {
   "cell_type": "code",
   "execution_count": 7,
   "metadata": {},
   "outputs": [
    {
     "name": "stdout",
     "output_type": "stream",
     "text": [
      "pdb2pqr30 --ff AMBER --ffout AMBER --keep-chain --titration-state-method=propka --with-ph=7.00 tmp_pdb2pqr.pdb 00_ku04amp01_pgl_complex.pqr\n",
      "gmx pdb2gmx -f 01_ku04amp01_pgl_complex_good_his.pdb -o ku04amp01_pgl_complex_pdb2gmx.pdb -p ku04amp01_pgl_complex_pdb2gmx.top -i ku04amp01_pgl_complex_posre.itp -water tip3p -ff amber99sb-ildn -ignh -vsite none\n"
     ]
    }
   ],
   "source": [
    "#%%script true\n",
    "complex_sys.prepare_top(out_folder=DATA_OUT, ff='amber99sb-ildn', vsite=vsite)"
   ]
  },
  {
   "cell_type": "markdown",
   "metadata": {},
   "source": [
    "## Create Ligand topology and transclude manually to complex topology\n",
    "\n",
    "Doing this automatically in `gromacs_py` is buggy and doesn't work, necessitating manual overrides.\n",
    "\n",
    "1. First, you need to add ALL hydrogen atoms into the PDB file of the best-docked ligand pose using pymol gui:\n",
    "    Load the ligand pdb into pymol, then click `builder -> add H` from the top right buttons. Save to new file\n",
    "    \n",
    "2. Then run `acpype -i` on the resultant PDB from shell. These yield full ligand topology for multiple force fields. We're using the default AMBER force field here.\n",
    "\n",
    "**Note:** running `acpype` after protonating with `PyMol` failed (charge issues) so protonated with `avogadro` (version 1.9x) at ph=7.0 instead and it worked.\n",
    "\n",
    "**Note 2:** Follow the [Lemkul HOWTO](http://www.mdtutorials.com/gmx/complex/02_topology.html) on ligand topology generation with avogadro, except use `AMBER-acpype` instead of `CHARMM-CGenFF`\n",
    "\n",
    "\n",
    "3. Next, copy-paste the contents of the ligand's amber force field topology file transclusions to the top of the complex topology file, AND the molecules section of the ligand's topology file to the molecules section of the complex topology file. \n",
    "\n",
    "**Note:** The ligand information MUST come FIRST in the complex topology, as there are new atomtypes in there and those must be defined first before any `moleculetype`. [See this](https://gromacs.bioexcel.eu/t/invalid-order-for-directive-atomtypes-error/3859)\n",
    "\n",
    "4. Make sure to adjust the paths of all transcluded files.\n",
    "\n",
    "5. Finally, update the complex PDB file with ligand co-ordinates from the best-docked pose using `pymol`.\n"
   ]
  },
  {
   "cell_type": "code",
   "execution_count": 8,
   "metadata": {},
   "outputs": [
    {
     "name": "stdout",
     "output_type": "stream",
     "text": [
      "name         : ku04amp01_pgl_complex\n",
      "coor_file    : ku04amp01_pgl_complex/ku04amp01_pgl_complex_pdb2gmx.pdb\n",
      "top_file     : ku04amp01_pgl_complex/ku04amp01_pgl_complex_pdb2gmx.top\n",
      "nt           : 0\n",
      "ntmpi        : 0\n",
      "sys_history  : 0\n"
     ]
    }
   ],
   "source": [
    "#%%script true\n",
    "complex_sys.display()"
   ]
  },
  {
   "cell_type": "code",
   "execution_count": 9,
   "metadata": {},
   "outputs": [
    {
     "name": "stdout",
     "output_type": "stream",
     "text": [
      "gmx editconf -f ku04amp01_pgl_complex/ku04amp01_pgl_complex_pdb2gmx.pdb -o ku04amp01_pgl_complex/ku04amp01_pgl_complex_pdb2gmx_box.pdb -bt dodecahedron -d 1.0\n",
      "gmx grompp -f ../../usr/local/lib/python3.12/site-packages/gromacs_py/gmx/template/mini.mdp -c ku04amp01_pgl_complex_water.pdb -r ku04amp01_pgl_complex_water.pdb -p ku04amp01_pgl_complex_water_ion.top -po out_mini.mdp -o genion_ku04amp01_pgl_complex_water_ion.tpr -maxwarn 4\n",
      "gmx genion -s genion_ku04amp01_pgl_complex_water_ion.tpr -p ku04amp01_pgl_complex_water_ion.top -o ku04amp01_pgl_complex_water_ion.gro -np 39 -pname NA -nn 43 -nname CL\n",
      "name         : ku04amp01_pgl_complex\n",
      "sim_name     : genion_ku04amp01_pgl_complex_water_ion\n",
      "coor_file    : ku04amp01_pgl_complex/ku04amp01_pgl_complex_water_ion.gro\n",
      "top_file     : ku04amp01_pgl_complex/ku04amp01_pgl_complex_water_ion.top\n",
      "tpr          : ku04amp01_pgl_complex/genion_ku04amp01_pgl_complex_water_ion.tpr\n",
      "mdp          : ../usr/local/lib/python3.12/site-packages/gromacs_py/gmx/template/mini.mdp\n",
      "nt           : 0\n",
      "ntmpi        : 0\n",
      "sys_history  : 0\n"
     ]
    }
   ],
   "source": [
    "#%%script true\n",
    "complex_sys.create_box(dist=1.0, box_type=\"dodecahedron\", check_file_out=True)\n",
    "complex_sys.solvate_add_ions(out_folder=DATA_OUT, name=sys_name,create_box_flag=False, maxwarn=4)\n",
    "complex_sys.display()"
   ]
  },
  {
   "cell_type": "markdown",
   "metadata": {},
   "source": [
    "## Add index groups\n",
    "\n",
    "Now, we have to add the following index groups: Merge the Protein with the ligand (PYC) with the shell command\n",
    "\n",
    "```bash\n",
    "gmx make_ndx -f ku04amp01_pgl_complex/ku04amp01_pgl_complex_water_ion.gro -o ku04amp01_pgl_complex/ku04amp01_pgl_complex_water_ion.ndx\n",
    "```\n",
    "Merge group 1 with group 13 to form `Protein_PGL` group. We can now set temperature control groups to = `Protein_PGL` and `Water_and_ions` later.\n",
    "\n",
    "Finally, add the index file to the `complex_sys` object."
   ]
  },
  {
   "cell_type": "code",
   "execution_count": 10,
   "metadata": {},
   "outputs": [],
   "source": [
    "#%%script true\n",
    "complex_sys.add_ndx(\"\",ndx_name=\"ku04amp01_pgl_complex_water_ion\", folder_out=DATA_OUT)"
   ]
  },
  {
   "cell_type": "markdown",
   "metadata": {},
   "source": [
    "## Energy minimisation\n",
    "\n",
    "Set parallelization and GPU options here. Change them later, if needed."
   ]
  },
  {
   "cell_type": "code",
   "execution_count": 11,
   "metadata": {},
   "outputs": [
    {
     "name": "stderr",
     "output_type": "stream",
     "text": [
      "WARNING !!! ADDING unusual parameter : \"emtol\"in the mdp file Init_em_ku04amp01_pgl_complex.mdp\n",
      "WARNING !!! ADDING unusual parameter : \"emstep\"in the mdp file Init_em_ku04amp01_pgl_complex.mdp\n"
     ]
    },
    {
     "name": "stdout",
     "output_type": "stream",
     "text": [
      "gmx grompp -f Init_em_ku04amp01_pgl_complex.mdp -c ../ku04amp01_pgl_complex_water_ion.gro -r ../ku04amp01_pgl_complex_water_ion.gro -p ../ku04amp01_pgl_complex_water_ion.top -po out_Init_em_ku04amp01_pgl_complex.mdp -o Init_em_ku04amp01_pgl_complex.tpr -maxwarn 1 -n ../ku04amp01_pgl_complex_water_ion.ndx\n",
      "gmx mdrun -s Init_em_ku04amp01_pgl_complex.tpr -deffnm Init_em_ku04amp01_pgl_complex -nt 12 -ntmpi 0 -nsteps -2 -nocopyright -gpu_id 0\n"
     ]
    },
    {
     "data": {
      "application/vnd.jupyter.widget-view+json": {
       "model_id": "e184dcdda1514b9197d56f2e4e53a417",
       "version_major": 2,
       "version_minor": 0
      },
      "text/plain": [
       "  0%|          | 0/10000 [00:00<?, ?it/s]"
      ]
     },
     "metadata": {},
     "output_type": "display_data"
    },
    {
     "name": "stderr",
     "output_type": "stream",
     "text": [
      "WARNING !!! ADDING unusual parameter : \"emtol\"in the mdp file ku04amp01_pgl_complex.mdp\n",
      "WARNING !!! ADDING unusual parameter : \"emstep\"in the mdp file ku04amp01_pgl_complex.mdp\n"
     ]
    },
    {
     "name": "stdout",
     "output_type": "stream",
     "text": [
      "gmx grompp -f ku04amp01_pgl_complex.mdp -c Init_em_ku04amp01_pgl_complex.gro -r Init_em_ku04amp01_pgl_complex.gro -p ../ku04amp01_pgl_complex_water_ion.top -po out_ku04amp01_pgl_complex.mdp -o ku04amp01_pgl_complex.tpr -maxwarn 1 -n ../ku04amp01_pgl_complex_water_ion.ndx\n",
      "gmx mdrun -s ku04amp01_pgl_complex.tpr -deffnm ku04amp01_pgl_complex -nt 12 -ntmpi 0 -nsteps -2 -nocopyright -gpu_id 0\n"
     ]
    },
    {
     "data": {
      "application/vnd.jupyter.widget-view+json": {
       "model_id": "0e716936cf4e4aba8747124ab2ef5ef0",
       "version_major": 2,
       "version_minor": 0
      },
      "text/plain": [
       "  0%|          | 0/10000 [00:00<?, ?it/s]"
      ]
     },
     "metadata": {},
     "output_type": "display_data"
    }
   ],
   "source": [
    "#%%script true\n",
    "#Parallelization\n",
    "nthreads = int(os.environ.get('PBS_NCPUS', '12'))\n",
    "\n",
    "#Set Parallelization\n",
    "complex_sys.nt = nthreads\n",
    "#complex_sys.ntmpi = 1\n",
    "complex_sys.gpu_id = '0'\n",
    "\n",
    "complex_sys.em_2_steps(out_folder=em_folder,\n",
    "        no_constr_nsteps=em_step_number,\n",
    "        constr_nsteps=em_step_number,\n",
    "        posres=\"\",\n",
    "        create_box_flag=False, emtol=emtol, emstep=emstep)"
   ]
  },
  {
   "cell_type": "markdown",
   "metadata": {},
   "source": [
    "## Plot energy:"
   ]
  },
  {
   "cell_type": "code",
   "execution_count": 12,
   "metadata": {},
   "outputs": [
    {
     "name": "stdout",
     "output_type": "stream",
     "text": [
      "gmx energy -f ku04amp01_pgl_complex/em/Init_em_ku04amp01_pgl_complex.edr -o tmp_edr.xvg\n",
      "gmx energy -f ku04amp01_pgl_complex/em/ku04amp01_pgl_complex.edr -o tmp_edr.xvg\n"
     ]
    }
   ],
   "source": [
    "#%%script true\n",
    "ener_pd_1 = complex_sys.sys_history[-1].get_ener(selection_list=['Potential'])\n",
    "ener_pd_2 = complex_sys.get_ener(selection_list=['Potential'])\n",
    "\n",
    "ener_pd_1['label'] = 'no bond constr'\n",
    "ener_pd_2['label'] = 'bond constr'\n",
    "\n",
    "ener_pd = pd.concat([ener_pd_1, ener_pd_2])\n",
    "\n",
    "ener_pd['Time (ps)'] = np.arange(len(ener_pd))"
   ]
  },
  {
   "cell_type": "code",
   "execution_count": 13,
   "metadata": {},
   "outputs": [
    {
     "data": {
      "image/png": "[encoded data removed]",
      "text/plain": [
       "<Figure size 640x480 with 1 Axes>"
      ]
     },
     "metadata": {},
     "output_type": "display_data"
    }
   ],
   "source": [
    "#%%script true\n",
    "ax = sns.lineplot(x=\"Time (ps)\", y=\"Potential\",\n",
    "        hue=\"label\",\n",
    "        data=ener_pd)\n",
    "ax.set_xlabel('step')\n",
    "ax.set_ylabel('energy (KJ/mol)')\n",
    "plt.grid()"
   ]
  },
  {
   "cell_type": "code",
   "execution_count": 14,
   "metadata": {},
   "outputs": [],
   "source": [
    "#%%script true\n",
    "import pickle, datetime\n",
    "chkpt_fname='checkpoint.em_' + datetime.date.today().strftime(\"%Y%m%d\") + \".pycpt\"\n",
    "with open(chkpt_fname, 'wb') as py_cpt:\n",
    "    pickle.dump(complex_sys, py_cpt)"
   ]
  },
  {
   "cell_type": "markdown",
   "metadata": {},
   "source": [
    "## From here, run in cluster\n",
    "### System minimisation and equilibration\n",
    "\n",
    "Based on `gromacs_py` docs, this is a 3-stage equilibriation process. \n",
    "\n",
    "All three steps seem to be NPT with berendsen coupling and v-rescale for temp coupling. Each step just has different restraints. This does not seem so bad: closer to lab conditions.\n",
    "\n",
    "Since the statistical ensemble is pretty much always NPT, this is different from the Lemkul-lysozyme tutorial at [MDTutorials](http://www.mdtutorials.com/gmx/lysozyme/).\n",
    "\n",
    "**Note:** \n",
    "1. Had to run this on cluster at least. Too slow even in ofc workstn.\n",
    "2. Temperature coupling groups have to be set properly. See [mdtutorials](http://www.mdtutorials.com/gmx/complex/06_equil.html) and [gromacs-py manual](https://gromacs-py.readthedocs.io/en/latest/notebook/01_dna_ligand_ambertools.html#System-equilibration)\n",
    "3. Ligand name is `PYC` as seen in the index file by visual inspection."
   ]
  },
  {
   "cell_type": "code",
   "execution_count": null,
   "metadata": {
    "scrolled": true
   },
   "outputs": [],
   "source": [
    "#%%script true\n",
    "import pickle, datetime\n",
    "chkpt_fname='checkpoint.em_20250220.pycpt'\n",
    "\n",
    "with open(chkpt_fname, 'rb') as py_cpt:\n",
    "    complex_sys = pickle.load(py_cpt)"
   ]
  },
  {
   "cell_type": "code",
   "execution_count": 15,
   "metadata": {},
   "outputs": [
    {
     "name": "stderr",
     "output_type": "stream",
     "text": [
      "WARNING !!! ADDING unusual parameter : \"iter_num\"in the mdp file equi_HA_ku04amp01_pgl_complex.mdp\n"
     ]
    },
    {
     "name": "stdout",
     "output_type": "stream",
     "text": [
      "gmx grompp -f equi_HA_ku04amp01_pgl_complex.mdp -c ../../em/ku04amp01_pgl_complex.gro -r ../../em/ku04amp01_pgl_complex.gro -p ../../ku04amp01_pgl_complex_water_ion.top -po out_equi_HA_ku04amp01_pgl_complex.mdp -o equi_HA_ku04amp01_pgl_complex.tpr -maxwarn 10 -n ../../ku04amp01_pgl_complex_water_ion.ndx\n",
      "gmx mdrun -s equi_HA_ku04amp01_pgl_complex.tpr -deffnm equi_HA_ku04amp01_pgl_complex -nt 12 -ntmpi 0 -nsteps -2 -nocopyright -gpu_id 0\n"
     ]
    },
    {
     "data": {
      "application/vnd.jupyter.widget-view+json": {
       "model_id": "571ceed3ca784d619574c8418d31c48f",
       "version_major": 2,
       "version_minor": 0
      },
      "text/plain": [
       "  0%|          | 0/500000 [00:00<?, ?it/s]"
      ]
     },
     "metadata": {},
     "output_type": "display_data"
    },
    {
     "name": "stdout",
     "output_type": "stream",
     "text": [
      "The following command could not be executed correctly :\n",
      "gmx mdrun -s equi_HA_ku04amp01_pgl_complex.tpr -deffnm equi_HA_ku04amp01_pgl_complex -nt 12 -ntmpi 0 -nsteps -2 -nocopyright -gpu_id 0\n",
      "\n",
      "                :-) GROMACS - gmx mdrun, 2024.4-conda_forge (-:\n",
      "\n",
      "Executable:   /usr/local/bin.AVX2_256/gmx\n",
      "Data prefix:  /usr/local\n",
      "Working dir:  /host_pwd/ku04amp01_pgl_complex/sys_equi/00_equi_HA\n",
      "Command line:\n",
      "  gmx mdrun -s equi_HA_ku04amp01_pgl_complex.tpr -deffnm equi_HA_ku04amp01_pgl_complex -nt 12 -ntmpi 0 -nsteps -2 -nocopyright -gpu_id 0\n",
      "\n",
      "The current CPU can measure timings more accurately than the code in\n",
      "gmx mdrun was configured to use. This might affect your simulation\n",
      "speed as accurate timings are needed for load-balancing.\n",
      "Please consider rebuilding gmx mdrun with the GMX_USE_RDTSCP=ON CMake option.\n",
      "Reading file equi_HA_ku04amp01_pgl_complex.tpr, VERSION 2024.4-conda_forge (single precision)\n",
      "Changing nstlist from 10 to 100, rlist from 1 to 1.114\n",
      "\n",
      "\n",
      "Update groups can not be used for this system because atoms that are (in)directly constrained together are interdispersed with other atoms\n",
      "\n",
      "1 GPU selected for this run.\n",
      "Mapping of GPU IDs to the 2 GPU tasks in the 1 rank on this node:\n",
      "  PP:0,PME:0\n",
      "PP tasks will do (non-perturbed) short-ranged interactions on the GPU\n",
      "PP task will update and constrain coordinates on the GPU\n",
      "PME tasks will do all aspects on the GPU\n",
      "Using 1 MPI thread\n",
      "Using 12 OpenMP threads \n",
      "\n",
      "starting mdrun 'Protein in water'\n",
      "500000 steps,    500.0 ps.\n",
      "\n"
     ]
    },
    {
     "ename": "RuntimeError",
     "evalue": "Following Command Fails : /usr/local/bin/gmx mdrun -s equi_HA_ku04amp01_pgl_complex.tpr -deffnm equi_HA_ku04amp01_pgl_complex -nt 12 -ntmpi 0 -nsteps -2 -nocopyright -gpu_id 0",
     "output_type": "error",
     "traceback": [
      "\u001b[0;31m---------------------------------------------------------------------------\u001b[0m",
      "\u001b[0;31mRuntimeError\u001b[0m                              Traceback (most recent call last)",
      "Cell \u001b[0;32mIn[15], line 10\u001b[0m\n\u001b[1;32m      7\u001b[0m \u001b[38;5;66;03m#complex_sys.ntmpi = 1\u001b[39;00m\n\u001b[1;32m      8\u001b[0m complex_sys\u001b[38;5;241m.\u001b[39mgpu_id \u001b[38;5;241m=\u001b[39m \u001b[38;5;124m'\u001b[39m\u001b[38;5;124m0\u001b[39m\u001b[38;5;124m'\u001b[39m\n\u001b[0;32m---> 10\u001b[0m \u001b[43mcomplex_sys\u001b[49m\u001b[38;5;241;43m.\u001b[39;49m\u001b[43mequi_three_step\u001b[49m\u001b[43m(\u001b[49m\u001b[43mout_folder\u001b[49m\u001b[38;5;241;43m=\u001b[39;49m\u001b[43mequi_folder\u001b[49m\u001b[43m,\u001b[49m\n\u001b[1;32m     11\u001b[0m \u001b[43m        \u001b[49m\u001b[43mname\u001b[49m\u001b[38;5;241;43m=\u001b[39;49m\u001b[43msys_name\u001b[49m\u001b[43m,\u001b[49m\n\u001b[1;32m     12\u001b[0m \u001b[43m        \u001b[49m\u001b[43mnsteps_HA\u001b[49m\u001b[38;5;241;43m=\u001b[39;49m\u001b[43mHA_step\u001b[49m\u001b[43m,\u001b[49m\u001b[43m  \u001b[49m\n\u001b[1;32m     13\u001b[0m \u001b[43m        \u001b[49m\u001b[43mnsteps_CA\u001b[49m\u001b[38;5;241;43m=\u001b[39;49m\u001b[43mCA_step\u001b[49m\u001b[43m,\u001b[49m\n\u001b[1;32m     14\u001b[0m \u001b[43m        \u001b[49m\u001b[43mnsteps_CA_LOW\u001b[49m\u001b[38;5;241;43m=\u001b[39;49m\u001b[43mCA_LOW_step\u001b[49m\u001b[43m,\u001b[49m\n\u001b[1;32m     15\u001b[0m \u001b[43m        \u001b[49m\u001b[43mdt\u001b[49m\u001b[38;5;241;43m=\u001b[39;49m\u001b[43mdt\u001b[49m\u001b[43m,\u001b[49m\u001b[43m \u001b[49m\u001b[43mdt_HA\u001b[49m\u001b[38;5;241;43m=\u001b[39;49m\u001b[43mdt_HA\u001b[49m\u001b[43m,\u001b[49m\n\u001b[1;32m     16\u001b[0m \u001b[43m        \u001b[49m\u001b[43mtc_grps\u001b[49m\u001b[38;5;241;43m=\u001b[39;49m\u001b[38;5;124;43m'\u001b[39;49m\u001b[38;5;124;43mProtein_PGL Water_and_ions\u001b[39;49m\u001b[38;5;124;43m'\u001b[39;49m\u001b[43m,\u001b[49m\n\u001b[1;32m     17\u001b[0m \u001b[43m        \u001b[49m\u001b[43mtau_t\u001b[49m\u001b[38;5;241;43m=\u001b[39;49m\u001b[43m \u001b[49m\u001b[38;5;124;43m'\u001b[39;49m\u001b[38;5;124;43m0.1 0.1\u001b[39;49m\u001b[38;5;124;43m'\u001b[39;49m\u001b[43m,\u001b[49m\n\u001b[1;32m     18\u001b[0m \u001b[43m        \u001b[49m\u001b[43mref_t\u001b[49m\u001b[38;5;241;43m=\u001b[39;49m\u001b[43m \u001b[49m\u001b[38;5;124;43m'\u001b[39;49m\u001b[38;5;124;43m310 310\u001b[39;49m\u001b[38;5;124;43m'\u001b[39;49m\u001b[43m,\u001b[49m\n\u001b[1;32m     19\u001b[0m \u001b[43m        \u001b[49m\u001b[43mvsite\u001b[49m\u001b[38;5;241;43m=\u001b[39;49m\u001b[43mvsite\u001b[49m\u001b[43m,\u001b[49m\u001b[43m \u001b[49m\u001b[43mmaxwarn\u001b[49m\u001b[38;5;241;43m=\u001b[39;49m\u001b[38;5;241;43m10\u001b[39;49m\u001b[43m,\u001b[49m\u001b[43m \u001b[49m\u001b[43miter_num\u001b[49m\u001b[38;5;241;43m=\u001b[39;49m\u001b[38;5;241;43m1\u001b[39;49m\u001b[43m)\u001b[49m\n",
      "File \u001b[0;32m/usr/local/lib/python3.12/site-packages/gromacs_py/gmx/gmxsys.py:4344\u001b[0m, in \u001b[0;36mGmxSys.equi_three_step\u001b[0;34m(self, out_folder, name, pdb_restr, nsteps_HA, nsteps_CA, nsteps_CA_LOW, dt, dt_HA, maxwarn, monitor_tool, vsite, **mdp_options)\u001b[0m\n\u001b[1;32m   4333\u001b[0m \u001b[38;5;66;03m# need to center prot/DNA in the box to avoid position restraint\u001b[39;00m\n\u001b[1;32m   4334\u001b[0m \u001b[38;5;66;03m# across the box\u001b[39;00m\n\u001b[1;32m   4335\u001b[0m \u001b[38;5;66;03m# self.center_mol_box()\u001b[39;00m\n\u001b[1;32m   4337\u001b[0m mdp_options\u001b[38;5;241m.\u001b[39mupdate({\u001b[38;5;124m'\u001b[39m\u001b[38;5;124mnsteps\u001b[39m\u001b[38;5;124m'\u001b[39m: \u001b[38;5;28mint\u001b[39m(nsteps_HA),\n\u001b[1;32m   4338\u001b[0m                     \u001b[38;5;124m'\u001b[39m\u001b[38;5;124mpcoupl\u001b[39m\u001b[38;5;124m'\u001b[39m: \u001b[38;5;124m'\u001b[39m\u001b[38;5;124mberendsen\u001b[39m\u001b[38;5;124m'\u001b[39m,\n\u001b[1;32m   4339\u001b[0m                     \u001b[38;5;124m'\u001b[39m\u001b[38;5;124mdefine\u001b[39m\u001b[38;5;124m'\u001b[39m: \u001b[38;5;124m'\u001b[39m\u001b[38;5;124m-DPOSRES\u001b[39m\u001b[38;5;124m'\u001b[39m,\n\u001b[1;32m   4340\u001b[0m                     \u001b[38;5;124m'\u001b[39m\u001b[38;5;124mdt\u001b[39m\u001b[38;5;124m'\u001b[39m: dt_HA,\n\u001b[1;32m   4341\u001b[0m                     \u001b[38;5;124m'\u001b[39m\u001b[38;5;124mcomm_mode\u001b[39m\u001b[38;5;124m'\u001b[39m: \u001b[38;5;124m'\u001b[39m\u001b[38;5;124mnone\u001b[39m\u001b[38;5;124m'\u001b[39m,\n\u001b[1;32m   4342\u001b[0m                     \u001b[38;5;124m'\u001b[39m\u001b[38;5;124mrefcoord_scaling\u001b[39m\u001b[38;5;124m'\u001b[39m: \u001b[38;5;124m'\u001b[39m\u001b[38;5;124mcom\u001b[39m\u001b[38;5;124m'\u001b[39m})\n\u001b[0;32m-> 4344\u001b[0m \u001b[38;5;28;43mself\u001b[39;49m\u001b[38;5;241;43m.\u001b[39;49m\u001b[43mrun_md_sim\u001b[49m\u001b[43m(\u001b[49m\u001b[43mout_folder\u001b[49m\u001b[38;5;241;43m=\u001b[39;49m\u001b[43mos\u001b[49m\u001b[38;5;241;43m.\u001b[39;49m\u001b[43mpath\u001b[49m\u001b[38;5;241;43m.\u001b[39;49m\u001b[43mjoin\u001b[49m\u001b[43m(\u001b[49m\u001b[43mout_folder\u001b[49m\u001b[43m,\u001b[49m\u001b[43m \u001b[49m\u001b[38;5;124;43m\"\u001b[39;49m\u001b[38;5;124;43m00_equi_HA\u001b[39;49m\u001b[38;5;124;43m\"\u001b[39;49m\u001b[43m)\u001b[49m\u001b[43m,\u001b[49m\n\u001b[1;32m   4345\u001b[0m \u001b[43m                \u001b[49m\u001b[43mname\u001b[49m\u001b[38;5;241;43m=\u001b[39;49m\u001b[38;5;124;43m\"\u001b[39;49m\u001b[38;5;124;43mequi_HA_\u001b[39;49m\u001b[38;5;124;43m\"\u001b[39;49m\u001b[43m \u001b[49m\u001b[38;5;241;43m+\u001b[39;49m\u001b[43m \u001b[49m\u001b[43mname\u001b[49m\u001b[43m,\u001b[49m\n\u001b[1;32m   4346\u001b[0m \u001b[43m                \u001b[49m\u001b[43mpdb_restr\u001b[49m\u001b[38;5;241;43m=\u001b[39;49m\u001b[43mpdb_restr\u001b[49m\u001b[43m,\u001b[49m\u001b[43m \u001b[49m\u001b[43mmdp_template\u001b[49m\u001b[38;5;241;43m=\u001b[39;49m\u001b[43mequi_template_mdp\u001b[49m\u001b[43m,\u001b[49m\n\u001b[1;32m   4347\u001b[0m \u001b[43m                \u001b[49m\u001b[43mmdp_options\u001b[49m\u001b[38;5;241;43m=\u001b[39;49m\u001b[43mmdp_options\u001b[49m\u001b[43m,\u001b[49m\u001b[43m \u001b[49m\u001b[43mmaxwarn\u001b[49m\u001b[38;5;241;43m=\u001b[39;49m\u001b[43mmaxwarn\u001b[49m\u001b[43m,\u001b[49m\n\u001b[1;32m   4348\u001b[0m \u001b[43m                \u001b[49m\u001b[43mmonitor_tool\u001b[49m\u001b[38;5;241;43m=\u001b[39;49m\u001b[43mmonitor_tool\u001b[49m\u001b[43m)\u001b[49m\n\u001b[1;32m   4350\u001b[0m mdp_options\u001b[38;5;241m.\u001b[39mupdate({\u001b[38;5;124m'\u001b[39m\u001b[38;5;124mnsteps\u001b[39m\u001b[38;5;124m'\u001b[39m: \u001b[38;5;28mint\u001b[39m(nsteps_CA),\n\u001b[1;32m   4351\u001b[0m                     \u001b[38;5;124m'\u001b[39m\u001b[38;5;124mdefine\u001b[39m\u001b[38;5;124m'\u001b[39m: \u001b[38;5;124m'\u001b[39m\u001b[38;5;124m-DPOSRES_CA\u001b[39m\u001b[38;5;124m'\u001b[39m, \u001b[38;5;124m'\u001b[39m\u001b[38;5;124mdt\u001b[39m\u001b[38;5;124m'\u001b[39m: dt})\n\u001b[1;32m   4352\u001b[0m \u001b[38;5;28mself\u001b[39m\u001b[38;5;241m.\u001b[39mrun_md_sim(out_folder\u001b[38;5;241m=\u001b[39mos\u001b[38;5;241m.\u001b[39mpath\u001b[38;5;241m.\u001b[39mjoin(out_folder, \u001b[38;5;124m\"\u001b[39m\u001b[38;5;124m01_equi_CA\u001b[39m\u001b[38;5;124m\"\u001b[39m),\n\u001b[1;32m   4353\u001b[0m                 name\u001b[38;5;241m=\u001b[39m\u001b[38;5;124m\"\u001b[39m\u001b[38;5;124mequi_CA_\u001b[39m\u001b[38;5;124m\"\u001b[39m \u001b[38;5;241m+\u001b[39m name,\n\u001b[1;32m   4354\u001b[0m                 pdb_restr\u001b[38;5;241m=\u001b[39mpdb_restr, mdp_template\u001b[38;5;241m=\u001b[39mequi_template_mdp,\n\u001b[1;32m   4355\u001b[0m                 mdp_options\u001b[38;5;241m=\u001b[39mmdp_options, maxwarn\u001b[38;5;241m=\u001b[39mmaxwarn,\n\u001b[1;32m   4356\u001b[0m                 monitor_tool\u001b[38;5;241m=\u001b[39mmonitor_tool)\n",
      "File \u001b[0;32m/usr/local/lib/python3.12/site-packages/gromacs_py/gmx/gmxsys.py:4095\u001b[0m, in \u001b[0;36mGmxSys.run_md_sim\u001b[0;34m(self, out_folder, name, mdp_template, mdp_options, pdb_restr, maxwarn, monitor_tool)\u001b[0m\n\u001b[1;32m   4093\u001b[0m \u001b[38;5;28mself\u001b[39m\u001b[38;5;241m.\u001b[39madd_mdp(mdp_template\u001b[38;5;241m=\u001b[39mmdp_template, mdp_options\u001b[38;5;241m=\u001b[39mmdp_options)\n\u001b[1;32m   4094\u001b[0m \u001b[38;5;28mself\u001b[39m\u001b[38;5;241m.\u001b[39madd_tpr(name\u001b[38;5;241m=\u001b[39mname, r\u001b[38;5;241m=\u001b[39mpdb_restr, maxwarn\u001b[38;5;241m=\u001b[39mmaxwarn)\n\u001b[0;32m-> 4095\u001b[0m \u001b[38;5;28;43mself\u001b[39;49m\u001b[38;5;241;43m.\u001b[39;49m\u001b[43mrun_simulation\u001b[49m\u001b[43m(\u001b[49m\u001b[43mmonitor_tool\u001b[49m\u001b[38;5;241;43m=\u001b[39;49m\u001b[43mmonitor_tool\u001b[49m\u001b[43m)\u001b[49m\n\u001b[1;32m   4097\u001b[0m \u001b[38;5;66;03m# Get absolute path:\u001b[39;00m\n\u001b[1;32m   4098\u001b[0m os\u001b[38;5;241m.\u001b[39mchdir(start_dir)\n",
      "File \u001b[0;32m/usr/local/lib/python3.12/site-packages/gromacs_py/gmx/gmxsys.py:4010\u001b[0m, in \u001b[0;36mGmxSys.run_simulation\u001b[0;34m(self, check_file_out, cpi, nsteps, rerun, monitor_tool)\u001b[0m\n\u001b[1;32m   4007\u001b[0m         monitor_files[\u001b[38;5;124m'\u001b[39m\u001b[38;5;124mlog\u001b[39m\u001b[38;5;124m'\u001b[39m] \u001b[38;5;241m=\u001b[39m \u001b[38;5;124mf\u001b[39m\u001b[38;5;124m\"\u001b[39m\u001b[38;5;132;01m{\u001b[39;00m\u001b[38;5;28mself\u001b[39m\u001b[38;5;241m.\u001b[39msim_name\u001b[38;5;132;01m}\u001b[39;00m\u001b[38;5;124m.part\u001b[39m\u001b[38;5;132;01m{\u001b[39;00msim_num\u001b[38;5;132;01m:\u001b[39;00m\u001b[38;5;124m04d\u001b[39m\u001b[38;5;132;01m}\u001b[39;00m\u001b[38;5;124m.log\u001b[39m\u001b[38;5;124m\"\u001b[39m\n\u001b[1;32m   4009\u001b[0m     monitor_tool\u001b[38;5;241m.\u001b[39mupdate(monitor_files)\n\u001b[0;32m-> 4010\u001b[0m     \u001b[43mcmd_run\u001b[49m\u001b[38;5;241;43m.\u001b[39;49m\u001b[43mrun_background\u001b[49m\u001b[43m(\u001b[49m\u001b[43mmonitor_tool\u001b[49m\u001b[43m)\u001b[49m\n\u001b[1;32m   4012\u001b[0m \u001b[38;5;66;03m# If it's not a rerun, assign all output to the object variables\u001b[39;00m\n\u001b[1;32m   4013\u001b[0m \u001b[38;5;66;03m# xtc, edr, log\u001b[39;00m\n\u001b[1;32m   4014\u001b[0m \u001b[38;5;28mself\u001b[39m\u001b[38;5;241m.\u001b[39medr \u001b[38;5;241m=\u001b[39m \u001b[38;5;28mself\u001b[39m\u001b[38;5;241m.\u001b[39msim_name \u001b[38;5;241m+\u001b[39m \u001b[38;5;124m\"\u001b[39m\u001b[38;5;124m.edr\u001b[39m\u001b[38;5;124m\"\u001b[39m\n",
      "File \u001b[0;32m/usr/local/lib/python3.12/site-packages/os_command_py/os_command.py:523\u001b[0m, in \u001b[0;36mCommand.run_background\u001b[0;34m(self, func_input_dict, com_input, display, out_data)\u001b[0m\n\u001b[1;32m    521\u001b[0m \u001b[38;5;28mprint\u001b[39m(stdout_data\u001b[38;5;241m.\u001b[39mdecode(\u001b[38;5;124m'\u001b[39m\u001b[38;5;124mutf-8\u001b[39m\u001b[38;5;124m'\u001b[39m))\n\u001b[1;32m    522\u001b[0m \u001b[38;5;28mprint\u001b[39m(stderr_data\u001b[38;5;241m.\u001b[39mdecode(\u001b[38;5;124m'\u001b[39m\u001b[38;5;124mutf-8\u001b[39m\u001b[38;5;124m'\u001b[39m))\n\u001b[0;32m--> 523\u001b[0m \u001b[38;5;28;01mraise\u001b[39;00m \u001b[38;5;167;01mRuntimeError\u001b[39;00m(\u001b[38;5;124m'\u001b[39m\u001b[38;5;124mFollowing Command Fails : \u001b[39m\u001b[38;5;132;01m{}\u001b[39;00m\u001b[38;5;124m'\u001b[39m\u001b[38;5;241m.\u001b[39mformat(\n\u001b[1;32m    524\u001b[0m     \u001b[38;5;124m\"\u001b[39m\u001b[38;5;124m \u001b[39m\u001b[38;5;124m\"\u001b[39m\u001b[38;5;241m.\u001b[39mjoin(\u001b[38;5;28mself\u001b[39m\u001b[38;5;241m.\u001b[39mcmd)))\n",
      "\u001b[0;31mRuntimeError\u001b[0m: Following Command Fails : /usr/local/bin/gmx mdrun -s equi_HA_ku04amp01_pgl_complex.tpr -deffnm equi_HA_ku04amp01_pgl_complex -nt 12 -ntmpi 0 -nsteps -2 -nocopyright -gpu_id 0"
     ]
    }
   ],
   "source": [
    "#%%script true\n",
    "#Parallelization\n",
    "nthreads = int(os.environ.get('PBS_NCPUS', '12'))\n",
    "sys_name = \"ku04amp01_pgl_complex\"\n",
    "#Set Parallelization\n",
    "complex_sys.nt = nthreads\n",
    "#complex_sys.ntmpi = 1\n",
    "complex_sys.gpu_id = '0'\n",
    "\n",
    "complex_sys.equi_three_step(out_folder=equi_folder,\n",
    "        name=sys_name,\n",
    "        nsteps_HA=HA_step,  \n",
    "        nsteps_CA=CA_step,\n",
    "        nsteps_CA_LOW=CA_LOW_step,\n",
    "        dt=dt, dt_HA=dt_HA,\n",
    "        tc_grps='Protein_PGL Water_and_ions',\n",
    "        tau_t= '0.1 0.1',\n",
    "        ref_t= '310 310',\n",
    "        vsite=vsite, maxwarn=10, iter_num=1)"
   ]
  },
  {
   "cell_type": "markdown",
   "metadata": {},
   "source": [
    "This error is a 'blow-up'. See:\n",
    "\n",
    "https://manual.gromacs.org/documentation/current/user-guide/terminology.html#blowing-up\n",
    "\n",
    "\n",
    "\n",
    "Diagnosis:\n",
    "\n",
    "1. Running protein only simulation works fine upto and including equilibration stage.\n",
    "2. Running ligand simulation in vacuum upto equilibration stage ..."
   ]
  },
  {
   "cell_type": "code",
   "execution_count": 6,
   "metadata": {},
   "outputs": [],
   "source": [
    "%%script true\n",
    "import pickle, datetime\n",
    "chkpt_fname='checkpoint.equi_' + datetime.date.today().strftime(\"%Y%m%d\") + \".pycpt\"\n",
    "with open(chkpt_fname, 'wb') as py_cpt:\n",
    "    pickle.dump(complex_sys, py_cpt)"
   ]
  },
  {
   "cell_type": "markdown",
   "metadata": {},
   "source": [
    "### Plot Equilibriation\n",
    "\n",
    "Since the statistical ensemble is pretty much always NPT, this is different from the Lemkul-lysozyme tutorial at [MDTutorials](http://www.mdtutorials.com/gmx/lysozyme/). So we need to see Volume as well as Pressure, temperature, and density."
   ]
  },
  {
   "cell_type": "code",
   "execution_count": 4,
   "metadata": {},
   "outputs": [],
   "source": [
    "%%script true\n",
    "import pickle, datetime\n",
    "chkpt_fname='checkpoint.equi_20250204.pycpt'\n",
    "\n",
    "with open(chkpt_fname, 'rb') as py_cpt:\n",
    "    complex_sys = pickle.load(py_cpt)"
   ]
  },
  {
   "cell_type": "code",
   "execution_count": null,
   "metadata": {},
   "outputs": [],
   "source": [
    "%%script true\n",
    "quantities = [\"Temperature\", \"Pressure\", \"Volume\", \"Density\"]\n",
    "units = [\"$K$\", \"$bar$\", \"$A^3$\", \"$kg/m^3$\"]\n",
    "\n",
    "pd_1 = complex_sys.sys_history[-2].get_ener(selection_list=quantities)\n",
    "pd_2 = complex_sys.sys_history[-1].get_ener(selection_list=quantities)\n",
    "pd_3 = complex_sys.get_ener(selection_list=quantities)\n",
    "\n",
    "pd_1['label'] = 'HA_constr'\n",
    "pd_2['label'] = 'CA_constr'\n",
    "pd_2['Time (ps)'] = pd_2['Time (ps)'] + pd_1['Time (ps)'].max()\n",
    "pd_3['label'] = 'CA_LOW_constr'\n",
    "pd_3['Time (ps)'] = pd_3['Time (ps)'] + pd_2['Time (ps)'].max()\n",
    "\n",
    "display(pd.concat([pd_1, pd_2, pd_3]))"
   ]
  },
  {
   "cell_type": "code",
   "execution_count": null,
   "metadata": {},
   "outputs": [],
   "source": [
    "%%script true\n",
    "plt.rcParams.update({'font.size': 22})\n",
    "\n",
    "fig, axs = plt.subplots(4, 1, figsize=(24,13.5), sharex=True, tight_layout=True)\n",
    "\n",
    "for ax, quantity, unit in zip(axs, quantities, units):\n",
    "    for df in (pd_1, pd_2, pd_3):\n",
    "        ax.plot(df[\"Time (ps)\"], df[quantity], label=str(df['label'][0]))\n",
    "        ax.set_ylabel(quantity + \"(\" + unit + \")\")\n",
    "        ax.grid()\n",
    "\n",
    "axs[0].legend()\n",
    "axs[-1].set_xlabel(\"Time (ps)\");"
   ]
  },
  {
   "cell_type": "markdown",
   "metadata": {},
   "source": [
    "Looks okay to me. Fluctuations are high at the end because CA constraints are low, but there is a well-defined average."
   ]
  },
  {
   "cell_type": "markdown",
   "metadata": {},
   "source": [
    "### Plot RMSD"
   ]
  },
  {
   "cell_type": "code",
   "execution_count": null,
   "metadata": {},
   "outputs": [],
   "source": [
    "%%script true\n",
    "# Define reference structure for RMSD calculation\n",
    "ref_sys =  complex_sys.sys_history[1]\n",
    "struct=\"Protein\"\n",
    "\n",
    "rmsd_pd_1 = complex_sys.sys_history[-2].get_rmsd([struct, struct], ref_sys=ref_sys)\n",
    "rmsd_pd_2 = complex_sys.sys_history[-1].get_rmsd([struct, struct], ref_sys=ref_sys)\n",
    "rmsd_pd_3 = complex_sys.get_rmsd([struct, struct], ref_sys=ref_sys)\n",
    "\n",
    "\n",
    "rmsd_pd_1['label'] = 'HA_constr'\n",
    "rmsd_pd_2['label'] = 'CA_constr'\n",
    "rmsd_pd_2['time'] = rmsd_pd_2['time'] + rmsd_pd_1['time'].max()\n",
    "rmsd_pd_3['label'] = 'CA_LOW_constr'\n",
    "rmsd_pd_3['time'] = rmsd_pd_3['time'] + rmsd_pd_2['time'].max()\n",
    "\n",
    "display(pd.concat([rmsd_pd_1, rmsd_pd_2, rmsd_pd_3]))\n"
   ]
  },
  {
   "cell_type": "code",
   "execution_count": null,
   "metadata": {
    "scrolled": true
   },
   "outputs": [],
   "source": [
    "%%script true\n",
    "fig, ax = plt.subplots(1, 1, figsize=(24,13.5))\n",
    "\n",
    "for df in (rmsd_pd_1, rmsd_pd_2, rmsd_pd_3):\n",
    "        ax.plot(df[\"time\"], df[\"Protein\"], label=str(df['label'][0]))\n",
    "        \n",
    "ax.set_title(struct)\n",
    "ax.set_ylabel('RMSD (nm)')\n",
    "ax.set_xlabel('Time (ps)')\n",
    "plt.grid()"
   ]
  },
  {
   "cell_type": "markdown",
   "metadata": {},
   "source": [
    "## Production MD \n",
    "\n",
    "tc-coupling groups are required here as well. See [gromacs-py manual](https://gromacs-py.readthedocs.io/en/latest/notebook/01_dna_ligand_ambertools.html#Production)"
   ]
  },
  {
   "cell_type": "code",
   "execution_count": 6,
   "metadata": {},
   "outputs": [],
   "source": [
    "#%%script true\n",
    "import pickle, datetime\n",
    "chkpt_fname='checkpoint.equi_20250204.pycpt'\n",
    "\n",
    "with open(chkpt_fname, 'rb') as py_cpt:\n",
    "    complex_sys = pickle.load(py_cpt)"
   ]
  },
  {
   "cell_type": "code",
   "execution_count": 8,
   "metadata": {},
   "outputs": [],
   "source": [
    "#%%script true\n",
    "#Parallelization\n",
    "nthreads = int(os.environ.get('PBS_NCPUS', '16'))\n",
    "\n",
    "#Set Parallelization\n",
    "complex_sys.nt = nthreads\n",
    "#complex_sys.ntmpi = 1\n",
    "complex_sys.gpu_id = '0'\n",
    "\n",
    "complex_sys.production(out_folder=prod_folder,\n",
    "        nsteps=prod_step,\n",
    "        tc_grps='Protein_PGL Water_and_ions',\n",
    "        tau_t= '0.1 0.1',\n",
    "        ref_t= '310 310',\n",
    "        dt=dt, vsite=vsite, maxwarn=1, nstlist=200)"
   ]
  },
  {
   "cell_type": "markdown",
   "metadata": {},
   "source": [
    "## Checkpointing for extending\n"
   ]
  },
  {
   "cell_type": "code",
   "execution_count": null,
   "metadata": {},
   "outputs": [],
   "source": [
    "#%%script true\n",
    "import pickle, datetime\n",
    "chkpt_fname='checkpoint.prod_' + datetime.date.today().strftime(\"%Y%m%d\") + '.pycpt'\n",
    "with open(chkpt_fname, 'wb') as py_cpt:\n",
    "    pickle.dump(complex_sys, py_cpt)"
   ]
  },
  {
   "cell_type": "markdown",
   "metadata": {},
   "source": [
    "## Post-Production"
   ]
  },
  {
   "cell_type": "code",
   "execution_count": 12,
   "metadata": {},
   "outputs": [],
   "source": [
    "%%script true\n",
    "import pickle, datetime\n",
    "chkpt_fname='checkpoint.prod_20250128.pycpt'\n",
    "\n",
    "with open(chkpt_fname, 'rb') as py_cpt:\n",
    "    complex_sys = pickle.load(py_cpt)"
   ]
  },
  {
   "cell_type": "markdown",
   "metadata": {},
   "source": [
    "### Prepare Production Trajectory for Viewing\n",
    "\n",
    "#### Center Trajectory"
   ]
  },
  {
   "cell_type": "code",
   "execution_count": null,
   "metadata": {
    "scrolled": true
   },
   "outputs": [],
   "source": [
    "#%%script true\n",
    "# Center trajectory\n",
    "complex_sys.center_mol_box(traj=True)"
   ]
  },
  {
   "cell_type": "markdown",
   "metadata": {},
   "source": [
    "## Final Steps\n",
    "As in any simulation conducted with periodic boundary conditions, molecules may appear \"broken\" or may \"jump\" back and forth across the box. To recenter the protein and rewrap the molecules within the unit cell to recover the desired box shape, invoke trjconv. \n",
    "\n",
    "Choose \"Protein\" for centering and \"System\" for output."
   ]
  },
  {
   "cell_type": "code",
   "execution_count": null,
   "metadata": {},
   "outputs": [],
   "source": [
    "#%%script true\n",
    "complex_sys.convert_trj(select='Protein\\nSystem', fit='rot+trans', pbc='none')"
   ]
  },
  {
   "cell_type": "markdown",
   "metadata": {},
   "source": [
    "#### Extract production initial condition\n",
    "Optionally, extract the first frame of the final prod traj (latest from history, as the running one got updated) into a `pdb` for loading into post processing."
   ]
  },
  {
   "cell_type": "code",
   "execution_count": null,
   "metadata": {},
   "outputs": [],
   "source": [
    "#%%script true\n",
    "complex_sys.sys_history[-1].convert_trj(select='Protein\\nSystem', fit='rot+trans', pbc='none', specific_coor_out=prod_folder+\"/start.pdb\", dump=\"0\")"
   ]
  }
 ],
 "metadata": {
  "celltoolbar": "Edit Metadata",
  "kernelspec": {
   "display_name": "Python 3 (ipykernel)",
   "language": "python",
   "name": "python3"
  },
  "language_info": {
   "codemirror_mode": {
    "name": "ipython",
    "version": 3
   },
   "file_extension": ".py",
   "mimetype": "text/x-python",
   "name": "python",
   "nbconvert_exporter": "python",
   "pygments_lexer": "ipython3",
   "version": "3.12.8"
  },
  "toc": {
   "base_numbering": 1,
   "nav_menu": {},
   "number_sections": true,
   "sideBar": true,
   "skip_h1_title": false,
   "title_cell": "Table of Contents",
   "title_sidebar": "Contents",
   "toc_cell": false,
   "toc_position": {},
   "toc_section_display": true,
   "toc_window_display": false
  }
 },
 "nbformat": 4,
 "nbformat_minor": 4
}
