{
 "cells": [
  {
   "cell_type": "markdown",
   "id": "c71d2840",
   "metadata": {},
   "source": [
    "## Modelling multiple protein structures together\n",
    "\n",
    "\n",
    "We use a combination of homology and alphafold (AI models) available in SWISSMODEL, the automated protein structure homology-modelling server, accessible via the Expasy web server. \n",
    "\n",
    "Directly taken from;\n",
    "\n",
    "https://swissmodel.expasy.org/docs/help#modelling_api\n",
    "\n",
    "\n",
    "\n",
    "\n",
    "Steps:\n",
    "\n",
    "1. Obtain API token: Downloaded from account @ swissmodel and stored in file @ ~/.config/swissmodel/apikey.txt\n",
    "2. Then, Load all provided fasta sequences\n"
   ]
  },
  {
   "cell_type": "code",
   "execution_count": 13,
   "id": "2b3cf3e8",
   "metadata": {},
   "outputs": [],
   "source": [
    "from Bio import SeqIO\n",
    "\n",
    "# Read the FASTA file and store sequences in a dictionary\n",
    "fasta_dict = {}\n",
    "with open(\"pseudomonas_sequences.fna\", \"r\") as fasta_file:\n",
    "    for record in SeqIO.parse(fasta_file, \"fasta\"):\n",
    "        fasta_dict[record.id] = str(record.seq)"
   ]
  },
  {
   "cell_type": "markdown",
   "id": "63c451af",
   "metadata": {},
   "source": [
    "3. Start Automodel projects for each sequence"
   ]
  },
  {
   "cell_type": "code",
   "execution_count": null,
   "id": "e7821b8b",
   "metadata": {},
   "outputs": [],
   "source": [
    "import os\n",
    "\n",
    "apikey_path = os.path.expanduser(\"~/.config/swissmodel/apikey.txt\")\n",
    "with open(apikey_path, 'r') as f:\n",
    "    api_key = f.read().strip()\n",
    "\n",
    "print(\"API Key imported successfully:\", api_key)"
   ]
  },
  {
   "cell_type": "code",
   "execution_count": null,
   "id": "d540b8c4",
   "metadata": {},
   "outputs": [],
   "source": [
    "import requests\n",
    "\n",
    "\n",
    "for record_id, sequence in fasta_dict.items():\n",
    "    print(f\"Submitting sequence for {record_id} ...\")\n",
    "    response = requests.post(\n",
    "        \"https://swissmodel.expasy.org/automodel\",\n",
    "        headers={ \"Authorization\": f\"Token {api_key}\" },\n",
    "        json={ \n",
    "            \"target_sequences\": [sequence],\n",
    "            \"project_title\": f\"Automodelling project for {record_id}\"\n",
    "        }\n",
    "    )\n",
    "    if response.status_code == 201:\n",
    "        print(f\"Submission for {record_id} successful.\")\n",
    "        if 'responses_by_record' not in globals():\n",
    "            responses_by_record = {}\n",
    "        responses_by_record[record_id] = response\n",
    "    else:\n",
    "        print(f\"Error submitting {record_id}: {response.status_code} - {response.text}\")\n",
    "\n"
   ]
  },
  {
   "cell_type": "markdown",
   "id": "c2543a09",
   "metadata": {},
   "source": [
    "4. Fetch the results"
   ]
  },
  {
   "cell_type": "code",
   "execution_count": null,
   "id": "ccf27b80",
   "metadata": {},
   "outputs": [
    {
     "name": "stdout",
     "output_type": "stream",
     "text": [
      "Job status is now COMPLETED\n"
     ]
    }
   ],
   "source": [
    "for record_id, sequence in fasta_dict.items():\n",
    "    print(f\"Submitting sequence for {record_id} ...\")\n",
    "    response = responses_by_record[record_id]\n",
    "    if response.status_code == 201:\n",
    "        print(f\"Submission for {record_id} successful.\")\n",
    "    else:\n",
    "        print(f\"Error submitting {record_id}: {response.status_code} - {response.text}\")\n",
    "\n",
    "    # Obtain the project_id from the response created above\n",
    "    project_id = response.json()[\"project_id\"]\n",
    "\n",
    "    # And loop until the project completes\n",
    "    import time\n",
    "    while True:\n",
    "        # We wait for some time\n",
    "        time.sleep(10)\n",
    "\n",
    "        # Update the status from the server \n",
    "        response = requests.get(\n",
    "            f\"https://swissmodel.expasy.org/project/{ project_id }/models/summary/\", \n",
    "            headers={ \"Authorization\": f\"Token {api_key}\" })\n",
    "\n",
    "        # Update the status\n",
    "        status = response.json()[\"status\"]\n",
    "\n",
    "        print('Job status is now', status)\n",
    "\n",
    "        if status in [\"COMPLETED\", \"FAILED\"]:\n",
    "            break"
   ]
  },
  {
   "cell_type": "markdown",
   "id": "e101f86e",
   "metadata": {},
   "source": [
    "4. Check if the job is COMPLETED and fetch the model coordinates"
   ]
  },
  {
   "cell_type": "code",
   "execution_count": null,
   "id": "5c3152f6",
   "metadata": {},
   "outputs": [
    {
     "name": "stdout",
     "output_type": "stream",
     "text": [
      "https://swissmodel.expasy.org/project/4e76ca/models/01.cif.gz\n",
      "https://swissmodel.expasy.org/project/4e76ca/models/01.pdb.gz\n",
      "Downloaded: downloaded_models/01_coordinates.pdb.gz\n"
     ]
    }
   ],
   "source": [
    "import os\n",
    "import gzip\n",
    "import shutil\n",
    "import tqdm.notebook as tqdm\n",
    "# Create a directory to store the downloaded models\n",
    "out_dir = \"downloaded_models\"\n",
    "os.makedirs(out_dir, exist_ok=True)\n",
    "\n",
    "for record_id, sequence in fasta_dict.items():\n",
    "    response = responses_by_record[record_id]\n",
    "    response_object = response.json()\n",
    "    if response_object['status']=='COMPLETED':\n",
    "        for model in response_object['models']:\n",
    "            print(model['modelcif_url'])    # ModelCif Format\n",
    "            print(model['coordinates_url']) # PDB Format\n",
    "            # For each model, download the coordinates file in PDB format\n",
    "            url = model[\"coordinates_url\"]\n",
    "            download_response = requests.get(url)\n",
    "            if download_response.status_code == 200:\n",
    "                # Save using model_id in filename to distinguish files\n",
    "                filename = os.path.join(out_dir, f\"{record_id}_{model['model_id']}_coordinates.pdb.gz\")\n",
    "                with open(filename, \"wb\") as f:\n",
    "                    f.write(download_response.content)\n",
    "                # Remove the .gz extension to get the target pdb filename\n",
    "                unp_file = filename[:-3]\n",
    "\n",
    "                # Decompress the .gz file to a .pdb file\n",
    "                with gzip.open(filename, 'rb') as f_in, open(unp_file, 'wb') as f_out:\n",
    "                    shutil.copyfileobj(f_in, f_out)\n",
    "\n",
    "                # Read the decompressed pdb file content\n",
    "                with open(unp_file, 'r') as pdb_in:\n",
    "                    pdb_content = pdb_in.read()\n",
    "\n",
    "                # Prepend REMARK lines containing the record id and its fasta sequence \n",
    "                remarks = f\"REMARK Record ID: {record_id}\\nREMARK Sequence: {fasta_dict[record_id]}\\n\"\n",
    "                with open(unp_file, 'w') as pdb_out:\n",
    "                    pdb_out.write(remarks + pdb_content)\n",
    "                print(\"Downloaded:\", filename)\n",
    "            else:\n",
    "                print(\"Failed to download:\", url)"
   ]
  }
 ],
 "metadata": {
  "kernelspec": {
   "display_name": "mdanalysis-dev",
   "language": "python",
   "name": "python3"
  },
  "language_info": {
   "codemirror_mode": {
    "name": "ipython",
    "version": 3
   },
   "file_extension": ".py",
   "mimetype": "text/x-python",
   "name": "python",
   "nbconvert_exporter": "python",
   "pygments_lexer": "ipython3",
   "version": "3.12.0"
  }
 },
 "nbformat": 4,
 "nbformat_minor": 5
}
