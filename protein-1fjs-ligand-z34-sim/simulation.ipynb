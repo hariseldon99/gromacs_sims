{
 "cells": [
  {
   "cell_type": "markdown",
   "id": "b5d84b4d",
   "metadata": {},
   "source": [
    "# Very Quick Test Simulation with GROMACS\n",
    "\n",
    "## Introduction\n",
    "Adapted from a [GROMACS Tutorial](https://tutorials.gromacs.org/docs/md-intro-tutorial.html), this test seeks a brief molecular dynamics simulation between a small protein called `Factor Xa` (PDB code `1FJS`), and a co-crystallized ligand, called `INHIBITOR ZK-807834 (CI-1031)` (residue name `z34`). \n",
    "\n",
    "The objective of this exercise was to test my singularity image of `GROMACS` bundled with associated goodies as detailed in the singularity def file [obtained here](.config/gromacs_2024.5-GPU.def).\n",
    "\n",
    "The simulation time data is given below. For further background, see the MD-tutorials by Justin Lemkul @ http://www.mdtutorials.com/gmx/.\n",
    "\n",
    "| Stage                | Purpose                                           | Ensemble | Duration | Time Step | Constraints          | Thermostat (T=300 K) | Barostat (P=1 bar)     | Notes |\n",
    "|----------------------|---------------------------------------------------|----------|----------|-----------|----------------------|----------------------|------------------------|-------|\n",
    "| Energy Minimization  | Relax bad contacts; remove steric clashes         | N/A      | ≤ 50,000 steps (until Fmax < 1000 kJ/mol/nm) | N/A       | None (or LINCS if needed) | None                 | None                   | Steepest descent (then CG optional) |\n",
    "| NVT Equilibration    | Stabilize temperature; densify without pressure coupling | NVT      | 100 ps   | 2 fs      | LINCS on bonds to H  | V-rescale (tau_t=0.1 ps) | None                   | Position restraints on heavy protein & ligand atoms |\n",
    "| NPT Equilibration    | Adjust density & pressure; stabilize volume       | NPT      | 100 ps   | 2 fs      | LINCS on bonds to H  | V-rescale (tau_t=0.1 ps) | Parrinello-Rahman (tau_p=2.0 ps) | Keep position restraints; isotropic coupling |\n",
    "| Production MD        | Collect trajectory for analysis (dynamics, binding) | NPT      | 5 ns     | 2 fs      | LINCS on bonds to H  | V-rescale (tau_t=0.1 ps) | Parrinello-Rahman (tau_p=2.0 ps) | Remove restraints; save frames every 10 ps (e.g. nstxout-compressed=5000) |\n",
    "\n",
    "\n",
    "The starting point for every simulation is a molecular structure file. In this tutorial, we will simulate Factor Xa - a protein playing a critical role in the formation of blood clots. The 3D structure is available from the RCSB website, https://www.rcsb.org/ with PDB code `1FJS`. You can find the PDB file for the crystal structure in the “input” directory as a file called `1fjs.pdb`.\n",
    "\n",
    "\n",
    "### Notabene\n",
    "\n",
    "For best results, launch this notebook on a browser with good webgl compatibility, like firefox or epiphany, not Google Chrome (at least not on linux)."
   ]
  },
  {
   "cell_type": "code",
   "execution_count": 15,
   "id": "a5c97ae7",
   "metadata": {
    "execution": {
     "iopub.execute_input": "2025-09-29T20:57:34.723202Z",
     "iopub.status.busy": "2025-09-29T20:57:34.722959Z",
     "iopub.status.idle": "2025-09-29T20:57:34.748478Z",
     "shell.execute_reply": "2025-09-29T20:57:34.747783Z",
     "shell.execute_reply.started": "2025-09-29T20:57:34.723181Z"
    }
   },
   "outputs": [
    {
     "data": {
      "application/vnd.jupyter.widget-view+json": {
       "model_id": "b70a07b9e5b44d38985da71c8f76f2c8",
       "version_major": 2,
       "version_minor": 0
      },
      "text/plain": [
       "NGLWidget()"
      ]
     },
     "metadata": {},
     "output_type": "display_data"
    }
   ],
   "source": [
    "import nglview as ng\n",
    "import pandas as pd\n",
    "import os\n",
    "os.chdir(\"/host_pwd/protein-1fjs-ligand-z34-sim\")\n",
    "view = ng.show_structure_file(\"1fjs_protein.pdb\")\n",
    "view"
   ]
  },
  {
   "cell_type": "markdown",
   "id": "705277e2",
   "metadata": {},
   "source": [
    "## Cleaning the input structure\n",
    "Once you’ve had a look at the molecule, you are going to want to strip out all the atoms that do not belong to the protein (e.i crystal waters, ligands, etc). To delete those atoms (labelled “HETATM” in the PDB file) and eventually their connectivity, either use a plain text editor like vi, emacs (Linux/Mac), or Notepad (Windows). Do not use word processing software! Alternatively, you can use `grep` to delete these lines very easily:\n",
    "\n",
    "```bash\n",
    "$ grep -v HETATM 1fjs.pdb > 1fjs_protein_tmp.pdb\n",
    "$ grep -v CONECT 1fjs_protein_tmp.pdb > 1fjs_protein.pdb\n",
    "```\n",
    "\n",
    "Next, load into `pymol` the original `1fjs.pdb` that was downloaded from RCSB and use the sequence menu option to view the sequence. Use the mouse to select the residue labelled `z34` and save it into a separate pdb named `z34.pdb`. \n",
    "\n",
    "Now, you have two PDB files, the pure protein in `1fjs_protein.pdb`, and the ligand in `z34.pdb`.\n",
    "\n",
    "## Molecular Protein-Ligand Docking\n",
    "\n",
    "Next step is to dock the ligand into the protein optimally. To do so, use the `AMDock` tool after downloading and installing it from [their GitHub page](https://github.com/Valdes-Tresanco-MS/AMDock). Once the docking is finished, use pymol to prepare a protein-ligand complex PDB file with the ligand fully docked.  "
   ]
  },
  {
   "cell_type": "code",
   "execution_count": 16,
   "id": "9b787048-6070-4869-aad7-24b2f39c283a",
   "metadata": {
    "execution": {
     "iopub.execute_input": "2025-09-29T20:57:38.628623Z",
     "iopub.status.busy": "2025-09-29T20:57:38.628337Z",
     "iopub.status.idle": "2025-09-29T20:57:38.645778Z",
     "shell.execute_reply": "2025-09-29T20:57:38.645001Z",
     "shell.execute_reply.started": "2025-09-29T20:57:38.628599Z"
    }
   },
   "outputs": [
    {
     "data": {
      "application/vnd.jupyter.widget-view+json": {
       "model_id": "759d6e48dbc14d1cb363622a9e0469a2",
       "version_major": 2,
       "version_minor": 0
      },
      "text/plain": [
       "NGLWidget()"
      ]
     },
     "metadata": {},
     "output_type": "display_data"
    }
   ],
   "source": [
    "view = ng.show_structure_file(\"1fjs_protein_z34.pdb\")\n",
    "view"
   ]
  },
  {
   "cell_type": "markdown",
   "id": "3e09a9b6-daff-4190-8f21-99b42c147663",
   "metadata": {},
   "source": [
    "## Actual Simulation\n",
    "\n",
    "Finally, use my handy-dandy python script to launch the simulation using the bioexel building blocks modules. For details, check out their website @ https://biobb-wf-protein-complex-md-setup.readthedocs.io/en/latest/index.html.\n",
    "\n",
    "The default is to supply the input PDB with all atoms and molecules properly labelled and optimally docked. Then the script splits off the ligand (usually a small molecule) from the receptor (usually a protein, but a peptide or DNA/RNA segment or any combination of amino acids and/or nucleic acids should work just fine), protonates it if necessary, uses `acpype` to generate the ligand topology data (via stochastic gradient descent on the Hartree-Fock electronic ground state), then automagically follows the steps sequentially as indicated in the table above. Once the full production MD is complete, it post-processes the trajectory to remove artefacts and center the complex (labelled as 'Protein_Other'), making it ready for viewing and analysis."
   ]
  },
  {
   "cell_type": "code",
   "execution_count": 9,
   "id": "c152b542-fe1b-4696-bd58-3caaeb67abc3",
   "metadata": {},
   "outputs": [
    {
     "name": "stderr",
     "output_type": "stream",
     "text": [
      "/usr/local/lib/python3.12/site-packages/biobb_analysis/gromacs/gmx_energy.py:37: SyntaxWarning: invalid escape sequence '\\('\n",
      "  * **terms** (*list*) - ([\"Potential\"]) Energy terms. Values: Angle, Proper-Dih., Improper-Dih., LJ-14, Coulomb-14, LJ-\\(SR\\), Coulomb-\\(SR\\), Coul.-recip., Position-Rest., Potential, Kinetic-En., Total-Energy, Temperature, Pressure,  Constr.-rmsd, Box-X, Box-Y,  Box-Z, Volume, Density, pV, Enthalpy, Vir-XX, Vir-XY, Vir-XZ, Vir-YX, Vir-YY, Vir-YZ, Vir-ZX, Vir-ZY, Vir-ZZ, Pres-XX, Pres-XY, Pres-XZ, Pres-YX, Pres-YY,  Pres-YZ, Pres-ZX, Pres-ZY, Pres-ZZ, #Surf*SurfTen, Box-Vel-XX, Box-Vel-YY, Box-Vel-ZZ, Mu-X, Mu-Y, Mu-Z, T-Protein, T-non-Protein, Lamb-Protein, Lamb-non-Protein.\n"
     ]
    }
   ],
   "source": [
    "import importmonkey\n",
    "importmonkey.add_path(\"/host_pwd/scripts\")\n",
    "import biobb_protein_ligand_simulation as plsim"
   ]
  },
  {
   "cell_type": "code",
   "execution_count": 10,
   "id": "df822c00",
   "metadata": {},
   "outputs": [
    {
     "name": "stdout",
     "output_type": "stream",
     "text": [
      "==================================================\n",
      "Start of Protein-Ligand Dynamics Simulation\n",
      "==================================================\n",
      "+---------------------------+-----------------------------------------------+\n",
      "| Parameter                 | Value                                         |\n",
      "+===========================+===============================================+\n",
      "| Input Structure           | 1fjs_protein_z34.pdb                          |\n",
      "+---------------------------+-----------------------------------------------+\n",
      "| Ligand Code               | Z34                                           |\n",
      "+---------------------------+-----------------------------------------------+\n",
      "| Ligand Charge             | 0                                             |\n",
      "+---------------------------+-----------------------------------------------+\n",
      "| Output Directory          | simulation                                    |\n",
      "+---------------------------+-----------------------------------------------+\n",
      "| Number of Processors      | 12                                            |\n",
      "+---------------------------+-----------------------------------------------+\n",
      "| Use GPU                   | True                                          |\n",
      "+---------------------------+-----------------------------------------------+\n",
      "| GPU ID                    | 0                                             |\n",
      "+---------------------------+-----------------------------------------------+\n",
      "| Energy Minimization Steps | 5000                                          |\n",
      "+---------------------------+-----------------------------------------------+\n",
      "| NVT Time (ps)             | 100.0                                         |\n",
      "+---------------------------+-----------------------------------------------+\n",
      "| NPT Time (ps)             | 100.0                                         |\n",
      "+---------------------------+-----------------------------------------------+\n",
      "| MD Time (ns)              | 5.0                                           |\n",
      "+---------------------------+-----------------------------------------------+\n",
      "| Log File                  | simulation/simulation_log_20250929-101300.log |\n",
      "+---------------------------+-----------------------------------------------+\n"
     ]
    },
    {
     "data": {
      "text/plain": [
       "True"
      ]
     },
     "execution_count": 10,
     "metadata": {},
     "output_type": "execute_result"
    },
    {
     "name": "stdout",
     "output_type": "stream",
     "text": [
      "==================================================\n",
      "End of Protein-Ligand Dynamics Simulation\n",
      "==================================================\n"
     ]
    },
    {
     "name": "stderr",
     "output_type": "stream",
     "text": [
      "               :-) GROMACS - gmx trjconv, 2024.5-conda_forge (-:\n",
      "\n",
      "Executable:   /usr/local/bin.AVX2_256/gmx\n",
      "Data prefix:  /usr/local\n",
      "Working dir:  /host_pwd/protein-1fjs-ligand-z34-sim\n",
      "Command line:\n",
      "  gmx trjconv -f simulation/prot_1fjs_protein_z34_Z34_cluster_center_traj.xtc -s simulation/prot_1fjs_protein_z34_Z34_gppmd.tpr -o simulation/prot_1fjs_protein_z34_Z34_cluster_center_traj.xtc -pbc mol -center\n",
      "\n",
      "Will write xtc: Compressed trajectory (portable xdr format): xtc\n",
      "Reading file simulation/prot_1fjs_protein_z34_Z34_gppmd.tpr, VERSION 2024.5-conda_forge (single precision)\n",
      "Reading file simulation/prot_1fjs_protein_z34_Z34_gppmd.tpr, VERSION 2024.5-conda_forge (single precision)\n",
      "Group     0 (         System) has 36638 elements\n",
      "Group     1 (        Protein) has  4417 elements\n",
      "Group     2 (      Protein-H) has  2238 elements\n",
      "Group     3 (        C-alpha) has   286 elements\n",
      "Group     4 (       Backbone) has   858 elements\n",
      "Group     5 (      MainChain) has  1146 elements\n",
      "Group     6 (   MainChain+Cb) has  1405 elements\n",
      "Group     7 (    MainChain+H) has  1427 elements\n",
      "Group     8 (      SideChain) has  2990 elements\n",
      "Group     9 (    SideChain-H) has  1092 elements\n",
      "Group    10 (    Prot-Masses) has  4417 elements\n",
      "Group    11 (    non-Protein) has 32221 elements\n",
      "Group    12 (          Other) has    62 elements\n",
      "Group    13 (            Z34) has    62 elements\n",
      "Group    14 (             NA) has     2 elements\n",
      "Group    15 (          Water) has 32157 elements\n",
      "Group    16 (            SOL) has 32157 elements\n",
      "Group    17 (      non-Water) has  4481 elements\n",
      "Group    18 (            Ion) has     2 elements\n",
      "Group    19 ( Water_and_ions) has 32159 elements\n",
      "Select a group: Group     0 (         System) has 36638 elements\n",
      "Group     1 (        Protein) has  4417 elements\n",
      "Group     2 (      Protein-H) has  2238 elements\n",
      "Group     3 (        C-alpha) has   286 elements\n",
      "Group     4 (       Backbone) has   858 elements\n",
      "Group     5 (      MainChain) has  1146 elements\n",
      "Group     6 (   MainChain+Cb) has  1405 elements\n",
      "Group     7 (    MainChain+H) has  1427 elements\n",
      "Group     8 (      SideChain) has  2990 elements\n",
      "Group     9 (    SideChain-H) has  1092 elements\n",
      "Group    10 (    Prot-Masses) has  4417 elements\n",
      "Group    11 (    non-Protein) has 32221 elements\n",
      "Group    12 (          Other) has    62 elements\n",
      "Group    13 (            Z34) has    62 elements\n",
      "Group    14 (             NA) has     2 elements\n",
      "Group    15 (          Water) has 32157 elements\n",
      "Group    16 (            SOL) has 32157 elements\n",
      "Group    17 (      non-Water) has  4481 elements\n",
      "Group    18 (            Ion) has     2 elements\n",
      "Group    19 ( Water_and_ions) has 32159 elements\n",
      "Reading frame       0 time    0.000   \n",
      "Precision of simulation/prot_1fjs_protein_z34_Z34_cluster_center_traj.xtc is 0.001 (nm)\n",
      "Using output precision of 0.001 (nm)\n",
      "\n",
      "Back Off! I just backed up simulation/prot_1fjs_protein_z34_Z34_cluster_center_traj.xtc to simulation/#prot_1fjs_protein_z34_Z34_cluster_center_traj.xtc.1#\n",
      "Reading frame    2000 time 4000.000    ->  frame   1999 time 3998.000      \n",
      "\n",
      "Last written: frame   2500 time 5000.000\n",
      "\n",
      "\n",
      "GROMACS reminds you: \"Baseball Heroes Only\" (P.J. Harvey)\n",
      "\n"
     ]
    },
    {
     "name": "stdout",
     "output_type": "stream",
     "text": [
      "Note that major changes are planned in future for trjconv, to improve usability and utility.\n",
      "Select group for centering\n",
      "Selected 0: 'System'\n",
      "Select group for output\n",
      "Selected 13: 'Z34'\n"
     ]
    },
    {
     "name": "stderr",
     "output_type": "stream",
     "text": [
      "               :-) GROMACS - gmx trjconv, 2024.5-conda_forge (-:\n",
      "\n",
      "Executable:   /usr/local/bin.AVX2_256/gmx\n",
      "Data prefix:  /usr/local\n",
      "Working dir:  /host_pwd/protein-1fjs-ligand-z34-sim\n",
      "Command line:\n",
      "  gmx trjconv -f simulation/prot_1fjs_protein_z34_Z34_cluster_center_traj.xtc -s simulation/prot_1fjs_protein_z34_Z34_gppmd.tpr -o simulation/prot_1fjs_protein_z34_Z34_cluster_center_traj.xtc -pbc mol -center\n",
      "\n",
      "Will write xtc: Compressed trajectory (portable xdr format): xtc\n",
      "Reading file simulation/prot_1fjs_protein_z34_Z34_gppmd.tpr, VERSION 2024.5-conda_forge (single precision)\n",
      "Reading file simulation/prot_1fjs_protein_z34_Z34_gppmd.tpr, VERSION 2024.5-conda_forge (single precision)\n",
      "Group     0 (         System) has 36638 elements\n",
      "Group     1 (        Protein) has  4417 elements\n",
      "Group     2 (      Protein-H) has  2238 elements\n",
      "Group     3 (        C-alpha) has   286 elements\n",
      "Group     4 (       Backbone) has   858 elements\n",
      "Group     5 (      MainChain) has  1146 elements\n",
      "Group     6 (   MainChain+Cb) has  1405 elements\n",
      "Group     7 (    MainChain+H) has  1427 elements\n",
      "Group     8 (      SideChain) has  2990 elements\n",
      "Group     9 (    SideChain-H) has  1092 elements\n",
      "Group    10 (    Prot-Masses) has  4417 elements\n",
      "Group    11 (    non-Protein) has 32221 elements\n",
      "Group    12 (          Other) has    62 elements\n",
      "Group    13 (            Z34) has    62 elements\n",
      "Group    14 (             NA) has     2 elements\n",
      "Group    15 (          Water) has 32157 elements\n",
      "Group    16 (            SOL) has 32157 elements\n",
      "Group    17 (      non-Water) has  4481 elements\n",
      "Group    18 (            Ion) has     2 elements\n",
      "Group    19 ( Water_and_ions) has 32159 elements\n",
      "Select a group: Group     0 (         System) has 36638 elements\n",
      "Group     1 (        Protein) has  4417 elements\n",
      "Group     2 (      Protein-H) has  2238 elements\n",
      "Group     3 (        C-alpha) has   286 elements\n",
      "Group     4 (       Backbone) has   858 elements\n",
      "Group     5 (      MainChain) has  1146 elements\n",
      "Group     6 (   MainChain+Cb) has  1405 elements\n",
      "Group     7 (    MainChain+H) has  1427 elements\n",
      "Group     8 (      SideChain) has  2990 elements\n",
      "Group     9 (    SideChain-H) has  1092 elements\n",
      "Group    10 (    Prot-Masses) has  4417 elements\n",
      "Group    11 (    non-Protein) has 32221 elements\n",
      "Group    12 (          Other) has    62 elements\n",
      "Group    13 (            Z34) has    62 elements\n",
      "Group    14 (             NA) has     2 elements\n",
      "Group    15 (          Water) has 32157 elements\n",
      "Group    16 (            SOL) has 32157 elements\n",
      "Group    17 (      non-Water) has  4481 elements\n",
      "Group    18 (            Ion) has     2 elements\n",
      "Group    19 ( Water_and_ions) has 32159 elements\n",
      "Reading frame       0 time    0.000   \n",
      "Precision of simulation/prot_1fjs_protein_z34_Z34_cluster_center_traj.xtc is 0.001 (nm)\n",
      "Using output precision of 0.001 (nm)\n",
      "\n",
      "-------------------------------------------------------\n",
      "Program:     gmx trjconv, version 2024.5-conda_forge\n",
      "Source file: src/gromacs/tools/trjconv.cpp (line 1037)\n",
      "\n",
      "Fatal error:\n",
      "Index[0] 4418 is larger than the number of atoms in the\n",
      "trajectory file (62). There is a mismatch in the contents\n",
      "of your -f, -s and/or -n files.\n",
      "\n",
      "For more information and tips for troubleshooting, please check the GROMACS\n",
      "website at https://manual.gromacs.org/current/user-guide/run-time-errors.html\n",
      "-------------------------------------------------------\n"
     ]
    },
    {
     "name": "stdout",
     "output_type": "stream",
     "text": [
      "Note that major changes are planned in future for trjconv, to improve usability and utility.\n",
      "Select group for centering\n",
      "Selected 0: 'System'\n",
      "Select group for output\n",
      "Selected 13: 'Z34'\n"
     ]
    },
    {
     "name": "stderr",
     "output_type": "stream",
     "text": [
      "                   :-) GROMACS - gmx, 2024.5-conda_forge (-:\n",
      "\n",
      "Executable:   /usr/local/bin.AVX2_256/gmx\n",
      "Data prefix:  /usr/local\n",
      "Working dir:  /host_pwd/protein-1fjs-ligand-z34-sim\n",
      "Command line:\n",
      "  gmx convert_tpr -f simulation/prot_1fjs_protein_z34_Z34_md.trr -s simulation/prot_1fjs_protein_z34_Z34_gppmd.tpr -n simulation/prot_1fjs_protein_z34_Z34_index.ndx -o simulation/prot_1fjs_protein_z34_Z34_cluster_center_traj.tpr\n",
      "\n",
      "-------------------------------------------------------\n",
      "Program:     gmx, version 2024.5-conda_forge\n",
      "Source file: src/gromacs/commandline/cmdlinemodulemanager.cpp (line 385)\n",
      "Function:    gmx::ICommandLineModule* gmx::CommandLineModuleManager::Impl::processCommonOptions(gmx::CommandLineCommonOptionsHolder*, int*, char***)\n",
      "\n",
      "Error in user input:\n",
      "'convert_tpr' is not a GROMACS command.\n",
      "\n",
      "For more information and tips for troubleshooting, please check the GROMACS\n",
      "website at https://manual.gromacs.org/current/user-guide/run-time-errors.html\n",
      "-------------------------------------------------------\n",
      "             :-) GROMACS - gmx convert-tpr, 2024.5-conda_forge (-:\n",
      "\n",
      "Executable:   /usr/local/bin.AVX2_256/gmx\n",
      "Data prefix:  /usr/local\n",
      "Working dir:  /host_pwd/protein-1fjs-ligand-z34-sim\n",
      "Command line:\n",
      "  gmx convert-tpr -f simulation/prot_1fjs_protein_z34_Z34_md.trr -s simulation/prot_1fjs_protein_z34_Z34_gppmd.tpr -n simulation/prot_1fjs_protein_z34_Z34_index.ndx -o simulation/prot_1fjs_protein_z34_Z34_cluster_center_traj.tpr\n",
      "\n",
      "\n",
      "-------------------------------------------------------\n",
      "Program:     gmx convert-tpr, version 2024.5-conda_forge\n",
      "Source file: src/gromacs/commandline/cmdlineparser.cpp (line 271)\n",
      "Function:    void gmx::CommandLineParser::parse(int*, char**)\n",
      "\n",
      "Error in user input:\n",
      "Invalid command-line options\n",
      "    Unknown command-line option -f\n",
      "\n",
      "For more information and tips for troubleshooting, please check the GROMACS\n",
      "website at https://manual.gromacs.org/current/user-guide/run-time-errors.html\n",
      "-------------------------------------------------------\n",
      "             :-) GROMACS - gmx convert-tpr, 2024.5-conda_forge (-:\n",
      "\n",
      "Executable:   /usr/local/bin.AVX2_256/gmx\n",
      "Data prefix:  /usr/local\n",
      "Working dir:  /host_pwd/protein-1fjs-ligand-z34-sim\n",
      "Command line:\n",
      "  gmx convert-tpr -s simulation/prot_1fjs_protein_z34_Z34_gppmd.tpr -n simulation/prot_1fjs_protein_z34_Z34_index.ndx -o simulation/prot_1fjs_protein_z34_Z34_cluster_center_traj.tpr\n",
      "\n",
      "Reading file simulation/prot_1fjs_protein_z34_Z34_gppmd.tpr, VERSION 2024.5-conda_forge (single precision)\n",
      "Group     0 (         System) has 36638 elements\n",
      "Group     1 (        Protein) has  4417 elements\n",
      "Group     2 (      Protein-H) has  2238 elements\n",
      "Group     3 (        C-alpha) has   286 elements\n",
      "Group     4 (       Backbone) has   858 elements\n",
      "Group     5 (      MainChain) has  1146 elements\n",
      "Group     6 (   MainChain+Cb) has  1405 elements\n",
      "Group     7 (    MainChain+H) has  1427 elements\n",
      "Group     8 (      SideChain) has  2990 elements\n",
      "Group     9 (    SideChain-H) has  1092 elements\n",
      "Group    10 (    Prot-Masses) has  4417 elements\n",
      "Group    11 (    non-Protein) has 32221 elements\n",
      "Group    12 (          Other) has    62 elements\n",
      "Group    13 (            Z34) has    62 elements\n",
      "Group    14 (             NA) has     2 elements\n",
      "Group    15 (          Water) has 32157 elements\n",
      "Group    16 (            SOL) has 32157 elements\n",
      "Group    17 (      non-Water) has  4481 elements\n",
      "Group    18 (            Ion) has     2 elements\n",
      "Group    19 ( Water_and_ions) has 32159 elements\n",
      "Group    20 (  Protein_Other) has  4479 elements\n",
      "Select a group: Will write subset Protein_Other of original tpx containing 4479 atoms\n",
      "Reduced ilist    BONDS from   2323 to   2323 entries\n",
      "Reduced ilist   ANGLES from   8133 to   8133 entries\n",
      "Reduced ilist    PDIHS from  12453 to  12453 entries\n",
      "Reduced ilist   PIDIHS from    924 to    924 entries\n",
      "Reduced ilist     LJ14 from  11713 to  11713 entries\n",
      "Reduced ilist   CONSTR from   2203 to   2203 entries\n",
      "Reduced ilist   SETTLE from  10719 to      0 entries\n",
      "Reduced block    excls from  36638 to   4479 index-, 149696 to  53223 a-entries\n",
      "\n",
      "GROMACS reminds you: \"Right Now My Job is Eating These Doughnuts\" (Bodycount)\n",
      "\n"
     ]
    },
    {
     "name": "stdout",
     "output_type": "stream",
     "text": [
      "Selected 20: 'Protein_Other'\n"
     ]
    },
    {
     "name": "stderr",
     "output_type": "stream",
     "text": [
      "/usr/local/lib/python3.12/site-packages/MDAnalysis/coordinates/XDR.py:253: UserWarning: Reload offsets from trajectory\n",
      " ctime or size or n_atoms did not match\n",
      "  warnings.warn(\n"
     ]
    }
   ],
   "source": [
    "input_structure=\"1fjs_protein_z34.pdb\"\n",
    "ligand_code=\"Z34\"\n",
    "ligand_charge=0\n",
    "outdir=\"simulation\"\n",
    "nprocs=12\n",
    "usegpu=True\n",
    "gpuid=\"0\"\n",
    "em_steps=5000\n",
    "\n",
    "nvt_time_ns = 0.1\n",
    "npv_time_ns = 0.1\n",
    "md_time_ns = 5.0\n",
    "\n",
    "\n",
    "npt_steps = int(npv_time_ns * 500000)\n",
    "nvt_steps = int(nvt_time_ns * 500000)\n",
    "md_steps = int(md_time_ns * 500000)\n",
    "\n",
    "protein_1fjs_ligand_z34 = {\n",
    "        'input_structure': input_structure,\n",
    "        'ligand_code': ligand_code,\n",
    "        'ligand_charge': ligand_charge,\n",
    "        'outdir': outdir,\n",
    "        'nprocs': nprocs,\n",
    "        'usegpu': usegpu,\n",
    "        'gpuid': gpuid,\n",
    "        'em_steps': em_steps,\n",
    "        'npt_steps': npt_steps,\n",
    "        'nvt_steps': nvt_steps,\n",
    "        'md_steps': md_steps\n",
    "    }\n",
    "\n",
    "plsim.molecular_dynamics(protein_1fjs_ligand_z34, protonated=False)\n"
   ]
  },
  {
   "cell_type": "markdown",
   "id": "0488ab3f",
   "metadata": {},
   "source": [
    "### Post-Processing\n",
    "\n",
    "Use `gmx convert-tpr` to create a tpr file of protein-ligand selections only."
   ]
  },
  {
   "cell_type": "code",
   "execution_count": 17,
   "id": "6afde726",
   "metadata": {
    "execution": {
     "iopub.execute_input": "2025-09-29T20:57:47.716837Z",
     "iopub.status.busy": "2025-09-29T20:57:47.716597Z",
     "iopub.status.idle": "2025-09-29T20:57:47.720198Z",
     "shell.execute_reply": "2025-09-29T20:57:47.719272Z",
     "shell.execute_reply.started": "2025-09-29T20:57:47.716812Z"
    }
   },
   "outputs": [],
   "source": [
    "import MDAnalysis as mda\n",
    "import nglview as ng\n",
    "import subprocess"
   ]
  },
  {
   "cell_type": "code",
   "execution_count": 18,
   "id": "39392f5a",
   "metadata": {
    "execution": {
     "iopub.execute_input": "2025-09-29T20:57:51.645765Z",
     "iopub.status.busy": "2025-09-29T20:57:51.645571Z",
     "iopub.status.idle": "2025-09-29T20:57:51.648773Z",
     "shell.execute_reply": "2025-09-29T20:57:51.648044Z",
     "shell.execute_reply.started": "2025-09-29T20:57:51.645750Z"
    }
   },
   "outputs": [],
   "source": [
    "ndx_file=\"simulation/prot_1fjs_protein_z34_Z34_index.ndx\"\n",
    "traj_file = \"simulation/prot_1fjs_protein_z34_Z34_cluster_center_traj.xtc\"\n",
    "old_top_file=\"simulation/prot_1fjs_protein_z34_Z34_gppmd.tpr\"\n",
    "top_file = \"simulation/prot_1fjs_protein_z34_Z34_cluster_center_traj.tpr\"\n",
    "ligand_code = \"Z34\""
   ]
  },
  {
   "cell_type": "code",
   "execution_count": null,
   "id": "0dd98b7b",
   "metadata": {},
   "outputs": [],
   "source": [
    "subprocess.run([\"gmx\", \"convert-tpr\", \"-s\", old_top_file, \"-n\", ndx_file, \"-o\", top_file],\n",
    "        input=\"Protein_Other\\n\", text=True)"
   ]
  },
  {
   "cell_type": "markdown",
   "id": "5710abed",
   "metadata": {},
   "source": [
    "### Visualization\n",
    "\n",
    "Use `MDAnalysis` and `nglview` to visualize the `xtc` trajectory."
   ]
  },
  {
   "cell_type": "code",
   "execution_count": 19,
   "id": "d607ed83",
   "metadata": {
    "execution": {
     "iopub.execute_input": "2025-09-29T20:57:55.286391Z",
     "iopub.status.busy": "2025-09-29T20:57:55.286168Z",
     "iopub.status.idle": "2025-09-29T20:57:56.160674Z",
     "shell.execute_reply": "2025-09-29T20:57:56.160151Z",
     "shell.execute_reply.started": "2025-09-29T20:57:55.286367Z"
    }
   },
   "outputs": [
    {
     "data": {
      "application/vnd.jupyter.widget-view+json": {
       "model_id": "248c8f031dde4674b35b9083f1a20e11",
       "version_major": 2,
       "version_minor": 0
      },
      "text/plain": [
       "NGLWidget(max_frame=2500)"
      ]
     },
     "metadata": {},
     "output_type": "display_data"
    }
   ],
   "source": [
    "u = mda.Universe(top_file, traj_file)\n",
    "\n",
    "prot_lig = u.select_atoms(\"protein or resname \" + ligand_code) \n",
    "view = ng.show_mdanalysis(prot_lig)\n",
    "view.center(selection='resname'+ligand_code)\n",
    "view.add_contact(selection=prot_lig,hydrogen_bond=True)\n",
    "view"
   ]
  },
  {
   "cell_type": "markdown",
   "id": "90a4ebe0-1fe9-4107-991e-bd3fe106a757",
   "metadata": {},
   "source": [
    "## TODO\n",
    "\n",
    "Modify the `biobb` script to handle more exotic cases, like DNA/RNA-peptide combos (excluding the need for topology building). Also important, make up a decent workflow for **Coarse-Graining** using the `Martini3` force-field."
   ]
  }
 ],
 "metadata": {
  "kernelspec": {
   "display_name": "Python 3 (ipykernel)",
   "language": "python",
   "name": "python3"
  },
  "language_info": {
   "codemirror_mode": {
    "name": "ipython",
    "version": 3
   },
   "file_extension": ".py",
   "mimetype": "text/x-python",
   "name": "python",
   "nbconvert_exporter": "python",
   "pygments_lexer": "ipython3",
   "version": "3.12.11"
  }
 },
 "nbformat": 4,
 "nbformat_minor": 5
}
