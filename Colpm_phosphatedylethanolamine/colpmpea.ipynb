{
 "cells": [
  {
   "cell_type": "markdown",
   "metadata": {},
   "source": [
    "Colicin PM protein and Phosphatedylethanolamine Complex\n",
    "======================\n"
   ]
  },
  {
   "cell_type": "markdown",
   "metadata": {},
   "source": [
    "## ``Gromacs_py`` simulation\n",
    "\n",
    "Here is an example of a short simulation of the Colicin PM (`colpm`) protein in complex with Phosphatedylethanolamine (`pea`) ligand using AMBER force-field model.\n",
    "\n",
    "Need to do this to properly docked system. The PDB file of ligand must be generated from the canonical SMILES by rdkit. This can be done locally using:\n",
    "\n",
    "Finally, nine successive steps are used:\n",
    "\n",
    "1. Load the protein in its best -docked state. \n",
    "   \n",
    "2. In-complex creation of Protein Topology using ``GmxSys.add_top()``, followed by boxing and solvation/neutralization.\n",
    "   \n",
    "3. Boxing of complex.\n",
    "   \n",
    "4. Ideally, Ligand topology creation using `prepare_top()` which uses `acpype` to build ligand topology. This did not work, so must do this manually using `acpype` externally\n",
    "   \n",
    "5. Solvate complex and add ions.\n",
    "\n",
    "6. Minimisation of the structure using ``GmxSys.em_2_steps()``.\n",
    "\n",
    "7. Equilibration of the system using ``GmxSys.em_equi_three_step_iter_error()``.\n",
    "\n",
    "8. Production run using ``GmxSys.production()``.\n",
    "   \n",
    "9.  Post-processing using `GmxSys.convert_trj().`\n",
    "\n",
    "### Import"
   ]
  },
  {
   "cell_type": "code",
   "execution_count": 1,
   "metadata": {},
   "outputs": [],
   "source": [
    "import sys\n",
    "import os\n",
    "import shutil\n",
    "\n",
    "import pandas as pd\n",
    "import matplotlib.pyplot as plt\n",
    "import numpy as np\n",
    "import seaborn as sns"
   ]
  },
  {
   "cell_type": "markdown",
   "metadata": {},
   "source": [
    "## To use `gromacs_py` in a project"
   ]
  },
  {
   "cell_type": "code",
   "execution_count": 2,
   "metadata": {},
   "outputs": [],
   "source": [
    "from gromacs_py import gmx"
   ]
  },
  {
   "cell_type": "markdown",
   "metadata": {},
   "source": [
    "## Simulation setup\n",
    "\n",
    "- Define a few variables for you simulation, like:\n",
    "  \n",
    "    1. simulation output folders\n",
    "    2. ionic concentration\n",
    "    3. number of minimisation steps\n",
    "    4. equilibration and production time\n",
    "\n",
    "### Regarding equilibriation time:\n",
    "The following variables define the sim times (relative units) for each stage of the three-stage equilibriation process. Check notes below for details:\n",
    "\n",
    "1. `HA_time`\n",
    "2. `CA_time`\n",
    "3. `CA_LOW_time` \n"
   ]
  },
  {
   "cell_type": "code",
   "execution_count": 3,
   "metadata": {},
   "outputs": [],
   "source": [
    "DATA_OUT = 'colpm_pea_complex'\n",
    "\n",
    "# System Setup\n",
    "vsite='none'\n",
    "sys_top_folder = os.path.join(DATA_OUT, 'sys_top')\n",
    "#ignore_hydrogen = {'ignh': None}\n",
    "\n",
    "# Energy Minimisation\n",
    "em_folder = os.path.join(DATA_OUT, 'em')\n",
    "em_sys_folder = os.path.join(DATA_OUT, 'sys_em')\n",
    "em_step_number = 10000\n",
    "emtol = 10.0  \t# Stop minimization when the maximum force < 10 J/mol\n",
    "emstep  = 0.01      # Energy step size\n",
    "\n",
    "\n",
    "# Equillibration\n",
    "equi_folder = os.path.join(DATA_OUT, 'sys_equi')\n",
    "HA_time = 0.5\n",
    "CA_time = 1.0\n",
    "CA_LOW_time = 4.0\n",
    "\n",
    "dt_HA = 0.001\n",
    "dt = 0.002\n",
    "\n",
    "HA_step = 1000 * HA_time / dt_HA\n",
    "CA_step = 1000 * CA_time / dt\n",
    "CA_LOW_step = 1000 * CA_LOW_time / dt\n",
    "\n",
    "# Production\n",
    "os.makedirs(DATA_OUT, exist_ok = True)\n",
    "prod_folder = os.path.join(DATA_OUT, 'sys_prod')\n",
    "prod_time = 50.0\n",
    "\n",
    "prod_step = 1000 * prod_time / dt"
   ]
  },
  {
   "cell_type": "markdown",
   "metadata": {},
   "source": [
    "## Create the `GmxSys` object\n",
    "\n",
    "Load protein information only from docked PDB file on disk"
   ]
  },
  {
   "cell_type": "code",
   "execution_count": 4,
   "metadata": {},
   "outputs": [],
   "source": [
    "%%script true\n",
    "\n",
    "pdb_file = \"pdbs/colpm_pea.pdb\"\n",
    "sys_name = \"colpm_pea_complex\"\n",
    "complex_sys = gmx.GmxSys(name=sys_name, coor_file=pdb_file)"
   ]
  },
  {
   "cell_type": "markdown",
   "metadata": {},
   "source": [
    "## Create topology and stuff\n",
    "\n",
    "1. Topology creation involves using `pdb2gmx` via the `prepare_top()` function.\n",
    "2. Create box\n",
    "\n"
   ]
  },
  {
   "cell_type": "code",
   "execution_count": null,
   "metadata": {},
   "outputs": [
    {
     "name": "stdout",
     "output_type": "stream",
     "text": [
      "pdb2pqr30 --ff AMBER --ffout AMBER --keep-chain --titration-state-method=propka --with-ph=7.40 tmp_pdb2pqr.pdb 00_colpm_pea_complex.pqr\n",
      "gmx pdb2gmx -f 01_colpm_pea_complex_good_his.pdb -o colpm_pea_complex_pdb2gmx.pdb -p colpm_pea_complex_pdb2gmx.top -i colpm_pea_complex_posre.itp -water tip3p -ff amber99sb-ildn -ignh -vsite none\n"
     ]
    }
   ],
   "source": [
    "%%script true\n",
    "complex_sys.prepare_top(out_folder=DATA_OUT, ff='amber99sb-ildn', ph=7.4)"
   ]
  },
  {
   "cell_type": "markdown",
   "metadata": {},
   "source": [
    "## Create Ligand topology and transclude manually to complex topology\n",
    "\n",
    "Doing this automatically in `gromacs_py` is buggy and doesn't work, necessitating manual overrides.\n",
    "\n",
    "1. First, you need to add ALL hydrogen atoms into the PDB file of the best-docked ligand pose using pymol gui:\n",
    "    Load the ligand pdb into pymol, then click `builder -> add H` from the top right buttons. Save to new file\n",
    "    \n",
    "2. Then run `acpype -i` on the resultant PDB from shell. These yield full ligand topology for multiple force fields. We're using the default AMBER force field here.\n",
    "\n",
    "**Note:** running `acpype` after protonating with `PyMol` failed (charge issues), and protnation with `Avogadro` failed due to false merges between oxygen and hydrogen. So protonated at Ph 7.4 with opebabel gui instead and it worked.\n",
    "\n",
    "3. Next, copy-paste the contents of the ligand's amber force field topology file transclusions to the top of the complex topology file, AND the molecules section of the ligand's topology file to the molecules section of the complex topology file. \n",
    "\n",
    "**Note:** The ligand information MUST come FIRST in the complex topology, as there are new atomtypes in there and those must be defined first before any `moleculetype`. [See this](https://gromacs.bioexcel.eu/t/invalid-order-for-directive-atomtypes-error/3859)\n",
    "\n",
    "4. Make sure to adjust the paths of all transcluded files.\n",
    "\n",
    "5. Finally, update the complex PDB file with ligand co-ordinates from the best-docked pose using `pymol`.\n"
   ]
  },
  {
   "cell_type": "code",
   "execution_count": 6,
   "metadata": {},
   "outputs": [
    {
     "name": "stdout",
     "output_type": "stream",
     "text": [
      "name         : colpm_pea_complex\n",
      "coor_file    : colpm_pea_complex/colpm_pea_complex_pdb2gmx.pdb\n",
      "top_file     : colpm_pea_complex/colpm_pea_complex_pdb2gmx.top\n",
      "nt           : 0\n",
      "ntmpi        : 0\n",
      "sys_history  : 0\n"
     ]
    }
   ],
   "source": [
    "%%script true\n",
    "complex_sys.display()"
   ]
  },
  {
   "cell_type": "code",
   "execution_count": 7,
   "metadata": {},
   "outputs": [
    {
     "name": "stdout",
     "output_type": "stream",
     "text": [
      "gmx editconf -f colpm_pea_complex/colpm_pea_complex_pdb2gmx.pdb -o colpm_pea_complex/colpm_pea_complex_pdb2gmx_box.pdb -bt dodecahedron -d 1.5\n",
      "gmx grompp -f ../../usr/local/lib/python3.12/site-packages/gromacs_py/gmx/template/mini.mdp -c colpm_pea_complex_water.pdb -r colpm_pea_complex_water.pdb -p colpm_pea_complex_water_ion.top -po out_mini.mdp -o genion_colpm_pea_complex_water_ion.tpr -maxwarn 4\n",
      "gmx genion -s genion_colpm_pea_complex_water_ion.tpr -p colpm_pea_complex_water_ion.top -o colpm_pea_complex_water_ion.gro -np 192 -pname NA -nn 190 -nname CL\n",
      "name         : colpm_pea_complex\n",
      "sim_name     : genion_colpm_pea_complex_water_ion\n",
      "coor_file    : colpm_pea_complex/colpm_pea_complex_water_ion.gro\n",
      "top_file     : colpm_pea_complex/colpm_pea_complex_water_ion.top\n",
      "tpr          : colpm_pea_complex/genion_colpm_pea_complex_water_ion.tpr\n",
      "mdp          : ../usr/local/lib/python3.12/site-packages/gromacs_py/gmx/template/mini.mdp\n",
      "nt           : 0\n",
      "ntmpi        : 0\n",
      "sys_history  : 0\n"
     ]
    }
   ],
   "source": [
    "%%script true\n",
    "complex_sys.create_box(dist=1.5, box_type=\"dodecahedron\", check_file_out=True)\n",
    "complex_sys.solvate_add_ions(out_folder=DATA_OUT, name=sys_name,create_box_flag=False, maxwarn=4)\n",
    "complex_sys.display()"
   ]
  },
  {
   "cell_type": "markdown",
   "metadata": {},
   "source": [
    "## Add index groups\n",
    "\n",
    "Now, we have to add the following index groups: Merge the Protein with the ligand (PYC) with the shell command\n",
    "\n",
    "```bash\n",
    "gmx make_ndx -f colpm_pea_complex_water_ion.gro -o colpm_pea_complex_water_ion.ndx\n",
    "```\n",
    "Merge group 1 with group 13 to form `Protein_PEA` group. We can now set temperature control groups to = `Protein_PEA` and `Water_and_ions` later.\n",
    "\n",
    "Finally, add the index file to the `complex_sys` object."
   ]
  },
  {
   "cell_type": "code",
   "execution_count": null,
   "metadata": {},
   "outputs": [],
   "source": [
    "%%script true\n",
    "complex_sys.add_ndx(\"\",ndx_name=\"colpm_pea_complex_water_ion\", folder_out=DATA_OUT)"
   ]
  },
  {
   "cell_type": "markdown",
   "metadata": {},
   "source": [
    "## Energy minimisation\n",
    "\n",
    "Set parallelization and GPU options here. Change them later, if needed."
   ]
  },
  {
   "cell_type": "code",
   "execution_count": 10,
   "metadata": {},
   "outputs": [
    {
     "name": "stderr",
     "output_type": "stream",
     "text": [
      "WARNING !!! ADDING unusual parameter : \"emtol\"in the mdp file Init_em_colpm_pea_complex.mdp\n",
      "WARNING !!! ADDING unusual parameter : \"emstep\"in the mdp file Init_em_colpm_pea_complex.mdp\n"
     ]
    },
    {
     "name": "stdout",
     "output_type": "stream",
     "text": [
      "gmx grompp -f Init_em_colpm_pea_complex.mdp -c ../colpm_pea_complex_water_ion.gro -r ../colpm_pea_complex_water_ion.gro -p ../colpm_pea_complex_water_ion.top -po out_Init_em_colpm_pea_complex.mdp -o Init_em_colpm_pea_complex.tpr -maxwarn 1 -n ../colpm_pea_complex_water_ion.ndx\n",
      "gmx mdrun -s Init_em_colpm_pea_complex.tpr -deffnm Init_em_colpm_pea_complex -nt 12 -ntmpi 0 -nsteps -2 -nocopyright -gpu_id 0\n"
     ]
    },
    {
     "data": {
      "application/vnd.jupyter.widget-view+json": {
       "model_id": "c1659248a57e430a9bc249072653d4e1",
       "version_major": 2,
       "version_minor": 0
      },
      "text/plain": [
       "  0%|          | 0/10000 [00:00<?, ?it/s]"
      ]
     },
     "metadata": {},
     "output_type": "display_data"
    },
    {
     "name": "stderr",
     "output_type": "stream",
     "text": [
      "WARNING !!! ADDING unusual parameter : \"emtol\"in the mdp file colpm_pea_complex.mdp\n",
      "WARNING !!! ADDING unusual parameter : \"emstep\"in the mdp file colpm_pea_complex.mdp\n"
     ]
    },
    {
     "name": "stdout",
     "output_type": "stream",
     "text": [
      "gmx grompp -f colpm_pea_complex.mdp -c Init_em_colpm_pea_complex.gro -r Init_em_colpm_pea_complex.gro -p ../colpm_pea_complex_water_ion.top -po out_colpm_pea_complex.mdp -o colpm_pea_complex.tpr -maxwarn 1 -n ../colpm_pea_complex_water_ion.ndx\n",
      "gmx mdrun -s colpm_pea_complex.tpr -deffnm colpm_pea_complex -nt 12 -ntmpi 0 -nsteps -2 -nocopyright -gpu_id 0\n"
     ]
    },
    {
     "data": {
      "application/vnd.jupyter.widget-view+json": {
       "model_id": "1cc7a59124d54c27b61cc49046c774d0",
       "version_major": 2,
       "version_minor": 0
      },
      "text/plain": [
       "  0%|          | 0/10000 [00:00<?, ?it/s]"
      ]
     },
     "metadata": {},
     "output_type": "display_data"
    }
   ],
   "source": [
    "%%script true\n",
    "#Parallelization\n",
    "nthreads = int(os.environ.get('PBS_NCPUS', '12'))\n",
    "\n",
    "#Set Parallelization\n",
    "complex_sys.nt = nthreads\n",
    "#complex_sys.ntmpi = 1\n",
    "complex_sys.gpu_id = '0'\n",
    "\n",
    "complex_sys.em_2_steps(out_folder=em_folder,\n",
    "        no_constr_nsteps=em_step_number,\n",
    "        constr_nsteps=em_step_number,\n",
    "        posres=\"\",\n",
    "        create_box_flag=False, emtol=emtol, emstep=emstep)"
   ]
  },
  {
   "cell_type": "markdown",
   "metadata": {},
   "source": [
    "## Plot energy:"
   ]
  },
  {
   "cell_type": "code",
   "execution_count": 11,
   "metadata": {},
   "outputs": [
    {
     "name": "stdout",
     "output_type": "stream",
     "text": [
      "gmx energy -f colpm_pea_complex/em/Init_em_colpm_pea_complex.edr -o tmp_edr.xvg\n",
      "gmx energy -f colpm_pea_complex/em/colpm_pea_complex.edr -o tmp_edr.xvg\n"
     ]
    }
   ],
   "source": [
    "%%script true\n",
    "ener_pd_1 = complex_sys.sys_history[-1].get_ener(selection_list=['Potential'])\n",
    "ener_pd_2 = complex_sys.get_ener(selection_list=['Potential'])\n",
    "\n",
    "ener_pd_1['label'] = 'no bond constr'\n",
    "ener_pd_2['label'] = 'bond constr'\n",
    "\n",
    "ener_pd = pd.concat([ener_pd_1, ener_pd_2])\n",
    "\n",
    "ener_pd['Time (ps)'] = np.arange(len(ener_pd))"
   ]
  },
  {
   "cell_type": "code",
   "execution_count": 12,
   "metadata": {},
   "outputs": [
    {
     "data": {
      "image/png": "[encoded data removed]",
      "text/plain": [
       "<Figure size 640x480 with 1 Axes>"
      ]
     },
     "metadata": {},
     "output_type": "display_data"
    }
   ],
   "source": [
    "%%script true\n",
    "ax = sns.lineplot(x=\"Time (ps)\", y=\"Potential\",\n",
    "        hue=\"label\",\n",
    "        data=ener_pd)\n",
    "ax.set_xlabel('step')\n",
    "ax.set_ylabel('energy (KJ/mol)')\n",
    "plt.grid()"
   ]
  },
  {
   "cell_type": "code",
   "execution_count": 13,
   "metadata": {},
   "outputs": [],
   "source": [
    "%%script true\n",
    "import pickle, datetime\n",
    "chkpt_fname='checkpoint.em_' + datetime.date.today().strftime(\"%Y%m%d\") + \".pycpt\"\n",
    "with open(chkpt_fname, 'wb') as py_cpt:\n",
    "    pickle.dump(complex_sys, py_cpt)"
   ]
  },
  {
   "cell_type": "markdown",
   "metadata": {},
   "source": [
    "## From here, run in cluster\n",
    "### System minimisation and equilibration\n",
    "\n",
    "Based on `gromacs_py` docs, this is a 3-stage equilibriation process. \n",
    "\n",
    "All three steps seem to be NPT with berendsen coupling and v-rescale for temp coupling. Each step just has different restraints. This does not seem so bad: closer to lab conditions.\n",
    "\n",
    "Since the statistical ensemble is pretty much always NPT, this is different from the Lemkul-lysozyme tutorial at [MDTutorials](http://www.mdtutorials.com/gmx/lysozyme/).\n",
    "\n",
    "**Note:** \n",
    "1. Had to run this on cluster at least. Too slow even in ofc workstn.\n",
    "2. Temperature coupling groups have to be set properly. See [mdtutorials](http://www.mdtutorials.com/gmx/complex/06_equil.html) and [gromacs-py manual](https://gromacs-py.readthedocs.io/en/latest/notebook/01_dna_ligand_ambertools.html#System-equilibration)\n",
    "3. Ligand name is `PEA` as seen in the index file by visual inspection."
   ]
  },
  {
   "cell_type": "code",
   "execution_count": 4,
   "metadata": {},
   "outputs": [],
   "source": [
    "%%script true\n",
    "import pickle, datetime\n",
    "chkpt_fname='checkpoint.em_20250129.pycpt'\n",
    "\n",
    "with open(chkpt_fname, 'rb') as py_cpt:\n",
    "    complex_sys = pickle.load(py_cpt)"
   ]
  },
  {
   "cell_type": "code",
   "execution_count": null,
   "metadata": {},
   "outputs": [],
   "source": [
    "%%script true\n",
    "#Parallelization\n",
    "nthreads = int(os.environ.get('PBS_NCPUS', '12'))\n",
    "\n",
    "#Set Parallelization\n",
    "complex_sys.nt = nthreads\n",
    "#complex_sys.ntmpi = 1\n",
    "complex_sys.gpu_id = '0'\n",
    "\n",
    "complex_sys.em_equi_three_step_iter_error(out_folder=equi_folder,\n",
    "        no_constr_nsteps=em_step_number,\n",
    "        constr_nsteps=em_step_number,\n",
    "        nsteps_HA=HA_step,  \n",
    "        nsteps_CA=CA_step,\n",
    "        nsteps_CA_LOW=CA_LOW_step,\n",
    "        dt=dt, dt_HA=dt_HA,\n",
    "        tc_grps='Protein_PEA Water_and_ions',\n",
    "        tau_t= '0.1 0.1',\n",
    "        ref_t= '310 310',\n",
    "        vsite=vsite, maxwarn=10, iter_num=1)"
   ]
  },
  {
   "cell_type": "code",
   "execution_count": 6,
   "metadata": {},
   "outputs": [],
   "source": [
    "%%script true\n",
    "import pickle, datetime\n",
    "chkpt_fname='checkpoint.equi_' + datetime.date.today().strftime(\"%Y%m%d\") + \".pycpt\"\n",
    "with open(chkpt_fname, 'wb') as py_cpt:\n",
    "    pickle.dump(complex_sys, py_cpt)"
   ]
  },
  {
   "cell_type": "markdown",
   "metadata": {},
   "source": [
    "### Plot Equilibriation\n",
    "\n",
    "Since the statistical ensemble is pretty much always NPT, this is different from the Lemkul-lysozyme tutorial at [MDTutorials](http://www.mdtutorials.com/gmx/lysozyme/). So we need to see Volume as well as Pressure, temperature, and density."
   ]
  },
  {
   "cell_type": "code",
   "execution_count": 7,
   "metadata": {},
   "outputs": [],
   "source": [
    "%%script true\n",
    "import pickle, datetime\n",
    "chkpt_fname='checkpoint.equi_20250127.pycpt'\n",
    "\n",
    "with open(chkpt_fname, 'rb') as py_cpt:\n",
    "    complex_sys = pickle.load(py_cpt)"
   ]
  },
  {
   "cell_type": "code",
   "execution_count": null,
   "metadata": {},
   "outputs": [],
   "source": [
    "%%script true\n",
    "quantities = [\"Temperature\", \"Pressure\", \"Volume\", \"Density\"]\n",
    "units = [\"$K$\", \"$bar$\", \"$A^3$\", \"$kg/m^3$\"]\n",
    "\n",
    "pd_1 = complex_sys.sys_history[-2].get_ener(selection_list=quantities)\n",
    "pd_2 = complex_sys.sys_history[-1].get_ener(selection_list=quantities)\n",
    "pd_3 = complex_sys.get_ener(selection_list=quantities)\n",
    "\n",
    "pd_1['label'] = 'HA_constr'\n",
    "pd_2['label'] = 'CA_constr'\n",
    "pd_2['Time (ps)'] = pd_2['Time (ps)'] + pd_1['Time (ps)'].max()\n",
    "pd_3['label'] = 'CA_LOW_constr'\n",
    "pd_3['Time (ps)'] = pd_3['Time (ps)'] + pd_2['Time (ps)'].max()\n",
    "\n",
    "display(pd.concat([pd_1, pd_2, pd_3]))"
   ]
  },
  {
   "cell_type": "code",
   "execution_count": null,
   "metadata": {},
   "outputs": [],
   "source": [
    "%%script true\n",
    "plt.rcParams.update({'font.size': 22})\n",
    "\n",
    "fig, axs = plt.subplots(4, 1, figsize=(24,13.5), sharex=True, tight_layout=True)\n",
    "\n",
    "for ax, quantity, unit in zip(axs, quantities, units):\n",
    "    for df in (pd_1, pd_2, pd_3):\n",
    "        ax.plot(df[\"Time (ps)\"], df[quantity], label=str(df['label'][0]))\n",
    "        ax.set_ylabel(quantity + \"(\" + unit + \")\")\n",
    "        ax.grid()\n",
    "\n",
    "axs[0].legend()\n",
    "axs[-1].set_xlabel(\"Time (ps)\");"
   ]
  },
  {
   "cell_type": "markdown",
   "metadata": {},
   "source": [
    "Looks okay to me. Fluctuations are high at the end because CA constraints are low, but there is a well-defined average."
   ]
  },
  {
   "cell_type": "markdown",
   "metadata": {},
   "source": [
    "### Plot RMSD\n",
    "\n",
    "There is a corrupted frame in the `xtc` (probably took place during checkpoint restore) due to which this doesn't work. Nonetheless, the `gro` file of the final state looks good, so will proceed to production MD."
   ]
  },
  {
   "cell_type": "code",
   "execution_count": null,
   "metadata": {},
   "outputs": [],
   "source": [
    "%%script true\n",
    "# Define reference structure for RMSD calculation\n",
    "ref_sys =  complex_sys.sys_history[1]\n",
    "struct=\"Protein\"\n",
    "\n",
    "rmsd_pd_1 = complex_sys.sys_history[-2].get_rmsd([struct, struct], ref_sys=ref_sys)\n",
    "rmsd_pd_2 = complex_sys.sys_history[-1].get_rmsd([struct, struct], ref_sys=ref_sys)\n",
    "rmsd_pd_3 = complex_sys.get_rmsd([struct, struct], ref_sys=ref_sys)\n",
    "\n",
    "\n",
    "rmsd_pd_1['label'] = 'HA_constr'\n",
    "rmsd_pd_2['label'] = 'CA_constr'\n",
    "rmsd_pd_2['time'] = rmsd_pd_2['time'] + rmsd_pd_1['time'].max()\n",
    "rmsd_pd_3['label'] = 'CA_LOW_constr'\n",
    "rmsd_pd_3['time'] = rmsd_pd_3['time'] + rmsd_pd_2['time'].max()\n",
    "\n",
    "display(pd.concat([rmsd_pd_1, rmsd_pd_2, rmsd_pd_3]))\n"
   ]
  },
  {
   "cell_type": "code",
   "execution_count": null,
   "metadata": {},
   "outputs": [],
   "source": [
    "%%script true\n",
    "fig, ax = plt.subplots(1, 1, figsize=(24,13.5))\n",
    "\n",
    "for df in (rmsd_pd_1, rmsd_pd_2, rmsd_pd_3):\n",
    "        ax.plot(df[\"time\"], df[\"Protein\"], label=str(df['label'][0]))\n",
    "        \n",
    "ax.set_title(struct)\n",
    "ax.set_ylabel('RMSD (nm)')\n",
    "ax.set_xlabel('Time (ps)')\n",
    "plt.grid()"
   ]
  },
  {
   "cell_type": "markdown",
   "metadata": {},
   "source": [
    "## Production MD \n",
    "\n",
    "tc-coupling groups are required here as well. See [gromacs-py manual](https://gromacs-py.readthedocs.io/en/latest/notebook/01_dna_ligand_ambertools.html#Production)"
   ]
  },
  {
   "cell_type": "code",
   "execution_count": 6,
   "metadata": {},
   "outputs": [],
   "source": [
    "#%%script true\n",
    "import pickle, datetime\n",
    "chkpt_fname='checkpoint.equi_20250129.pycpt'\n",
    "\n",
    "with open(chkpt_fname, 'rb') as py_cpt:\n",
    "    complex_sys = pickle.load(py_cpt)"
   ]
  },
  {
   "cell_type": "code",
   "execution_count": 8,
   "metadata": {},
   "outputs": [],
   "source": [
    "#%%script true\n",
    "#Parallelization\n",
    "nthreads = int(os.environ.get('PBS_NCPUS', '16'))\n",
    "\n",
    "#Set Parallelization\n",
    "complex_sys.nt = nthreads\n",
    "#complex_sys.ntmpi = 1\n",
    "complex_sys.gpu_id = '0'\n",
    "\n",
    "complex_sys.production(out_folder=prod_folder,\n",
    "        nsteps=prod_step,\n",
    "        tc_grps='Protein_PEA Water_and_ions',\n",
    "        tau_t= '0.1 0.1',\n",
    "        ref_t= '310 310',\n",
    "        dt=dt, vsite=vsite, maxwarn=1, nstlist=200)"
   ]
  },
  {
   "cell_type": "markdown",
   "metadata": {},
   "source": [
    "## Checkpointing for extending\n"
   ]
  },
  {
   "cell_type": "code",
   "execution_count": null,
   "metadata": {},
   "outputs": [],
   "source": [
    "#%%script true\n",
    "import pickle, datetime\n",
    "chkpt_fname='checkpoint.prod_' + datetime.date.today().strftime(\"%Y%m%d\") + '.pycpt'\n",
    "with open(chkpt_fname, 'wb') as py_cpt:\n",
    "    pickle.dump(complex_sys, py_cpt)"
   ]
  },
  {
   "cell_type": "markdown",
   "metadata": {},
   "source": [
    "## Post-Production"
   ]
  },
  {
   "cell_type": "code",
   "execution_count": 12,
   "metadata": {},
   "outputs": [],
   "source": [
    "%%script true\n",
    "import pickle, datetime\n",
    "chkpt_fname='checkpoint.prod_20250128.pycpt'\n",
    "\n",
    "with open(chkpt_fname, 'rb') as py_cpt:\n",
    "    complex_sys = pickle.load(py_cpt)"
   ]
  },
  {
   "cell_type": "markdown",
   "metadata": {},
   "source": [
    "### Prepare Production Trajectory for Viewing\n",
    "\n",
    "#### Center Trajectory"
   ]
  },
  {
   "cell_type": "code",
   "execution_count": null,
   "metadata": {
    "scrolled": true
   },
   "outputs": [],
   "source": [
    "%%script true\n",
    "# Center trajectory\n",
    "complex_sys.center_mol_box(traj=True)"
   ]
  },
  {
   "cell_type": "markdown",
   "metadata": {},
   "source": [
    "## Final Steps\n",
    "As in any simulation conducted with periodic boundary conditions, molecules may appear \"broken\" or may \"jump\" back and forth across the box. To recenter the protein and rewrap the molecules within the unit cell to recover the desired box shape, invoke trjconv. \n",
    "\n",
    "Choose \"Protein\" for centering and \"System\" for output."
   ]
  },
  {
   "cell_type": "code",
   "execution_count": null,
   "metadata": {},
   "outputs": [],
   "source": [
    "%%script true\n",
    "complex_sys.convert_trj(select='Protein\\nSystem', fit='rot+trans', pbc='none')"
   ]
  },
  {
   "cell_type": "markdown",
   "metadata": {},
   "source": [
    "#### Extract production initial condition\n",
    "Optionally, extract the first frame of the final prod traj (latest from history, as the running one got updated) into a `pdb` for loading into post processing."
   ]
  },
  {
   "cell_type": "code",
   "execution_count": null,
   "metadata": {},
   "outputs": [],
   "source": [
    "%%script true\n",
    "complex_sys.sys_history[-1].convert_trj(select='Protein\\nSystem', fit='rot+trans', pbc='none', specific_coor_out=prod_folder+\"/start.pdb\", dump=\"0\")"
   ]
  }
 ],
 "metadata": {
  "celltoolbar": "Edit Metadata",
  "kernelspec": {
   "display_name": "Python 3 (ipykernel)",
   "language": "python",
   "name": "python3"
  },
  "language_info": {
   "codemirror_mode": {
    "name": "ipython",
    "version": 3
   },
   "file_extension": ".py",
   "mimetype": "text/x-python",
   "name": "python",
   "nbconvert_exporter": "python",
   "pygments_lexer": "ipython3",
   "version": "3.12.8"
  },
  "toc": {
   "base_numbering": 1,
   "nav_menu": {},
   "number_sections": true,
   "sideBar": true,
   "skip_h1_title": false,
   "title_cell": "Table of Contents",
   "title_sidebar": "Contents",
   "toc_cell": false,
   "toc_position": {},
   "toc_section_display": true,
   "toc_window_display": false
  }
 },
 "nbformat": 4,
 "nbformat_minor": 4
}
