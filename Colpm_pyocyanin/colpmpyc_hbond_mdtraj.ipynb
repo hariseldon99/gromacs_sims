{
 "cells": [
  {
   "cell_type": "code",
   "execution_count": null,
   "id": "d9a112e5",
   "metadata": {},
   "outputs": [],
   "source": [
    "import numpy as np\n",
    "import mdtraj as md\n",
    "import pickle\n",
    "\n",
    "stride = 1\n",
    "total_frames = 10000\n",
    "total_time_ns = 100\n",
    "\n",
    "timestep  = (stride/total_frames) * total_time_ns\n",
    "\n",
    "nframes = int(np.ceil(total_frames/stride))\n",
    "\n",
    "\n",
    "topfile='colpm_pyc_complex/sys_prod/start.pdb'\n",
    "xtcfile='colpm_pyc_complex/sys_prod/prod_colpm_pyc_complex_compact_compact.xtc'\n",
    "\n",
    "full_traj = md.load_xtc(xtcfile, stride=stride, top=topfile)\n",
    "pyc_atoms = full_traj.topology.select('resname PYC')\n",
    "hbonds = md.baker_hubbard(full_traj, periodic=False, freq=0.01)\n",
    "label = lambda hbond : '%s - %s ... %s' % ( full_traj.topology.atom(hbond[0]),\\\n",
    "                                            full_traj.topology.atom(hbond[1]),\\\n",
    "                                            full_traj.topology.atom(hbond[2]))\n",
    "pyc_hbonds = []\n",
    "for hbond in hbonds:\n",
    "    d,h,a = hbond\n",
    "    if d in pyc_atoms or a in pyc_atoms:\n",
    "        pyc_hbonds.append(hbond)\n",
    "        print(label(hbond))\n",
    "\n",
    "pyc_hbonds = np.array(pyc_hbonds)\n",
    "\n",
    "# List of variables to pickle\n",
    "variables_to_pickle = {\n",
    "    'hbonds': hbonds,\n",
    "    'nframes': nframes,\n",
    "    'pyc_atoms': pyc_atoms,\n",
    "    'pyc_hbonds': pyc_hbonds,\n",
    "    'stride': stride,\n",
    "    'timestep': timestep,\n",
    "    'total_frames': total_frames,\n",
    "    'total_time_ns': total_time_ns\n",
    "}\n",
    "\n",
    "# Dump each variable to a separate pickle file\n",
    "for var_name, var_value in variables_to_pickle.items():\n",
    "    with open(f'pickles/{var_name}.pkl', 'wb') as f:\n",
    "        pickle.dump(var_value, f)"
   ]
  }
 ],
 "metadata": {
  "kernelspec": {
   "display_name": "Python 3 (ipykernel)",
   "language": "python",
   "name": "python3"
  },
  "language_info": {
   "codemirror_mode": {
    "name": "ipython",
    "version": 3
   },
   "file_extension": ".py",
   "mimetype": "text/x-python",
   "name": "python",
   "nbconvert_exporter": "python",
   "pygments_lexer": "ipython3",
   "version": "3.11.7"
  },
  "widgets": {
   "application/vnd.jupyter.widget-state+json": {
    "state": {},
    "version_major": 2,
    "version_minor": 0
   }
  }
 },
 "nbformat": 4,
 "nbformat_minor": 2
}
