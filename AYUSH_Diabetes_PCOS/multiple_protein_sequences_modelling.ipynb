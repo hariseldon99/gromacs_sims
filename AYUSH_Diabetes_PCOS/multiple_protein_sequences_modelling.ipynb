{
 "cells": [
  {
   "cell_type": "markdown",
   "id": "c71d2840",
   "metadata": {},
   "source": [
    "## Modelling multiple protein structures together\n",
    "\n",
    "\n",
    "We use a combination of homology and alphafold (AI models) available in SWISSMODEL, the automated protein structure homology-modelling server, accessible via the Expasy web server. \n",
    "\n",
    "Directly taken from;\n",
    "\n",
    "https://swissmodel.expasy.org/docs/help#modelling_api\n",
    "\n",
    "\n",
    "\n",
    "Steps:\n",
    "\n",
    "1. Obtain API token: Downloaded from account @ swissmodel and stored in file @ ~/.config/swissmodel/apikey.txt\n",
    "2. Get all pdb ids and download the corresponding fasta sequences from RCSB\n"
   ]
  },
  {
   "cell_type": "code",
   "execution_count": 33,
   "id": "118783bf",
   "metadata": {},
   "outputs": [
    {
     "data": {
      "application/vnd.jupyter.widget-view+json": {
       "model_id": "9c63c5d99ba2426081f1e3d8e9843665",
       "version_major": 2,
       "version_minor": 0
      },
      "text/plain": [
       "  0%|          | 0/9 [00:00<?, ?it/s]"
      ]
     },
     "metadata": {},
     "output_type": "display_data"
    }
   ],
   "source": [
    "import requests\n",
    "from tqdm.notebook import tqdm\n",
    "import re\n",
    "pdb_ids = [\"7WSM\", \"7MYJ\", \"6AE3\",\"2HFP\" ,\"2M76\", \"4EYW\", \"6KSI\", \"7NYK\", \"1TNF\"]\n",
    "pdb_fasta_dict = {}\n",
    "for pdb_id in tqdm(pdb_ids):\n",
    "    fasta_url = f\"https://www.rcsb.org/fasta/entry/{pdb_id}\"\n",
    "    r = requests.get(fasta_url)\n",
    "    records = r.text.strip().split('>')\n",
    "    sequences = [ \"\".join(record.splitlines()[1:]) for record in records if record ]\n",
    "    for sequence in sequences:\n",
    "        sequence = re.sub(r'^>.*\\n', '', sequence, flags=re.MULTILINE)\n",
    "    pdb_fasta_dict[pdb_id] = sequences\n",
    "\n",
    "    with open(\"all_sequences.fasta\", \"w\") as f:\n",
    "        for pdb_id, sequences in pdb_fasta_dict.items():\n",
    "            for seq in sequences:\n",
    "                f.write(f\">{pdb_id}\\n{seq}\\n\")\n",
    "    "
   ]
  },
  {
   "cell_type": "code",
   "execution_count": 35,
   "id": "cb66132b",
   "metadata": {},
   "outputs": [
    {
     "data": {
      "application/vnd.jupyter.widget-view+json": {
       "model_id": "3d2ce73fdfbb465d950ac97d863751c2",
       "version_major": 2,
       "version_minor": 0
      },
      "text/plain": [
       "Downloading PDB files:   0%|          | 0/9 [00:00<?, ?it/s]"
      ]
     },
     "metadata": {},
     "output_type": "display_data"
    },
    {
     "name": "stdout",
     "output_type": "stream",
     "text": [
      "Failed to download 7NYK: status code 404\n"
     ]
    }
   ],
   "source": [
    "import os\n",
    "\n",
    "output_dir = \"downloaded_models\"\n",
    "os.makedirs(output_dir, exist_ok=True)\n",
    "\n",
    "for pdb in tqdm(pdb_ids, desc=\"Downloading PDB files\"):\n",
    "    url = f\"https://files.rcsb.org/download/{pdb}.pdb\"\n",
    "    r = requests.get(url)\n",
    "    if r.status_code == 200:\n",
    "        file_path = os.path.join(output_dir, f\"{pdb}_coordinates.pdb\")\n",
    "        with open(file_path, \"w\") as f:\n",
    "            f.write(r.text)\n",
    "    else:\n",
    "        print(f\"Failed to download {pdb}: status code {r.status_code}\")"
   ]
  },
  {
   "cell_type": "code",
   "execution_count": null,
   "id": "8d84eab0",
   "metadata": {},
   "outputs": [],
   "source": []
  }
 ],
 "metadata": {
  "kernelspec": {
   "display_name": "biobb_wf_protein-complex_md_setup",
   "language": "python",
   "name": "python3"
  },
  "language_info": {
   "codemirror_mode": {
    "name": "ipython",
    "version": 3
   },
   "file_extension": ".py",
   "mimetype": "text/x-python",
   "name": "python",
   "nbconvert_exporter": "python",
   "pygments_lexer": "ipython3",
   "version": "3.12.10"
  }
 },
 "nbformat": 4,
 "nbformat_minor": 5
}
