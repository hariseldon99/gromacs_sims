{
 "cells": [
  {
   "cell_type": "markdown",
   "metadata": {},
   "source": [
    "KU)4AMP01 peptide in water\n",
    "======================\n"
   ]
  },
  {
   "cell_type": "markdown",
   "metadata": {},
   "source": [
    "## ``Gromacs_py`` simulation\n",
    "\n",
    "Here is an example of a short simulation of the KU04AMP01 peptide (`ku04amp01`, also  `protein`) in water using AMBER force-field model. The protein is unfolded and is a 'linear' peptide. The objective it to see how it folds under dynamical evolution under cell conditions.\n",
    "\n",
    "\n",
    "Finally, nine successive steps are used:\n",
    "\n",
    "1. Load the protein. \n",
    "   \n",
    "2. In-complex creation of Protein Topology using ``GmxSys.add_top()``, followed by boxing and solvation/neutralization.\n",
    "   \n",
    "3. Boxing of complex.\n",
    "   \n",
    "4. Solvate complex and add ions.\n",
    "\n",
    "5. Minimisation of the structure using ``GmxSys.em_2_steps()``.\n",
    "\n",
    "6. Equilibration of the system using ``GmxSys.em_equi_three_step_iter_error()``.\n",
    "\n",
    "7. Production run using ``GmxSys.production()``.\n",
    "   \n",
    "8.  Post-processing using `GmxSys.convert_trj().`\n",
    "\n",
    "### Import"
   ]
  },
  {
   "cell_type": "code",
   "execution_count": 1,
   "metadata": {
    "execution": {
     "iopub.execute_input": "2025-03-08T07:37:17.344884Z",
     "iopub.status.busy": "2025-03-08T07:37:17.343717Z",
     "iopub.status.idle": "2025-03-08T07:37:19.267878Z",
     "shell.execute_reply": "2025-03-08T07:37:19.267190Z"
    }
   },
   "outputs": [],
   "source": [
    "import sys\n",
    "import os\n",
    "import shutil\n",
    "\n",
    "import pandas as pd\n",
    "import matplotlib.pyplot as plt\n",
    "import numpy as np\n",
    "import seaborn as sns"
   ]
  },
  {
   "cell_type": "markdown",
   "metadata": {},
   "source": [
    "## To use `gromacs_py` in a project"
   ]
  },
  {
   "cell_type": "code",
   "execution_count": 2,
   "metadata": {
    "execution": {
     "iopub.execute_input": "2025-03-08T07:37:19.272587Z",
     "iopub.status.busy": "2025-03-08T07:37:19.272140Z",
     "iopub.status.idle": "2025-03-08T07:37:19.626095Z",
     "shell.execute_reply": "2025-03-08T07:37:19.624389Z"
    }
   },
   "outputs": [],
   "source": [
    "from gromacs_py import gmx"
   ]
  },
  {
   "cell_type": "markdown",
   "metadata": {},
   "source": [
    "## Simulation setup\n",
    "\n",
    "- Define a few variables for you simulation, like:\n",
    "  \n",
    "    1. simulation output folders\n",
    "    2. ionic concentration\n",
    "    3. number of minimisation steps\n",
    "    4. equilibration and production time\n",
    "\n",
    "### Regarding equilibriation time:\n",
    "The following variables define the sim times (relative units) for each stage of the three-stage equilibriation process. Check notes below for details:\n",
    "\n",
    "1. `HA_time`\n",
    "2. `CA_time`\n",
    "3. `CA_LOW_time` \n"
   ]
  },
  {
   "cell_type": "code",
   "execution_count": 3,
   "metadata": {
    "execution": {
     "iopub.execute_input": "2025-03-08T07:37:19.632101Z",
     "iopub.status.busy": "2025-03-08T07:37:19.631395Z",
     "iopub.status.idle": "2025-03-08T07:37:19.642418Z",
     "shell.execute_reply": "2025-03-08T07:37:19.641581Z"
    }
   },
   "outputs": [],
   "source": [
    "DATA_OUT = 'ku04amp01_linear'\n",
    "\n",
    "# System Setup\n",
    "vsite='none'\n",
    "sys_top_folder = os.path.join(DATA_OUT, 'sys_top')\n",
    "#ignore_hydrogen = {'ignh': None}\n",
    "\n",
    "# Energy Minimisation\n",
    "em_folder = os.path.join(DATA_OUT, 'em')\n",
    "em_sys_folder = os.path.join(DATA_OUT, 'sys_em')\n",
    "em_step_number = 10000\n",
    "emtol = 10.0  \t# Stop minimization when the maximum force < 10 J/mol\n",
    "emstep  = 0.01      # Energy step size\n",
    "\n",
    "\n",
    "# Equillibration\n",
    "equi_folder = os.path.join(DATA_OUT, 'sys_equi')\n",
    "HA_time = 0.5\n",
    "CA_time = 1.0\n",
    "CA_LOW_time = 4.0\n",
    "\n",
    "dt_HA = 0.001\n",
    "dt = 0.002\n",
    "\n",
    "HA_step = 1000 * HA_time / dt_HA\n",
    "CA_step = 1000 * CA_time / dt\n",
    "CA_LOW_step = 1000 * CA_LOW_time / dt\n",
    "\n",
    "# Production\n",
    "os.makedirs(DATA_OUT, exist_ok = True)\n",
    "prod_folder = os.path.join(DATA_OUT, 'sys_prod')\n",
    "prod_time = 25.0\n",
    "\n",
    "prod_step = 1000 * prod_time / dt"
   ]
  },
  {
   "cell_type": "markdown",
   "metadata": {},
   "source": [
    "## Create the `GmxSys` object\n",
    "\n",
    "Load protein information only from docked PDB file on disk"
   ]
  },
  {
   "cell_type": "code",
   "execution_count": 4,
   "metadata": {
    "execution": {
     "iopub.execute_input": "2025-03-08T07:37:19.646584Z",
     "iopub.status.busy": "2025-03-08T07:37:19.646166Z",
     "iopub.status.idle": "2025-03-08T07:37:19.668197Z",
     "shell.execute_reply": "2025-03-08T07:37:19.666686Z"
    }
   },
   "outputs": [],
   "source": [
    "%%script true\n",
    "\n",
    "pdb_file = \"fold_2024_12_28_00_29_model_3.pdb\"\n",
    "sys_name = \"ku04amp01_linear\"\n",
    "complex_sys = gmx.GmxSys(name=sys_name, coor_file=pdb_file)"
   ]
  },
  {
   "cell_type": "markdown",
   "metadata": {},
   "source": [
    "## Create topology and stuff\n",
    "\n",
    "1. Topology creation involves using `pdb2gmx` via the `prepare_top()` function.\n",
    "2. Create box\n",
    "\n",
    "**Note:** I had to explicitly center the peptide inside the box, or the peptide keeps going out during boxing, causing PBC to fragment the peptide during EM."
   ]
  },
  {
   "cell_type": "code",
   "execution_count": 5,
   "metadata": {
    "execution": {
     "iopub.execute_input": "2025-03-08T07:37:19.673065Z",
     "iopub.status.busy": "2025-03-08T07:37:19.672498Z",
     "iopub.status.idle": "2025-03-08T07:37:19.682828Z",
     "shell.execute_reply": "2025-03-08T07:37:19.681650Z"
    }
   },
   "outputs": [],
   "source": [
    "%%script true\n",
    "complex_sys.prepare_top(out_folder=DATA_OUT, ff='amber99sb-ildn', ph=7.0)"
   ]
  },
  {
   "cell_type": "code",
   "execution_count": 6,
   "metadata": {
    "execution": {
     "iopub.execute_input": "2025-03-08T07:37:19.687196Z",
     "iopub.status.busy": "2025-03-08T07:37:19.686573Z",
     "iopub.status.idle": "2025-03-08T07:37:19.697013Z",
     "shell.execute_reply": "2025-03-08T07:37:19.695423Z"
    }
   },
   "outputs": [],
   "source": [
    "%%script true\n",
    "complex_sys.display()"
   ]
  },
  {
   "cell_type": "code",
   "execution_count": 7,
   "metadata": {
    "execution": {
     "iopub.execute_input": "2025-03-08T07:37:19.702434Z",
     "iopub.status.busy": "2025-03-08T07:37:19.701792Z",
     "iopub.status.idle": "2025-03-08T07:37:19.713232Z",
     "shell.execute_reply": "2025-03-08T07:37:19.711921Z"
    }
   },
   "outputs": [],
   "source": [
    "%%script true\n",
    "complex_sys.create_box(dist=1.0, box_type=\"dodecahedron\", check_file_out=True)"
   ]
  },
  {
   "cell_type": "code",
   "execution_count": 8,
   "metadata": {
    "execution": {
     "iopub.execute_input": "2025-03-08T07:37:19.718030Z",
     "iopub.status.busy": "2025-03-08T07:37:19.717339Z",
     "iopub.status.idle": "2025-03-08T07:37:19.727736Z",
     "shell.execute_reply": "2025-03-08T07:37:19.726363Z"
    }
   },
   "outputs": [],
   "source": [
    "%%script true\n",
    "complex_sys.solvate_add_ions(out_folder=DATA_OUT, name=sys_name,create_box_flag=False, maxwarn=4)\n",
    "complex_sys.display()"
   ]
  },
  {
   "cell_type": "markdown",
   "metadata": {},
   "source": [
    "## Energy minimisation\n",
    "\n",
    "Set parallelization and GPU options here. Change them later, if needed."
   ]
  },
  {
   "cell_type": "code",
   "execution_count": 9,
   "metadata": {
    "execution": {
     "iopub.execute_input": "2025-03-08T07:37:19.732798Z",
     "iopub.status.busy": "2025-03-08T07:37:19.732142Z",
     "iopub.status.idle": "2025-03-08T07:37:19.743715Z",
     "shell.execute_reply": "2025-03-08T07:37:19.742182Z"
    },
    "scrolled": true
   },
   "outputs": [],
   "source": [
    "%%script true\n",
    "#Parallelization\n",
    "nthreads = int(os.environ.get('PBS_NCPUS', '12'))\n",
    "\n",
    "#Set Parallelization\n",
    "complex_sys.nt = nthreads\n",
    "#complex_sys.ntmpi = 1\n",
    "complex_sys.gpu_id = '0'\n",
    "\n",
    "complex_sys.em_2_steps(out_folder=em_folder,\n",
    "        no_constr_nsteps=em_step_number,\n",
    "        constr_nsteps=em_step_number,\n",
    "        posres=\"\",\n",
    "        create_box_flag=False, emtol=emtol, emstep=emstep)"
   ]
  },
  {
   "cell_type": "markdown",
   "metadata": {},
   "source": [
    "## re-centering\n",
    "\n",
    "Explicitly center the system in a box, otherwise the protein fragments due to PBC."
   ]
  },
  {
   "cell_type": "code",
   "execution_count": 10,
   "metadata": {
    "execution": {
     "iopub.execute_input": "2025-03-08T07:37:19.748951Z",
     "iopub.status.busy": "2025-03-08T07:37:19.748312Z",
     "iopub.status.idle": "2025-03-08T07:37:19.759265Z",
     "shell.execute_reply": "2025-03-08T07:37:19.757798Z"
    }
   },
   "outputs": [],
   "source": [
    "%%script true\n",
    "complex_sys.center_mol_box()"
   ]
  },
  {
   "cell_type": "markdown",
   "metadata": {},
   "source": [
    "## Plot energy:"
   ]
  },
  {
   "cell_type": "code",
   "execution_count": 11,
   "metadata": {
    "execution": {
     "iopub.execute_input": "2025-03-08T07:37:19.764449Z",
     "iopub.status.busy": "2025-03-08T07:37:19.763877Z",
     "iopub.status.idle": "2025-03-08T07:37:19.775096Z",
     "shell.execute_reply": "2025-03-08T07:37:19.773791Z"
    }
   },
   "outputs": [],
   "source": [
    "%%script true\n",
    "ener_pd_1 = complex_sys.sys_history[-1].get_ener(selection_list=['Potential'])\n",
    "ener_pd_2 = complex_sys.get_ener(selection_list=['Potential'])\n",
    "\n",
    "ener_pd_1['label'] = 'no bond constr'\n",
    "ener_pd_2['label'] = 'bond constr'\n",
    "\n",
    "ener_pd = pd.concat([ener_pd_1, ener_pd_2])\n",
    "\n",
    "ener_pd['Time (ps)'] = np.arange(len(ener_pd))"
   ]
  },
  {
   "cell_type": "code",
   "execution_count": 12,
   "metadata": {
    "execution": {
     "iopub.execute_input": "2025-03-08T07:37:19.780579Z",
     "iopub.status.busy": "2025-03-08T07:37:19.779882Z",
     "iopub.status.idle": "2025-03-08T07:37:19.790687Z",
     "shell.execute_reply": "2025-03-08T07:37:19.789267Z"
    }
   },
   "outputs": [],
   "source": [
    "%%script true\n",
    "ax = sns.lineplot(x=\"Time (ps)\", y=\"Potential\",\n",
    "        hue=\"label\",\n",
    "        data=ener_pd)\n",
    "ax.set_xlabel('step')\n",
    "ax.set_ylabel('energy (KJ/mol)')\n",
    "plt.grid()"
   ]
  },
  {
   "cell_type": "code",
   "execution_count": 13,
   "metadata": {
    "execution": {
     "iopub.execute_input": "2025-03-08T07:37:19.795254Z",
     "iopub.status.busy": "2025-03-08T07:37:19.794719Z",
     "iopub.status.idle": "2025-03-08T07:37:19.805229Z",
     "shell.execute_reply": "2025-03-08T07:37:19.803644Z"
    }
   },
   "outputs": [],
   "source": [
    "%%script true\n",
    "complex_sys.display()"
   ]
  },
  {
   "cell_type": "code",
   "execution_count": 14,
   "metadata": {
    "execution": {
     "iopub.execute_input": "2025-03-08T07:37:19.810221Z",
     "iopub.status.busy": "2025-03-08T07:37:19.809497Z",
     "iopub.status.idle": "2025-03-08T07:37:19.820888Z",
     "shell.execute_reply": "2025-03-08T07:37:19.819506Z"
    }
   },
   "outputs": [],
   "source": [
    "%%script true\n",
    "import pickle, datetime\n",
    "chkpt_fname='checkpoint.em_' + datetime.date.today().strftime(\"%Y%m%d\") + \".pycpt\"\n",
    "with open(chkpt_fname, 'wb') as py_cpt:\n",
    "    pickle.dump(complex_sys, py_cpt)"
   ]
  },
  {
   "cell_type": "markdown",
   "metadata": {},
   "source": [
    "## From here, run in cluster\n",
    "### System minimisation and equilibration\n",
    "\n",
    "Based on `gromacs_py` docs, this is a 3-stage equilibriation process. \n",
    "\n",
    "All three steps seem to be NPT with berendsen coupling and v-rescale for temp coupling. Each step just has different restraints. This does not seem so bad: closer to lab conditions.\n",
    "\n",
    "Since the statistical ensemble is pretty much always NPT, this is different from the Lemkul-lysozyme tutorial at [MDTutorials](http://www.mdtutorials.com/gmx/lysozyme/).\n",
    "\n",
    "**Note:** \n",
    "1. Had to run this on cluster at least. Too slow even in ofc workstn.\n",
    "2. Temperature coupling groups have to be set properly. See [mdtutorials](http://www.mdtutorials.com/gmx/complex/06_equil.html) and [gromacs-py manual](https://gromacs-py.readthedocs.io/en/latest/notebook/01_dna_ligand_ambertools.html#System-equilibration)\n",
    "3. Ligand name is `PYC` as seen in the index file by visual inspection."
   ]
  },
  {
   "cell_type": "code",
   "execution_count": 15,
   "metadata": {
    "execution": {
     "iopub.execute_input": "2025-03-08T07:37:19.826041Z",
     "iopub.status.busy": "2025-03-08T07:37:19.825413Z",
     "iopub.status.idle": "2025-03-08T07:37:19.836879Z",
     "shell.execute_reply": "2025-03-08T07:37:19.835532Z"
    }
   },
   "outputs": [],
   "source": [
    "%%script true\n",
    "import pickle, datetime\n",
    "chkpt_fname='checkpoint.em_20250307.pycpt'\n",
    "\n",
    "with open(chkpt_fname, 'rb') as py_cpt:\n",
    "    complex_sys = pickle.load(py_cpt)"
   ]
  },
  {
   "cell_type": "code",
   "execution_count": 16,
   "metadata": {
    "execution": {
     "iopub.execute_input": "2025-03-08T07:37:19.841995Z",
     "iopub.status.busy": "2025-03-08T07:37:19.841366Z",
     "iopub.status.idle": "2025-03-08T07:37:19.853575Z",
     "shell.execute_reply": "2025-03-08T07:37:19.851969Z"
    }
   },
   "outputs": [],
   "source": [
    "%%script true\n",
    "#Parallelization\n",
    "nthreads = int(os.environ.get('PBS_NCPUS', '12'))\n",
    "\n",
    "#Set Parallelization\n",
    "complex_sys.nt = nthreads\n",
    "#complex_sys.ntmpi = 1\n",
    "complex_sys.gpu_id = '0'\n",
    "\n",
    "complex_sys.em_equi_three_step_iter_error(out_folder=equi_folder,\n",
    "        no_constr_nsteps=em_step_number,\n",
    "        constr_nsteps=em_step_number,\n",
    "        nsteps_HA=HA_step,  \n",
    "        nsteps_CA=CA_step,\n",
    "        nsteps_CA_LOW=CA_LOW_step,\n",
    "        dt=dt, dt_HA=dt_HA,\n",
    "        tc_grps='Protein Water_and_ions',\n",
    "        tau_t= '0.1 0.1',\n",
    "        ref_t= '310 310',\n",
    "        vsite=vsite, maxwarn=10, iter_num=1)"
   ]
  },
  {
   "cell_type": "code",
   "execution_count": 17,
   "metadata": {
    "execution": {
     "iopub.execute_input": "2025-03-08T07:37:19.858621Z",
     "iopub.status.busy": "2025-03-08T07:37:19.857992Z",
     "iopub.status.idle": "2025-03-08T07:37:19.868988Z",
     "shell.execute_reply": "2025-03-08T07:37:19.867612Z"
    }
   },
   "outputs": [],
   "source": [
    "%%script true\n",
    "import pickle, datetime\n",
    "chkpt_fname='checkpoint.equi_' + datetime.date.today().strftime(\"%Y%m%d\") + \".pycpt\"\n",
    "with open(chkpt_fname, 'wb') as py_cpt:\n",
    "    pickle.dump(complex_sys, py_cpt)"
   ]
  },
  {
   "cell_type": "markdown",
   "metadata": {},
   "source": [
    "### Plot Equilibriation\n",
    "\n",
    "Since the statistical ensemble is pretty much always NPT, this is different from the Lemkul-lysozyme tutorial at [MDTutorials](http://www.mdtutorials.com/gmx/lysozyme/). So we need to see Volume as well as Pressure, temperature, and density."
   ]
  },
  {
   "cell_type": "code",
   "execution_count": 18,
   "metadata": {
    "execution": {
     "iopub.execute_input": "2025-03-08T07:37:19.873765Z",
     "iopub.status.busy": "2025-03-08T07:37:19.873165Z",
     "iopub.status.idle": "2025-03-08T07:37:19.884052Z",
     "shell.execute_reply": "2025-03-08T07:37:19.882753Z"
    }
   },
   "outputs": [],
   "source": [
    "%%script true\n",
    "import pickle, datetime\n",
    "chkpt_fname='checkpoint.equi_20250307.pycpt'\n",
    "\n",
    "with open(chkpt_fname, 'rb') as py_cpt:\n",
    "    complex_sys = pickle.load(py_cpt)"
   ]
  },
  {
   "cell_type": "code",
   "execution_count": 19,
   "metadata": {
    "execution": {
     "iopub.execute_input": "2025-03-08T07:37:19.889389Z",
     "iopub.status.busy": "2025-03-08T07:37:19.888705Z",
     "iopub.status.idle": "2025-03-08T07:37:19.900046Z",
     "shell.execute_reply": "2025-03-08T07:37:19.898771Z"
    }
   },
   "outputs": [],
   "source": [
    "%%script true\n",
    "quantities = [\"Temperature\", \"Pressure\", \"Volume\", \"Density\"]\n",
    "units = [\"$K$\", \"$bar$\", \"$A^3$\", \"$kg/m^3$\"]\n",
    "\n",
    "pd_1 = complex_sys.sys_history[-2].get_ener(selection_list=quantities)\n",
    "pd_2 = complex_sys.sys_history[-1].get_ener(selection_list=quantities)\n",
    "pd_3 = complex_sys.get_ener(selection_list=quantities)\n",
    "\n",
    "pd_1['label'] = 'HA_constr'\n",
    "pd_2['label'] = 'CA_constr'\n",
    "pd_2['Time (ps)'] = pd_2['Time (ps)'] + pd_1['Time (ps)'].max()\n",
    "pd_3['label'] = 'CA_LOW_constr'\n",
    "pd_3['Time (ps)'] = pd_3['Time (ps)'] + pd_2['Time (ps)'].max()\n",
    "\n",
    "display(pd.concat([pd_1, pd_2, pd_3]))"
   ]
  },
  {
   "cell_type": "code",
   "execution_count": 20,
   "metadata": {
    "execution": {
     "iopub.execute_input": "2025-03-08T07:37:19.905049Z",
     "iopub.status.busy": "2025-03-08T07:37:19.904367Z",
     "iopub.status.idle": "2025-03-08T07:37:19.915418Z",
     "shell.execute_reply": "2025-03-08T07:37:19.914217Z"
    }
   },
   "outputs": [],
   "source": [
    "%%script true\n",
    "plt.rcParams.update({'font.size': 22})\n",
    "\n",
    "fig, axs = plt.subplots(4, 1, figsize=(24,13.5), sharex=True, tight_layout=True)\n",
    "\n",
    "for ax, quantity, unit in zip(axs, quantities, units):\n",
    "    for df in (pd_1, pd_2, pd_3):\n",
    "        ax.plot(df[\"Time (ps)\"], df[quantity], label=str(df['label'][0]))\n",
    "        ax.set_ylabel(quantity + \"(\" + unit + \")\")\n",
    "        ax.grid()\n",
    "\n",
    "axs[0].legend()\n",
    "axs[-1].set_xlabel(\"Time (ps)\");"
   ]
  },
  {
   "cell_type": "markdown",
   "metadata": {},
   "source": [
    "Looks okay to me. Fluctuations are high at the end because CA constraints are low, but there is a well-defined average."
   ]
  },
  {
   "cell_type": "markdown",
   "metadata": {},
   "source": [
    "### Plot RMSD\n",
    "\n",
    "There is a corrupted frame in the `xtc` (probably took place during checkpoint restore) due to which this doesn't work. Nonetheless, the `gro` file of the final state looks good, so will proceed to production MD."
   ]
  },
  {
   "cell_type": "code",
   "execution_count": 21,
   "metadata": {
    "execution": {
     "iopub.execute_input": "2025-03-08T07:37:19.920705Z",
     "iopub.status.busy": "2025-03-08T07:37:19.920111Z",
     "iopub.status.idle": "2025-03-08T07:37:19.930725Z",
     "shell.execute_reply": "2025-03-08T07:37:19.929663Z"
    }
   },
   "outputs": [],
   "source": [
    "%%script true\n",
    "# Define reference structure for RMSD calculation\n",
    "ref_sys =  complex_sys.sys_history[1]\n",
    "struct=\"Protein\"\n",
    "\n",
    "rmsd_pd_1 = complex_sys.sys_history[-2].get_rmsd([struct, struct], ref_sys=ref_sys)\n",
    "rmsd_pd_2 = complex_sys.sys_history[-1].get_rmsd([struct, struct], ref_sys=ref_sys)\n",
    "rmsd_pd_3 = complex_sys.get_rmsd([struct, struct], ref_sys=ref_sys)\n",
    "\n",
    "\n",
    "rmsd_pd_1['label'] = 'HA_constr'\n",
    "rmsd_pd_2['label'] = 'CA_constr'\n",
    "rmsd_pd_2['time'] = rmsd_pd_2['time'] + rmsd_pd_1['time'].max()\n",
    "rmsd_pd_3['label'] = 'CA_LOW_constr'\n",
    "rmsd_pd_3['time'] = rmsd_pd_3['time'] + rmsd_pd_2['time'].max()\n",
    "\n",
    "display(pd.concat([rmsd_pd_1, rmsd_pd_2, rmsd_pd_3]))\n"
   ]
  },
  {
   "cell_type": "code",
   "execution_count": 22,
   "metadata": {
    "execution": {
     "iopub.execute_input": "2025-03-08T07:37:19.935455Z",
     "iopub.status.busy": "2025-03-08T07:37:19.934867Z",
     "iopub.status.idle": "2025-03-08T07:37:19.945151Z",
     "shell.execute_reply": "2025-03-08T07:37:19.943900Z"
    }
   },
   "outputs": [],
   "source": [
    "%%script true\n",
    "fig, ax = plt.subplots(1, 1, figsize=(24,13.5))\n",
    "\n",
    "for df in (rmsd_pd_1, rmsd_pd_2, rmsd_pd_3):\n",
    "        ax.plot(df[\"time\"], df[\"Protein\"], label=str(df['label'][0]))\n",
    "        \n",
    "ax.set_title(struct)\n",
    "ax.set_ylabel('RMSD (nm)')\n",
    "ax.set_xlabel('Time (ps)')\n",
    "plt.grid()"
   ]
  },
  {
   "cell_type": "markdown",
   "metadata": {},
   "source": [
    "### Prepare Equilibration Trajectories for viewing\n",
    "\n",
    "Center the peptide on all of them, then fit rotation and translation for smoother visualization."
   ]
  },
  {
   "cell_type": "code",
   "execution_count": 23,
   "metadata": {
    "execution": {
     "iopub.execute_input": "2025-03-08T07:37:19.950476Z",
     "iopub.status.busy": "2025-03-08T07:37:19.949923Z",
     "iopub.status.idle": "2025-03-08T07:37:19.960203Z",
     "shell.execute_reply": "2025-03-08T07:37:19.959215Z"
    }
   },
   "outputs": [],
   "source": [
    "%%script true\n",
    "complex_sys.center_mol_box(traj=True)\n",
    "complex_sys.convert_trj(select='Protein\\nSystem', fit='rot+trans', pbc='none')"
   ]
  },
  {
   "cell_type": "code",
   "execution_count": 24,
   "metadata": {
    "execution": {
     "iopub.execute_input": "2025-03-08T07:37:19.964274Z",
     "iopub.status.busy": "2025-03-08T07:37:19.963699Z",
     "iopub.status.idle": "2025-03-08T07:37:19.973560Z",
     "shell.execute_reply": "2025-03-08T07:37:19.972359Z"
    }
   },
   "outputs": [],
   "source": [
    "%%script true\n",
    "complex_sys.sys_history[-1].center_mol_box(traj=True)\n",
    "complex_sys.sys_history[-1].convert_trj(select='Protein\\nSystem', fit='rot+trans', pbc='none')"
   ]
  },
  {
   "cell_type": "code",
   "execution_count": 25,
   "metadata": {
    "execution": {
     "iopub.execute_input": "2025-03-08T07:37:19.978456Z",
     "iopub.status.busy": "2025-03-08T07:37:19.977872Z",
     "iopub.status.idle": "2025-03-08T07:37:19.987748Z",
     "shell.execute_reply": "2025-03-08T07:37:19.986636Z"
    }
   },
   "outputs": [],
   "source": [
    "%%script true\n",
    "complex_sys.sys_history[-2].center_mol_box(traj=True)\n",
    "complex_sys.sys_history[-2].convert_trj(select='Protein\\nSystem', fit='rot+trans', pbc='none')"
   ]
  },
  {
   "cell_type": "markdown",
   "metadata": {},
   "source": [
    "## Production MD \n",
    "\n",
    "tc-coupling groups are required here as well. See [gromacs-py manual](https://gromacs-py.readthedocs.io/en/latest/notebook/01_dna_ligand_ambertools.html#Production)"
   ]
  },
  {
   "cell_type": "code",
   "execution_count": 26,
   "metadata": {
    "execution": {
     "iopub.execute_input": "2025-03-08T07:37:19.992119Z",
     "iopub.status.busy": "2025-03-08T07:37:19.991547Z",
     "iopub.status.idle": "2025-03-08T07:37:20.001690Z",
     "shell.execute_reply": "2025-03-08T07:37:20.000604Z"
    }
   },
   "outputs": [],
   "source": [
    "%%script true\n",
    "import pickle, datetime\n",
    "chkpt_fname='checkpoint.equi_20250307.pycpt'\n",
    "\n",
    "with open(chkpt_fname, 'rb') as py_cpt:\n",
    "    complex_sys = pickle.load(py_cpt)"
   ]
  },
  {
   "cell_type": "markdown",
   "metadata": {},
   "source": [
    "### Extend previous production if needed"
   ]
  },
  {
   "cell_type": "code",
   "execution_count": 27,
   "metadata": {
    "execution": {
     "iopub.execute_input": "2025-03-08T07:37:20.006645Z",
     "iopub.status.busy": "2025-03-08T07:37:20.006046Z",
     "iopub.status.idle": "2025-03-08T07:37:20.169764Z",
     "shell.execute_reply": "2025-03-08T07:37:20.168429Z"
    }
   },
   "outputs": [
    {
     "name": "stdout",
     "output_type": "stream",
     "text": [
      "gmx check -f ku04amp01_linear/sys_prod/prod_ku04amp01_linear.cpt\n"
     ]
    }
   ],
   "source": [
    "#%%script true\n",
    "import pickle, datetime\n",
    "chkpt_fname='checkpoint.prod_20250308.pycpt'\n",
    "\n",
    "#Load previous production checkpoint\n",
    "with open(chkpt_fname, 'rb') as py_cpt:\n",
    "    complex_sys = pickle.load(py_cpt)\n",
    "\n",
    "\n",
    "new_prod_time = 50.0\n",
    "nsteps = 1000 * new_prod_time / dt\n",
    "#Parallelization\n",
    "nthreads = int(os.environ.get('PBS_NCPUS', '16'))\n",
    "\n",
    "#Set Parallelization\n",
    "complex_sys.nt = nthreads\n",
    "#complex_sys.ntmpi = 1\n",
    "complex_sys.gpu_id = '0'\n",
    "\n",
    "complex_sys.extend_sim(nsteps=nsteps)"
   ]
  },
  {
   "cell_type": "code",
   "execution_count": 28,
   "metadata": {
    "execution": {
     "iopub.execute_input": "2025-03-08T07:37:20.218871Z",
     "iopub.status.busy": "2025-03-08T07:37:20.218064Z",
     "iopub.status.idle": "2025-03-08T07:37:20.230234Z",
     "shell.execute_reply": "2025-03-08T07:37:20.228664Z"
    }
   },
   "outputs": [],
   "source": [
    "%%script true\n",
    "#Parallelization\n",
    "nthreads = int(os.environ.get('PBS_NCPUS', '16'))\n",
    "\n",
    "#Set Parallelization\n",
    "complex_sys.nt = nthreads\n",
    "#complex_sys.ntmpi = 1\n",
    "complex_sys.gpu_id = '0'\n",
    "\n",
    "complex_sys.production(out_folder=prod_folder,\n",
    "        nsteps=prod_step,\n",
    "        tc_grps='Protein Water_and_ions',\n",
    "        tau_t= '0.1 0.1',\n",
    "        ref_t= '310 310',\n",
    "        dt=dt, vsite=vsite, maxwarn=1, nstlist=200)"
   ]
  },
  {
   "cell_type": "markdown",
   "metadata": {},
   "source": [
    "## Checkpointing for extending\n"
   ]
  },
  {
   "cell_type": "code",
   "execution_count": 29,
   "metadata": {
    "execution": {
     "iopub.execute_input": "2025-03-08T07:37:20.233847Z",
     "iopub.status.busy": "2025-03-08T07:37:20.233166Z",
     "iopub.status.idle": "2025-03-08T07:37:20.241760Z",
     "shell.execute_reply": "2025-03-08T07:37:20.240557Z"
    }
   },
   "outputs": [],
   "source": [
    "#%%script true\n",
    "import pickle, datetime\n",
    "chkpt_fname='checkpoint.prod_' + datetime.date.today().strftime(\"%Y%m%d\") + '.pycpt'\n",
    "with open(chkpt_fname, 'wb') as py_cpt:\n",
    "    pickle.dump(complex_sys, py_cpt)"
   ]
  },
  {
   "cell_type": "markdown",
   "metadata": {},
   "source": [
    "## Post-Production"
   ]
  },
  {
   "cell_type": "code",
   "execution_count": 30,
   "metadata": {
    "execution": {
     "iopub.execute_input": "2025-03-08T07:37:20.244898Z",
     "iopub.status.busy": "2025-03-08T07:37:20.244493Z",
     "iopub.status.idle": "2025-03-08T07:37:20.254052Z",
     "shell.execute_reply": "2025-03-08T07:37:20.252548Z"
    }
   },
   "outputs": [],
   "source": [
    "%%script true\n",
    "import pickle, datetime\n",
    "chkpt_fname='checkpoint.prod_20250118.pycpt'\n",
    "\n",
    "with open(chkpt_fname, 'rb') as py_cpt:\n",
    "    complex_sys = pickle.load(py_cpt)"
   ]
  },
  {
   "cell_type": "markdown",
   "metadata": {},
   "source": [
    "### Prepare Production Trajectory for Viewing\n",
    "\n",
    "#### Center Trajectory"
   ]
  },
  {
   "cell_type": "code",
   "execution_count": 31,
   "metadata": {
    "execution": {
     "iopub.execute_input": "2025-03-08T07:37:20.257807Z",
     "iopub.status.busy": "2025-03-08T07:37:20.257281Z",
     "iopub.status.idle": "2025-03-08T07:37:21.042970Z",
     "shell.execute_reply": "2025-03-08T07:37:21.041329Z"
    },
    "scrolled": true
   },
   "outputs": [
    {
     "name": "stdout",
     "output_type": "stream",
     "text": [
      "gmx make_ndx -f ku04amp01_linear/sys_prod/prod_ku04amp01_linear.gro -o ku04amp01_linear/sys_prod/prod_ku04amp01_linear.ndx\n"
     ]
    }
   ],
   "source": [
    "#%%script true\n",
    "# Center trajectory\n",
    "complex_sys.center_mol_box(traj=True)"
   ]
  },
  {
   "cell_type": "markdown",
   "metadata": {},
   "source": [
    "## Final Steps\n",
    "As in any simulation conducted with periodic boundary conditions, molecules may appear \"broken\" or may \"jump\" back and forth across the box. To recenter the protein and rewrap the molecules within the unit cell to recover the desired box shape, invoke trjconv. \n",
    "\n",
    "Choose \"Protein\" for centering and \"System\" for output."
   ]
  },
  {
   "cell_type": "code",
   "execution_count": 32,
   "metadata": {
    "execution": {
     "iopub.execute_input": "2025-03-08T07:37:21.053799Z",
     "iopub.status.busy": "2025-03-08T07:37:21.053406Z",
     "iopub.status.idle": "2025-03-08T07:37:21.058400Z",
     "shell.execute_reply": "2025-03-08T07:37:21.057481Z"
    }
   },
   "outputs": [],
   "source": [
    "#%%script true\n",
    "complex_sys.convert_trj(select='Protein\\nSystem', fit='rot+trans', pbc='none')"
   ]
  },
  {
   "cell_type": "markdown",
   "metadata": {},
   "source": [
    "#### Extract production initial condition\n",
    "Optionally, extract the first frame of the final prod traj (latest from history, as the running one got updated) into a `pdb` for loading into post processing."
   ]
  },
  {
   "cell_type": "code",
   "execution_count": 33,
   "metadata": {
    "execution": {
     "iopub.execute_input": "2025-03-08T07:37:21.062716Z",
     "iopub.status.busy": "2025-03-08T07:37:21.062391Z",
     "iopub.status.idle": "2025-03-08T07:37:21.066481Z",
     "shell.execute_reply": "2025-03-08T07:37:21.065778Z"
    }
   },
   "outputs": [],
   "source": [
    "#%%script true\n",
    "complex_sys.sys_history[-1].convert_trj(select='Protein\\nSystem', fit='rot+trans', pbc='none', specific_coor_out=prod_folder+\"/start.pdb\", dump=\"0\")"
   ]
  }
 ],
 "metadata": {
  "celltoolbar": "Edit Metadata",
  "kernelspec": {
   "display_name": "Python 3 (ipykernel)",
   "language": "python",
   "name": "python3"
  },
  "language_info": {
   "codemirror_mode": {
    "name": "ipython",
    "version": 3
   },
   "file_extension": ".py",
   "mimetype": "text/x-python",
   "name": "python",
   "nbconvert_exporter": "python",
   "pygments_lexer": "ipython3",
   "version": "3.12.0"
  },
  "toc": {
   "base_numbering": 1,
   "nav_menu": {},
   "number_sections": true,
   "sideBar": true,
   "skip_h1_title": false,
   "title_cell": "Table of Contents",
   "title_sidebar": "Contents",
   "toc_cell": false,
   "toc_position": {},
   "toc_section_display": true,
   "toc_window_display": false
  }
 },
 "nbformat": 4,
 "nbformat_minor": 4
}
