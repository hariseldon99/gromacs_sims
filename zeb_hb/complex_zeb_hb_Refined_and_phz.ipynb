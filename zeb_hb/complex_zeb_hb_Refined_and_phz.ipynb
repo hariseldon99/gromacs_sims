{
 "cells": [
  {
   "cell_type": "markdown",
   "metadata": {},
   "source": [
    "ZebraFish Haemoglobin protein and Phenyl Hydrazine Complex\n",
    "======================\n"
   ]
  },
  {
   "cell_type": "markdown",
   "metadata": {},
   "source": [
    "## ``Gromacs_py`` simulation\n",
    "\n",
    "Here is an example of a short simulation of the Zebrafish Haemoglobin (`zeb_hb`) protein in complex with phenyl hydrazine (`phz`) ligand using AMBER force-field model.\n",
    "\n",
    "**TODO:** Need to do this to properly docked system. The PDB file of ligand must be generated from the canonical SMILES by rdkit. This can be done locally using:\n",
    "\n",
    "```python\n",
    ">>> lig_name = 'phz'\n",
    ">>> lig_resname = lig_name.upper()\n",
    ">>> gmx.gmxsys.ambertools.smile_to_pdb(\"C1=CC=C(C=C1)NN\",os.path.join(DATA_OUT,f\"{lig_name}.pdb\"),lig_resname)\n",
    "```\n",
    "\n",
    "as seen in the code cells below.\n",
    "\n",
    "\n",
    "Finally, seven successive steps are used:\n",
    "\n",
    "1. Load the protein-ligand complex in its best -docked state. Docking performed externally using Autodock Vina through `AMDock` GUI.\n",
    "   \n",
    "2. In-complex creation of Protein Topology using ``GmxSys.add_top()``, followed by boxing and solvation/neutralization.\n",
    "   \n",
    "3. Ligand topology creation using `prepare_top()` which uses `acpype` to build ligand topology. The ligand topology file requires minor post-processing due to bugs in `gromacs_py`.\n",
    "   \n",
    "4. **TODO:** Solvation of the complex using ``GmxSys.solvate_add_ions()``.\n",
    "\n",
    "5. Minimisation of the structure using ``GmxSys.em_2_steps()``.\n",
    "\n",
    "6. **TODO:** Equilibration of the system using ``GmxSys.em_equi_three_step_iter_error()``.\n",
    "\n",
    "7. **TODO:** Production run using ``GmxSys.production()``.\n",
    "\n",
    "### Import"
   ]
  },
  {
   "cell_type": "code",
   "execution_count": 1,
   "metadata": {},
   "outputs": [],
   "source": [
    "import sys\n",
    "import os\n",
    "import shutil\n",
    "\n",
    "import pandas as pd\n",
    "import matplotlib.pyplot as plt\n",
    "import numpy as np\n",
    "import seaborn as sns"
   ]
  },
  {
   "cell_type": "markdown",
   "metadata": {},
   "source": [
    "## To use `gromacs_py` in a project"
   ]
  },
  {
   "cell_type": "code",
   "execution_count": 2,
   "metadata": {},
   "outputs": [],
   "source": [
    "from gromacs_py import gmx"
   ]
  },
  {
   "cell_type": "markdown",
   "metadata": {},
   "source": [
    "## Simulation setup\n",
    "\n",
    "- Define a few variables for you simulation, like:\n",
    "  \n",
    "    1. simulation output folders\n",
    "    2. ionic concentration\n",
    "    3. number of minimisation steps\n",
    "    4. equilibration and production time\n",
    "\n",
    "### Regarding equilibriation time:\n",
    "The following variables define the sim times (relative units) for each stage of the three-stage equilibriation process. Check notes below for details:\n",
    "\n",
    "1. `HA_time`\n",
    "2. `CA_time`\n",
    "3. `CA_LOW_time` \n"
   ]
  },
  {
   "cell_type": "code",
   "execution_count": 3,
   "metadata": {},
   "outputs": [],
   "source": [
    "DATA_OUT = 'zeb_hb_phz_complex_sim'\n",
    "\n",
    "# System Setup\n",
    "vsite='none'\n",
    "sys_top_folder = os.path.join(DATA_OUT, 'sys_top')\n",
    "#ignore_hydrogen = {'ignh': None}\n",
    "\n",
    "# Energy Minimisation\n",
    "em_folder = os.path.join(DATA_OUT, 'em')\n",
    "em_sys_folder = os.path.join(DATA_OUT, 'sys_em')\n",
    "em_step_number = 10000\n",
    "emtol = 10.0  \t# Stop minimization when the maximum force < 10 J/mol\n",
    "emstep  = 0.01      # Energy step size\n",
    "\n",
    "\n",
    "# Equillibration\n",
    "equi_folder = os.path.join(DATA_OUT, 'sys_equi')\n",
    "HA_time = 0.5\n",
    "CA_time = 1.0\n",
    "CA_LOW_time = 4.0\n",
    "\n",
    "dt_HA = 0.001\n",
    "dt = 0.002\n",
    "\n",
    "HA_step = 1000 * HA_time / dt_HA\n",
    "CA_step = 1000 * CA_time / dt\n",
    "CA_LOW_step = 1000 * CA_LOW_time / dt\n",
    "\n",
    "# Production\n",
    "os.makedirs(DATA_OUT, exist_ok = True)\n",
    "prod_folder = os.path.join(DATA_OUT, 'sys_prod')\n",
    "prod_time = 100.0\n",
    "\n",
    "prod_step = 1000 * prod_time / dt"
   ]
  },
  {
   "cell_type": "markdown",
   "metadata": {},
   "source": [
    "## Create the `GmxSys` object\n",
    "\n",
    "Load protein information only from docked PDB file on disk"
   ]
  },
  {
   "cell_type": "code",
   "execution_count": 4,
   "metadata": {},
   "outputs": [],
   "source": [
    "pdb_file = \"zeb_hb_phz_docking/input/ZEB_HB_REfined_h.pdb\"\n",
    "sys_name = \"zeb_hb_phz_complex\"\n",
    "complex_sys = gmx.GmxSys(name=sys_name, coor_file=pdb_file)"
   ]
  },
  {
   "cell_type": "markdown",
   "metadata": {},
   "source": [
    "## Create topology and stuff\n",
    "\n",
    "1. Topology creation involves using `pdb2gmx` via the `prepare_top()` function.\n",
    "2. Create box\n",
    "3. Solvate and add ions\n",
    "\n"
   ]
  },
  {
   "cell_type": "code",
   "execution_count": null,
   "metadata": {},
   "outputs": [],
   "source": [
    "complex_sys.prepare_top(out_folder=DATA_OUT, ff='amber99sb-ildn')\n",
    "complex_sys.create_box(dist=1.0, box_type=\"dodecahedron\", check_file_out=True)\n",
    "complex_sys.solvate_add_ions(out_folder=DATA_OUT, name=sys_name,create_box_flag=False)"
   ]
  },
  {
   "cell_type": "markdown",
   "metadata": {},
   "source": [
    "## Create Ligand topology\n",
    "\n",
    "This is fraught with bugs in `gromacs_py`, necessitating some overrides using `try-except`, check comments on cell below"
   ]
  },
  {
   "cell_type": "code",
   "execution_count": null,
   "metadata": {},
   "outputs": [],
   "source": [
    "lig_name = 'phz'\n",
    "lig_resname = lig_name.upper()\n",
    "\n",
    "gmx.gmxsys.ambertools.smile_to_pdb(\"C1=CC=C(C=C1)NN\",os.path.join(DATA_OUT,f\"{lig_name}.pdb\"),lig_resname)\n",
    "lig_sys = gmx.GmxSys(name=lig_name, coor_file=os.path.join(DATA_OUT,f\"{lig_name}.pdb\"))\n",
    "\n",
    "#acpype seems to create topology correctly, but this stupid gromacs_py does not recognize it\n",
    "try:\n",
    "    lig_sys.prepare_top(out_folder=os.path.join(DATA_OUT,lig_name),ff='amber99sb-ildn', include_mol={lig_resname: 'C1=CC=C(C=C1)NN'})\n",
    "except:\n",
    "    #Since gromacs_py does not recognize the topology file, we need to set it manually\n",
    "    os.chdir(\"../../\")\n",
    "    lig_sys.coor_file = os.path.join(DATA_OUT,lig_name,lig_resname+\".acpype\",f\"{lig_resname}_h_unique.pdb\")\n",
    "    lig_sys.top_file = os.path.join(DATA_OUT,lig_name,lig_resname+\".acpype\",f\"{lig_resname}_GMX.top\")"
   ]
  },
  {
   "cell_type": "markdown",
   "metadata": {},
   "source": [
    "Beginning of the ligand topology file\n",
    "\n",
    "```txt\n",
    "[ atoms ]\n",
    ";   nr       type  resnr residue  atom   cgnr     charge       mass  typeB    chargeB      massB\n",
    "     1         ca      1    PHZ     C1      1   -0.15700   12.01000   ; qtot -0.16  \n",
    "     2         ca      1    PHZ     C2      2   -0.10000   12.01000   ; qtot -0.26  \n",
    "     3         ca      1    PHZ     C3      3   -0.17100   12.01000   ; qtot -0.43  \n",
    "     4         ca      1    PHZ     C4      4    0.07960   12.01000   ; qtot -0.35  \n",
    "     5         ca      1    PHZ     C5      5   -0.17100   12.01000   ; qtot -0.52  \n",
    "     6         ca      1    PHZ     C6      6   -0.10000   12.01000   ; qtot -0.62  \n",
    "     7         nh      1    PHZ     N1      7   -0.48640   14.01000   ; qtot -1.11  \n",
    "     8         n3      1    PHZ     N2      8   -0.64460   14.01000   ; qtot -1.75  \n",
    "     9         ha      1    PHZ     H1      9    0.13400    1.00800   ; qtot -1.62  \n",
    "    10         ha      1    PHZ     H2     10    0.13250    1.00800   ; qtot -1.48  \n",
    "    11         ha      1    PHZ     H3     11    0.13100    1.00800   ; qtot -1.35  \n",
    "    12         ha      1    PHZ     H4     12    0.13100    1.00800   ; qtot -1.22  \n",
    "    13         ha      1    PHZ     H5     13    0.13250    1.00800   ; qtot -1.09  \n",
    "    14         hn      1    PHZ     H6     14    0.40080    1.00800   ; qtot -0.69  \n",
    "    15         hn      1    PHZ     H7     15    0.34430    1.00800   ; qtot -0.34  \n",
    "    16         hn      1    PHZ     H8     16    0.34430    1.00800   ; qtot 0.00 \n",
    "```\n",
    "\n",
    "1. These types are described in the [GAFF forcefield website](https://ambermd.org/antechamber/gaff.html) [which is compatible with amber](https://www.researchgate.net/post/How-can-I-run-GAFF-and-AMBER99SB-in-parallel-in-GROMACS).\n",
    "2. These types are defined locally in `zeb_hb/zeb_hb_phz_complex_sim/phz/PHZ.acpype/PHZ_GMX_atomtypes.itp`, but not automatically transcluded in the ligand itp by `gromacs_py`. Do this manually or programmatically to the top file created by `acpype`.\n",
    "\n",
    "## Programmatic implementation of item 2."
   ]
  },
  {
   "cell_type": "code",
   "execution_count": null,
   "metadata": {},
   "outputs": [],
   "source": [
    "header = f'#include \\\"{lig_resname}_GMX_atomtypes.itp\\\"'\n",
    "cmd_header = (r\"sed -i '1s/^/\" + f\"{header}\" + r\"\\n/'\" + f\" {lig_sys.top_file}\")\n",
    "os.system(cmd_header)\n"
   ]
  },
  {
   "cell_type": "markdown",
   "metadata": {},
   "source": [
    "# Combine the Protein and Ligand topologies\n",
    "\n",
    "This too has errors in the tpr file of the protein, so it needs to be unset and re-generated."
   ]
  },
  {
   "cell_type": "code",
   "execution_count": null,
   "metadata": {},
   "outputs": [],
   "source": [
    "complex_sys.tpr = None\n",
    "complex_sys.insert_mol_sys(lig_sys, 1, sys_name, DATA_OUT)\n",
    "complex_sys.solvate_add_ions(out_folder=DATA_OUT, name=sys_name,create_box_flag=False)"
   ]
  },
  {
   "cell_type": "code",
   "execution_count": 14,
   "metadata": {},
   "outputs": [
    {
     "name": "stdout",
     "output_type": "stream",
     "text": [
      "name         : zeb_hb_phz_complex\n",
      "sim_name     : equi_HA_zeb_hb_phz_complex\n",
      "coor_file    : ../../sys_em/zeb_hb_phz_complex_compact.pdb\n",
      "top_file     : ../../../zeb_hb_phz_complex_water_ion.top\n",
      "tpr          : equi_HA_zeb_hb_phz_complex.tpr\n",
      "mdp          : equi_HA_zeb_hb_phz_complex.mdp\n",
      "xtc          : ../../sys_em/zeb_hb_phz_complex.trr\n",
      "edr          : ../../sys_em/zeb_hb_phz_complex.edr\n",
      "log          : ../../sys_em/zeb_hb_phz_complex.log\n",
      "nt           : 16\n",
      "ntmpi        : 0\n",
      "gpu_id       : 0\n",
      "sys_history  : 5\n"
     ]
    }
   ],
   "source": [
    "complex_sys.display()"
   ]
  },
  {
   "cell_type": "markdown",
   "metadata": {},
   "source": [
    "## Energy minimisation\n",
    "\n",
    "Set parallelization and GPU options here. Change them later, if needed."
   ]
  },
  {
   "cell_type": "code",
   "execution_count": null,
   "metadata": {},
   "outputs": [],
   "source": [
    "#Parallelization\n",
    "nthreads = int(os.environ.get('PBS_NCPUS', '16'))\n",
    "\n",
    "#Set Parallelization\n",
    "complex_sys.nt = nthreads\n",
    "#complex_sys.ntmpi = 1\n",
    "complex_sys.gpu_id = '0'\n",
    "\n",
    "complex_sys.em_2_steps(out_folder=em_folder,\n",
    "        no_constr_nsteps=em_step_number,\n",
    "        constr_nsteps=em_step_number,\n",
    "        posres=\"\",\n",
    "        create_box_flag=False, emtol=emtol, emstep=emstep)"
   ]
  },
  {
   "cell_type": "code",
   "execution_count": null,
   "metadata": {},
   "outputs": [],
   "source": []
  },
  {
   "cell_type": "markdown",
   "metadata": {},
   "source": [
    "## Plot energy:"
   ]
  },
  {
   "cell_type": "code",
   "execution_count": null,
   "metadata": {},
   "outputs": [],
   "source": [
    "ener_pd_1 = complex_sys.sys_history[-1].get_ener(selection_list=['Potential'])\n",
    "ener_pd_2 = complex_sys.get_ener(selection_list=['Potential'])\n",
    "\n",
    "ener_pd_1['label'] = 'no bond constr'\n",
    "ener_pd_2['label'] = 'bond constr'\n",
    "\n",
    "ener_pd = pd.concat([ener_pd_1, ener_pd_2])\n",
    "\n",
    "ener_pd['Time (ps)'] = np.arange(len(ener_pd))"
   ]
  },
  {
   "cell_type": "code",
   "execution_count": null,
   "metadata": {},
   "outputs": [],
   "source": [
    "ax = sns.lineplot(x=\"Time (ps)\", y=\"Potential\",\n",
    "        hue=\"label\",\n",
    "        data=ener_pd)\n",
    "ax.set_xlabel('step')\n",
    "ax.set_ylabel('energy (KJ/mol)')\n",
    "plt.grid()"
   ]
  },
  {
   "cell_type": "markdown",
   "metadata": {},
   "source": [
    "## System minimisation and equilibration\n",
    "\n",
    "Based on `gromacs_py` docs, this is a 3-stage equilibriation process. \n",
    "\n",
    "All three steps seem to be NPT with berendsen coupling and v-rescale for temp coupling. Each step just has different restraints. This does not seem so bad: closer to lab conditions.\n",
    "\n",
    "Since the statistical ensemble is pretty much always NPT, this is different from the Lemkul-lysozyme tutorial at [MDTutorials](http://www.mdtutorials.com/gmx/lysozyme/).\n",
    "\n",
    "**Note:** Had to run this on param at least. Too slow even in ofc workstn."
   ]
  },
  {
   "cell_type": "code",
   "execution_count": null,
   "metadata": {},
   "outputs": [],
   "source": [
    "complex_sys.em_equi_three_step_iter_error(out_folder=equi_folder,\n",
    "    no_constr_nsteps=em_step_number,\n",
    "    constr_nsteps=em_step_number,\n",
    "    nsteps_HA=HA_step,  \n",
    "    nsteps_CA=CA_step,\n",
    "    nsteps_CA_LOW=CA_LOW_step,\n",
    "    dt=dt, dt_HA=dt_HA,\n",
    "    vsite=vsite, maxwarn=1)\n"
   ]
  },
  {
   "cell_type": "markdown",
   "metadata": {},
   "source": [
    "### Plot Equilibriation\n",
    "\n",
    "Since the statistical ensemble is pretty much always NPT, this is different from the Lemkul-lysozyme tutorial at [MDTutorials](http://www.mdtutorials.com/gmx/lysozyme/). So we need to see Volume as well as Pressure, temperature, and density."
   ]
  },
  {
   "cell_type": "code",
   "execution_count": null,
   "metadata": {
    "scrolled": false
   },
   "outputs": [],
   "source": [
    "quantities = [\"Temperature\", \"Pressure\", \"Volume\", \"Density\"]\n",
    "units = [\"$K$\", \"$bar$\", \"$A^3$\", \"$kg/m^3$\"]\n",
    "\n",
    "pd_1 = complex_sys.sys_history[-2].get_ener(selection_list=quantities)\n",
    "pd_2 = complex_sys.sys_history[-1].get_ener(selection_list=quantities)\n",
    "pd_3 = complex_sys.get_ener(selection_list=quantities)\n",
    "\n",
    "pd_1['label'] = 'HA_constr'\n",
    "pd_2['label'] = 'CA_constr'\n",
    "pd_2['Time (ps)'] = pd_2['Time (ps)'] + pd_1['Time (ps)'].max()\n",
    "pd_3['label'] = 'CA_LOW_constr'\n",
    "pd_3['Time (ps)'] = pd_3['Time (ps)'] + pd_2['Time (ps)'].max()\n",
    "\n",
    "display(pd.concat([pd_1, pd_2, pd_3]))"
   ]
  },
  {
   "cell_type": "code",
   "execution_count": null,
   "metadata": {},
   "outputs": [],
   "source": [
    "plt.rcParams.update({'font.size': 22})\n",
    "\n",
    "fig, axs = plt.subplots(4, 1, figsize=(24,13.5), sharex=True, tight_layout=True)\n",
    "\n",
    "for ax, quantity, unit in zip(axs, quantities, units):\n",
    "    for df in (pd_1, pd_2, pd_3):\n",
    "        ax.plot(df[\"Time (ps)\"], df[quantity], label=str(df['label'][0]))\n",
    "        ax.set_ylabel(quantity + \"(\" + unit + \")\")\n",
    "        ax.grid()\n",
    "\n",
    "axs[0].legend()\n",
    "axs[-1].set_xlabel(\"Time (ps)\");"
   ]
  },
  {
   "cell_type": "markdown",
   "metadata": {},
   "source": [
    "Looks okay to me. Fluctuations are high at the end because CA constraints are low, but there is a well-defined average.\n",
    "\n",
    "Alternatively, we **could** not do the `CA_LOW_constr` part."
   ]
  },
  {
   "cell_type": "markdown",
   "metadata": {},
   "source": [
    "### Plot RMSD"
   ]
  },
  {
   "cell_type": "code",
   "execution_count": null,
   "metadata": {},
   "outputs": [],
   "source": [
    "# Define reference structure for RMSD calculation\n",
    "ref_sys =  md_sys.sys_history[1]\n",
    "\n",
    "struct=\"Protein\"\n",
    "\n",
    "rmsd_pd_1 = md_sys.sys_history[-2].get_rmsd([struct, struct], ref_sys=ref_sys)\n",
    "rmsd_pd_2 = md_sys.sys_history[-1].get_rmsd([struct, struct], ref_sys=ref_sys)\n",
    "rmsd_pd_3 = md_sys.get_rmsd([struct, struct], ref_sys=ref_sys)\n",
    "\n",
    "\n",
    "rmsd_pd_1['label'] = 'HA_constr'\n",
    "rmsd_pd_2['label'] = 'CA_constr'\n",
    "rmsd_pd_2['time'] = rmsd_pd_2['time'] + rmsd_pd_1['time'].max()\n",
    "rmsd_pd_3['label'] = 'CA_LOW_constr'\n",
    "rmsd_pd_3['time'] = rmsd_pd_3['time'] + rmsd_pd_2['time'].max()\n",
    "\n",
    "display(pd.concat([rmsd_pd_1, rmsd_pd_2, rmsd_pd_3]))\n"
   ]
  },
  {
   "cell_type": "code",
   "execution_count": null,
   "metadata": {},
   "outputs": [],
   "source": [
    "fig, ax = plt.subplots(1, 1, figsize=(24,13.5))\n",
    "\n",
    "for df in (rmsd_pd_1, rmsd_pd_2, rmsd_pd_3):\n",
    "        ax.plot(df[\"time\"], df[\"Protein\"], label=str(df['label'][0]))\n",
    "        ax.set_ylabel(quantity + \"(\" + unit + \")\")\n",
    "        \n",
    "ax.set_title(struct)\n",
    "ax.set_ylabel('RMSD (nm)')\n",
    "ax.set_xlabel('Time (ps)')\n",
    "plt.grid()"
   ]
  },
  {
   "cell_type": "markdown",
   "metadata": {},
   "source": [
    "## Checkpointing\n",
    "\n",
    "Checkpoint using pickling. This will be easier to restore in the cluster"
   ]
  },
  {
   "cell_type": "code",
   "execution_count": null,
   "metadata": {},
   "outputs": [],
   "source": [
    "import pickle\n",
    "\n",
    "with open('checkpoint_equi.pycpt', 'wb') as py_cpt:\n",
    "    pickle.dump(md_sys, py_cpt)"
   ]
  },
  {
   "cell_type": "markdown",
   "metadata": {},
   "source": [
    "## Production MD "
   ]
  },
  {
   "cell_type": "code",
   "execution_count": null,
   "metadata": {},
   "outputs": [],
   "source": [
    "md_sys.production(out_folder=prod_folder,\n",
    "        nsteps=prod_step,\n",
    "        dt=dt, vsite=vsite, maxwarn=1)\n"
   ]
  },
  {
   "cell_type": "markdown",
   "metadata": {},
   "source": [
    "## Checkpointing Again\n"
   ]
  },
  {
   "cell_type": "code",
   "execution_count": null,
   "metadata": {},
   "outputs": [],
   "source": [
    "import pickle\n",
    "\n",
    "with open('checkpoint_prod.pycpt', 'wb') as py_cpt:\n",
    "    pickle.dump(md_sys, py_cpt)"
   ]
  },
  {
   "cell_type": "markdown",
   "metadata": {},
   "source": [
    "## Post-Production\n",
    "\n",
    "### Prepare trajectory"
   ]
  },
  {
   "cell_type": "code",
   "execution_count": null,
   "metadata": {
    "scrolled": true
   },
   "outputs": [],
   "source": [
    "# Center trajectory\n",
    "md_sys.center_mol_box(traj=True)"
   ]
  },
  {
   "cell_type": "markdown",
   "metadata": {},
   "source": [
    "### Trajectory Conversion for better viewing"
   ]
  },
  {
   "cell_type": "code",
   "execution_count": null,
   "metadata": {},
   "outputs": [],
   "source": [
    "# Align the protein coordinates\n",
    "md_sys.convert_trj(select='Protein\\nSystem\\n', fit='rot+trans', pbc='none', skip='10')"
   ]
  },
  {
   "cell_type": "code",
   "execution_count": null,
   "metadata": {},
   "outputs": [],
   "source": [
    "md_sys.display_history()"
   ]
  }
 ],
 "metadata": {
  "celltoolbar": "Edit Metadata",
  "kernelspec": {
   "display_name": "mdanalysis-old",
   "language": "python",
   "name": "python3"
  },
  "language_info": {
   "codemirror_mode": {
    "name": "ipython",
    "version": 3
   },
   "file_extension": ".py",
   "mimetype": "text/x-python",
   "name": "python",
   "nbconvert_exporter": "python",
   "pygments_lexer": "ipython3",
   "version": "3.12.5"
  },
  "toc": {
   "base_numbering": 1,
   "nav_menu": {},
   "number_sections": true,
   "sideBar": true,
   "skip_h1_title": false,
   "title_cell": "Table of Contents",
   "title_sidebar": "Contents",
   "toc_cell": false,
   "toc_position": {},
   "toc_section_display": true,
   "toc_window_display": false
  }
 },
 "nbformat": 4,
 "nbformat_minor": 2
}
