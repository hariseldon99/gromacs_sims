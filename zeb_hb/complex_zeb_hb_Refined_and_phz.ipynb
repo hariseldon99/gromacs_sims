{
 "cells": [
  {
   "cell_type": "markdown",
   "metadata": {},
   "source": [
    "ZebraFish Haemoglobin protein and Phenyl Hydrazine Complex\n",
    "======================\n"
   ]
  },
  {
   "cell_type": "markdown",
   "metadata": {},
   "source": [
    "## ``Gromacs_py`` simulation\n",
    "\n",
    "Here is an example of a short simulation of the Zebrafish Haemoglobin (`zeb_hb`) protein in complex with phenyl hydrazine (`phz`) ligand using AMBER force-field model.\n",
    "\n",
    "Seven successive steps are used:\n",
    "\n",
    "1. Load the protein-ligand complex in its best -docked state. Docking performed externally using Autodock Vina through `AMDock` GUI.\n",
    "   \n",
    "2. In-complex creation of Protein Topology using ``GmxSys.add_top()``.\n",
    "   \n",
    "3. Ligand topology creation using `prepare_top()` which uses `acpype` to build ligand topology.\n",
    "   \n",
    "4. Solvation of the complex using ``GmxSys.solvate_add_ions()``.\n",
    "\n",
    "5. Minimisation of the structure using ``GmxSys.em_2_steps()``.\n",
    "\n",
    "6. Equilibration of the system using ``GmxSys.em_equi_three_step_iter_error()``.\n",
    "\n",
    "7. Production run using ``GmxSys.production()``.\n",
    "\n",
    "### Import"
   ]
  },
  {
   "cell_type": "code",
   "execution_count": 1,
   "metadata": {},
   "outputs": [],
   "source": [
    "import sys\n",
    "import os\n",
    "import shutil\n",
    "\n",
    "import pandas as pd\n",
    "import matplotlib.pyplot as plt\n",
    "import numpy as np\n",
    "import seaborn as sns"
   ]
  },
  {
   "cell_type": "markdown",
   "metadata": {},
   "source": [
    "## To use `gromacs_py` in a project"
   ]
  },
  {
   "cell_type": "code",
   "execution_count": 2,
   "metadata": {},
   "outputs": [],
   "source": [
    "from gromacs_py import gmx"
   ]
  },
  {
   "cell_type": "markdown",
   "metadata": {},
   "source": [
    "## Simulation setup\n",
    "\n",
    "- Define a few variables for you simulation, like:\n",
    "  \n",
    "    1. simulation output folders\n",
    "    2. ionic concentration\n",
    "    3. number of minimisation steps\n",
    "    4. equilibration and production time\n",
    "\n",
    "### Regarding equilibriation time:\n",
    "The following variables define the sim times (relative units) for each stage of the three-stage equilibriation process. Check notes below for details:\n",
    "\n",
    "1. `HA_time`\n",
    "2. `CA_time`\n",
    "3. `CA_LOW_time` \n"
   ]
  },
  {
   "cell_type": "code",
   "execution_count": 3,
   "metadata": {},
   "outputs": [],
   "source": [
    "DATA_OUT = 'zeb_hb_phz_complex_sim'\n",
    "\n",
    "# System Setup\n",
    "vsite='none'\n",
    "sys_top_folder = os.path.join(DATA_OUT, 'sys_top')\n",
    "#ignore_hydrogen = {'ignh': None}\n",
    "\n",
    "# Energy Minimisation\n",
    "em_folder = os.path.join(DATA_OUT, 'em')\n",
    "em_sys_folder = os.path.join(DATA_OUT, 'sys_em')\n",
    "em_step_number = 10000\n",
    "emtol = 10.0  \t# Stop minimization when the maximum force < 10 J/mol\n",
    "emstep  = 0.01      # Energy step size\n",
    "\n",
    "\n",
    "# Equillibration\n",
    "equi_folder = os.path.join(DATA_OUT, 'sys_equi')\n",
    "HA_time = 0.5\n",
    "CA_time = 1.0\n",
    "CA_LOW_time = 4.0\n",
    "\n",
    "dt_HA = 0.001\n",
    "dt = 0.002\n",
    "\n",
    "HA_step = 1000 * HA_time / dt_HA\n",
    "CA_step = 1000 * CA_time / dt\n",
    "CA_LOW_step = 1000 * CA_LOW_time / dt\n",
    "\n",
    "# Production\n",
    "os.makedirs(DATA_OUT, exist_ok = True)\n",
    "prod_folder = os.path.join(DATA_OUT, 'sys_prod')\n",
    "prod_time = 100.0\n",
    "\n",
    "prod_step = 1000 * prod_time / dt"
   ]
  },
  {
   "cell_type": "markdown",
   "metadata": {},
   "source": [
    "## Create the `GmxSys` object\n",
    "\n",
    "Load protein information only from docked PDB file on disk"
   ]
  },
  {
   "cell_type": "code",
   "execution_count": 4,
   "metadata": {},
   "outputs": [],
   "source": [
    "pdb_file = \"zeb_hb_phz_docking/input/ZEB_HB_REfined_h.pdb\"\n",
    "sys_name = \"zeb_hb_phz_complex\"\n",
    "complex_sys = gmx.GmxSys(name=sys_name, coor_file=pdb_file)\n"
   ]
  },
  {
   "cell_type": "markdown",
   "metadata": {},
   "source": [
    "## Create topology:\n",
    "\n",
    "PhenyleHydrazine SMILE : \"C1=CC=C(C=C1)NN\"\n",
    "\n",
    "**Note:** Hydrogen atoms need to be ignored, or else this won't work with this particular pdb\n",
    "\n",
    "Topology creation involves:\n",
    "- topology creation using `pdb2gmx` via the `prepare_top()` function.\n",
    "  * Need the docked complex information for this as there is no hydrogen information in the original PDB.\n",
    "- box creation using `editconf`\n",
    "- Supposed to use AMBER force-field so that `acpype` can be used to prepare ligand topologies automatically.\n",
    "- - Get the SMILES code from the ligand PDB @ [Openbabel online](https://www.cheminfo.org/Chemistry/Cheminformatics/FormatConverter/index.html)\n",
    "\n",
    "**TODO:** Not running `acpype` to get ligand topology. Dunno why.\n"
   ]
  },
  {
   "cell_type": "code",
   "execution_count": 5,
   "metadata": {},
   "outputs": [
    {
     "name": "stdout",
     "output_type": "stream",
     "text": [
      "pdb2pqr30 --ff AMBER --ffout AMBER --keep-chain --titration-state-method=propka --with-ph=7.00 tmp_pdb2pqr.pdb 00_zeb_hb_phz_complex.pqr\n",
      "gmx pdb2gmx -f 01_zeb_hb_phz_complex_good_his.pdb -o zeb_hb_phz_complex_pdb2gmx.pdb -p zeb_hb_phz_complex_pdb2gmx.top -i zeb_hb_phz_complex_posre.itp -water tip3p -ff amber99sb-ildn -ignh -vsite none\n",
      "gmx editconf -f zeb_hb_phz_complex_sim/zeb_hb_phz_complex_pdb2gmx.pdb -o zeb_hb_phz_complex_sim/zeb_hb_phz_complex_pdb2gmx_box.pdb -bt dodecahedron -d 1.0\n",
      "gmx grompp -f ../../../../../../usr/local/miniforge3/envs/mdanalysis/lib/python3.12/site-packages/gromacs_py/gmx/template/mini.mdp -c zeb_hb_phz_complex_water.pdb -r zeb_hb_phz_complex_water.pdb -p zeb_hb_phz_complex_water_ion.top -po out_mini.mdp -o genion_zeb_hb_phz_complex_water_ion.tpr -maxwarn 1\n",
      "gmx genion -s genion_zeb_hb_phz_complex_water_ion.tpr -p zeb_hb_phz_complex_water_ion.top -o zeb_hb_phz_complex_water_ion.gro -np 17 -pname NA -nn 18 -nname CL\n"
     ]
    }
   ],
   "source": [
    "complex_sys.prepare_top(out_folder=DATA_OUT, ff='amber99sb-ildn')\n",
    "complex_sys.create_box(dist=1.0, box_type=\"dodecahedron\", check_file_out=True)\n",
    "complex_sys.solvate_add_ions(out_folder=DATA_OUT, name=sys_name,create_box_flag=False)"
   ]
  },
  {
   "cell_type": "code",
   "execution_count": 6,
   "metadata": {},
   "outputs": [
    {
     "name": "stderr",
     "output_type": "stream",
     "text": [
      "No amino acids present in pdb file, no PD2PQR calculation\n",
      "[20:33:02] WARNING: More than one matching pattern found - picking one\n",
      "\n"
     ]
    },
    {
     "name": "stdout",
     "output_type": "stream",
     "text": [
      "acpype -i PHZ_h_unique.pdb -b PHZ -c bcc -a gaff -o gmx -n 0\n",
      "gmx pdb2gmx -f 01_phz_good_his.pdb -o phz_pdb2gmx.pdb -p phz_pdb2gmx.top -i phz_posre.itp -water tip3p -ff amber99sb-ildn -ignh -vsite none\n",
      "The following command could not be executed correctly :\n",
      "gmx pdb2gmx -f 01_phz_good_his.pdb -o phz_pdb2gmx.pdb -p phz_pdb2gmx.top -i phz_posre.itp -water tip3p -ff amber99sb-ildn -ignh -vsite none\n"
     ]
    }
   ],
   "source": [
    "lig_name = 'phz'\n",
    "lig_resname = lig_name.upper()\n",
    "\n",
    "gmx.gmxsys.ambertools.smile_to_pdb(\"C1=CC=C(C=C1)NN\",os.path.join(DATA_OUT,f\"{lig_name}.pdb\"),lig_resname)\n",
    "lig_sys = gmx.GmxSys(name=lig_name, coor_file=os.path.join(DATA_OUT,f\"{lig_name}.pdb\"))\n",
    "#acpype seems to create topology correctly, but this stupid gromacs_py does not recognize it\n",
    "try:\n",
    "    lig_sys.prepare_top(out_folder=os.path.join(DATA_OUT,lig_name),ff='amber99sb-ildn', include_mol={lig_resname: 'C1=CC=C(C=C1)NN'})\n",
    "except:\n",
    "    pass"
   ]
  },
  {
   "cell_type": "code",
   "execution_count": 7,
   "metadata": {},
   "outputs": [],
   "source": [
    "#Since gromacs_py does not recognize the topology file, we need to set it manually\n",
    "lig_sys.coor_file = os.path.join(\"../../\",DATA_OUT,lig_name,lig_resname+\".acpype\",f\"{lig_resname}_h_unique.pdb\")\n",
    "lig_sys.top_file = os.path.join(\"../../\",DATA_OUT,lig_name,lig_resname+\".acpype\",f\"{lig_resname}_GMX.top\")"
   ]
  },
  {
   "cell_type": "code",
   "execution_count": 8,
   "metadata": {},
   "outputs": [
    {
     "name": "stdout",
     "output_type": "stream",
     "text": [
      "gmx trjconv -f ../PHZ.acpype/PHZ_h_unique.pdb -o ../PHZ.acpype/PHZ_h_unique_compact.pdb -s ../PHZ.acpype/PHZ_h_unique.pdb -ur compact -pbc none\n",
      "gmx trjconv -f ../../zeb_hb_phz_complex_water_ion.gro -o ../../zeb_hb_phz_complex_water_ion_compact.pdb -s ../../genion_zeb_hb_phz_complex_water_ion.tpr -ur compact -pbc mol\n",
      "The following command could not be executed correctly :\n",
      "gmx trjconv -f ../../zeb_hb_phz_complex_water_ion.gro -o ../../zeb_hb_phz_complex_water_ion_compact.pdb -s ../../genion_zeb_hb_phz_complex_water_ion.tpr -ur compact -pbc mol\n"
     ]
    },
    {
     "ename": "RuntimeError",
     "evalue": "Following Command Fails : /usr/local/miniforge3/envs/mdanalysis/bin/gmx trjconv -f ../../zeb_hb_phz_complex_water_ion.gro -o ../../zeb_hb_phz_complex_water_ion_compact.pdb -s ../../genion_zeb_hb_phz_complex_water_ion.tpr -ur compact -pbc mol \n Ret code = 1 \n Note that major changes are planned in future for trjconv, to improve usability and utility.\nSelect group for output\nSelected 0: 'System'\n \n                :-) GROMACS - gmx trjconv, 2024.2-conda_forge (-:\n\nExecutable:   /usr/local/miniforge3/envs/mdanalysis/bin.AVX2_256/gmx\nData prefix:  /usr/local/miniforge3/envs/mdanalysis\nWorking dir:  /home/daneel/gitrepos/gromacs_sims/zeb_hb/zeb_hb_phz_complex_sim/phz/zeb_hb_phz_complex_sim\nCommand line:\n  gmx trjconv -f ../../zeb_hb_phz_complex_water_ion.gro -o ../../zeb_hb_phz_complex_water_ion_compact.pdb -s ../../genion_zeb_hb_phz_complex_water_ion.tpr -ur compact -pbc mol\n\nWill write pdb: Protein data bank file\nReading file ../../genion_zeb_hb_phz_complex_water_ion.tpr, VERSION 2024.2-conda_forge (single precision)\nReading file ../../genion_zeb_hb_phz_complex_water_ion.tpr, VERSION 2024.2-conda_forge (single precision)\nGroup     0 (         System) has 21639 elements\nGroup     1 (        Protein) has  2220 elements\nGroup     2 (      Protein-H) has  1095 elements\nGroup     3 (        C-alpha) has   143 elements\nGroup     4 (       Backbone) has   429 elements\nGroup     5 (      MainChain) has   573 elements\nGroup     6 (   MainChain+Cb) has   708 elements\nGroup     7 (    MainChain+H) has   711 elements\nGroup     8 (      SideChain) has  1509 elements\nGroup     9 (    SideChain-H) has   522 elements\nGroup    10 (    Prot-Masses) has  2220 elements\nGroup    11 (    non-Protein) has 19419 elements\nGroup    12 (          Water) has 19419 elements\nGroup    13 (            SOL) has 19419 elements\nGroup    14 (      non-Water) has  2220 elements\nSelect a group: Reading frames from gro file 'Protein in water', 21569 atoms.\n\rReading frame       0 time    0.000   \nPrecision of ../../zeb_hb_phz_complex_water_ion.gro is 0.001 (nm)\n\n-------------------------------------------------------\nProgram:     gmx trjconv, version 2024.2-conda_forge\nSource file: src/gromacs/tools/trjconv.cpp (line 1037)\n\nFatal error:\nIndex[21569] 21570 is larger than the number of atoms in the\ntrajectory file (21569). There is a mismatch in the contents\nof your -f, -s and/or -n files.\n\nFor more information and tips for troubleshooting, please check the GROMACS\nwebsite at https://manual.gromacs.org/current/user-guide/run-time-errors.html\n-------------------------------------------------------\n",
     "output_type": "error",
     "traceback": [
      "\u001b[0;31m---------------------------------------------------------------------------\u001b[0m",
      "\u001b[0;31mRuntimeError\u001b[0m                              Traceback (most recent call last)",
      "Cell \u001b[0;32mIn[8], line 1\u001b[0m\n\u001b[0;32m----> 1\u001b[0m \u001b[43mcomplex_sys\u001b[49m\u001b[38;5;241;43m.\u001b[39;49m\u001b[43minsert_mol_sys\u001b[49m\u001b[43m(\u001b[49m\u001b[43mlig_sys\u001b[49m\u001b[43m,\u001b[49m\u001b[43m \u001b[49m\u001b[38;5;241;43m1\u001b[39;49m\u001b[43m,\u001b[49m\u001b[43m \u001b[49m\u001b[43msys_name\u001b[49m\u001b[43m,\u001b[49m\u001b[43m \u001b[49m\u001b[43mDATA_OUT\u001b[49m\u001b[43m)\u001b[49m\n",
      "File \u001b[0;32m/usr/local/miniforge3/envs/mdanalysis/lib/python3.12/site-packages/gromacs_py/gmx/gmxsys.py:3266\u001b[0m, in \u001b[0;36mGmxSys.insert_mol_sys\u001b[0;34m(self, mol_gromacs, mol_num, new_name, out_folder, check_file_out)\u001b[0m\n\u001b[1;32m   3264\u001b[0m     \u001b[38;5;28mself\u001b[39m\u001b[38;5;241m.\u001b[39madd_mdp(mdp_template\u001b[38;5;241m=\u001b[39mmini_template_mdp, mdp_options\u001b[38;5;241m=\u001b[39m{})\n\u001b[1;32m   3265\u001b[0m     \u001b[38;5;28mself\u001b[39m\u001b[38;5;241m.\u001b[39madd_tpr(name\u001b[38;5;241m=\u001b[39m\u001b[38;5;124m\"\u001b[39m\u001b[38;5;124mtmp\u001b[39m\u001b[38;5;124m\"\u001b[39m)\n\u001b[0;32m-> 3266\u001b[0m \u001b[38;5;28;43mself\u001b[39;49m\u001b[38;5;241;43m.\u001b[39;49m\u001b[43mconvert_trj\u001b[49m\u001b[43m(\u001b[49m\u001b[43mtraj\u001b[49m\u001b[38;5;241;43m=\u001b[39;49m\u001b[38;5;28;43;01mFalse\u001b[39;49;00m\u001b[43m)\u001b[49m\n\u001b[1;32m   3267\u001b[0m GmxSys\u001b[38;5;241m.\u001b[39mconcat_coor(\u001b[38;5;28mself\u001b[39m\u001b[38;5;241m.\u001b[39mcoor_file, mol_gromacs\u001b[38;5;241m.\u001b[39mcoor_file,\n\u001b[1;32m   3268\u001b[0m                    pdb_out\u001b[38;5;241m=\u001b[39mconcat_sys)\n\u001b[1;32m   3270\u001b[0m \u001b[38;5;66;03m# Do the molecule insertion with the pdb_manip module:\u001b[39;00m\n",
      "File \u001b[0;32m/usr/local/miniforge3/envs/mdanalysis/lib/python3.12/site-packages/gromacs_py/gmx/gmxsys.py:2545\u001b[0m, in \u001b[0;36mGmxSys.convert_trj\u001b[0;34m(self, name, ur, pbc, select, traj, specific_coor_out, check_file_out, tpr, **cmd_args)\u001b[0m\n\u001b[1;32m   2536\u001b[0m cmd_convert \u001b[38;5;241m=\u001b[39m os_command\u001b[38;5;241m.\u001b[39mCommand([GMX_BIN, \u001b[38;5;124m\"\u001b[39m\u001b[38;5;124mtrjconv\u001b[39m\u001b[38;5;124m\"\u001b[39m,\n\u001b[1;32m   2537\u001b[0m                                   \u001b[38;5;124m\"\u001b[39m\u001b[38;5;124m-f\u001b[39m\u001b[38;5;124m\"\u001b[39m, coor_in,\n\u001b[1;32m   2538\u001b[0m                                   \u001b[38;5;124m\"\u001b[39m\u001b[38;5;124m-o\u001b[39m\u001b[38;5;124m\"\u001b[39m, coor_out,\n\u001b[0;32m   (...)\u001b[0m\n\u001b[1;32m   2541\u001b[0m                                   \u001b[38;5;124m\"\u001b[39m\u001b[38;5;124m-pbc\u001b[39m\u001b[38;5;124m\"\u001b[39m, pbc],\n\u001b[1;32m   2542\u001b[0m                                  \u001b[38;5;241m*\u001b[39m\u001b[38;5;241m*\u001b[39mcmd_args)\n\u001b[1;32m   2544\u001b[0m cmd_convert\u001b[38;5;241m.\u001b[39mdisplay()\n\u001b[0;32m-> 2545\u001b[0m \u001b[43mcmd_convert\u001b[49m\u001b[38;5;241;43m.\u001b[39;49m\u001b[43mrun\u001b[49m\u001b[43m(\u001b[49m\u001b[43mcom_input\u001b[49m\u001b[38;5;241;43m=\u001b[39;49m\u001b[43mselect\u001b[49m\u001b[43m)\u001b[49m\n\u001b[1;32m   2547\u001b[0m \u001b[38;5;28;01mif\u001b[39;00m traj:\n\u001b[1;32m   2548\u001b[0m     \u001b[38;5;28mself\u001b[39m\u001b[38;5;241m.\u001b[39mxtc \u001b[38;5;241m=\u001b[39m coor_out\n",
      "File \u001b[0;32m/usr/local/miniforge3/envs/mdanalysis/lib/python3.12/site-packages/os_command_py/os_command.py:428\u001b[0m, in \u001b[0;36mCommand.run\u001b[0;34m(self, com_input, display, out_data)\u001b[0m\n\u001b[1;32m    426\u001b[0m \u001b[38;5;28mprint\u001b[39m(\u001b[38;5;124m\"\u001b[39m\u001b[38;5;124mThe following command could not be executed correctly :\u001b[39m\u001b[38;5;124m\"\u001b[39m)\n\u001b[1;32m    427\u001b[0m \u001b[38;5;28mself\u001b[39m\u001b[38;5;241m.\u001b[39mdisplay()\n\u001b[0;32m--> 428\u001b[0m \u001b[38;5;28;01mraise\u001b[39;00m \u001b[38;5;167;01mRuntimeError\u001b[39;00m(\n\u001b[1;32m    429\u001b[0m     \u001b[38;5;124m'\u001b[39m\u001b[38;5;124mFollowing Command Fails : \u001b[39m\u001b[38;5;132;01m{}\u001b[39;00m\u001b[38;5;124m \u001b[39m\u001b[38;5;130;01m\\n\u001b[39;00m\u001b[38;5;124m Ret code = \u001b[39m\u001b[38;5;132;01m{}\u001b[39;00m\u001b[38;5;124m \u001b[39m\u001b[38;5;130;01m\\n\u001b[39;00m\u001b[38;5;124m \u001b[39m\u001b[38;5;132;01m{}\u001b[39;00m\u001b[38;5;124m \u001b[39m\u001b[38;5;130;01m\\n\u001b[39;00m\u001b[38;5;124m \u001b[39m\u001b[38;5;132;01m{}\u001b[39;00m\u001b[38;5;124m'\u001b[39m\u001b[38;5;241m.\u001b[39mformat(\n\u001b[1;32m    430\u001b[0m         \u001b[38;5;124m\"\u001b[39m\u001b[38;5;124m \u001b[39m\u001b[38;5;124m\"\u001b[39m\u001b[38;5;241m.\u001b[39mjoin(\u001b[38;5;28mself\u001b[39m\u001b[38;5;241m.\u001b[39mcmd),\n\u001b[1;32m    431\u001b[0m         proc\u001b[38;5;241m.\u001b[39mreturncode,\n\u001b[1;32m    432\u001b[0m         stdout_data\u001b[38;5;241m.\u001b[39mdecode(\u001b[38;5;124m'\u001b[39m\u001b[38;5;124mutf-8\u001b[39m\u001b[38;5;124m'\u001b[39m),\n\u001b[1;32m    433\u001b[0m         stderr_data\u001b[38;5;241m.\u001b[39mdecode(\u001b[38;5;124m'\u001b[39m\u001b[38;5;124mutf-8\u001b[39m\u001b[38;5;124m'\u001b[39m)))\n",
      "\u001b[0;31mRuntimeError\u001b[0m: Following Command Fails : /usr/local/miniforge3/envs/mdanalysis/bin/gmx trjconv -f ../../zeb_hb_phz_complex_water_ion.gro -o ../../zeb_hb_phz_complex_water_ion_compact.pdb -s ../../genion_zeb_hb_phz_complex_water_ion.tpr -ur compact -pbc mol \n Ret code = 1 \n Note that major changes are planned in future for trjconv, to improve usability and utility.\nSelect group for output\nSelected 0: 'System'\n \n                :-) GROMACS - gmx trjconv, 2024.2-conda_forge (-:\n\nExecutable:   /usr/local/miniforge3/envs/mdanalysis/bin.AVX2_256/gmx\nData prefix:  /usr/local/miniforge3/envs/mdanalysis\nWorking dir:  /home/daneel/gitrepos/gromacs_sims/zeb_hb/zeb_hb_phz_complex_sim/phz/zeb_hb_phz_complex_sim\nCommand line:\n  gmx trjconv -f ../../zeb_hb_phz_complex_water_ion.gro -o ../../zeb_hb_phz_complex_water_ion_compact.pdb -s ../../genion_zeb_hb_phz_complex_water_ion.tpr -ur compact -pbc mol\n\nWill write pdb: Protein data bank file\nReading file ../../genion_zeb_hb_phz_complex_water_ion.tpr, VERSION 2024.2-conda_forge (single precision)\nReading file ../../genion_zeb_hb_phz_complex_water_ion.tpr, VERSION 2024.2-conda_forge (single precision)\nGroup     0 (         System) has 21639 elements\nGroup     1 (        Protein) has  2220 elements\nGroup     2 (      Protein-H) has  1095 elements\nGroup     3 (        C-alpha) has   143 elements\nGroup     4 (       Backbone) has   429 elements\nGroup     5 (      MainChain) has   573 elements\nGroup     6 (   MainChain+Cb) has   708 elements\nGroup     7 (    MainChain+H) has   711 elements\nGroup     8 (      SideChain) has  1509 elements\nGroup     9 (    SideChain-H) has   522 elements\nGroup    10 (    Prot-Masses) has  2220 elements\nGroup    11 (    non-Protein) has 19419 elements\nGroup    12 (          Water) has 19419 elements\nGroup    13 (            SOL) has 19419 elements\nGroup    14 (      non-Water) has  2220 elements\nSelect a group: Reading frames from gro file 'Protein in water', 21569 atoms.\n\rReading frame       0 time    0.000   \nPrecision of ../../zeb_hb_phz_complex_water_ion.gro is 0.001 (nm)\n\n-------------------------------------------------------\nProgram:     gmx trjconv, version 2024.2-conda_forge\nSource file: src/gromacs/tools/trjconv.cpp (line 1037)\n\nFatal error:\nIndex[21569] 21570 is larger than the number of atoms in the\ntrajectory file (21569). There is a mismatch in the contents\nof your -f, -s and/or -n files.\n\nFor more information and tips for troubleshooting, please check the GROMACS\nwebsite at https://manual.gromacs.org/current/user-guide/run-time-errors.html\n-------------------------------------------------------\n"
     ]
    }
   ],
   "source": [
    "complex_sys.insert_mol_sys(lig_sys, 1, sys_name, DATA_OUT)"
   ]
  },
  {
   "cell_type": "markdown",
   "metadata": {},
   "source": [
    "**Notes on error above** Visual inspection of `../../zeb_hb_phz_complex_water_ion.gro` reveals the correct number of atoms ($21569$) has been set. Confirm that the `../../genion_zeb_hb_phz_complex_water_ion.tpr` has the same number."
   ]
  },
  {
   "cell_type": "markdown",
   "metadata": {},
   "source": [
    "## Energy minimisation\n",
    "\n",
    "Set parallelization and GPU options here. Change them later, if needed."
   ]
  },
  {
   "cell_type": "code",
   "execution_count": null,
   "metadata": {},
   "outputs": [],
   "source": [
    "#Parallelization\n",
    "nthreads = int(os.environ.get('PBS_NCPUS', '16'))\n",
    "\n",
    "#Set Parallelization\n",
    "complex_sys.nt = nthreads\n",
    "#complex_sys.ntmpi = 1\n",
    "complex_sys.gpu_id = '0'\n",
    "\n",
    "complex_sys.em_2_steps(out_folder=em_folder,\n",
    "        no_constr_nsteps=em_step_number,\n",
    "        constr_nsteps=em_step_number,\n",
    "        posres=\"\",\n",
    "        create_box_flag=False, emtol=emtol, emstep=emstep)"
   ]
  },
  {
   "cell_type": "markdown",
   "metadata": {},
   "source": [
    "## Plot energy:"
   ]
  },
  {
   "cell_type": "code",
   "execution_count": null,
   "metadata": {},
   "outputs": [],
   "source": [
    "ener_pd_1 = complex_sys.sys_history[-1].get_ener(selection_list=['Potential'])\n",
    "ener_pd_2 = complex_sys.get_ener(selection_list=['Potential'])\n",
    "\n",
    "ener_pd_1['label'] = 'no bond constr'\n",
    "ener_pd_2['label'] = 'bond constr'\n",
    "\n",
    "ener_pd = pd.concat([ener_pd_1, ener_pd_2])\n",
    "\n",
    "ener_pd['Time (ps)'] = np.arange(len(ener_pd))"
   ]
  },
  {
   "cell_type": "code",
   "execution_count": null,
   "metadata": {},
   "outputs": [],
   "source": [
    "ax = sns.lineplot(x=\"Time (ps)\", y=\"Potential\",\n",
    "        hue=\"label\",\n",
    "        data=ener_pd)\n",
    "ax.set_xlabel('step')\n",
    "ax.set_ylabel('energy (KJ/mol)')\n",
    "plt.grid()"
   ]
  },
  {
   "cell_type": "markdown",
   "metadata": {},
   "source": [
    "## System minimisation and equilibration\n",
    "\n",
    "Based on `gromacs_py` docs, this is a 3-stage equilibriation process. \n",
    "\n",
    "All three steps seem to be NPT with berendsen coupling and v-rescale for temp coupling. Each step just has different restraints. This does not seem so bad: closer to lab conditions.\n",
    "\n",
    "Since the statistical ensemble is pretty much always NPT, this is different from the Lemkul-lysozyme tutorial at [MDTutorials](http://www.mdtutorials.com/gmx/lysozyme/).\n",
    "\n",
    "**Note:** Had to run this on param at least. Too slow even in ofc workstn."
   ]
  },
  {
   "cell_type": "code",
   "execution_count": null,
   "metadata": {},
   "outputs": [],
   "source": [
    "complex_sys.em_equi_three_step_iter_error(out_folder=equi_folder,\n",
    "    no_constr_nsteps=em_step_number,\n",
    "    constr_nsteps=em_step_number,\n",
    "    nsteps_HA=HA_step,  \n",
    "    nsteps_CA=CA_step,\n",
    "    nsteps_CA_LOW=CA_LOW_step,\n",
    "    dt=dt, dt_HA=dt_HA,\n",
    "    vsite=vsite, maxwarn=1)\n"
   ]
  },
  {
   "cell_type": "markdown",
   "metadata": {},
   "source": [
    "### Plot Equilibriation\n",
    "\n",
    "Since the statistical ensemble is pretty much always NPT, this is different from the Lemkul-lysozyme tutorial at [MDTutorials](http://www.mdtutorials.com/gmx/lysozyme/). So we need to see Volume as well as Pressure, temperature, and density."
   ]
  },
  {
   "cell_type": "code",
   "execution_count": null,
   "metadata": {
    "scrolled": false
   },
   "outputs": [],
   "source": [
    "quantities = [\"Temperature\", \"Pressure\", \"Volume\", \"Density\"]\n",
    "units = [\"$K$\", \"$bar$\", \"$A^3$\", \"$kg/m^3$\"]\n",
    "\n",
    "pd_1 = complex_sys.sys_history[-2].get_ener(selection_list=quantities)\n",
    "pd_2 = complex_sys.sys_history[-1].get_ener(selection_list=quantities)\n",
    "pd_3 = complex_sys.get_ener(selection_list=quantities)\n",
    "\n",
    "pd_1['label'] = 'HA_constr'\n",
    "pd_2['label'] = 'CA_constr'\n",
    "pd_2['Time (ps)'] = pd_2['Time (ps)'] + pd_1['Time (ps)'].max()\n",
    "pd_3['label'] = 'CA_LOW_constr'\n",
    "pd_3['Time (ps)'] = pd_3['Time (ps)'] + pd_2['Time (ps)'].max()\n",
    "\n",
    "display(pd.concat([pd_1, pd_2, pd_3]))"
   ]
  },
  {
   "cell_type": "code",
   "execution_count": null,
   "metadata": {},
   "outputs": [],
   "source": [
    "plt.rcParams.update({'font.size': 22})\n",
    "\n",
    "fig, axs = plt.subplots(4, 1, figsize=(24,13.5), sharex=True, tight_layout=True)\n",
    "\n",
    "for ax, quantity, unit in zip(axs, quantities, units):\n",
    "    for df in (pd_1, pd_2, pd_3):\n",
    "        ax.plot(df[\"Time (ps)\"], df[quantity], label=str(df['label'][0]))\n",
    "        ax.set_ylabel(quantity + \"(\" + unit + \")\")\n",
    "        ax.grid()\n",
    "\n",
    "axs[0].legend()\n",
    "axs[-1].set_xlabel(\"Time (ps)\");"
   ]
  },
  {
   "cell_type": "markdown",
   "metadata": {},
   "source": [
    "Looks okay to me. Fluctuations are high at the end because CA constraints are low, but there is a well-defined average.\n",
    "\n",
    "Alternatively, we **could** not do the `CA_LOW_constr` part."
   ]
  },
  {
   "cell_type": "markdown",
   "metadata": {},
   "source": [
    "### Plot RMSD"
   ]
  },
  {
   "cell_type": "code",
   "execution_count": null,
   "metadata": {},
   "outputs": [],
   "source": [
    "# Define reference structure for RMSD calculation\n",
    "ref_sys =  md_sys.sys_history[1]\n",
    "\n",
    "struct=\"Protein\"\n",
    "\n",
    "rmsd_pd_1 = md_sys.sys_history[-2].get_rmsd([struct, struct], ref_sys=ref_sys)\n",
    "rmsd_pd_2 = md_sys.sys_history[-1].get_rmsd([struct, struct], ref_sys=ref_sys)\n",
    "rmsd_pd_3 = md_sys.get_rmsd([struct, struct], ref_sys=ref_sys)\n",
    "\n",
    "\n",
    "rmsd_pd_1['label'] = 'HA_constr'\n",
    "rmsd_pd_2['label'] = 'CA_constr'\n",
    "rmsd_pd_2['time'] = rmsd_pd_2['time'] + rmsd_pd_1['time'].max()\n",
    "rmsd_pd_3['label'] = 'CA_LOW_constr'\n",
    "rmsd_pd_3['time'] = rmsd_pd_3['time'] + rmsd_pd_2['time'].max()\n",
    "\n",
    "display(pd.concat([rmsd_pd_1, rmsd_pd_2, rmsd_pd_3]))\n"
   ]
  },
  {
   "cell_type": "code",
   "execution_count": null,
   "metadata": {},
   "outputs": [],
   "source": [
    "fig, ax = plt.subplots(1, 1, figsize=(24,13.5))\n",
    "\n",
    "for df in (rmsd_pd_1, rmsd_pd_2, rmsd_pd_3):\n",
    "        ax.plot(df[\"time\"], df[\"Protein\"], label=str(df['label'][0]))\n",
    "        ax.set_ylabel(quantity + \"(\" + unit + \")\")\n",
    "        \n",
    "ax.set_title(struct)\n",
    "ax.set_ylabel('RMSD (nm)')\n",
    "ax.set_xlabel('Time (ps)')\n",
    "plt.grid()"
   ]
  },
  {
   "cell_type": "markdown",
   "metadata": {},
   "source": [
    "## Checkpointing\n",
    "\n",
    "Checkpoint using pickling. This will be easier to restore in the cluster"
   ]
  },
  {
   "cell_type": "code",
   "execution_count": null,
   "metadata": {},
   "outputs": [],
   "source": [
    "import pickle\n",
    "\n",
    "with open('checkpoint_equi.pycpt', 'wb') as py_cpt:\n",
    "    pickle.dump(md_sys, py_cpt)"
   ]
  },
  {
   "cell_type": "markdown",
   "metadata": {},
   "source": [
    "## Production MD "
   ]
  },
  {
   "cell_type": "code",
   "execution_count": null,
   "metadata": {},
   "outputs": [],
   "source": [
    "md_sys.production(out_folder=prod_folder,\n",
    "        nsteps=prod_step,\n",
    "        dt=dt, vsite=vsite, maxwarn=1)\n"
   ]
  },
  {
   "cell_type": "markdown",
   "metadata": {},
   "source": [
    "## Checkpointing Again\n"
   ]
  },
  {
   "cell_type": "code",
   "execution_count": null,
   "metadata": {},
   "outputs": [],
   "source": [
    "import pickle\n",
    "\n",
    "with open('checkpoint_prod.pycpt', 'wb') as py_cpt:\n",
    "    pickle.dump(md_sys, py_cpt)"
   ]
  },
  {
   "cell_type": "markdown",
   "metadata": {},
   "source": [
    "## Post-Production\n",
    "\n",
    "### Prepare trajectory"
   ]
  },
  {
   "cell_type": "code",
   "execution_count": null,
   "metadata": {
    "scrolled": true
   },
   "outputs": [],
   "source": [
    "# Center trajectory\n",
    "md_sys.center_mol_box(traj=True)"
   ]
  },
  {
   "cell_type": "markdown",
   "metadata": {},
   "source": [
    "### Trajectory Conversion for better viewing"
   ]
  },
  {
   "cell_type": "code",
   "execution_count": null,
   "metadata": {},
   "outputs": [],
   "source": [
    "# Align the protein coordinates\n",
    "md_sys.convert_trj(select='Protein\\nSystem\\n', fit='rot+trans', pbc='none', skip='10')"
   ]
  },
  {
   "cell_type": "code",
   "execution_count": null,
   "metadata": {},
   "outputs": [],
   "source": [
    "md_sys.display_history()"
   ]
  }
 ],
 "metadata": {
  "celltoolbar": "Edit Metadata",
  "kernelspec": {
   "display_name": "mdanalysis-old",
   "language": "python",
   "name": "python3"
  },
  "language_info": {
   "codemirror_mode": {
    "name": "ipython",
    "version": 3
   },
   "file_extension": ".py",
   "mimetype": "text/x-python",
   "name": "python",
   "nbconvert_exporter": "python",
   "pygments_lexer": "ipython3",
   "version": "3.12.5"
  },
  "toc": {
   "base_numbering": 1,
   "nav_menu": {},
   "number_sections": true,
   "sideBar": true,
   "skip_h1_title": false,
   "title_cell": "Table of Contents",
   "title_sidebar": "Contents",
   "toc_cell": false,
   "toc_position": {},
   "toc_section_display": true,
   "toc_window_display": false
  }
 },
 "nbformat": 4,
 "nbformat_minor": 2
}
