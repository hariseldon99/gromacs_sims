{
 "cells": [
  {
   "cell_type": "markdown",
   "metadata": {},
   "source": [
    "ZebraFish Haemoglobin protein and Phenyl Hydrazine Complex\n",
    "======================\n"
   ]
  },
  {
   "cell_type": "markdown",
   "metadata": {},
   "source": [
    "## ``Gromacs_py`` simulation\n",
    "\n",
    "Here is an example of a short simulation of the Zebrafish Haemoglobin (`zeb_hb`) protein in complex with phenyl hydrazine (`phz`) ligand using AMBER force-field model.\n",
    "\n",
    "Seven successive steps are used:\n",
    "\n",
    "1. Load the protein-ligand complex in its best -docked state. Docking performed externally using Autodock Vina through `AMDock` GUI.\n",
    "   \n",
    "2. In-complex creation of Protein Topology using ``GmxSys.add_top()``.\n",
    "   \n",
    "3. Ligand topology creation using `prepare_top()` which uses `acpype` to build ligand topology.\n",
    "   \n",
    "4. Solvation of the complex using ``GmxSys.solvate_add_ions()``.\n",
    "\n",
    "5. Minimisation of the structure using ``GmxSys.em_2_steps()``.\n",
    "\n",
    "6. Equilibration of the system using ``GmxSys.em_equi_three_step_iter_error()``.\n",
    "\n",
    "7. Production run using ``GmxSys.production()``.\n",
    "\n",
    "### Import"
   ]
  },
  {
   "cell_type": "code",
   "execution_count": 6,
   "metadata": {},
   "outputs": [],
   "source": [
    "import sys\n",
    "import os\n",
    "import shutil\n",
    "\n",
    "import pandas as pd\n",
    "import matplotlib.pyplot as plt\n",
    "import numpy as np\n",
    "import seaborn as sns"
   ]
  },
  {
   "cell_type": "markdown",
   "metadata": {},
   "source": [
    "## To use `gromacs_py` in a project"
   ]
  },
  {
   "cell_type": "code",
   "execution_count": 7,
   "metadata": {},
   "outputs": [],
   "source": [
    "from gromacs_py import gmx"
   ]
  },
  {
   "cell_type": "markdown",
   "metadata": {},
   "source": [
    "## Simulation setup\n",
    "\n",
    "- Define a few variables for you simulation, like:\n",
    "  \n",
    "    1. simulation output folders\n",
    "    2. ionic concentration\n",
    "    3. number of minimisation steps\n",
    "    4. equilibration and production time\n",
    "\n",
    "### Regarding equilibriation time:\n",
    "The following variables define the sim times (relative units) for each stage of the three-stage equilibriation process. Check notes below for details:\n",
    "\n",
    "1. `HA_time`\n",
    "2. `CA_time`\n",
    "3. `CA_LOW_time` \n"
   ]
  },
  {
   "cell_type": "code",
   "execution_count": 8,
   "metadata": {},
   "outputs": [],
   "source": [
    "DATA_OUT = 'zeb_hb_phz_complex_sim'\n",
    "\n",
    "# System Setup\n",
    "vsite='none'\n",
    "sys_top_folder = os.path.join(DATA_OUT, 'sys_top')\n",
    "ignore_hydrogen = {'ignh': None}\n",
    "\n",
    "# Energy Minimisation\n",
    "em_folder = os.path.join(DATA_OUT, 'em')\n",
    "em_sys_folder = os.path.join(DATA_OUT, 'sys_em')\n",
    "em_step_number = 10000\n",
    "emtol = 10.0  \t# Stop minimization when the maximum force < 10 J/mol\n",
    "emstep  = 0.01      # Energy step size\n",
    "\n",
    "\n",
    "# Equillibration\n",
    "equi_folder = os.path.join(DATA_OUT, 'sys_equi')\n",
    "HA_time = 0.5\n",
    "CA_time = 1.0\n",
    "CA_LOW_time = 4.0\n",
    "\n",
    "dt_HA = 0.001\n",
    "dt = 0.002\n",
    "\n",
    "HA_step = 1000 * HA_time / dt_HA\n",
    "CA_step = 1000 * CA_time / dt\n",
    "CA_LOW_step = 1000 * CA_LOW_time / dt\n",
    "\n",
    "# Production\n",
    "os.makedirs(DATA_OUT, exist_ok = True)\n",
    "prod_folder = os.path.join(DATA_OUT, 'sys_prod')\n",
    "prod_time = 100.0\n",
    "\n",
    "prod_step = 1000 * prod_time / dt"
   ]
  },
  {
   "cell_type": "markdown",
   "metadata": {},
   "source": [
    "## Create the `GmxSys` object\n",
    "\n",
    "Load protein information only from docked PDB file on disk"
   ]
  },
  {
   "cell_type": "code",
   "execution_count": 9,
   "metadata": {},
   "outputs": [],
   "source": [
    "pdb_file = \"zeb_hb_phz_docking/results/ZEB_HB_REfined_out01.pdb\"\n",
    "sys_name = \"zeb_hb_phz_complex\"\n",
    "complex_sys = gmx.GmxSys(name=sys_name, coor_file=pdb_file)"
   ]
  },
  {
   "cell_type": "markdown",
   "metadata": {},
   "source": [
    "## Create topology:\n",
    "\n",
    "**Note:** Hydrogen atoms need to be ignored, or else this won't work with this particular pdb\n",
    "\n",
    "Topology creation involves:\n",
    "- topology creation using `pdb2gmx` via the `prepare_top()` function.\n",
    "  * Need the docked complex information for this as there is no hydrogen information in the original PDB.\n",
    "- box creation using `editconf`\n",
    "- Supposed to use AMBER force-field so that `acpype` can be used to prepare ligand topologies automatically.\n",
    "- - Get the SMILES code from the ligand PDB @ [Openbabel online](https://www.cheminfo.org/Chemistry/Cheminformatics/FormatConverter/index.html)\n",
    "\n",
    "**TODO:** Not running `acpype` to get ligand topology. Dunno why.\n"
   ]
  },
  {
   "cell_type": "code",
   "execution_count": 10,
   "metadata": {},
   "outputs": [
    {
     "name": "stdout",
     "output_type": "stream",
     "text": [
      "pdb2pqr30 --ff AMBER --ffout AMBER --keep-chain --titration-state-method=propka --with-ph=7.00 tmp_pdb2pqr.pdb 00_zeb_hb_phz_complex.pqr\n",
      "gmx pdb2gmx -f 01_zeb_hb_phz_complex_good_his.pdb -o zeb_hb_phz_complex_pdb2gmx.pdb -p zeb_hb_phz_complex_pdb2gmx.top -i zeb_hb_phz_complex_posre.itp -water tip3p -ff amber99sb-ildn -ignh -vsite none\n"
     ]
    }
   ],
   "source": [
    "complex_sys.prepare_top(out_folder=os.path.join(DATA_OUT,sys_name),\n",
    "    ff='amber99sb-ildn',\n",
    "    include_mol={'85LEU': 'c1(ccccc1)NN'}) #Add this to the residue where the docking revealed h-bonds"
   ]
  },
  {
   "cell_type": "markdown",
   "metadata": {},
   "source": [
    "## Boxing and Solvation (water and $Na^{+} Cl^{-}$)"
   ]
  },
  {
   "cell_type": "code",
   "execution_count": null,
   "metadata": {},
   "outputs": [],
   "source": [
    "#solvate and add ions\n",
    "complex_sys.create_box(dist=1.0, box_type=\"dodecahedron\", check_file_out=True)\n",
    "\n",
    "complex_sys.solvate_add_ions(out_folder=DATA_OUT, name=sys_name,create_box_flag=False)"
   ]
  },
  {
   "cell_type": "markdown",
   "metadata": {},
   "source": [
    "## Energy minimisation\n",
    "\n",
    "Set parallelization and GPU options here. Change them later, if needed."
   ]
  },
  {
   "cell_type": "code",
   "execution_count": null,
   "metadata": {},
   "outputs": [],
   "source": [
    "#Parallelization\n",
    "nthreads = int(os.environ.get('PBS_NCPUS', '16'))\n",
    "\n",
    "#Set Parallelization\n",
    "complex_sys.nt = nthreads\n",
    "#complex_sys.ntmpi = 1\n",
    "complex_sys.gpu_id = '0'\n",
    "\n",
    "complex_sys.em_2_steps(out_folder=em_folder,\n",
    "        no_constr_nsteps=em_step_number,\n",
    "        constr_nsteps=em_step_number,\n",
    "        posres=\"\",\n",
    "        create_box_flag=False, emtol=emtol, emstep=emstep)"
   ]
  },
  {
   "cell_type": "markdown",
   "metadata": {},
   "source": [
    "## Plot energy:"
   ]
  },
  {
   "cell_type": "code",
   "execution_count": null,
   "metadata": {},
   "outputs": [],
   "source": [
    "ener_pd_1 = complex_sys.sys_history[-1].get_ener(selection_list=['Potential'])\n",
    "ener_pd_2 = complex_sys.get_ener(selection_list=['Potential'])\n",
    "\n",
    "ener_pd_1['label'] = 'no bond constr'\n",
    "ener_pd_2['label'] = 'bond constr'\n",
    "\n",
    "ener_pd = pd.concat([ener_pd_1, ener_pd_2])\n",
    "\n",
    "ener_pd['Time (ps)'] = np.arange(len(ener_pd))"
   ]
  },
  {
   "cell_type": "code",
   "execution_count": null,
   "metadata": {},
   "outputs": [],
   "source": [
    "ax = sns.lineplot(x=\"Time (ps)\", y=\"Potential\",\n",
    "        hue=\"label\",\n",
    "        data=ener_pd)\n",
    "ax.set_xlabel('step')\n",
    "ax.set_ylabel('energy (KJ/mol)')\n",
    "plt.grid()"
   ]
  },
  {
   "cell_type": "markdown",
   "metadata": {},
   "source": [
    "## System minimisation and equilibration\n",
    "\n",
    "Based on `gromacs_py` docs, this is a 3-stage equilibriation process. \n",
    "\n",
    "All three steps seem to be NPT with berendsen coupling and v-rescale for temp coupling. Each step just has different restraints. This does not seem so bad: closer to lab conditions.\n",
    "\n",
    "Since the statistical ensemble is pretty much always NPT, this is different from the Lemkul-lysozyme tutorial at [MDTutorials](http://www.mdtutorials.com/gmx/lysozyme/).\n",
    "\n",
    "**Note:** Had to run this on param at least. Too slow even in ofc workstn."
   ]
  },
  {
   "cell_type": "code",
   "execution_count": null,
   "metadata": {},
   "outputs": [],
   "source": [
    "complex_sys.em_equi_three_step_iter_error(out_folder=equi_folder,\n",
    "    no_constr_nsteps=em_step_number,\n",
    "    constr_nsteps=em_step_number,\n",
    "    nsteps_HA=HA_step,  \n",
    "    nsteps_CA=CA_step,\n",
    "    nsteps_CA_LOW=CA_LOW_step,\n",
    "    dt=dt, dt_HA=dt_HA,\n",
    "    vsite=vsite, maxwarn=1)\n"
   ]
  },
  {
   "cell_type": "markdown",
   "metadata": {},
   "source": [
    "### Plot Equilibriation\n",
    "\n",
    "Since the statistical ensemble is pretty much always NPT, this is different from the Lemkul-lysozyme tutorial at [MDTutorials](http://www.mdtutorials.com/gmx/lysozyme/). So we need to see Volume as well as Pressure, temperature, and density."
   ]
  },
  {
   "cell_type": "code",
   "execution_count": null,
   "metadata": {
    "scrolled": false
   },
   "outputs": [],
   "source": [
    "quantities = [\"Temperature\", \"Pressure\", \"Volume\", \"Density\"]\n",
    "units = [\"$K$\", \"$bar$\", \"$A^3$\", \"$kg/m^3$\"]\n",
    "\n",
    "pd_1 = complex_sys.sys_history[-2].get_ener(selection_list=quantities)\n",
    "pd_2 = complex_sys.sys_history[-1].get_ener(selection_list=quantities)\n",
    "pd_3 = complex_sys.get_ener(selection_list=quantities)\n",
    "\n",
    "pd_1['label'] = 'HA_constr'\n",
    "pd_2['label'] = 'CA_constr'\n",
    "pd_2['Time (ps)'] = pd_2['Time (ps)'] + pd_1['Time (ps)'].max()\n",
    "pd_3['label'] = 'CA_LOW_constr'\n",
    "pd_3['Time (ps)'] = pd_3['Time (ps)'] + pd_2['Time (ps)'].max()\n",
    "\n",
    "display(pd.concat([pd_1, pd_2, pd_3]))"
   ]
  },
  {
   "cell_type": "code",
   "execution_count": null,
   "metadata": {},
   "outputs": [],
   "source": [
    "plt.rcParams.update({'font.size': 22})\n",
    "\n",
    "fig, axs = plt.subplots(4, 1, figsize=(24,13.5), sharex=True, tight_layout=True)\n",
    "\n",
    "for ax, quantity, unit in zip(axs, quantities, units):\n",
    "    for df in (pd_1, pd_2, pd_3):\n",
    "        ax.plot(df[\"Time (ps)\"], df[quantity], label=str(df['label'][0]))\n",
    "        ax.set_ylabel(quantity + \"(\" + unit + \")\")\n",
    "        ax.grid()\n",
    "\n",
    "axs[0].legend()\n",
    "axs[-1].set_xlabel(\"Time (ps)\");"
   ]
  },
  {
   "cell_type": "markdown",
   "metadata": {},
   "source": [
    "Looks okay to me. Fluctuations are high at the end because CA constraints are low, but there is a well-defined average.\n",
    "\n",
    "Alternatively, we **could** not do the `CA_LOW_constr` part."
   ]
  },
  {
   "cell_type": "markdown",
   "metadata": {},
   "source": [
    "### Plot RMSD"
   ]
  },
  {
   "cell_type": "code",
   "execution_count": null,
   "metadata": {},
   "outputs": [],
   "source": [
    "# Define reference structure for RMSD calculation\n",
    "ref_sys =  md_sys.sys_history[1]\n",
    "\n",
    "struct=\"Protein\"\n",
    "\n",
    "rmsd_pd_1 = md_sys.sys_history[-2].get_rmsd([struct, struct], ref_sys=ref_sys)\n",
    "rmsd_pd_2 = md_sys.sys_history[-1].get_rmsd([struct, struct], ref_sys=ref_sys)\n",
    "rmsd_pd_3 = md_sys.get_rmsd([struct, struct], ref_sys=ref_sys)\n",
    "\n",
    "\n",
    "rmsd_pd_1['label'] = 'HA_constr'\n",
    "rmsd_pd_2['label'] = 'CA_constr'\n",
    "rmsd_pd_2['time'] = rmsd_pd_2['time'] + rmsd_pd_1['time'].max()\n",
    "rmsd_pd_3['label'] = 'CA_LOW_constr'\n",
    "rmsd_pd_3['time'] = rmsd_pd_3['time'] + rmsd_pd_2['time'].max()\n",
    "\n",
    "display(pd.concat([rmsd_pd_1, rmsd_pd_2, rmsd_pd_3]))\n"
   ]
  },
  {
   "cell_type": "code",
   "execution_count": null,
   "metadata": {},
   "outputs": [],
   "source": [
    "fig, ax = plt.subplots(1, 1, figsize=(24,13.5))\n",
    "\n",
    "for df in (rmsd_pd_1, rmsd_pd_2, rmsd_pd_3):\n",
    "        ax.plot(df[\"time\"], df[\"Protein\"], label=str(df['label'][0]))\n",
    "        ax.set_ylabel(quantity + \"(\" + unit + \")\")\n",
    "        \n",
    "ax.set_title(struct)\n",
    "ax.set_ylabel('RMSD (nm)')\n",
    "ax.set_xlabel('Time (ps)')\n",
    "plt.grid()"
   ]
  },
  {
   "cell_type": "markdown",
   "metadata": {},
   "source": [
    "## Checkpointing\n",
    "\n",
    "Checkpoint using pickling. This will be easier to restore in the cluster"
   ]
  },
  {
   "cell_type": "code",
   "execution_count": null,
   "metadata": {},
   "outputs": [],
   "source": [
    "import pickle\n",
    "\n",
    "with open('checkpoint_equi.pycpt', 'wb') as py_cpt:\n",
    "    pickle.dump(md_sys, py_cpt)"
   ]
  },
  {
   "cell_type": "markdown",
   "metadata": {},
   "source": [
    "## Production MD "
   ]
  },
  {
   "cell_type": "code",
   "execution_count": null,
   "metadata": {},
   "outputs": [],
   "source": [
    "md_sys.production(out_folder=prod_folder,\n",
    "        nsteps=prod_step,\n",
    "        dt=dt, vsite=vsite, maxwarn=1)\n"
   ]
  },
  {
   "cell_type": "markdown",
   "metadata": {},
   "source": [
    "## Checkpointing Again\n"
   ]
  },
  {
   "cell_type": "code",
   "execution_count": null,
   "metadata": {},
   "outputs": [],
   "source": [
    "import pickle\n",
    "\n",
    "with open('checkpoint_prod.pycpt', 'wb') as py_cpt:\n",
    "    pickle.dump(md_sys, py_cpt)"
   ]
  },
  {
   "cell_type": "markdown",
   "metadata": {},
   "source": [
    "## Post-Production\n",
    "\n",
    "### Prepare trajectory"
   ]
  },
  {
   "cell_type": "code",
   "execution_count": null,
   "metadata": {
    "scrolled": true
   },
   "outputs": [],
   "source": [
    "# Center trajectory\n",
    "md_sys.center_mol_box(traj=True)"
   ]
  },
  {
   "cell_type": "markdown",
   "metadata": {},
   "source": [
    "### Trajectory Conversion for better viewing"
   ]
  },
  {
   "cell_type": "code",
   "execution_count": null,
   "metadata": {},
   "outputs": [],
   "source": [
    "# Align the protein coordinates\n",
    "md_sys.convert_trj(select='Protein\\nSystem\\n', fit='rot+trans', pbc='none', skip='10')"
   ]
  },
  {
   "cell_type": "code",
   "execution_count": null,
   "metadata": {},
   "outputs": [],
   "source": [
    "md_sys.display_history()"
   ]
  }
 ],
 "metadata": {
  "celltoolbar": "Edit Metadata",
  "kernelspec": {
   "display_name": "mdanalysis-old",
   "language": "python",
   "name": "python3"
  },
  "language_info": {
   "codemirror_mode": {
    "name": "ipython",
    "version": 3
   },
   "file_extension": ".py",
   "mimetype": "text/x-python",
   "name": "python",
   "nbconvert_exporter": "python",
   "pygments_lexer": "ipython3",
   "version": "3.12.5"
  },
  "toc": {
   "base_numbering": 1,
   "nav_menu": {},
   "number_sections": true,
   "sideBar": true,
   "skip_h1_title": false,
   "title_cell": "Table of Contents",
   "title_sidebar": "Contents",
   "toc_cell": false,
   "toc_position": {},
   "toc_section_display": true,
   "toc_window_display": false
  }
 },
 "nbformat": 4,
 "nbformat_minor": 2
}
