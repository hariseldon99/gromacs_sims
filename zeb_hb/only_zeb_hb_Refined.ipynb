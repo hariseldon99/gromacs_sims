{
 "cells": [
  {
   "cell_type": "markdown",
   "metadata": {},
   "source": [
    "Basic Usage, ZebraFish Haemoglobin protein\n",
    "======================\n"
   ]
  },
  {
   "cell_type": "markdown",
   "metadata": {},
   "source": [
    "## ``Gromacs_py`` basic example\n",
    "\n",
    "Here is an example of a short simulation of the Zebrafish Haemoglobin protein.\n",
    "\n",
    "Five successive steps are used:\n",
    "\n",
    "1. Topology creation using ``GmxSys.add_top()``.\n",
    "2. Solvation of the system using ``GmxSys.solvate_add_ions()``.\n",
    "3. Minimisation of the structure using ``GmxSys.em_2_steps()``.\n",
    "4. Equilibration of the system using ``GmxSys.em_equi_three_step_iter_error()``.\n",
    "5. Production run using ``GmxSys.production()``.\n",
    "\n",
    "### Import"
   ]
  },
  {
   "cell_type": "code",
   "execution_count": 1,
   "metadata": {},
   "outputs": [],
   "source": [
    "import sys\n",
    "import os\n",
    "import shutil\n",
    "\n",
    "import pandas as pd\n",
    "import matplotlib.pyplot as plt\n",
    "import numpy as np\n",
    "import seaborn as sns"
   ]
  },
  {
   "cell_type": "markdown",
   "metadata": {},
   "source": [
    "## To use `gromacs_py` in a project"
   ]
  },
  {
   "cell_type": "code",
   "execution_count": 2,
   "metadata": {},
   "outputs": [],
   "source": [
    "from gromacs_py import gmx"
   ]
  },
  {
   "cell_type": "markdown",
   "metadata": {},
   "source": [
    "## Simulation setup\n",
    "\n",
    "- Define a few variables for you simulation, like:\n",
    "  \n",
    "    1. simulation output folders\n",
    "    2. ionic concentration\n",
    "    3. number of minimisation steps\n",
    "    4. equilibration and production time\n"
   ]
  },
  {
   "cell_type": "code",
   "execution_count": 3,
   "metadata": {},
   "outputs": [],
   "source": [
    "DATA_OUT = 'zeb_hb_only_sim'\n",
    "\n",
    "# System Setup\n",
    "vsite='none'\n",
    "sys_top_folder = os.path.join(DATA_OUT, 'sys_top')\n",
    "ignore_hydrogen = {'ignh': None}\n",
    "\n",
    "# Energy Minimisation\n",
    "em_folder = os.path.join(DATA_OUT, 'em')\n",
    "em_sys_folder = os.path.join(DATA_OUT, 'sys_em')\n",
    "em_step_number = 10000\n",
    "emtol = 10.0  \t# Stop minimization when the maximum force < 10 J/mol\n",
    "emstep  = 0.01      # Energy step size\n",
    "\n",
    "\n",
    "# Equillibration\n",
    "equi_folder = os.path.join(DATA_OUT, 'sys_equi')\n",
    "HA_time = 0.5\n",
    "CA_time = 1.0\n",
    "CA_LOW_time = 2.0\n",
    "\n",
    "dt_HA = 0.001\n",
    "dt = 0.002\n",
    "\n",
    "HA_step = 1000 * HA_time / dt_HA\n",
    "CA_step = 1000 * CA_time / dt\n",
    "CA_LOW_step = 1000 * CA_LOW_time / dt\n",
    "\n",
    "# Production\n",
    "os.makedirs(DATA_OUT, exist_ok = True)\n",
    "prod_folder = os.path.join(DATA_OUT, 'sys_prod')\n",
    "prod_time = 10.0\n",
    "\n",
    "prod_step = 1000 * prod_time / dt"
   ]
  },
  {
   "cell_type": "markdown",
   "metadata": {},
   "source": [
    "## Create the `GmxSys` object\n",
    "\n",
    "Load PDB file on disk"
   ]
  },
  {
   "cell_type": "code",
   "execution_count": 4,
   "metadata": {},
   "outputs": [],
   "source": [
    "pdb_file = \"ZEB_HB_Refined.pdb\"\n",
    "sys_name = \"zeb_hb\"\n",
    "md_sys = gmx.GmxSys(name=sys_name, coor_file=pdb_file)"
   ]
  },
  {
   "cell_type": "markdown",
   "metadata": {},
   "source": [
    "## Create topology:\n",
    "\n",
    "**Note:** Hydrogen atoms need to be ignored, or else this won't work with this particular pdb\n",
    "\n",
    "Topology creation involves:\n",
    "- topology creation using `pdb2gmx` via the `add_top()` function\n",
    "  * The easier `prepare_top()` function won't work here, \n",
    "  * as there seems to be a problem with the hydrogen information in the PDB, \n",
    "  * necessitating the passing of `-ign` option to `pdb2gmx` which `prepare_top()` can't do.\n",
    "- box creation using `editconf`\n",
    "\n"
   ]
  },
  {
   "cell_type": "code",
   "execution_count": 6,
   "metadata": {},
   "outputs": [
    {
     "name": "stdout",
     "output_type": "stream",
     "text": [
      "gmx pdb2gmx -f ../../ZEB_HB_Refined.pdb -o zeb_hb_pdb2gmx.pdb -p zeb_hb_pdb2gmx.top -i zeb_hb_posre.itp -water tip3p -ff charmm36-jul2017 -ignh\n",
      "gmx editconf -f zeb_hb_only_sim/zeb_hb_pdb2gmx.pdb -o zeb_hb_only_sim/zeb_hb_pdb2gmx_box.pdb -bt dodecahedron -d 1.0\n"
     ]
    }
   ],
   "source": [
    "md_sys.add_top(out_folder=DATA_OUT, name=sys_name, pdb2gmx_option_dict=ignore_hydrogen, ff=\"charmm36-jul2017\")\n",
    "md_sys.create_box(dist=1.0, box_type=\"dodecahedron\", check_file_out=True)"
   ]
  },
  {
   "cell_type": "markdown",
   "metadata": {},
   "source": [
    "## Solvation (water and $Na^{+} Cl^{-}$)"
   ]
  },
  {
   "cell_type": "code",
   "execution_count": 7,
   "metadata": {},
   "outputs": [
    {
     "name": "stdout",
     "output_type": "stream",
     "text": [
      "gmx grompp -f ../../../../../../../usr/local/miniforge3/envs/mdanalysis-old/lib/python3.12/site-packages/gromacs_py/gmx/template/mini.mdp -c zeb_hb_water.pdb -r zeb_hb_water.pdb -p zeb_hb_water_ion.top -po out_mini.mdp -o genion_zeb_hb_water_ion.tpr -maxwarn 1\n",
      "gmx genion -s genion_zeb_hb_water_ion.tpr -p zeb_hb_water_ion.top -o zeb_hb_water_ion.gro -np 17 -pname NA -nn 18 -nname CL\n"
     ]
    }
   ],
   "source": [
    "#solvate and add ions\n",
    "md_sys.solvate_add_ions(out_folder=DATA_OUT, name=sys_name,create_box_flag=False)"
   ]
  },
  {
   "cell_type": "markdown",
   "metadata": {},
   "source": [
    "## Energy minimisation\n",
    "\n",
    "Set parallelization and GPU options here. Change them later, if needed."
   ]
  },
  {
   "cell_type": "code",
   "execution_count": 8,
   "metadata": {},
   "outputs": [
    {
     "name": "stderr",
     "output_type": "stream",
     "text": [
      "WARNING !!! ADDING unusual parameter : \"emtol\"in the mdp file Init_em_zeb_hb.mdp\n",
      "WARNING !!! ADDING unusual parameter : \"emstep\"in the mdp file Init_em_zeb_hb.mdp\n"
     ]
    },
    {
     "name": "stdout",
     "output_type": "stream",
     "text": [
      "gmx grompp -f Init_em_zeb_hb.mdp -c ../zeb_hb_water_ion.gro -r ../zeb_hb_water_ion.gro -p ../zeb_hb_water_ion.top -po out_Init_em_zeb_hb.mdp -o Init_em_zeb_hb.tpr -maxwarn 1\n",
      "gmx mdrun -s Init_em_zeb_hb.tpr -deffnm Init_em_zeb_hb -nt 6 -ntmpi 0 -nsteps -2 -nocopyright -gpu_id 0\n"
     ]
    },
    {
     "data": {
      "application/vnd.jupyter.widget-view+json": {
       "model_id": "a0bcad0862a548bc9cf7757ec7226206",
       "version_major": 2,
       "version_minor": 0
      },
      "text/plain": [
       "  0%|          | 0/10000 [00:00<?, ?it/s]"
      ]
     },
     "metadata": {},
     "output_type": "display_data"
    },
    {
     "name": "stderr",
     "output_type": "stream",
     "text": [
      "WARNING !!! ADDING unusual parameter : \"emtol\"in the mdp file zeb_hb.mdp\n",
      "WARNING !!! ADDING unusual parameter : \"emstep\"in the mdp file zeb_hb.mdp\n"
     ]
    },
    {
     "name": "stdout",
     "output_type": "stream",
     "text": [
      "gmx grompp -f zeb_hb.mdp -c Init_em_zeb_hb.gro -r Init_em_zeb_hb.gro -p ../zeb_hb_water_ion.top -po out_zeb_hb.mdp -o zeb_hb.tpr -maxwarn 1\n",
      "gmx mdrun -s zeb_hb.tpr -deffnm zeb_hb -nt 6 -ntmpi 0 -nsteps -2 -nocopyright -gpu_id 0\n"
     ]
    },
    {
     "data": {
      "application/vnd.jupyter.widget-view+json": {
       "model_id": "c925bf2201a84f74b82df38b973f23f4",
       "version_major": 2,
       "version_minor": 0
      },
      "text/plain": [
       "  0%|          | 0/10000 [00:00<?, ?it/s]"
      ]
     },
     "metadata": {},
     "output_type": "display_data"
    }
   ],
   "source": [
    "#Parallelization\n",
    "nthreads = 6\n",
    "\n",
    "#Set Parallelization\n",
    "md_sys.nt = nthreads\n",
    "#md_sys.ntmpi = 1\n",
    "md_sys.gpu_id = '0'\n",
    "\n",
    "md_sys.em_2_steps(out_folder=em_folder,\n",
    "        no_constr_nsteps=em_step_number,\n",
    "        constr_nsteps=em_step_number,\n",
    "        posres=\"\",\n",
    "        create_box_flag=False, emtol=emtol, emstep=emstep)"
   ]
  },
  {
   "cell_type": "markdown",
   "metadata": {},
   "source": [
    "## Plot energy:"
   ]
  },
  {
   "cell_type": "code",
   "execution_count": 9,
   "metadata": {},
   "outputs": [
    {
     "name": "stdout",
     "output_type": "stream",
     "text": [
      "gmx energy -f zeb_hb_only_sim/em/Init_em_zeb_hb.edr -o tmp_edr.xvg\n",
      "gmx energy -f zeb_hb_only_sim/em/zeb_hb.edr -o tmp_edr.xvg\n"
     ]
    }
   ],
   "source": [
    "ener_pd_1 = md_sys.sys_history[-1].get_ener(selection_list=['Potential'])\n",
    "ener_pd_2 = md_sys.get_ener(selection_list=['Potential'])\n",
    "\n",
    "ener_pd_1['label'] = 'no bond constr'\n",
    "ener_pd_2['label'] = 'bond constr'\n",
    "\n",
    "ener_pd = pd.concat([ener_pd_1, ener_pd_2])\n",
    "\n",
    "ener_pd['Time (ps)'] = np.arange(len(ener_pd))"
   ]
  },
  {
   "cell_type": "code",
   "execution_count": 10,
   "metadata": {},
   "outputs": [
    {
     "data": {
      "image/png": "[encoded data removed]",
      "text/plain": [
       "<Figure size 640x480 with 1 Axes>"
      ]
     },
     "metadata": {},
     "output_type": "display_data"
    }
   ],
   "source": [
    "ax = sns.lineplot(x=\"Time (ps)\", y=\"Potential\",\n",
    "        hue=\"label\",\n",
    "        data=ener_pd)\n",
    "ax.set_xlabel('step')\n",
    "ax.set_ylabel('energy (KJ/mol)')\n",
    "plt.grid()"
   ]
  },
  {
   "cell_type": "markdown",
   "metadata": {},
   "source": [
    "## System minimisation and equilibration\n",
    "\n",
    "TODO: READ DOCS FOR OPTIMUM MDP PARAMS. COMPARE WITH LEMKUL'S WAY OF NVT-NPT."
   ]
  },
  {
   "cell_type": "code",
   "execution_count": null,
   "metadata": {},
   "outputs": [],
   "source": [
    "md_sys.em_equi_three_step_iter_error(out_folder=equi_folder,\n",
    "    no_constr_nsteps=em_step_number,\n",
    "    constr_nsteps=em_step_number,\n",
    "    nsteps_HA=HA_step,\n",
    "    nsteps_CA=CA_step,\n",
    "    nsteps_CA_LOW=CA_LOW_step,\n",
    "    dt=dt, dt_HA=dt_HA,\n",
    "    vsite=vsite, maxwarn=1)\n"
   ]
  },
  {
   "cell_type": "markdown",
   "metadata": {},
   "source": [
    "### Plot temperature\n",
    "\n",
    "#### TODO: RTFM this"
   ]
  },
  {
   "cell_type": "code",
   "execution_count": null,
   "metadata": {},
   "outputs": [],
   "source": [
    "ener_pd_1 = md_sys.sys_history[-2].get_ener(selection_list=['Volume'])\n",
    "ener_pd_2 = md_sys.sys_history[-1].get_ener(selection_list=['Volume'])\n",
    "ener_pd_3 = md_sys.get_ener(selection_list=['Volume'])\n",
    "\n",
    "ener_pd_1['label'] = 'HA_constr'\n",
    "ener_pd_2['label'] = 'CA_constr'\n",
    "ener_pd_2['Time (ps)'] = ener_pd_2['Time (ps)'] + ener_pd_1['Time (ps)'].max()\n",
    "ener_pd_3['label'] = 'CA_LOW_constr'\n",
    "ener_pd_3['Time (ps)'] = ener_pd_3['Time (ps)'] + ener_pd_2['Time (ps)'].max()\n",
    "\n",
    "ener_pd = pd.concat([ener_pd_1, ener_pd_2, ener_pd_3])\n",
    "\n"
   ]
  },
  {
   "cell_type": "code",
   "execution_count": null,
   "metadata": {},
   "outputs": [],
   "source": [
    "ax = sns.lineplot(x=\"Time (ps)\", y=\"Volume\",\n",
    "                  hue=\"label\",\n",
    "                  data=ener_pd)\n",
    "\n",
    "ax.set_ylabel('Volume ($Å^3$)')\n",
    "plt.grid()"
   ]
  },
  {
   "cell_type": "markdown",
   "metadata": {},
   "source": [
    "### Plot RMSD"
   ]
  },
  {
   "cell_type": "code",
   "execution_count": null,
   "metadata": {},
   "outputs": [],
   "source": [
    "# Define reference structure for RMSD calculation\n",
    "ref_sys =  md_sys.sys_history[1]\n",
    "\n",
    "rmsd_pd_1 = md_sys.sys_history[-2].get_rmsd(['C-alpha', 'Protein'], ref_sys=ref_sys)\n",
    "rmsd_pd_2 = md_sys.sys_history[-1].get_rmsd(['C-alpha', 'Protein'], ref_sys=ref_sys)\n",
    "rmsd_pd_3 = md_sys.get_rmsd(['C-alpha', 'Protein'], ref_sys=ref_sys)\n",
    "\n",
    "\n",
    "rmsd_pd_1['label'] = 'HA_constr'\n",
    "rmsd_pd_2['label'] = 'CA_constr'\n",
    "rmsd_pd_2['time'] = rmsd_pd_2['time'] + rmsd_pd_1['time'].max()\n",
    "rmsd_pd_3['label'] = 'CA_LOW_constr'\n",
    "rmsd_pd_3['time'] = rmsd_pd_3['time'] + rmsd_pd_2['time'].max()\n",
    "\n",
    "rmsd_pd = pd.concat([rmsd_pd_1, rmsd_pd_2, rmsd_pd_3])\n"
   ]
  },
  {
   "cell_type": "code",
   "execution_count": null,
   "metadata": {
    "scrolled": true
   },
   "outputs": [],
   "source": [
    "ax = sns.lineplot(x=\"time\", y=\"Protein\",\n",
    "        hue=\"label\",\n",
    "        data=rmsd_pd)\n",
    "\n",
    "ax.set_ylabel('RMSD (nm)')\n",
    "ax.set_xlabel('Time (ps)')\n",
    "plt.grid()"
   ]
  },
  {
   "cell_type": "markdown",
   "metadata": {},
   "source": [
    "## Production"
   ]
  },
  {
   "cell_type": "code",
   "execution_count": null,
   "metadata": {},
   "outputs": [],
   "source": [
    "md_sys.production(out_folder=prod_folder,\n",
    "        nsteps=prod_step,\n",
    "        dt=dt, vsite=vsite, maxwarn=1)\n"
   ]
  },
  {
   "cell_type": "markdown",
   "metadata": {},
   "source": [
    "## Prepare trajectory"
   ]
  },
  {
   "cell_type": "code",
   "execution_count": null,
   "metadata": {
    "scrolled": true
   },
   "outputs": [],
   "source": [
    "# Center trajectory\n",
    "md_sys.center_mol_box(traj=True)"
   ]
  },
  {
   "cell_type": "markdown",
   "metadata": {},
   "source": [
    "## Basic Analysis"
   ]
  },
  {
   "cell_type": "code",
   "execution_count": null,
   "metadata": {},
   "outputs": [],
   "source": [
    "rmsd_prod_pd = md_sys.get_rmsd(['C-alpha', 'Protein'], ref_sys=ref_sys)\n",
    "rmsd_prod_pd['label'] = 'Production'\n",
    "\n",
    "rmsd_prod_pd['time'] = rmsd_prod_pd['time'] + rmsd_pd['time'].max()\n",
    "rmsd_all_pd = pd.concat([rmsd_pd, rmsd_prod_pd])"
   ]
  },
  {
   "cell_type": "code",
   "execution_count": null,
   "metadata": {},
   "outputs": [],
   "source": [
    "ax = sns.lineplot(x=\"time\", y=\"Protein\",\n",
    "        hue=\"label\",\n",
    "        data=rmsd_all_pd)\n",
    "ax.set_ylabel('RMSD (nm)')\n",
    "ax.set_xlabel('Time (ps)')\n",
    "plt.grid()"
   ]
  },
  {
   "cell_type": "markdown",
   "metadata": {},
   "source": [
    "## Trajectory vizualisation"
   ]
  },
  {
   "cell_type": "code",
   "execution_count": null,
   "metadata": {},
   "outputs": [],
   "source": [
    "# Align the protein coordinates\n",
    "md_sys.convert_trj(select='Protein\\nSystem\\n', fit='rot+trans', pbc='none', skip='10')"
   ]
  },
  {
   "cell_type": "code",
   "execution_count": null,
   "metadata": {},
   "outputs": [],
   "source": [
    "view = md_sys.view_traj()\n",
    "view.add_representation(repr_type='licorice', selection='protein')\n",
    "view.center(selection='CA')\n",
    "view"
   ]
  }
 ],
 "metadata": {
  "celltoolbar": "Edit Metadata",
  "kernelspec": {
   "display_name": "mdanalysis-old",
   "language": "python",
   "name": "python3"
  },
  "language_info": {
   "codemirror_mode": {
    "name": "ipython",
    "version": 3
   },
   "file_extension": ".py",
   "mimetype": "text/x-python",
   "name": "python",
   "nbconvert_exporter": "python",
   "pygments_lexer": "ipython3",
   "version": "3.12.5"
  },
  "toc": {
   "base_numbering": 1,
   "nav_menu": {},
   "number_sections": true,
   "sideBar": true,
   "skip_h1_title": false,
   "title_cell": "Table of Contents",
   "title_sidebar": "Contents",
   "toc_cell": false,
   "toc_position": {},
   "toc_section_display": true,
   "toc_window_display": false
  }
 },
 "nbformat": 4,
 "nbformat_minor": 2
}
