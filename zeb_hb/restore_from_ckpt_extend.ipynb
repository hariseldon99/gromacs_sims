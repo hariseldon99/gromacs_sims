{
 "cells": [
  {
   "cell_type": "code",
   "execution_count": 1,
   "id": "a040eb35",
   "metadata": {},
   "outputs": [],
   "source": [
    "import sys\n",
    "import os\n",
    "import shutil\n",
    "\n",
    "import pandas as pd\n",
    "import matplotlib.pyplot as plt\n",
    "import numpy as np\n",
    "import seaborn as sns\n",
    "\n",
    "from gromacs_py import gmx"
   ]
  },
  {
   "cell_type": "markdown",
   "id": "d223f4a3",
   "metadata": {},
   "source": [
    "## Restore the pickled object from before the termination point\n",
    "The restore-from-pickle will work only in the original execution context, not elsewhere, as the file paths to the GROMACS data files are device-dependent:"
   ]
  },
  {
   "cell_type": "code",
   "execution_count": 11,
   "id": "5856f8ad",
   "metadata": {},
   "outputs": [
    {
     "data": {
      "text/plain": [
       "7"
      ]
     },
     "execution_count": 11,
     "metadata": {},
     "output_type": "execute_result"
    }
   ],
   "source": [
    "import pickle\n",
    "\n",
    "with open('checkpoint_prod.pycpt', 'rb') as py_cpt:\n",
    "    md_sys = pickle.load(py_cpt)\n",
    "\n",
    "len(md_sys.sys_history)"
   ]
  },
  {
   "cell_type": "markdown",
   "id": "9f583733",
   "metadata": {},
   "source": [
    "## Extend the simulation\n",
    "\n",
    "Extra time in nanosec is in variable `extra_prod_time`"
   ]
  },
  {
   "cell_type": "code",
   "execution_count": null,
   "id": "60d89365",
   "metadata": {},
   "outputs": [],
   "source": [
    "dt = 0.002\n",
    "extra_prod_time = 10.0\n",
    "extra_prod_steps = 1000 * extra_prod_time / dt\n",
    "tpr_filename=\"mdtraj.tpr\" #Fill this out with the name of the tpr file you want to use\n",
    "md_sys.extend_sim(tpr_file=tpr_filename, nsteps=extra_prod_steps)"
   ]
  },
  {
   "cell_type": "markdown",
   "id": "f078652c",
   "metadata": {},
   "source": [
    "## Post-Production\n",
    "\n",
    "1. Center trajectory on Box"
   ]
  },
  {
   "cell_type": "code",
   "execution_count": null,
   "id": "b624badc",
   "metadata": {},
   "outputs": [],
   "source": [
    "# Center trajectory\n",
    "md_sys.center_mol_box(traj=True)"
   ]
  },
  {
   "cell_type": "markdown",
   "id": "e347b403",
   "metadata": {},
   "source": [
    "2 Trajectory Conversion using `gmx trjconv` for better viewing"
   ]
  },
  {
   "cell_type": "code",
   "execution_count": null,
   "id": "48d0ed1d",
   "metadata": {},
   "outputs": [],
   "source": [
    "# Align the protein coordinates\n",
    "md_sys.convert_trj(select='Protein\\nSystem\\n', fit='rot+trans', pbc='mol', skip='10')"
   ]
  },
  {
   "cell_type": "code",
   "execution_count": null,
   "id": "0dcd5959",
   "metadata": {},
   "outputs": [],
   "source": [
    "md_sys.display_history()"
   ]
  }
 ],
 "metadata": {
  "kernelspec": {
   "display_name": "mdanalysis",
   "language": "python",
   "name": "python3"
  },
  "language_info": {
   "codemirror_mode": {
    "name": "ipython",
    "version": 3
   },
   "file_extension": ".py",
   "mimetype": "text/x-python",
   "name": "python",
   "nbconvert_exporter": "python",
   "pygments_lexer": "ipython3",
   "version": "3.12.5"
  }
 },
 "nbformat": 4,
 "nbformat_minor": 5
}
