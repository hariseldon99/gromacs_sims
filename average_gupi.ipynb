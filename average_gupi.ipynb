{
 "cells": [
  {
   "cell_type": "markdown",
   "metadata": {},
   "source": [
    "Take two gromacs trajectories of the same complex with two different initial conditions and produce a third 'averaged' trajectory from them. "
   ]
  },
  {
   "cell_type": "code",
   "execution_count": null,
   "metadata": {},
   "outputs": [],
   "source": [
    "import MDAnalysis as mda\n",
    "import numpy as np\n",
    "\n",
    "# Load the two trajectories\n",
    "u1 = mda.Universe('topology_file1.pdb', 'trajectory_file1.xtc')\n",
    "u2 = mda.Universe('topology_file2.pdb', 'trajectory_file2.xtc')\n",
    "\n",
    "# Check that the two trajectories have the same number of frames and the same number of atoms\n",
    "assert len(u1.trajectory) == len(u2.trajectory), \"Trajectories must have the same number of frames\"\n",
    "assert u1.atoms.n_atoms == u2.atoms.n_atoms, \"Trajectories must have the same number of atoms\"\n",
    "\n",
    "# Create a new Universe for the averaged trajectory\n",
    "u_avg = mda.Universe.empty(u1.atoms.n_atoms, trajectory=True)\n",
    "u_avg.add_TopologyAttr('name', u1.atoms.names)\n",
    "u_avg.add_TopologyAttr('type', u1.atoms.types)\n",
    "u_avg.add_TopologyAttr('resname', u1.atoms.resnames)\n",
    "u_avg.add_TopologyAttr('resid', u1.atoms.resids)\n",
    "\n",
    "# Iterate through each frame, compute the average, and append to the new trajectory\n",
    "with mda.Writer('averaged_trajectory.xtc', n_atoms=u1.atoms.n_atoms) as W:\n",
    "    for ts1, ts2 in zip(u1.trajectory, u2.trajectory):\n",
    "        avg_positions = (ts1.positions + ts2.positions) / 2.0\n",
    "        u_avg.atoms.positions = avg_positions\n",
    "        W.write(u_avg.atoms)\n",
    "\n",
    "print(\"Averaged trajectory saved as 'averaged_trajectory.xtc'\")"
   ]
  }
 ],
 "metadata": {
  "language_info": {
   "name": "python"
  }
 },
 "nbformat": 4,
 "nbformat_minor": 2
}
